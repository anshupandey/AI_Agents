{
  "cells": [
    {
      "cell_type": "markdown",
      "metadata": {
        "id": "view-in-github",
        "colab_type": "text"
      },
      "source": [
        "<a href=\"https://colab.research.google.com/github/anshupandey/AI_Agents/blob/main/AAP_C12_Gemini_multimodal_rag_langchain.ipynb\" target=\"_parent\"><img src=\"https://colab.research.google.com/assets/colab-badge.svg\" alt=\"Open In Colab\"/></a>"
      ]
    },
    {
      "cell_type": "markdown",
      "source": [
        "# Multimodal Retrieval Augmented Generation (RAG) with Gemini, Vertex AI Vector Search, and LangChain"
      ],
      "metadata": {
        "id": "BbtmfP_ns8-Q"
      }
    },
    {
      "cell_type": "markdown",
      "metadata": {
        "id": "VK1Q5ZYdVL4Y"
      },
      "source": [
        "## Overview\n",
        "\n",
        "Retrieval augmented generation (RAG) has become a popular paradigm for enabling LLMs to access external data and also as a mechanism for grounding to mitigate against hallucinations.\n",
        "\n",
        "In this notebook, you will learn how to perform multimodal RAG where you will perform Q&A over a financial document filled with both text and images.\n",
        "\n",
        "### Gemini\n",
        "\n",
        "Gemini is a family of generative AI models developed by Google DeepMind that is designed for multimodal use cases. The Gemini API gives you access to the Gemini 1.0 Pro Vision and Gemini 1.0 Pro models.\n",
        "\n",
        "### Comparing text-based and multimodal RAG\n",
        "\n",
        "Multimodal RAG offers several advantages over text-based RAG:\n",
        "\n",
        "1. **Enhanced knowledge access:** Multimodal RAG can access and process both textual and visual information, providing a richer and more comprehensive knowledge base for the LLM.\n",
        "2. **Improved reasoning capabilities:** By incorporating visual cues, multimodal RAG can make better informed inferences across different types of data modalities.\n",
        "\n",
        "This notebook shows you how to use RAG with Vertex AI Gemini API, and [multimodal embeddings](https://cloud.google.com/vertex-ai/docs/generative-ai/model-reference/multimodal-embeddings), to build a document search engine.\n",
        "\n",
        "Through hands-on examples, you will discover how to construct a multimedia-rich metadata repository of your document sources, enabling search, comparison, and reasoning across diverse information streams."
      ]
    },
    {
      "cell_type": "markdown",
      "metadata": {
        "id": "RQT500QqVPIb"
      },
      "source": [
        "### Objectives\n",
        "\n",
        "This notebook provides a guide to building a document search engine using multimodal retrieval augmented generation (RAG), step by step:\n",
        "\n",
        "1. Extract and store metadata of documents containing both text and images, and generate embeddings the documents\n",
        "2. Search the metadata with text queries to find similar text or images\n",
        "3. Search the metadata with image queries to find similar images\n",
        "4. Using a text query as input, search for contextual answers using both text and images"
      ]
    },
    {
      "cell_type": "markdown",
      "metadata": {
        "id": "DXJpXzKrh2rJ"
      },
      "source": [
        "## Getting Started\n"
      ]
    },
    {
      "cell_type": "markdown",
      "metadata": {
        "id": "N5afkyDMSBW5"
      },
      "source": [
        "### Install Vertex AI SDK for Python and other dependencies\n"
      ]
    },
    {
      "cell_type": "code",
      "source": [
        "!apt-get install poppler-utils\n",
        "!apt-get install tesseract-ocr\n",
        "!pip install unstructured[local-inference] --quiet"
      ],
      "metadata": {
        "id": "F80YQIfBFbTS",
        "outputId": "0e10fb3a-09d9-4f4f-c9e5-da63d05974a1",
        "colab": {
          "base_uri": "https://localhost:8080/"
        }
      },
      "execution_count": null,
      "outputs": [
        {
          "output_type": "stream",
          "name": "stdout",
          "text": [
            "Reading package lists... Done\n",
            "Building dependency tree... Done\n",
            "Reading state information... Done\n",
            "The following NEW packages will be installed:\n",
            "  poppler-utils\n",
            "0 upgraded, 1 newly installed, 0 to remove and 45 not upgraded.\n",
            "Need to get 186 kB of archives.\n",
            "After this operation, 696 kB of additional disk space will be used.\n",
            "Get:1 http://archive.ubuntu.com/ubuntu jammy-updates/main amd64 poppler-utils amd64 22.02.0-2ubuntu0.4 [186 kB]\n",
            "Fetched 186 kB in 0s (481 kB/s)\n",
            "Selecting previously unselected package poppler-utils.\n",
            "(Reading database ... 123586 files and directories currently installed.)\n",
            "Preparing to unpack .../poppler-utils_22.02.0-2ubuntu0.4_amd64.deb ...\n",
            "Unpacking poppler-utils (22.02.0-2ubuntu0.4) ...\n",
            "Setting up poppler-utils (22.02.0-2ubuntu0.4) ...\n",
            "Processing triggers for man-db (2.10.2-1) ...\n",
            "Reading package lists... Done\n",
            "Building dependency tree... Done\n",
            "Reading state information... Done\n",
            "The following additional packages will be installed:\n",
            "  tesseract-ocr-eng tesseract-ocr-osd\n",
            "The following NEW packages will be installed:\n",
            "  tesseract-ocr tesseract-ocr-eng tesseract-ocr-osd\n",
            "0 upgraded, 3 newly installed, 0 to remove and 45 not upgraded.\n",
            "Need to get 4,816 kB of archives.\n",
            "After this operation, 15.6 MB of additional disk space will be used.\n",
            "Get:1 http://archive.ubuntu.com/ubuntu jammy/universe amd64 tesseract-ocr-eng all 1:4.00~git30-7274cfa-1.1 [1,591 kB]\n",
            "Get:2 http://archive.ubuntu.com/ubuntu jammy/universe amd64 tesseract-ocr-osd all 1:4.00~git30-7274cfa-1.1 [2,990 kB]\n",
            "Get:3 http://archive.ubuntu.com/ubuntu jammy/universe amd64 tesseract-ocr amd64 4.1.1-2.1build1 [236 kB]\n",
            "Fetched 4,816 kB in 1s (9,534 kB/s)\n",
            "Selecting previously unselected package tesseract-ocr-eng.\n",
            "(Reading database ... 123616 files and directories currently installed.)\n",
            "Preparing to unpack .../tesseract-ocr-eng_1%3a4.00~git30-7274cfa-1.1_all.deb ...\n",
            "Unpacking tesseract-ocr-eng (1:4.00~git30-7274cfa-1.1) ...\n",
            "Selecting previously unselected package tesseract-ocr-osd.\n",
            "Preparing to unpack .../tesseract-ocr-osd_1%3a4.00~git30-7274cfa-1.1_all.deb ...\n",
            "Unpacking tesseract-ocr-osd (1:4.00~git30-7274cfa-1.1) ...\n",
            "Selecting previously unselected package tesseract-ocr.\n",
            "Preparing to unpack .../tesseract-ocr_4.1.1-2.1build1_amd64.deb ...\n",
            "Unpacking tesseract-ocr (4.1.1-2.1build1) ...\n",
            "Setting up tesseract-ocr-eng (1:4.00~git30-7274cfa-1.1) ...\n",
            "Setting up tesseract-ocr-osd (1:4.00~git30-7274cfa-1.1) ...\n",
            "Setting up tesseract-ocr (4.1.1-2.1build1) ...\n",
            "Processing triggers for man-db (2.10.2-1) ...\n",
            "\u001b[2K     \u001b[90m━━━━━━━━━━━━━━━━━━━━━━━━━━━━━━━━━━━━━━━━\u001b[0m \u001b[32m2.1/2.1 MB\u001b[0m \u001b[31m7.9 MB/s\u001b[0m eta \u001b[36m0:00:00\u001b[0m\n",
            "\u001b[2K     \u001b[90m━━━━━━━━━━━━━━━━━━━━━━━━━━━━━━━━━━━━━━━━\u001b[0m \u001b[32m431.4/431.4 kB\u001b[0m \u001b[31m36.2 MB/s\u001b[0m eta \u001b[36m0:00:00\u001b[0m\n",
            "\u001b[2K     \u001b[90m━━━━━━━━━━━━━━━━━━━━━━━━━━━━━━━━━━━━━━━━\u001b[0m \u001b[32m274.7/274.7 kB\u001b[0m \u001b[31m28.2 MB/s\u001b[0m eta \u001b[36m0:00:00\u001b[0m\n",
            "\u001b[2K     \u001b[90m━━━━━━━━━━━━━━━━━━━━━━━━━━━━━━━━━━━━━━━━\u001b[0m \u001b[32m981.5/981.5 kB\u001b[0m \u001b[31m47.7 MB/s\u001b[0m eta \u001b[36m0:00:00\u001b[0m\n",
            "\u001b[?25h  Preparing metadata (setup.py) ... \u001b[?25l\u001b[?25hdone\n",
            "\u001b[2K     \u001b[90m━━━━━━━━━━━━━━━━━━━━━━━━━━━━━━━━━━━━━━━━\u001b[0m \u001b[32m3.4/3.4 MB\u001b[0m \u001b[31m37.9 MB/s\u001b[0m eta \u001b[36m0:00:00\u001b[0m\n",
            "\u001b[2K     \u001b[90m━━━━━━━━━━━━━━━━━━━━━━━━━━━━━━━━━━━━━━━━\u001b[0m \u001b[32m41.9/41.9 kB\u001b[0m \u001b[31m2.3 MB/s\u001b[0m eta \u001b[36m0:00:00\u001b[0m\n",
            "\u001b[2K     \u001b[90m━━━━━━━━━━━━━━━━━━━━━━━━━━━━━━━━━━━━━━━━\u001b[0m \u001b[32m7.5/7.5 MB\u001b[0m \u001b[31m47.2 MB/s\u001b[0m eta \u001b[36m0:00:00\u001b[0m\n",
            "\u001b[2K     \u001b[90m━━━━━━━━━━━━━━━━━━━━━━━━━━━━━━━━━━━━━━━━\u001b[0m \u001b[32m2.4/2.4 MB\u001b[0m \u001b[31m32.1 MB/s\u001b[0m eta \u001b[36m0:00:00\u001b[0m\n",
            "\u001b[2K     \u001b[90m━━━━━━━━━━━━━━━━━━━━━━━━━━━━━━━━━━━━━━━━\u001b[0m \u001b[32m112.5/112.5 kB\u001b[0m \u001b[31m8.8 MB/s\u001b[0m eta \u001b[36m0:00:00\u001b[0m\n",
            "\u001b[2K     \u001b[90m━━━━━━━━━━━━━━━━━━━━━━━━━━━━━━━━━━━━━━━━\u001b[0m \u001b[32m5.6/5.6 MB\u001b[0m \u001b[31m42.0 MB/s\u001b[0m eta \u001b[36m0:00:00\u001b[0m\n",
            "\u001b[2K     \u001b[90m━━━━━━━━━━━━━━━━━━━━━━━━━━━━━━━━━━━━━━━━\u001b[0m \u001b[32m466.4/466.4 kB\u001b[0m \u001b[31m20.4 MB/s\u001b[0m eta \u001b[36m0:00:00\u001b[0m\n",
            "\u001b[2K     \u001b[90m━━━━━━━━━━━━━━━━━━━━━━━━━━━━━━━━━━━━━━━━\u001b[0m \u001b[32m295.7/295.7 kB\u001b[0m \u001b[31m21.3 MB/s\u001b[0m eta \u001b[36m0:00:00\u001b[0m\n",
            "\u001b[2K     \u001b[90m━━━━━━━━━━━━━━━━━━━━━━━━━━━━━━━━━━━━━━━━\u001b[0m \u001b[32m56.4/56.4 kB\u001b[0m \u001b[31m3.8 MB/s\u001b[0m eta \u001b[36m0:00:00\u001b[0m\n",
            "\u001b[2K     \u001b[90m━━━━━━━━━━━━━━━━━━━━━━━━━━━━━━━━━━━━━━━━\u001b[0m \u001b[32m15.9/15.9 MB\u001b[0m \u001b[31m32.2 MB/s\u001b[0m eta \u001b[36m0:00:00\u001b[0m\n",
            "\u001b[2K     \u001b[90m━━━━━━━━━━━━━━━━━━━━━━━━━━━━━━━━━━━━━━━━\u001b[0m \u001b[32m244.3/244.3 kB\u001b[0m \u001b[31m17.2 MB/s\u001b[0m eta \u001b[36m0:00:00\u001b[0m\n",
            "\u001b[2K     \u001b[90m━━━━━━━━━━━━━━━━━━━━━━━━━━━━━━━━━━━━━━━━\u001b[0m \u001b[32m471.6/471.6 kB\u001b[0m \u001b[31m20.8 MB/s\u001b[0m eta \u001b[36m0:00:00\u001b[0m\n",
            "\u001b[2K     \u001b[90m━━━━━━━━━━━━━━━━━━━━━━━━━━━━━━━━━━━━━━━━\u001b[0m \u001b[32m19.2/19.2 MB\u001b[0m \u001b[31m37.7 MB/s\u001b[0m eta \u001b[36m0:00:00\u001b[0m\n",
            "\u001b[2K     \u001b[90m━━━━━━━━━━━━━━━━━━━━━━━━━━━━━━━━━━━━━━━━\u001b[0m \u001b[32m6.8/6.8 MB\u001b[0m \u001b[31m49.5 MB/s\u001b[0m eta \u001b[36m0:00:00\u001b[0m\n",
            "\u001b[2K     \u001b[90m━━━━━━━━━━━━━━━━━━━━━━━━━━━━━━━━━━━━━━━━\u001b[0m \u001b[32m2.3/2.3 MB\u001b[0m \u001b[31m55.0 MB/s\u001b[0m eta \u001b[36m0:00:00\u001b[0m\n",
            "\u001b[2K     \u001b[90m━━━━━━━━━━━━━━━━━━━━━━━━━━━━━━━━━━━━━━━━\u001b[0m \u001b[32m159.9/159.9 kB\u001b[0m \u001b[31m450.7 kB/s\u001b[0m eta \u001b[36m0:00:00\u001b[0m\n",
            "\u001b[2K     \u001b[90m━━━━━━━━━━━━━━━━━━━━━━━━━━━━━━━━━━━━━━━━\u001b[0m \u001b[32m49.2/49.2 kB\u001b[0m \u001b[31m3.9 MB/s\u001b[0m eta \u001b[36m0:00:00\u001b[0m\n",
            "\u001b[2K     \u001b[90m━━━━━━━━━━━━━━━━━━━━━━━━━━━━━━━━━━━━━━━━\u001b[0m \u001b[32m79.5/79.5 kB\u001b[0m \u001b[31m5.7 MB/s\u001b[0m eta \u001b[36m0:00:00\u001b[0m\n",
            "\u001b[2K     \u001b[90m━━━━━━━━━━━━━━━━━━━━━━━━━━━━━━━━━━━━━━━━\u001b[0m \u001b[32m4.5/4.5 MB\u001b[0m \u001b[31m52.5 MB/s\u001b[0m eta \u001b[36m0:00:00\u001b[0m\n",
            "\u001b[2K     \u001b[90m━━━━━━━━━━━━━━━━━━━━━━━━━━━━━━━━━━━━━━━━\u001b[0m \u001b[32m114.6/114.6 kB\u001b[0m \u001b[31m12.7 MB/s\u001b[0m eta \u001b[36m0:00:00\u001b[0m\n",
            "\u001b[2K     \u001b[90m━━━━━━━━━━━━━━━━━━━━━━━━━━━━━━━━━━━━━━━━\u001b[0m \u001b[32m80.8/80.8 kB\u001b[0m \u001b[31m6.6 MB/s\u001b[0m eta \u001b[36m0:00:00\u001b[0m\n",
            "\u001b[2K     \u001b[90m━━━━━━━━━━━━━━━━━━━━━━━━━━━━━━━━━━━━━━━━\u001b[0m \u001b[32m75.6/75.6 kB\u001b[0m \u001b[31m8.3 MB/s\u001b[0m eta \u001b[36m0:00:00\u001b[0m\n",
            "\u001b[2K     \u001b[90m━━━━━━━━━━━━━━━━━━━━━━━━━━━━━━━━━━━━━━━━\u001b[0m \u001b[32m54.5/54.5 kB\u001b[0m \u001b[31m5.4 MB/s\u001b[0m eta \u001b[36m0:00:00\u001b[0m\n",
            "\u001b[2K     \u001b[90m━━━━━━━━━━━━━━━━━━━━━━━━━━━━━━━━━━━━━━━━\u001b[0m \u001b[32m77.9/77.9 kB\u001b[0m \u001b[31m7.8 MB/s\u001b[0m eta \u001b[36m0:00:00\u001b[0m\n",
            "\u001b[2K     \u001b[90m━━━━━━━━━━━━━━━━━━━━━━━━━━━━━━━━━━━━━━━━\u001b[0m \u001b[32m58.3/58.3 kB\u001b[0m \u001b[31m6.3 MB/s\u001b[0m eta \u001b[36m0:00:00\u001b[0m\n",
            "\u001b[2K     \u001b[90m━━━━━━━━━━━━━━━━━━━━━━━━━━━━━━━━━━━━━━━━\u001b[0m \u001b[32m117.0/117.0 kB\u001b[0m \u001b[31m9.4 MB/s\u001b[0m eta \u001b[36m0:00:00\u001b[0m\n",
            "\u001b[?25h  Preparing metadata (setup.py) ... \u001b[?25l\u001b[?25hdone\n",
            "\u001b[2K     \u001b[90m━━━━━━━━━━━━━━━━━━━━━━━━━━━━━━━━━━━━━━━━\u001b[0m \u001b[32m46.0/46.0 kB\u001b[0m \u001b[31m4.9 MB/s\u001b[0m eta \u001b[36m0:00:00\u001b[0m\n",
            "\u001b[2K     \u001b[90m━━━━━━━━━━━━━━━━━━━━━━━━━━━━━━━━━━━━━━━━\u001b[0m \u001b[32m21.3/21.3 MB\u001b[0m \u001b[31m43.3 MB/s\u001b[0m eta \u001b[36m0:00:00\u001b[0m\n",
            "\u001b[2K     \u001b[90m━━━━━━━━━━━━━━━━━━━━━━━━━━━━━━━━━━━━━━━━\u001b[0m \u001b[32m42.2/42.2 kB\u001b[0m \u001b[31m4.0 MB/s\u001b[0m eta \u001b[36m0:00:00\u001b[0m\n",
            "\u001b[?25h  Preparing metadata (setup.py) ... \u001b[?25l\u001b[?25hdone\n",
            "\u001b[2K     \u001b[90m━━━━━━━━━━━━━━━━━━━━━━━━━━━━━━━━━━━━━━━━\u001b[0m \u001b[32m58.0/58.0 kB\u001b[0m \u001b[31m6.5 MB/s\u001b[0m eta \u001b[36m0:00:00\u001b[0m\n",
            "\u001b[2K     \u001b[90m━━━━━━━━━━━━━━━━━━━━━━━━━━━━━━━━━━━━━━━━\u001b[0m \u001b[32m86.8/86.8 kB\u001b[0m \u001b[31m9.5 MB/s\u001b[0m eta \u001b[36m0:00:00\u001b[0m\n",
            "\u001b[2K     \u001b[90m━━━━━━━━━━━━━━━━━━━━━━━━━━━━━━━━━━━━━━━━\u001b[0m \u001b[32m5.6/5.6 MB\u001b[0m \u001b[31m71.1 MB/s\u001b[0m eta \u001b[36m0:00:00\u001b[0m\n",
            "\u001b[2K     \u001b[90m━━━━━━━━━━━━━━━━━━━━━━━━━━━━━━━━━━━━━━━━\u001b[0m \u001b[32m2.8/2.8 MB\u001b[0m \u001b[31m75.7 MB/s\u001b[0m eta \u001b[36m0:00:00\u001b[0m\n",
            "\u001b[?25h  Building wheel for langdetect (setup.py) ... \u001b[?25l\u001b[?25hdone\n",
            "  Building wheel for antlr4-python3-runtime (setup.py) ... \u001b[?25l\u001b[?25hdone\n",
            "  Building wheel for iopath (setup.py) ... \u001b[?25l\u001b[?25hdone\n",
            "\u001b[31mERROR: pip's dependency resolver does not currently take into account all the packages that are installed. This behaviour is the source of the following dependency conflicts.\n",
            "imageio 2.31.6 requires pillow<10.1.0,>=8.3.2, but you have pillow 10.4.0 which is incompatible.\u001b[0m\u001b[31m\n",
            "\u001b[0m"
          ]
        }
      ]
    },
    {
      "cell_type": "code",
      "execution_count": null,
      "metadata": {
        "colab": {
          "base_uri": "https://localhost:8080/"
        },
        "id": "kc4WxYmLSBW5",
        "outputId": "d53269fa-8c66-4631-baa3-089d18528970",
        "tags": []
      },
      "outputs": [
        {
          "output_type": "stream",
          "name": "stdout",
          "text": [
            "\u001b[2K     \u001b[90m━━━━━━━━━━━━━━━━━━━━━━━━━━━━━━━━━━━━━━━━\u001b[0m \u001b[32m371.7/371.7 kB\u001b[0m \u001b[31m2.3 MB/s\u001b[0m eta \u001b[36m0:00:00\u001b[0m\n",
            "\u001b[2K     \u001b[90m━━━━━━━━━━━━━━━━━━━━━━━━━━━━━━━━━━━━━━━━\u001b[0m \u001b[32m73.0/73.0 kB\u001b[0m \u001b[31m8.1 MB/s\u001b[0m eta \u001b[36m0:00:00\u001b[0m\n",
            "\u001b[2K     \u001b[90m━━━━━━━━━━━━━━━━━━━━━━━━━━━━━━━━━━━━━━━━\u001b[0m \u001b[32m202.7/202.7 kB\u001b[0m \u001b[31m10.6 MB/s\u001b[0m eta \u001b[36m0:00:00\u001b[0m\n",
            "\u001b[2K     \u001b[90m━━━━━━━━━━━━━━━━━━━━━━━━━━━━━━━━━━━━━━━━\u001b[0m \u001b[32m5.0/5.0 MB\u001b[0m \u001b[31m22.8 MB/s\u001b[0m eta \u001b[36m0:00:00\u001b[0m\n",
            "\u001b[2K     \u001b[90m━━━━━━━━━━━━━━━━━━━━━━━━━━━━━━━━━━━━━━━━\u001b[0m \u001b[32m8.3/8.3 MB\u001b[0m \u001b[31m65.3 MB/s\u001b[0m eta \u001b[36m0:00:00\u001b[0m\n",
            "\u001b[2K     \u001b[90m━━━━━━━━━━━━━━━━━━━━━━━━━━━━━━━━━━━━━━━━\u001b[0m \u001b[32m62.5/62.5 MB\u001b[0m \u001b[31m9.5 MB/s\u001b[0m eta \u001b[36m0:00:00\u001b[0m\n",
            "\u001b[2K     \u001b[90m━━━━━━━━━━━━━━━━━━━━━━━━━━━━━━━━━━━━━━━━\u001b[0m \u001b[32m1.1/1.1 MB\u001b[0m \u001b[31m48.5 MB/s\u001b[0m eta \u001b[36m0:00:00\u001b[0m\n",
            "\u001b[2K     \u001b[90m━━━━━━━━━━━━━━━━━━━━━━━━━━━━━━━━━━━━━━━━\u001b[0m \u001b[32m581.4/581.4 kB\u001b[0m \u001b[31m35.6 MB/s\u001b[0m eta \u001b[36m0:00:00\u001b[0m\n",
            "\u001b[2K     \u001b[90m━━━━━━━━━━━━━━━━━━━━━━━━━━━━━━━━━━━━━━━━\u001b[0m \u001b[32m134.3/134.3 kB\u001b[0m \u001b[31m16.1 MB/s\u001b[0m eta \u001b[36m0:00:00\u001b[0m\n",
            "\u001b[2K     \u001b[90m━━━━━━━━━━━━━━━━━━━━━━━━━━━━━━━━━━━━━━━━\u001b[0m \u001b[32m126.5/126.5 kB\u001b[0m \u001b[31m15.3 MB/s\u001b[0m eta \u001b[36m0:00:00\u001b[0m\n",
            "\u001b[2K     \u001b[90m━━━━━━━━━━━━━━━━━━━━━━━━━━━━━━━━━━━━━━━━\u001b[0m \u001b[32m2.2/2.2 MB\u001b[0m \u001b[31m58.1 MB/s\u001b[0m eta \u001b[36m0:00:00\u001b[0m\n",
            "\u001b[2K     \u001b[90m━━━━━━━━━━━━━━━━━━━━━━━━━━━━━━━━━━━━━━━━\u001b[0m \u001b[32m2.4/2.4 MB\u001b[0m \u001b[31m75.8 MB/s\u001b[0m eta \u001b[36m0:00:00\u001b[0m\n",
            "\u001b[2K     \u001b[90m━━━━━━━━━━━━━━━━━━━━━━━━━━━━━━━━━━━━━━━━\u001b[0m \u001b[32m92.2/92.2 kB\u001b[0m \u001b[31m9.1 MB/s\u001b[0m eta \u001b[36m0:00:00\u001b[0m\n",
            "\u001b[2K     \u001b[90m━━━━━━━━━━━━━━━━━━━━━━━━━━━━━━━━━━━━━━━━\u001b[0m \u001b[32m62.4/62.4 kB\u001b[0m \u001b[31m7.1 MB/s\u001b[0m eta \u001b[36m0:00:00\u001b[0m\n",
            "\u001b[2K     \u001b[90m━━━━━━━━━━━━━━━━━━━━━━━━━━━━━━━━━━━━━━━━\u001b[0m \u001b[32m41.3/41.3 kB\u001b[0m \u001b[31m3.7 MB/s\u001b[0m eta \u001b[36m0:00:00\u001b[0m\n",
            "\u001b[2K     \u001b[90m━━━━━━━━━━━━━━━━━━━━━━━━━━━━━━━━━━━━━━━━\u001b[0m \u001b[32m59.9/59.9 kB\u001b[0m \u001b[31m6.4 MB/s\u001b[0m eta \u001b[36m0:00:00\u001b[0m\n",
            "\u001b[2K     \u001b[90m━━━━━━━━━━━━━━━━━━━━━━━━━━━━━━━━━━━━━━━━\u001b[0m \u001b[32m107.0/107.0 kB\u001b[0m \u001b[31m12.8 MB/s\u001b[0m eta \u001b[36m0:00:00\u001b[0m\n",
            "\u001b[2K     \u001b[90m━━━━━━━━━━━━━━━━━━━━━━━━━━━━━━━━━━━━━━━━\u001b[0m \u001b[32m67.3/67.3 kB\u001b[0m \u001b[31m8.0 MB/s\u001b[0m eta \u001b[36m0:00:00\u001b[0m\n",
            "\u001b[?25h  Installing build dependencies ... \u001b[?25l\u001b[?25hdone\n",
            "  Getting requirements to build wheel ... \u001b[?25l\u001b[?25hdone\n",
            "  Preparing metadata (pyproject.toml) ... \u001b[?25l\u001b[?25hdone\n",
            "\u001b[2K     \u001b[90m━━━━━━━━━━━━━━━━━━━━━━━━━━━━━━━━━━━━━━━━\u001b[0m \u001b[32m283.7/283.7 kB\u001b[0m \u001b[31m27.5 MB/s\u001b[0m eta \u001b[36m0:00:00\u001b[0m\n",
            "\u001b[2K     \u001b[90m━━━━━━━━━━━━━━━━━━━━━━━━━━━━━━━━━━━━━━━━\u001b[0m \u001b[32m1.7/1.7 MB\u001b[0m \u001b[31m26.6 MB/s\u001b[0m eta \u001b[36m0:00:00\u001b[0m\n",
            "\u001b[2K     \u001b[90m━━━━━━━━━━━━━━━━━━━━━━━━━━━━━━━━━━━━━━━━\u001b[0m \u001b[32m67.6/67.6 kB\u001b[0m \u001b[31m8.4 MB/s\u001b[0m eta \u001b[36m0:00:00\u001b[0m\n",
            "\u001b[2K     \u001b[90m━━━━━━━━━━━━━━━━━━━━━━━━━━━━━━━━━━━━━━━━\u001b[0m \u001b[32m141.1/141.1 kB\u001b[0m \u001b[31m16.6 MB/s\u001b[0m eta \u001b[36m0:00:00\u001b[0m\n",
            "\u001b[2K     \u001b[90m━━━━━━━━━━━━━━━━━━━━━━━━━━━━━━━━━━━━━━━━\u001b[0m \u001b[32m71.9/71.9 kB\u001b[0m \u001b[31m8.3 MB/s\u001b[0m eta \u001b[36m0:00:00\u001b[0m\n",
            "\u001b[2K     \u001b[90m━━━━━━━━━━━━━━━━━━━━━━━━━━━━━━━━━━━━━━━━\u001b[0m \u001b[32m987.6/987.6 kB\u001b[0m \u001b[31m57.3 MB/s\u001b[0m eta \u001b[36m0:00:00\u001b[0m\n",
            "\u001b[2K     \u001b[90m━━━━━━━━━━━━━━━━━━━━━━━━━━━━━━━━━━━━━━━━\u001b[0m \u001b[32m52.5/52.5 kB\u001b[0m \u001b[31m6.5 MB/s\u001b[0m eta \u001b[36m0:00:00\u001b[0m\n",
            "\u001b[2K     \u001b[90m━━━━━━━━━━━━━━━━━━━━━━━━━━━━━━━━━━━━━━━━\u001b[0m \u001b[32m130.5/130.5 kB\u001b[0m \u001b[31m15.3 MB/s\u001b[0m eta \u001b[36m0:00:00\u001b[0m\n",
            "\u001b[2K     \u001b[90m━━━━━━━━━━━━━━━━━━━━━━━━━━━━━━━━━━━━━━━━\u001b[0m \u001b[32m341.4/341.4 kB\u001b[0m \u001b[31m27.0 MB/s\u001b[0m eta \u001b[36m0:00:00\u001b[0m\n",
            "\u001b[2K     \u001b[90m━━━━━━━━━━━━━━━━━━━━━━━━━━━━━━━━━━━━━━━━\u001b[0m \u001b[32m3.4/3.4 MB\u001b[0m \u001b[31m56.0 MB/s\u001b[0m eta \u001b[36m0:00:00\u001b[0m\n",
            "\u001b[2K     \u001b[90m━━━━━━━━━━━━━━━━━━━━━━━━━━━━━━━━━━━━━━━━\u001b[0m \u001b[32m1.2/1.2 MB\u001b[0m \u001b[31m53.2 MB/s\u001b[0m eta \u001b[36m0:00:00\u001b[0m\n",
            "\u001b[2K     \u001b[90m━━━━━━━━━━━━━━━━━━━━━━━━━━━━━━━━━━━━━━━━\u001b[0m \u001b[32m130.2/130.2 kB\u001b[0m \u001b[31m12.3 MB/s\u001b[0m eta \u001b[36m0:00:00\u001b[0m\n",
            "\u001b[2K     \u001b[90m━━━━━━━━━━━━━━━━━━━━━━━━━━━━━━━━━━━━━━━━\u001b[0m \u001b[32m307.7/307.7 kB\u001b[0m \u001b[31m31.1 MB/s\u001b[0m eta \u001b[36m0:00:00\u001b[0m\n",
            "\u001b[?25h  Building wheel for pypika (pyproject.toml) ... \u001b[?25l\u001b[?25hdone\n"
          ]
        }
      ],
      "source": [
        "%pip install -U -q google-cloud-aiplatform langchain-core langchain-google-vertexai langchain-text-splitters langchain-experimental \"unstructured[all-docs]\" pypdf pydantic lxml pillow matplotlib opencv-python tiktoken chromadb"
      ]
    },
    {
      "cell_type": "markdown",
      "metadata": {
        "id": "R5Xep4W9lq-Z"
      },
      "source": [
        "### Restart current runtime\n",
        "\n",
        "To use the newly installed packages in this Jupyter runtime, you must restart the runtime. You can do this by running the cell below, which will restart the current kernel."
      ]
    },
    {
      "cell_type": "code",
      "execution_count": null,
      "metadata": {
        "colab": {
          "base_uri": "https://localhost:8080/"
        },
        "id": "XRvKdaPDTznN",
        "outputId": "d1f93d30-87ae-44c6-ba50-7ada05a30a12",
        "tags": []
      },
      "outputs": [
        {
          "output_type": "execute_result",
          "data": {
            "text/plain": [
              "{'status': 'ok', 'restart': True}"
            ]
          },
          "metadata": {},
          "execution_count": 3
        }
      ],
      "source": [
        "# Restart kernel after installs so that your environment can access the new packages\n",
        "import IPython\n",
        "\n",
        "app = IPython.Application.instance()\n",
        "app.kernel.do_shutdown(True)"
      ]
    },
    {
      "cell_type": "markdown",
      "metadata": {
        "id": "SbmM4z7FOBpM"
      },
      "source": [
        "<div class=\"alert alert-block alert-warning\">\n",
        "<b>⚠️ The kernel is going to restart. Please wait until it is finished before continuing to the next step. ⚠️</b>\n",
        "</div>\n",
        "\n"
      ]
    },
    {
      "cell_type": "markdown",
      "metadata": {
        "id": "FtsU9Bw9h2rL"
      },
      "source": [
        "### Authenticate your notebook environment (Colab only)\n",
        "\n",
        "If you are running this notebook on Google Colab, run the following cell to authenticate your environment. This step is not required if you are using [Vertex AI Workbench](https://cloud.google.com/vertex-ai-workbench).\n"
      ]
    },
    {
      "cell_type": "code",
      "execution_count": null,
      "metadata": {
        "id": "GpYEyLsOh2rL",
        "tags": []
      },
      "outputs": [],
      "source": [
        "import sys\n",
        "\n",
        "# Additional authentication is required for Google Colab\n",
        "if \"google.colab\" in sys.modules:\n",
        "    # Authenticate user to Google Cloud\n",
        "    from google.colab import auth\n",
        "\n",
        "    auth.authenticate_user()"
      ]
    },
    {
      "cell_type": "markdown",
      "metadata": {
        "id": "O1vKZZoEh2rL"
      },
      "source": [
        "### Define Google Cloud project information"
      ]
    },
    {
      "cell_type": "code",
      "execution_count": null,
      "metadata": {
        "id": "gJqZ76rJh2rM",
        "tags": []
      },
      "outputs": [],
      "source": [
        "PROJECT_ID = \"maxis-poc-427906\"  # @param {type:\"string\"}\n",
        "LOCATION = \"us-central1\"  # @param {type:\"string\"}\n",
        "\n",
        "# For Vector Search Staging\n",
        "GCS_BUCKET = \"genai-langchain\"  # @param {type:\"string\"}\n",
        "GCS_BUCKET_URI = f\"gs://{GCS_BUCKET}\""
      ]
    },
    {
      "cell_type": "markdown",
      "metadata": {
        "id": "cfWaPmaDkzBM"
      },
      "source": [
        "### Initialize the Vertex AI SDK"
      ]
    },
    {
      "cell_type": "code",
      "execution_count": null,
      "metadata": {
        "id": "D48gUW5-h2rM",
        "tags": []
      },
      "outputs": [],
      "source": [
        "from google.cloud import aiplatform\n",
        "\n",
        "aiplatform.init(project=PROJECT_ID, location=LOCATION, staging_bucket=GCS_BUCKET_URI)"
      ]
    },
    {
      "cell_type": "markdown",
      "metadata": {
        "id": "BuQwwRiniVFG"
      },
      "source": [
        "### Import libraries\n"
      ]
    },
    {
      "cell_type": "code",
      "execution_count": null,
      "metadata": {
        "id": "rtMowvm-yQ97",
        "tags": []
      },
      "outputs": [],
      "source": [
        "import base64\n",
        "import os\n",
        "import uuid\n",
        "import re\n",
        "\n",
        "from typing import List, Tuple\n",
        "\n",
        "from IPython.display import display, Image, Markdown\n",
        "\n",
        "from langchain.prompts import PromptTemplate\n",
        "from langchain.retrievers.multi_vector import MultiVectorRetriever\n",
        "from langchain.storage import InMemoryStore\n",
        "\n",
        "from langchain_community.vectorstores import Chroma\n",
        "\n",
        "from langchain_core.documents import Document\n",
        "from langchain_core.runnables import RunnableLambda, RunnablePassthrough\n",
        "from langchain_core.messages import AIMessage, HumanMessage\n",
        "from langchain_core.output_parsers import StrOutputParser\n",
        "\n",
        "from langchain_text_splitters import CharacterTextSplitter\n",
        "\n",
        "from langchain_google_vertexai import (\n",
        "    VertexAI,\n",
        "    ChatVertexAI,\n",
        "    VertexAIEmbeddings,\n",
        "    VectorSearchVectorStore,\n",
        ")\n",
        "\n",
        "from unstructured.partition.pdf import partition_pdf"
      ]
    },
    {
      "cell_type": "markdown",
      "metadata": {
        "id": "Kfzp7C9kkzBN"
      },
      "source": [
        "## Data Loading"
      ]
    },
    {
      "cell_type": "markdown",
      "metadata": {
        "id": "g7bKCQMFT7JT"
      },
      "source": [
        "#### Get documents and images from GCS"
      ]
    },
    {
      "cell_type": "code",
      "execution_count": null,
      "metadata": {
        "colab": {
          "base_uri": "https://localhost:8080/"
        },
        "id": "KwbL89zcY39N",
        "outputId": "b292214e-f6c9-460e-c41b-8da85352e4ae",
        "tags": []
      },
      "outputs": [
        {
          "output_type": "stream",
          "name": "stdout",
          "text": [
            "\n",
            "WARNING: gsutil rsync uses hashes when modification time is not available at\n",
            "both the source and destination. Your crcmod installation isn't using the\n",
            "module's C extension, so checksumming will run very slowly. If this is your\n",
            "first rsync since updating gsutil, this rsync can take significantly longer than\n",
            "usual. For help installing the extension, please see \"gsutil help crcmod\".\n",
            "\n",
            "Building synchronization state...\n",
            "Starting synchronization...\n",
            "Copying gs://github-repo/rag/intro_multimodal_rag/data/Google Cloud TPU blog.pdf...\n",
            "Copying gs://github-repo/rag/intro_multimodal_rag/data/gemma_technical_paper.pdf...\n",
            "Copying gs://github-repo/rag/intro_multimodal_rag/images/2022-alphabet-annual-report.pdf_image_12_2_90.jpeg...\n",
            "Copying gs://github-repo/rag/intro_multimodal_rag/data/med_gemini.pdf...\n",
            "Copying gs://github-repo/rag/intro_multimodal_rag/images/2022-alphabet-annual-report.pdf_image_14_0_95.jpeg...\n",
            "Copying gs://github-repo/rag/intro_multimodal_rag/images/2022-alphabet-annual-report.pdf_image_10_0_79.jpeg...\n",
            "Copying gs://github-repo/rag/intro_multimodal_rag/images/2022-alphabet-annual-report.pdf_image_15_0_100.jpeg...\n",
            "Copying gs://github-repo/rag/intro_multimodal_rag/data/gemini_v1_5_report_technical.pdf...\n",
            "Copying gs://github-repo/rag/intro_multimodal_rag/images/2022-alphabet-annual-report.pdf_image_12_0_88.jpeg...\n",
            "Copying gs://github-repo/rag/intro_multimodal_rag/images/2022-alphabet-annual-report.pdf_image_16_0_104.jpeg...\n",
            "Copying gs://github-repo/rag/intro_multimodal_rag/images/2022-alphabet-annual-report.pdf_image_16_1_105.jpeg...\n",
            "Copying gs://github-repo/rag/intro_multimodal_rag/images/2022-alphabet-annual-report.pdf_image_18_0_110.jpeg...\n",
            "Copying gs://github-repo/rag/intro_multimodal_rag/images/2022-alphabet-annual-report.pdf_image_11_1_85.jpeg...\n",
            "Copying gs://github-repo/rag/intro_multimodal_rag/images/2022-alphabet-annual-report.pdf_image_18_1_112.jpeg...\n",
            "Copying gs://github-repo/rag/intro_multimodal_rag/images/2022-alphabet-annual-report.pdf_image_19_0_116.jpeg...\n",
            "Copying gs://github-repo/rag/intro_multimodal_rag/images/2022-alphabet-annual-report.pdf_image_11_0_84.jpeg...\n",
            "Copying gs://github-repo/rag/intro_multimodal_rag/images/2022-alphabet-annual-report.pdf_image_22_0_123.jpeg...\n",
            "Copying gs://github-repo/rag/intro_multimodal_rag/images/2022-alphabet-annual-report.pdf_image_22_1_124.jpeg...\n",
            "Copying gs://github-repo/rag/intro_multimodal_rag/images/2022-alphabet-annual-report.pdf_image_23_0_127.jpeg...\n",
            "Copying gs://github-repo/rag/intro_multimodal_rag/images/2022-alphabet-annual-report.pdf_image_24_0_130.jpeg...\n",
            "Copying gs://github-repo/rag/intro_multimodal_rag/images/2022-alphabet-annual-report.pdf_image_25_0_133.jpeg...\n",
            "Copying gs://github-repo/rag/intro_multimodal_rag/images/2022-alphabet-annual-report.pdf_image_10_1_80.jpeg...\n",
            "Copying gs://github-repo/rag/intro_multimodal_rag/images/2022-alphabet-annual-report.pdf_image_12_1_89.jpeg...\n",
            "Copying gs://github-repo/rag/intro_multimodal_rag/images/2022-alphabet-annual-report.pdf_image_26_0_136.jpeg...\n",
            "Copying gs://github-repo/rag/intro_multimodal_rag/images/2022-alphabet-annual-report.pdf_image_27_0_140.jpeg...\n",
            "Copying gs://github-repo/rag/intro_multimodal_rag/images/2022-alphabet-annual-report.pdf_image_27_1_141.jpeg...\n",
            "Copying gs://github-repo/rag/intro_multimodal_rag/images/2022-alphabet-annual-report.pdf_image_28_0_145.jpeg...\n",
            "Copying gs://github-repo/rag/intro_multimodal_rag/images/2022-alphabet-annual-report.pdf_image_30_0_150.jpeg...\n",
            "Copying gs://github-repo/rag/intro_multimodal_rag/images/2022-alphabet-annual-report.pdf_image_30_1_151.jpeg...\n",
            "Copying gs://github-repo/rag/intro_multimodal_rag/images/2022-alphabet-annual-report.pdf_image_30_2_152.jpeg...\n",
            "Copying gs://github-repo/rag/intro_multimodal_rag/images/2022-alphabet-annual-report.pdf_image_31_0_155.jpeg...\n",
            "Copying gs://github-repo/rag/intro_multimodal_rag/images/2022-alphabet-annual-report.pdf_image_32_1_159.jpeg...\n",
            "Copying gs://github-repo/rag/intro_multimodal_rag/images/2022-alphabet-annual-report.pdf_image_32_0_158.jpeg...\n",
            "Copying gs://github-repo/rag/intro_multimodal_rag/images/2022-alphabet-annual-report.pdf_image_32_2_161.jpeg...\n",
            "Copying gs://github-repo/rag/intro_multimodal_rag/images/2022-alphabet-annual-report.pdf_image_32_3_162.jpeg...\n",
            "Copying gs://github-repo/rag/intro_multimodal_rag/images/2022-alphabet-annual-report.pdf_image_3_0_16.jpeg...\n",
            "Copying gs://github-repo/rag/intro_multimodal_rag/images/2022-alphabet-annual-report.pdf_image_6_0_26.jpeg...\n",
            "Copying gs://github-repo/rag/intro_multimodal_rag/images/2022-alphabet-annual-report.pdf_image_6_1_28.jpeg...\n",
            "Copying gs://github-repo/rag/intro_multimodal_rag/images/2022-alphabet-annual-report.pdf_image_6_2_30.jpeg...\n",
            "Copying gs://github-repo/rag/intro_multimodal_rag/images/2022-alphabet-annual-report.pdf_image_7_0_46.jpeg...\n",
            "Copying gs://github-repo/rag/intro_multimodal_rag/images/2022-alphabet-annual-report.pdf_image_8_1_53.jpeg...\n",
            "Copying gs://github-repo/rag/intro_multimodal_rag/images/2022-alphabet-annual-report.pdf_image_8_0_50.jpeg...\n",
            "Copying gs://github-repo/rag/intro_multimodal_rag/images/2022-alphabet-annual-report.pdf_image_8_2_55.jpeg...\n",
            "Copying gs://github-repo/rag/intro_multimodal_rag/images/2022-alphabet-annual-report.pdf_image_9_0_74.jpeg...\n",
            "Copying gs://github-repo/rag/intro_multimodal_rag/images/Google Cloud TPU blog.pdf_image_11_0_62.jpeg...\n",
            "Copying gs://github-repo/rag/intro_multimodal_rag/images/Google Cloud TPU blog.pdf_image_12_0_66.jpeg...\n",
            "Copying gs://github-repo/rag/intro_multimodal_rag/images/Google Cloud TPU blog.pdf_image_11_1_63.jpeg...\n",
            "Copying gs://github-repo/rag/intro_multimodal_rag/images/Google Cloud TPU blog.pdf_image_13_0_69.jpeg...\n",
            "Copying gs://github-repo/rag/intro_multimodal_rag/images/Google Cloud TPU blog.pdf_image_14_0_72.jpeg...\n",
            "Copying gs://github-repo/rag/intro_multimodal_rag/images/Google Cloud TPU blog.pdf_image_15_0_75.jpeg...\n",
            "Copying gs://github-repo/rag/intro_multimodal_rag/images/Google Cloud TPU blog.pdf_image_1_0_10.jpeg...\n",
            "Copying gs://github-repo/rag/intro_multimodal_rag/images/Google Cloud TPU blog.pdf_image_3_0_18.jpeg...\n",
            "Copying gs://github-repo/rag/intro_multimodal_rag/images/Google Cloud TPU blog.pdf_image_6_0_35.jpeg...\n",
            "Copying gs://github-repo/rag/intro_multimodal_rag/images/alphafold_research_paper.pdf_image_11_0_574.jpeg...\n",
            "Copying gs://github-repo/rag/intro_multimodal_rag/images/alphafold_research_paper.pdf_image_13_0_352.jpeg...\n",
            "Copying gs://github-repo/rag/intro_multimodal_rag/images/alphafold_research_paper.pdf_image_13_1_600.jpeg...\n",
            "Copying gs://github-repo/rag/intro_multimodal_rag/images/alphafold_research_paper.pdf_image_13_2_586.jpeg...\n",
            "Copying gs://github-repo/rag/intro_multimodal_rag/images/alphafold_research_paper.pdf_image_1_0_63.jpeg...\n",
            "Copying gs://github-repo/rag/intro_multimodal_rag/images/alphafold_research_paper.pdf_image_1_1_65.jpeg...\n",
            "Copying gs://github-repo/rag/intro_multimodal_rag/images/alphafold_research_paper.pdf_image_1_3_69.jpeg...\n",
            "Copying gs://github-repo/rag/intro_multimodal_rag/images/alphafold_research_paper.pdf_image_1_2_67.jpeg...\n",
            "Copying gs://github-repo/rag/intro_multimodal_rag/images/alphafold_research_paper.pdf_image_1_4_71.jpeg...\n",
            "Copying gs://github-repo/rag/intro_multimodal_rag/images/alphafold_research_paper.pdf_image_21_1_1004.jpeg...\n",
            "Copying gs://github-repo/rag/intro_multimodal_rag/images/alphafold_research_paper.pdf_image_21_2_1008.jpeg...\n",
            "Copying gs://github-repo/rag/intro_multimodal_rag/images/alphafold_research_paper.pdf_image_21_0_1005.jpeg...\n",
            "Copying gs://github-repo/rag/intro_multimodal_rag/images/alphafold_research_paper.pdf_image_22_0_1015.jpeg...\n",
            "Copying gs://github-repo/rag/intro_multimodal_rag/images/alphafold_research_paper.pdf_image_23_0_1022.jpeg...\n",
            "Copying gs://github-repo/rag/intro_multimodal_rag/images/alphafold_research_paper.pdf_image_23_1_1024.jpeg...\n",
            "Copying gs://github-repo/rag/intro_multimodal_rag/images/alphafold_research_paper.pdf_image_23_2_1026.jpeg...\n",
            "Copying gs://github-repo/rag/intro_multimodal_rag/images/alphafold_research_paper.pdf_image_23_3_1028.jpeg...\n",
            "Copying gs://github-repo/rag/intro_multimodal_rag/images/alphafold_research_paper.pdf_image_23_4_1030.jpeg...\n",
            "Copying gs://github-repo/rag/intro_multimodal_rag/images/alphafold_research_paper.pdf_image_3_0_217.jpeg...\n",
            "Copying gs://github-repo/rag/intro_multimodal_rag/images/alphafold_research_paper.pdf_image_3_1_219.jpeg...\n",
            "Copying gs://github-repo/rag/intro_multimodal_rag/images/alphafold_research_paper.pdf_image_3_2_220.jpeg...\n",
            "Copying gs://github-repo/rag/intro_multimodal_rag/images/alphafold_research_paper.pdf_image_3_3_221.jpeg...\n",
            "Copying gs://github-repo/rag/intro_multimodal_rag/images/alphafold_research_paper.pdf_image_3_4_223.jpeg...\n",
            "Copying gs://github-repo/rag/intro_multimodal_rag/images/alphafold_research_paper.pdf_image_3_5_224.jpeg...\n",
            "Copying gs://github-repo/rag/intro_multimodal_rag/images/alphafold_research_paper.pdf_image_3_7_228.jpeg...\n",
            "Copying gs://github-repo/rag/intro_multimodal_rag/images/alphafold_research_paper.pdf_image_5_0_299.jpeg...\n",
            "Copying gs://github-repo/rag/intro_multimodal_rag/images/alphafold_research_paper.pdf_image_3_8_230.jpeg...\n",
            "Copying gs://github-repo/rag/intro_multimodal_rag/images/alphafold_research_paper.pdf_image_3_6_226.jpeg...\n",
            "Copying gs://github-repo/rag/intro_multimodal_rag/images/alphafold_research_paper.pdf_image_5_1_301.jpeg...\n",
            "Copying gs://github-repo/rag/intro_multimodal_rag/images/alphafold_research_paper.pdf_image_5_2_297.jpeg...\n",
            "Copying gs://github-repo/rag/intro_multimodal_rag/images/alphafold_research_paper.pdf_image_5_3_340.jpeg...\n",
            "Copying gs://github-repo/rag/intro_multimodal_rag/images/alphafold_research_paper.pdf_image_5_4_352.jpeg...\n",
            "Copying gs://github-repo/rag/intro_multimodal_rag/images/alphafold_research_paper.pdf_image_5_5_353.jpeg...\n",
            "Copying gs://github-repo/rag/intro_multimodal_rag/images/gemini_v1_5_report_technical.pdf_image_0_0_1910.jpeg...\n",
            "Copying gs://github-repo/rag/intro_multimodal_rag/images/gemini_v1_5_report_technical.pdf_image_24_0_488.jpeg...\n",
            "Copying gs://github-repo/rag/intro_multimodal_rag/images/gemini_v1_5_report_technical.pdf_image_44_0_606.jpeg...\n",
            "Copying gs://github-repo/rag/intro_multimodal_rag/images/gemini_v1_5_report_technical.pdf_image_5_0_148.jpeg...\n",
            "Copying gs://github-repo/rag/intro_multimodal_rag/images/gemini_v1_5_report_technical.pdf_image_4_1_143.jpeg...\n",
            "Copying gs://github-repo/rag/intro_multimodal_rag/images/gemini_v1_5_report_technical.pdf_image_4_0_142.jpeg...\n",
            "Copying gs://github-repo/rag/intro_multimodal_rag/images/gemini_v1_5_report_technical.pdf_image_5_1_149.jpeg...\n",
            "Copying gs://github-repo/rag/intro_multimodal_rag/images/gemma_technical_paper.pdf_image_0_0_153.jpeg...\n",
            "Copying gs://github-repo/rag/intro_multimodal_rag/images/google-10k-sample-part1.pdf_image_1_0_11.jpeg...\n",
            "Copying gs://github-repo/rag/intro_multimodal_rag/images/google-10k-sample-part1.pdf_image_2_0_15.jpeg...\n",
            "Copying gs://github-repo/rag/intro_multimodal_rag/images/google-10k-sample-part1.pdf_image_3_0_18.jpeg...\n",
            "Copying gs://github-repo/rag/intro_multimodal_rag/images/google-10k-sample-part1.pdf_image_4_0_21.jpeg...\n",
            "Copying gs://github-repo/rag/intro_multimodal_rag/images/google-10k-sample-part2.pdf_image_0_0_6.jpeg...\n",
            "Copying gs://github-repo/rag/intro_multimodal_rag/images/google-10k-sample-part2.pdf_image_0_1_8.jpeg...\n",
            "Copying gs://github-repo/rag/intro_multimodal_rag/images/google-10k-sample-part2.pdf_image_1_0_13.jpeg...\n",
            "Copying gs://github-repo/rag/intro_multimodal_rag/images/google-10k-sample-part2.pdf_image_3_0_19.jpeg...\n",
            "Copying gs://github-repo/rag/intro_multimodal_rag/images/google-10k-sample-part2.pdf_image_4_0_22.jpeg...\n",
            "Copying gs://github-repo/rag/intro_multimodal_rag/images/google-10k-sample-part2.pdf_image_4_1_23.jpeg...\n",
            "Copying gs://github-repo/rag/intro_multimodal_rag/images/google-10k-sample-part2.pdf_image_5_0_26.jpeg...\n",
            "Copying gs://github-repo/rag/intro_multimodal_rag/images/med_gemini.pdf_image_0_0_46.jpeg...\n",
            "Copying gs://github-repo/rag/intro_multimodal_rag/images/med_gemini.pdf_image_15_0_464.jpeg...\n",
            "Copying gs://github-repo/rag/intro_multimodal_rag/images/med_gemini.pdf_image_0_1_48.jpeg...\n",
            "Copying gs://github-repo/rag/intro_multimodal_rag/images/med_gemini.pdf_image_15_1_465.jpeg...\n",
            "Copying gs://github-repo/rag/intro_multimodal_rag/images/med_gemini.pdf_image_16_1_481.jpeg...\n",
            "Copying gs://github-repo/rag/intro_multimodal_rag/images/med_gemini.pdf_image_16_0_480.jpeg...\n",
            "Copying gs://github-repo/rag/intro_multimodal_rag/images/med_gemini.pdf_image_18_0_573.jpeg...\n",
            "Copying gs://github-repo/rag/intro_multimodal_rag/images/med_gemini.pdf_image_18_1_575.jpeg...\n",
            "Copying gs://github-repo/rag/intro_multimodal_rag/images/med_gemini.pdf_image_18_2_576.jpeg...\n",
            "Copying gs://github-repo/rag/intro_multimodal_rag/images/med_gemini.pdf_image_18_3_578.jpeg...\n",
            "Copying gs://github-repo/rag/intro_multimodal_rag/images/med_gemini.pdf_image_19_0_613.jpeg...\n",
            "Copying gs://github-repo/rag/intro_multimodal_rag/images/med_gemini.pdf_image_19_1_615.jpeg...\n",
            "Copying gs://github-repo/rag/intro_multimodal_rag/images/med_gemini.pdf_image_19_2_617.jpeg...\n",
            "Copying gs://github-repo/rag/intro_multimodal_rag/images/med_gemini.pdf_image_19_3_618.jpeg...\n",
            "Copying gs://github-repo/rag/intro_multimodal_rag/images/med_gemini.pdf_image_1_0_73.jpeg...\n",
            "Copying gs://github-repo/rag/intro_multimodal_rag/images/med_gemini.pdf_image_1_1_75.jpeg...\n",
            "Copying gs://github-repo/rag/intro_multimodal_rag/images/med_gemini.pdf_image_1_3_79.jpeg...\n",
            "Copying gs://github-repo/rag/intro_multimodal_rag/images/med_gemini.pdf_image_1_2_77.jpeg...\n",
            "Copying gs://github-repo/rag/intro_multimodal_rag/images/med_gemini.pdf_image_1_4_81.jpeg...\n",
            "Copying gs://github-repo/rag/intro_multimodal_rag/images/med_gemini.pdf_image_1_5_83.jpeg...\n",
            "Copying gs://github-repo/rag/intro_multimodal_rag/images/med_gemini.pdf_image_1_6_84.jpeg...\n",
            "Copying gs://github-repo/rag/intro_multimodal_rag/images/med_gemini.pdf_image_21_0_681.jpeg...\n",
            "Copying gs://github-repo/rag/intro_multimodal_rag/images/med_gemini.pdf_image_1_7_86.jpeg...\n",
            "Copying gs://github-repo/rag/intro_multimodal_rag/images/med_gemini.pdf_image_23_0_726.jpeg...\n",
            "Copying gs://github-repo/rag/intro_multimodal_rag/images/med_gemini.pdf_image_23_1_727.jpeg...\n",
            "Copying gs://github-repo/rag/intro_multimodal_rag/images/med_gemini.pdf_image_23_2_728.jpeg...\n",
            "Copying gs://github-repo/rag/intro_multimodal_rag/images/med_gemini.pdf_image_24_2_780.jpeg...\n",
            "Copying gs://github-repo/rag/intro_multimodal_rag/images/med_gemini.pdf_image_24_1_754.jpeg...\n",
            "Copying gs://github-repo/rag/intro_multimodal_rag/images/med_gemini.pdf_image_24_0_752.jpeg...\n",
            "Copying gs://github-repo/rag/intro_multimodal_rag/images/med_gemini.pdf_image_24_3_782.jpeg...\n",
            "Copying gs://github-repo/rag/intro_multimodal_rag/images/med_gemini.pdf_image_24_4_783.jpeg...\n",
            "Copying gs://github-repo/rag/intro_multimodal_rag/images/med_gemini.pdf_image_25_0_812.jpeg...\n",
            "Copying gs://github-repo/rag/intro_multimodal_rag/images/med_gemini.pdf_image_25_1_813.jpeg...\n",
            "Copying gs://github-repo/rag/intro_multimodal_rag/images/med_gemini.pdf_image_25_2_815.jpeg...\n",
            "Copying gs://github-repo/rag/intro_multimodal_rag/images/med_gemini.pdf_image_25_3_817.jpeg...\n",
            "Copying gs://github-repo/rag/intro_multimodal_rag/images/med_gemini.pdf_image_25_4_819.jpeg...\n",
            "Copying gs://github-repo/rag/intro_multimodal_rag/images/med_gemini.pdf_image_25_5_820.jpeg...\n",
            "Copying gs://github-repo/rag/intro_multimodal_rag/images/med_gemini.pdf_image_26_1_851.jpeg...\n",
            "Copying gs://github-repo/rag/intro_multimodal_rag/images/med_gemini.pdf_image_26_0_849.jpeg...\n",
            "Copying gs://github-repo/rag/intro_multimodal_rag/images/med_gemini.pdf_image_26_2_853.jpeg...\n",
            "Copying gs://github-repo/rag/intro_multimodal_rag/images/med_gemini.pdf_image_26_3_855.jpeg...\n",
            "Copying gs://github-repo/rag/intro_multimodal_rag/images/med_gemini.pdf_image_27_0_890.jpeg...\n",
            "Copying gs://github-repo/rag/intro_multimodal_rag/images/med_gemini.pdf_image_27_10_903.jpeg...\n",
            "Copying gs://github-repo/rag/intro_multimodal_rag/images/med_gemini.pdf_image_27_11_905.jpeg...\n",
            "Copying gs://github-repo/rag/intro_multimodal_rag/images/med_gemini.pdf_image_27_12_907.jpeg...\n",
            "Copying gs://github-repo/rag/intro_multimodal_rag/images/med_gemini.pdf_image_27_13_909.jpeg...\n",
            "Copying gs://github-repo/rag/intro_multimodal_rag/images/med_gemini.pdf_image_27_14_910.jpeg...\n",
            "Copying gs://github-repo/rag/intro_multimodal_rag/images/med_gemini.pdf_image_27_15_911.jpeg...\n",
            "Copying gs://github-repo/rag/intro_multimodal_rag/images/med_gemini.pdf_image_27_16_912.jpeg...\n",
            "Copying gs://github-repo/rag/intro_multimodal_rag/images/med_gemini.pdf_image_27_17_913.jpeg...\n",
            "Copying gs://github-repo/rag/intro_multimodal_rag/images/med_gemini.pdf_image_27_1_891.jpeg...\n",
            "Copying gs://github-repo/rag/intro_multimodal_rag/images/med_gemini.pdf_image_27_18_914.jpeg...\n",
            "Copying gs://github-repo/rag/intro_multimodal_rag/images/med_gemini.pdf_image_27_2_892.jpeg...\n",
            "Copying gs://github-repo/rag/intro_multimodal_rag/images/med_gemini.pdf_image_27_3_893.jpeg...\n",
            "Copying gs://github-repo/rag/intro_multimodal_rag/images/med_gemini.pdf_image_27_4_894.jpeg...\n",
            "Copying gs://github-repo/rag/intro_multimodal_rag/images/med_gemini.pdf_image_27_5_895.jpeg...\n",
            "Copying gs://github-repo/rag/intro_multimodal_rag/images/med_gemini.pdf_image_27_6_896.jpeg...\n",
            "Copying gs://github-repo/rag/intro_multimodal_rag/images/med_gemini.pdf_image_27_8_899.jpeg...\n",
            "Copying gs://github-repo/rag/intro_multimodal_rag/images/med_gemini.pdf_image_27_7_897.jpeg...\n",
            "Copying gs://github-repo/rag/intro_multimodal_rag/images/med_gemini.pdf_image_27_9_901.jpeg...\n",
            "Copying gs://github-repo/rag/intro_multimodal_rag/images/med_gemini.pdf_image_55_0_1493.jpeg...\n",
            "Copying gs://github-repo/rag/intro_multimodal_rag/images/med_gemini.pdf_image_55_1_1494.jpeg...\n",
            "Copying gs://github-repo/rag/intro_multimodal_rag/images/med_gemini.pdf_image_55_2_1495.jpeg...\n",
            "Copying gs://github-repo/rag/intro_multimodal_rag/images/med_gemini.pdf_image_55_3_1496.jpeg...\n",
            "Copying gs://github-repo/rag/intro_multimodal_rag/images/med_gemini.pdf_image_55_4_1497.jpeg...\n",
            "Copying gs://github-repo/rag/intro_multimodal_rag/images/med_gemini.pdf_image_55_5_1498.jpeg...\n",
            "Copying gs://github-repo/rag/intro_multimodal_rag/images/med_gemini.pdf_image_55_6_1499.jpeg...\n",
            "Copying gs://github-repo/rag/intro_multimodal_rag/images/tactic_ai_paper.pdf_image_0_0_213.jpeg...\n",
            "Copying gs://github-repo/rag/intro_multimodal_rag/images/tactic_ai_paper.pdf_image_0_1_214.jpeg...\n",
            "Copying gs://github-repo/rag/intro_multimodal_rag/images/tactic_ai_paper.pdf_image_1_0_249.jpeg...\n",
            "Copying gs://github-repo/rag/intro_multimodal_rag/images/tactic_ai_paper.pdf_image_1_10_262.jpeg...\n",
            "Copying gs://github-repo/rag/intro_multimodal_rag/images/tactic_ai_paper.pdf_image_1_12_257.jpeg...\n",
            "Copying gs://github-repo/rag/intro_multimodal_rag/images/tactic_ai_paper.pdf_image_1_11_265.jpeg...\n",
            "Copying gs://github-repo/rag/intro_multimodal_rag/images/tactic_ai_paper.pdf_image_1_1_252.jpeg...\n",
            "Copying gs://github-repo/rag/intro_multimodal_rag/images/tactic_ai_paper.pdf_image_1_2_249.jpeg...\n",
            "Copying gs://github-repo/rag/intro_multimodal_rag/images/tactic_ai_paper.pdf_image_1_3_255.jpeg...\n",
            "Copying gs://github-repo/rag/intro_multimodal_rag/images/tactic_ai_paper.pdf_image_1_4_249.jpeg...\n",
            "Copying gs://github-repo/rag/intro_multimodal_rag/images/tactic_ai_paper.pdf_image_1_5_255.jpeg...\n",
            "Copying gs://github-repo/rag/intro_multimodal_rag/images/tactic_ai_paper.pdf_image_1_7_257.jpeg...\n",
            "Copying gs://github-repo/rag/intro_multimodal_rag/images/tactic_ai_paper.pdf_image_1_6_256.jpeg...\n",
            "Copying gs://github-repo/rag/intro_multimodal_rag/images/tactic_ai_paper.pdf_image_1_8_260.jpeg...\n",
            "Copying gs://github-repo/rag/intro_multimodal_rag/images/tactic_ai_paper.pdf_image_1_9_261.jpeg...\n",
            "Copying gs://github-repo/rag/intro_multimodal_rag/images/tactic_ai_paper.pdf_image_4_0_351.jpeg...\n",
            "Copying gs://github-repo/rag/intro_multimodal_rag/images/tactic_ai_paper.pdf_image_4_1_352.jpeg...\n",
            "Copying gs://github-repo/rag/intro_multimodal_rag/images/tactic_ai_paper.pdf_image_4_2_355.jpeg...\n",
            "Copying gs://github-repo/rag/intro_multimodal_rag/images/tactic_ai_paper.pdf_image_4_3_356.jpeg...\n",
            "Copying gs://github-repo/rag/intro_multimodal_rag/images/tactic_ai_paper.pdf_image_4_4_359.jpeg...\n",
            "Copying gs://github-repo/rag/intro_multimodal_rag/images/tactic_ai_paper.pdf_image_4_5_360.jpeg...\n",
            "Copying gs://github-repo/rag/intro_multimodal_rag/images/tactic_ai_paper.pdf_image_4_6_361.jpeg...\n",
            "Copying gs://github-repo/rag/intro_multimodal_rag/images/tactic_ai_paper.pdf_image_4_7_364.jpeg...\n",
            "Copying gs://github-repo/rag/intro_multimodal_rag/images/tactic_ai_paper.pdf_image_4_8_367.jpeg...\n",
            "Copying gs://github-repo/rag/intro_multimodal_rag/images/the-ethics-of-advanced-ai-assistants-2024-i.pdf_image_0_0_9367.jpeg...\n",
            "Copying gs://github-repo/rag/intro_multimodal_rag/images/tactic_ai_paper.pdf_image_4_9_370.jpeg...\n",
            "Copying gs://github-repo/rag/intro_multimodal_rag/images/the-ethics-of-advanced-ai-assistants-2024-i.pdf_image_25_0_58.jpeg...\n",
            "Copying gs://github-repo/rag/intro_multimodal_rag/images/the-ethics-of-advanced-ai-assistants-2024-i.pdf_image_25_1_50.jpeg...\n",
            "Copying gs://github-repo/rag/intro_multimodal_rag/images/the-ethics-of-advanced-ai-assistants-2024-i.pdf_image_25_2_53.jpeg...\n",
            "Copying gs://github-repo/rag/intro_multimodal_rag/images/the-ethics-of-advanced-ai-assistants-2024-i.pdf_image_25_3_54.jpeg...\n",
            "Copying gs://github-repo/rag/intro_multimodal_rag/images/the-ethics-of-advanced-ai-assistants-2024-i.pdf_image_25_4_55.jpeg...\n",
            "Copying gs://github-repo/rag/intro_multimodal_rag/images/the-ethics-of-advanced-ai-assistants-2024-i.pdf_image_25_5_56.jpeg...\n",
            "Copying gs://github-repo/rag/intro_multimodal_rag/images/the-ethics-of-advanced-ai-assistants-2024-i.pdf_image_25_6_57.jpeg...\n",
            "Copying gs://github-repo/rag/intro_multimodal_rag/intro_multimodal_rag_old_version/data/google-10k-sample-part1.pdf...\n",
            "Copying gs://github-repo/rag/intro_multimodal_rag/intro_multimodal_rag_old_version/class_a_share.png...\n",
            "Copying gs://github-repo/rag/intro_multimodal_rag/intro_multimodal_rag_old_version/data/google-10k-sample-part2.pdf...\n",
            "Copying gs://github-repo/rag/intro_multimodal_rag/intro_multimodal_rag_old_version/intro_multimodal_rag_utils.py...\n",
            "Copying gs://github-repo/rag/intro_multimodal_rag/intro_multimodal_rag_old_version/tac_table_revenue.png...\n",
            "Copying gs://github-repo/rag/intro_multimodal_rag/intro_multimodal_rag_v2/data/Google Cloud TPU blog.pdf...\n",
            "Copying gs://github-repo/rag/intro_multimodal_rag/intro_multimodal_rag_v2/data/gemma_technical_paper.pdf...\n",
            "Copying gs://github-repo/rag/intro_multimodal_rag/intro_multimodal_rag_v2/data/gemini_v1_5_report_technical.pdf...\n",
            "Copying gs://github-repo/rag/intro_multimodal_rag/intro_multimodal_rag_v2/data/med_gemini.pdf...\n",
            "Copying gs://github-repo/rag/intro_multimodal_rag/intro_multimodal_rag_v2/images/Google Cloud TPU blog.pdf_image_11_1_63.jpeg...\n",
            "Copying gs://github-repo/rag/intro_multimodal_rag/intro_multimodal_rag_v2/images/Google Cloud TPU blog.pdf_image_11_0_62.jpeg...\n",
            "Copying gs://github-repo/rag/intro_multimodal_rag/intro_multimodal_rag_v2/images/Google Cloud TPU blog.pdf_image_12_0_66.jpeg...\n",
            "Copying gs://github-repo/rag/intro_multimodal_rag/intro_multimodal_rag_v2/images/Google Cloud TPU blog.pdf_image_13_0_69.jpeg...\n",
            "Copying gs://github-repo/rag/intro_multimodal_rag/intro_multimodal_rag_v2/images/Google Cloud TPU blog.pdf_image_14_0_72.jpeg...\n",
            "Copying gs://github-repo/rag/intro_multimodal_rag/intro_multimodal_rag_v2/images/Google Cloud TPU blog.pdf_image_15_0_75.jpeg...\n",
            "Copying gs://github-repo/rag/intro_multimodal_rag/intro_multimodal_rag_v2/images/Google Cloud TPU blog.pdf_image_1_0_10.jpeg...\n",
            "Copying gs://github-repo/rag/intro_multimodal_rag/intro_multimodal_rag_v2/images/Google Cloud TPU blog.pdf_image_3_0_18.jpeg...\n",
            "Copying gs://github-repo/rag/intro_multimodal_rag/intro_multimodal_rag_v2/images/gemini_v1_5_report_technical.pdf_image_0_0_1910.jpeg...\n",
            "Copying gs://github-repo/rag/intro_multimodal_rag/intro_multimodal_rag_v2/images/gemini_v1_5_report_technical.pdf_image_24_0_488.jpeg...\n",
            "Copying gs://github-repo/rag/intro_multimodal_rag/intro_multimodal_rag_v2/images/Google Cloud TPU blog.pdf_image_6_0_35.jpeg...\n",
            "Copying gs://github-repo/rag/intro_multimodal_rag/intro_multimodal_rag_v2/images/gemini_v1_5_report_technical.pdf_image_44_0_606.jpeg...\n",
            "Copying gs://github-repo/rag/intro_multimodal_rag/intro_multimodal_rag_v2/images/gemini_v1_5_report_technical.pdf_image_4_0_142.jpeg...\n",
            "Copying gs://github-repo/rag/intro_multimodal_rag/intro_multimodal_rag_v2/images/gemini_v1_5_report_technical.pdf_image_4_1_143.jpeg...\n",
            "Copying gs://github-repo/rag/intro_multimodal_rag/intro_multimodal_rag_v2/images/gemini_v1_5_report_technical.pdf_image_5_0_148.jpeg...\n",
            "Copying gs://github-repo/rag/intro_multimodal_rag/intro_multimodal_rag_v2/images/gemini_v1_5_report_technical.pdf_image_5_1_149.jpeg...\n",
            "Copying gs://github-repo/rag/intro_multimodal_rag/intro_multimodal_rag_v2/images/gemma_technical_paper.pdf_image_0_0_153.jpeg...\n",
            "Copying gs://github-repo/rag/intro_multimodal_rag/intro_multimodal_rag_v2/images/med_gemini.pdf_image_0_0_46.jpeg...\n",
            "Copying gs://github-repo/rag/intro_multimodal_rag/intro_multimodal_rag_v2/images/med_gemini.pdf_image_0_1_48.jpeg...\n",
            "Copying gs://github-repo/rag/intro_multimodal_rag/intro_multimodal_rag_v2/images/med_gemini.pdf_image_15_0_464.jpeg...\n",
            "Copying gs://github-repo/rag/intro_multimodal_rag/intro_multimodal_rag_v2/images/med_gemini.pdf_image_16_0_480.jpeg...\n",
            "Copying gs://github-repo/rag/intro_multimodal_rag/intro_multimodal_rag_v2/images/med_gemini.pdf_image_15_1_465.jpeg...\n",
            "Copying gs://github-repo/rag/intro_multimodal_rag/intro_multimodal_rag_v2/images/med_gemini.pdf_image_16_1_481.jpeg...\n",
            "Copying gs://github-repo/rag/intro_multimodal_rag/intro_multimodal_rag_v2/images/med_gemini.pdf_image_18_0_573.jpeg...\n",
            "Copying gs://github-repo/rag/intro_multimodal_rag/intro_multimodal_rag_v2/images/med_gemini.pdf_image_18_1_575.jpeg...\n",
            "Copying gs://github-repo/rag/intro_multimodal_rag/intro_multimodal_rag_v2/images/med_gemini.pdf_image_18_2_576.jpeg...\n",
            "Copying gs://github-repo/rag/intro_multimodal_rag/intro_multimodal_rag_v2/images/med_gemini.pdf_image_18_3_578.jpeg...\n",
            "Copying gs://github-repo/rag/intro_multimodal_rag/intro_multimodal_rag_v2/images/med_gemini.pdf_image_19_0_613.jpeg...\n",
            "Copying gs://github-repo/rag/intro_multimodal_rag/intro_multimodal_rag_v2/images/med_gemini.pdf_image_19_2_617.jpeg...\n",
            "Copying gs://github-repo/rag/intro_multimodal_rag/intro_multimodal_rag_v2/images/med_gemini.pdf_image_19_1_615.jpeg...\n",
            "Copying gs://github-repo/rag/intro_multimodal_rag/intro_multimodal_rag_v2/images/med_gemini.pdf_image_19_3_618.jpeg...\n",
            "Copying gs://github-repo/rag/intro_multimodal_rag/intro_multimodal_rag_v2/images/med_gemini.pdf_image_1_0_73.jpeg...\n",
            "Copying gs://github-repo/rag/intro_multimodal_rag/intro_multimodal_rag_v2/images/med_gemini.pdf_image_1_1_75.jpeg...\n",
            "Copying gs://github-repo/rag/intro_multimodal_rag/intro_multimodal_rag_v2/images/med_gemini.pdf_image_1_2_77.jpeg...\n",
            "Copying gs://github-repo/rag/intro_multimodal_rag/intro_multimodal_rag_v2/images/med_gemini.pdf_image_1_3_79.jpeg...\n",
            "Copying gs://github-repo/rag/intro_multimodal_rag/intro_multimodal_rag_v2/images/med_gemini.pdf_image_1_5_83.jpeg...\n",
            "Copying gs://github-repo/rag/intro_multimodal_rag/intro_multimodal_rag_v2/images/med_gemini.pdf_image_1_4_81.jpeg...\n",
            "Copying gs://github-repo/rag/intro_multimodal_rag/intro_multimodal_rag_v2/images/med_gemini.pdf_image_1_6_84.jpeg...\n",
            "Copying gs://github-repo/rag/intro_multimodal_rag/intro_multimodal_rag_v2/images/med_gemini.pdf_image_1_7_86.jpeg...\n",
            "Copying gs://github-repo/rag/intro_multimodal_rag/intro_multimodal_rag_v2/images/med_gemini.pdf_image_21_0_681.jpeg...\n",
            "Copying gs://github-repo/rag/intro_multimodal_rag/intro_multimodal_rag_v2/images/med_gemini.pdf_image_23_0_726.jpeg...\n",
            "Copying gs://github-repo/rag/intro_multimodal_rag/intro_multimodal_rag_v2/images/med_gemini.pdf_image_23_1_727.jpeg...\n",
            "Copying gs://github-repo/rag/intro_multimodal_rag/intro_multimodal_rag_v2/images/med_gemini.pdf_image_23_2_728.jpeg...\n",
            "Copying gs://github-repo/rag/intro_multimodal_rag/intro_multimodal_rag_v2/images/med_gemini.pdf_image_24_0_752.jpeg...\n",
            "Copying gs://github-repo/rag/intro_multimodal_rag/intro_multimodal_rag_v2/images/med_gemini.pdf_image_24_1_754.jpeg...\n",
            "Copying gs://github-repo/rag/intro_multimodal_rag/intro_multimodal_rag_v2/images/med_gemini.pdf_image_24_2_780.jpeg...\n",
            "Copying gs://github-repo/rag/intro_multimodal_rag/intro_multimodal_rag_v2/images/med_gemini.pdf_image_24_3_782.jpeg...\n",
            "Copying gs://github-repo/rag/intro_multimodal_rag/intro_multimodal_rag_v2/images/med_gemini.pdf_image_24_4_783.jpeg...\n",
            "Copying gs://github-repo/rag/intro_multimodal_rag/intro_multimodal_rag_v2/images/med_gemini.pdf_image_25_0_812.jpeg...\n",
            "Copying gs://github-repo/rag/intro_multimodal_rag/intro_multimodal_rag_v2/images/med_gemini.pdf_image_25_1_813.jpeg...\n",
            "Copying gs://github-repo/rag/intro_multimodal_rag/intro_multimodal_rag_v2/images/med_gemini.pdf_image_25_3_817.jpeg...\n",
            "Copying gs://github-repo/rag/intro_multimodal_rag/intro_multimodal_rag_v2/images/med_gemini.pdf_image_25_2_815.jpeg...\n",
            "Copying gs://github-repo/rag/intro_multimodal_rag/intro_multimodal_rag_v2/images/med_gemini.pdf_image_25_4_819.jpeg...\n",
            "Copying gs://github-repo/rag/intro_multimodal_rag/intro_multimodal_rag_v2/images/med_gemini.pdf_image_25_5_820.jpeg...\n",
            "Copying gs://github-repo/rag/intro_multimodal_rag/intro_multimodal_rag_v2/images/med_gemini.pdf_image_26_0_849.jpeg...\n",
            "Copying gs://github-repo/rag/intro_multimodal_rag/intro_multimodal_rag_v2/images/med_gemini.pdf_image_26_1_851.jpeg...\n",
            "Copying gs://github-repo/rag/intro_multimodal_rag/intro_multimodal_rag_v2/images/med_gemini.pdf_image_26_2_853.jpeg...\n",
            "Copying gs://github-repo/rag/intro_multimodal_rag/intro_multimodal_rag_v2/images/med_gemini.pdf_image_26_3_855.jpeg...\n",
            "Copying gs://github-repo/rag/intro_multimodal_rag/intro_multimodal_rag_v2/images/med_gemini.pdf_image_27_0_890.jpeg...\n",
            "Copying gs://github-repo/rag/intro_multimodal_rag/intro_multimodal_rag_v2/images/med_gemini.pdf_image_27_10_903.jpeg...\n",
            "Copying gs://github-repo/rag/intro_multimodal_rag/intro_multimodal_rag_v2/images/med_gemini.pdf_image_27_11_905.jpeg...\n",
            "Copying gs://github-repo/rag/intro_multimodal_rag/intro_multimodal_rag_v2/images/med_gemini.pdf_image_27_12_907.jpeg...\n",
            "Copying gs://github-repo/rag/intro_multimodal_rag/intro_multimodal_rag_v2/images/med_gemini.pdf_image_27_14_910.jpeg...\n",
            "Copying gs://github-repo/rag/intro_multimodal_rag/intro_multimodal_rag_v2/images/med_gemini.pdf_image_27_13_909.jpeg...\n",
            "Copying gs://github-repo/rag/intro_multimodal_rag/intro_multimodal_rag_v2/images/med_gemini.pdf_image_27_15_911.jpeg...\n",
            "Copying gs://github-repo/rag/intro_multimodal_rag/intro_multimodal_rag_v2/images/med_gemini.pdf_image_27_16_912.jpeg...\n",
            "Copying gs://github-repo/rag/intro_multimodal_rag/intro_multimodal_rag_v2/images/med_gemini.pdf_image_27_17_913.jpeg...\n",
            "Copying gs://github-repo/rag/intro_multimodal_rag/intro_multimodal_rag_v2/images/med_gemini.pdf_image_27_18_914.jpeg...\n",
            "Copying gs://github-repo/rag/intro_multimodal_rag/intro_multimodal_rag_v2/images/med_gemini.pdf_image_27_1_891.jpeg...\n",
            "Copying gs://github-repo/rag/intro_multimodal_rag/intro_multimodal_rag_v2/images/med_gemini.pdf_image_27_2_892.jpeg...\n",
            "Copying gs://github-repo/rag/intro_multimodal_rag/intro_multimodal_rag_v2/images/med_gemini.pdf_image_27_3_893.jpeg...\n",
            "Copying gs://github-repo/rag/intro_multimodal_rag/intro_multimodal_rag_v2/images/med_gemini.pdf_image_27_4_894.jpeg...\n",
            "Copying gs://github-repo/rag/intro_multimodal_rag/intro_multimodal_rag_v2/images/med_gemini.pdf_image_27_5_895.jpeg...\n",
            "Copying gs://github-repo/rag/intro_multimodal_rag/intro_multimodal_rag_v2/images/med_gemini.pdf_image_27_6_896.jpeg...\n",
            "Copying gs://github-repo/rag/intro_multimodal_rag/intro_multimodal_rag_v2/images/med_gemini.pdf_image_27_7_897.jpeg...\n",
            "Copying gs://github-repo/rag/intro_multimodal_rag/intro_multimodal_rag_v2/images/med_gemini.pdf_image_27_8_899.jpeg...\n",
            "Copying gs://github-repo/rag/intro_multimodal_rag/intro_multimodal_rag_v2/images/med_gemini.pdf_image_27_9_901.jpeg...\n",
            "Copying gs://github-repo/rag/intro_multimodal_rag/intro_multimodal_rag_v2/images/med_gemini.pdf_image_55_0_1493.jpeg...\n",
            "Copying gs://github-repo/rag/intro_multimodal_rag/intro_multimodal_rag_v2/images/med_gemini.pdf_image_55_1_1494.jpeg...\n",
            "Copying gs://github-repo/rag/intro_multimodal_rag/intro_multimodal_rag_v2/images/med_gemini.pdf_image_55_2_1495.jpeg...\n",
            "Copying gs://github-repo/rag/intro_multimodal_rag/intro_multimodal_rag_v2/images/med_gemini.pdf_image_55_3_1496.jpeg...\n",
            "Copying gs://github-repo/rag/intro_multimodal_rag/intro_multimodal_rag_v2/images/med_gemini.pdf_image_55_4_1497.jpeg...\n",
            "Copying gs://github-repo/rag/intro_multimodal_rag/intro_multimodal_rag_v2/images/med_gemini.pdf_image_55_5_1498.jpeg...\n",
            "Copying gs://github-repo/rag/intro_multimodal_rag/intro_multimodal_rag_v2/images/med_gemini.pdf_image_55_6_1499.jpeg...\n",
            "Copying gs://github-repo/rag/intro_multimodal_rag/intro_multimodal_rag_v2/mrag_metadata.pkl...\n",
            "Copying gs://github-repo/rag/intro_multimodal_rag/intro_multimodal_rag_v2/multimodal_qa_with_rag_utils.py...\n",
            "Copying gs://github-repo/rag/intro_multimodal_rag/mrag_metadata.pkl...\n",
            "Copying gs://github-repo/rag/intro_multimodal_rag/temp/consumer-checkpoint-december-2023.pdf_selected_pages_1_2024-05-24-12:11:36.344.pdf...\n",
            "Copying gs://github-repo/rag/intro_multimodal_rag/temp/consumer-checkpoint-december-2023.pdf_selected_pages_1_2024-05-24-12:13:57.983.pdf...\n",
            "Copying gs://github-repo/rag/intro_multimodal_rag/temp/consumer-checkpoint-december-2023.pdf_selected_pages_1_2024-05-24-12:16:00.276.pdf...\n",
            "Copying gs://github-repo/rag/intro_multimodal_rag/temp/consumer-checkpoint-december-2023.pdf_selected_pages_1_2024-05-24-12:19:02.226.pdf...\n",
            "Copying gs://github-repo/rag/intro_multimodal_rag/temp/consumer-checkpoint-december-2023.pdf_selected_pages_1_2024-05-24-12:23:03.017.pdf...\n",
            "Copying gs://github-repo/rag/intro_multimodal_rag/temp/consumer-checkpoint-december-2023.pdf_selected_pages_1_2024-05-24-12:24:07.254.pdf...\n",
            "Copying gs://github-repo/rag/intro_multimodal_rag/temp/consumer-checkpoint-december-2023.pdf_selected_pages_1_2024-05-24-12:37:44.947.pdf...\n",
            "Copying gs://github-repo/rag/intro_multimodal_rag/temp/consumer-checkpoint-december-2023.pdf_selected_pages_1_2024-05-24-12:38:39.754.pdf...\n",
            "Copying gs://github-repo/rag/intro_multimodal_rag/temp/consumer-checkpoint-december-2023.pdf_selected_pages_2_2024-05-24-12:11:35.193.pdf...\n",
            "Copying gs://github-repo/rag/intro_multimodal_rag/temp/consumer-checkpoint-december-2023.pdf_selected_pages_2_2024-05-24-12:13:56.767.pdf...\n",
            "Copying gs://github-repo/rag/intro_multimodal_rag/temp/consumer-checkpoint-december-2023.pdf_selected_pages_2_2024-05-24-12:15:59.034.pdf...\n",
            "Copying gs://github-repo/rag/intro_multimodal_rag/temp/consumer-checkpoint-december-2023.pdf_selected_pages_2_2024-05-24-12:19:00.984.pdf...\n",
            "Copying gs://github-repo/rag/intro_multimodal_rag/temp/consumer-checkpoint-december-2023.pdf_selected_pages_2_2024-05-24-12:22:22.633.pdf...\n",
            "Copying gs://github-repo/rag/intro_multimodal_rag/temp/consumer-checkpoint-december-2023.pdf_selected_pages_2_2024-05-24-12:24:06.219.pdf...\n",
            "Copying gs://github-repo/rag/intro_multimodal_rag/temp/consumer-checkpoint-december-2023.pdf_selected_pages_2_2024-05-24-12:23:01.976.pdf...\n",
            "Copying gs://github-repo/rag/intro_multimodal_rag/temp/consumer-checkpoint-december-2023.pdf_selected_pages_2_2024-05-24-12:36:32.622.pdf...\n",
            "Copying gs://github-repo/rag/intro_multimodal_rag/temp/consumer-checkpoint-december-2023.pdf_selected_pages_2_2024-05-24-12:37:43.740.pdf...\n",
            "Copying gs://github-repo/rag/intro_multimodal_rag/temp/consumer-checkpoint-december-2023.pdf_selected_pages_2_2024-05-24-12:38:38.647.pdf...\n",
            "Copying gs://github-repo/rag/intro_multimodal_rag/temp/consumer-checkpoint-december-2023.pdf_selected_pages_3_2024-05-24-12:11:35.791.pdf...\n",
            "Copying gs://github-repo/rag/intro_multimodal_rag/temp/consumer-checkpoint-december-2023.pdf_selected_pages_3_2024-05-24-12:15:59.583.pdf...\n",
            "Copying gs://github-repo/rag/intro_multimodal_rag/temp/consumer-checkpoint-december-2023.pdf_selected_pages_3_2024-05-24-12:13:57.356.pdf...\n",
            "Copying gs://github-repo/rag/intro_multimodal_rag/temp/consumer-checkpoint-december-2023.pdf_selected_pages_3_2024-05-24-12:19:01.508.pdf...\n",
            "Copying gs://github-repo/rag/intro_multimodal_rag/temp/consumer-checkpoint-december-2023.pdf_selected_pages_3_2024-05-24-12:23:02.490.pdf...\n",
            "Copying gs://github-repo/rag/intro_multimodal_rag/temp/consumer-checkpoint-december-2023.pdf_selected_pages_3_2024-05-24-12:38:39.192.pdf...\n",
            "Copying gs://github-repo/rag/intro_multimodal_rag/temp/consumer-checkpoint-december-2023.pdf_selected_pages_3_2024-05-24-12:37:44.314.pdf...\n",
            "Copying gs://github-repo/rag/intro_multimodal_rag/temp/consumer-checkpoint-december-2023.pdf_selected_pages_3_2024-05-24-12:24:06.736.pdf...\n",
            "Copying gs://github-repo/rag/intro_multimodal_rag/temp/consumer-checkpoint-december-2023.pdf_selected_pages_4_2024-05-24-12:11:39.177.pdf...\n",
            "Copying gs://github-repo/rag/intro_multimodal_rag/temp/consumer-checkpoint-december-2023.pdf_selected_pages_4_2024-05-24-12:14:01.391.pdf...\n",
            "Copying gs://github-repo/rag/intro_multimodal_rag/temp/consumer-checkpoint-december-2023.pdf_selected_pages_4_2024-05-24-12:16:03.493.pdf...\n",
            "Copying gs://github-repo/rag/intro_multimodal_rag/temp/consumer-checkpoint-december-2023.pdf_selected_pages_4_2024-05-24-12:19:06.162.pdf...\n",
            "Copying gs://github-repo/rag/intro_multimodal_rag/temp/consumer-checkpoint-december-2023.pdf_selected_pages_4_2024-05-24-12:21:49.312.pdf...\n",
            "Copying gs://github-repo/rag/intro_multimodal_rag/temp/consumer-checkpoint-december-2023.pdf_selected_pages_4_2024-05-24-12:23:05.663.pdf...\n",
            "Copying gs://github-repo/rag/intro_multimodal_rag/temp/consumer-checkpoint-december-2023.pdf_selected_pages_4_2024-05-24-12:24:10.197.pdf...\n",
            "Copying gs://github-repo/rag/intro_multimodal_rag/temp/consumer-checkpoint-december-2023.pdf_selected_pages_4_2024-05-24-12:34:57.750.pdf...\n",
            "Copying gs://github-repo/rag/intro_multimodal_rag/temp/consumer-checkpoint-december-2023.pdf_selected_pages_4_2024-05-24-12:37:47.776.pdf...\n",
            "Copying gs://github-repo/rag/intro_multimodal_rag/temp/consumer-checkpoint-december-2023.pdf_selected_pages_5_2024-05-24-12:22:23.129.pdf...\n",
            "Copying gs://github-repo/rag/intro_multimodal_rag/temp/consumer-checkpoint-december-2023.pdf_selected_pages_5_2024-05-24-12:36:33.219.pdf...\n",
            "Copying gs://github-repo/rag/intro_multimodal_rag/temp/consumer-checkpoint-december-2023.pdf_selected_pages_6_2024-05-24-12:11:39.672.pdf...\n",
            "Copying gs://github-repo/rag/intro_multimodal_rag/temp/consumer-checkpoint-december-2023.pdf_selected_pages_6_2024-05-24-12:14:01.937.pdf...\n",
            "Copying gs://github-repo/rag/intro_multimodal_rag/temp/consumer-checkpoint-december-2023.pdf_selected_pages_6_2024-05-24-12:16:03.983.pdf...\n",
            "Copying gs://github-repo/rag/intro_multimodal_rag/temp/consumer-checkpoint-december-2023.pdf_selected_pages_6_2024-05-24-12:19:06.731.pdf...\n",
            "Copying gs://github-repo/rag/intro_multimodal_rag/temp/consumer-checkpoint-december-2023.pdf_selected_pages_6_2024-05-24-12:23:06.149.pdf...\n",
            "Copying gs://github-repo/rag/intro_multimodal_rag/temp/consumer-checkpoint-december-2023.pdf_selected_pages_6_2024-05-24-12:24:10.671.pdf...\n",
            "Copying gs://github-repo/rag/intro_multimodal_rag/temp/consumer-checkpoint-december-2023.pdf_selected_pages_6_2024-05-24-12:37:48.267.pdf...\n",
            "Copying gs://github-repo/rag/intro_multimodal_rag/temp/consumer-checkpoint-february-2024.pdf_selected_pages_1_2024-05-24-12:22:18.894.pdf...\n",
            "Copying gs://github-repo/rag/intro_multimodal_rag/temp/consumer-checkpoint-february-2024.pdf_selected_pages_1_2024-05-24-12:36:28.865.pdf...\n",
            "Copying gs://github-repo/rag/intro_multimodal_rag/temp/consumer-checkpoint-february-2024.pdf_selected_pages_4_2024-05-24-12:21:46.098.pdf...\n",
            "Copying gs://github-repo/rag/intro_multimodal_rag/temp/consumer-checkpoint-february-2024.pdf_selected_pages_4_2024-05-24-12:34:54.168.pdf...\n",
            "Copying gs://github-repo/rag/intro_multimodal_rag/temp/consumer-checkpoint-february-2024.pdf_selected_pages_5_2024-05-24-12:22:19.898.pdf...\n",
            "Copying gs://github-repo/rag/intro_multimodal_rag/temp/consumer-checkpoint-february-2024.pdf_selected_pages_5_2024-05-24-12:36:30.389.pdf...\n",
            "Copying gs://github-repo/rag/intro_multimodal_rag/temp/consumer-checkpoint-february-2024.pdf_selected_pages_6_2024-05-24-12:22:23.627.pdf...\n",
            "Copying gs://github-repo/rag/intro_multimodal_rag/temp/consumer-checkpoint-february-2024.pdf_selected_pages_6_2024-05-24-12:36:33.816.pdf...\n",
            "Copying gs://github-repo/rag/intro_multimodal_rag/temp/consumer-checkpoint-february-2024.pdf_selected_pages_7_2024-05-24-12:22:21.465.pdf...\n",
            "Copying gs://github-repo/rag/intro_multimodal_rag/temp/consumer-checkpoint-february-2024.pdf_selected_pages_7_2024-05-24-12:36:31.402.pdf...\n",
            "Copying gs://github-repo/rag/intro_multimodal_rag/temp/consumer-checkpoint-january-2024.pdf_selected_pages_1_2024-05-24-12:11:37.526.pdf...\n",
            "Copying gs://github-repo/rag/intro_multimodal_rag/temp/consumer-checkpoint-january-2024.pdf_selected_pages_1_2024-05-24-12:13:59.282.pdf...\n",
            "Copying gs://github-repo/rag/intro_multimodal_rag/temp/consumer-checkpoint-january-2024.pdf_selected_pages_1_2024-05-24-12:16:01.454.pdf...\n",
            "Copying gs://github-repo/rag/intro_multimodal_rag/temp/consumer-checkpoint-january-2024.pdf_selected_pages_1_2024-05-24-12:19:04.346.pdf...\n",
            "Copying gs://github-repo/rag/intro_multimodal_rag/temp/consumer-checkpoint-january-2024.pdf_selected_pages_1_2024-05-24-12:22:24.146.pdf...\n",
            "Copying gs://github-repo/rag/intro_multimodal_rag/temp/consumer-checkpoint-january-2024.pdf_selected_pages_1_2024-05-24-12:23:04.055.pdf...\n",
            "Copying gs://github-repo/rag/intro_multimodal_rag/temp/consumer-checkpoint-january-2024.pdf_selected_pages_1_2024-05-24-12:24:08.319.pdf...\n",
            "Copying gs://github-repo/rag/intro_multimodal_rag/temp/consumer-checkpoint-january-2024.pdf_selected_pages_1_2024-05-24-12:36:34.349.pdf...\n",
            "Copying gs://github-repo/rag/intro_multimodal_rag/temp/consumer-checkpoint-january-2024.pdf_selected_pages_1_2024-05-24-12:37:46.184.pdf...\n",
            "Copying gs://github-repo/rag/intro_multimodal_rag/temp/consumer-checkpoint-january-2024.pdf_selected_pages_1_2024-05-24-12:38:40.926.pdf...\n",
            "Copying gs://github-repo/rag/intro_multimodal_rag/temp/consumer-checkpoint-january-2024.pdf_selected_pages_2_2024-05-24-12:11:38.059.pdf...\n",
            "Copying gs://github-repo/rag/intro_multimodal_rag/temp/consumer-checkpoint-january-2024.pdf_selected_pages_2_2024-05-24-12:16:02.082.pdf...\n",
            "Copying gs://github-repo/rag/intro_multimodal_rag/temp/consumer-checkpoint-january-2024.pdf_selected_pages_2_2024-05-24-12:14:00.075.pdf...\n",
            "Copying gs://github-repo/rag/intro_multimodal_rag/temp/consumer-checkpoint-january-2024.pdf_selected_pages_2_2024-05-24-12:19:04.909.pdf...\n",
            "Copying gs://github-repo/rag/intro_multimodal_rag/temp/consumer-checkpoint-january-2024.pdf_selected_pages_2_2024-05-24-12:23:04.581.pdf...\n",
            "Copying gs://github-repo/rag/intro_multimodal_rag/temp/consumer-checkpoint-january-2024.pdf_selected_pages_2_2024-05-24-12:24:08.873.pdf...\n",
            "Copying gs://github-repo/rag/intro_multimodal_rag/temp/consumer-checkpoint-january-2024.pdf_selected_pages_2_2024-05-24-12:37:46.705.pdf...\n",
            "Copying gs://github-repo/rag/intro_multimodal_rag/temp/consumer-checkpoint-january-2024.pdf_selected_pages_2_2024-05-24-12:38:41.478.pdf...\n",
            "Copying gs://github-repo/rag/intro_multimodal_rag/temp/consumer-checkpoint-january-2024.pdf_selected_pages_3_2024-05-24-12:14:03.010.pdf...\n",
            "Copying gs://github-repo/rag/intro_multimodal_rag/temp/consumer-checkpoint-january-2024.pdf_selected_pages_3_2024-05-24-12:11:40.751.pdf...\n",
            "Copying gs://github-repo/rag/intro_multimodal_rag/temp/consumer-checkpoint-january-2024.pdf_selected_pages_3_2024-05-24-12:16:05.060.pdf...\n",
            "Copying gs://github-repo/rag/intro_multimodal_rag/temp/consumer-checkpoint-january-2024.pdf_selected_pages_3_2024-05-24-12:19:07.919.pdf...\n",
            "Copying gs://github-repo/rag/intro_multimodal_rag/temp/consumer-checkpoint-january-2024.pdf_selected_pages_3_2024-05-24-12:23:07.263.pdf...\n",
            "Copying gs://github-repo/rag/intro_multimodal_rag/temp/consumer-checkpoint-january-2024.pdf_selected_pages_3_2024-05-24-12:24:11.774.pdf...\n",
            "Copying gs://github-repo/rag/intro_multimodal_rag/temp/consumer-checkpoint-january-2024.pdf_selected_pages_3_2024-05-24-12:37:49.349.pdf...\n",
            "Copying gs://github-repo/rag/intro_multimodal_rag/temp/consumer-checkpoint-january-2024.pdf_selected_pages_4_2024-05-24-12:11:36.954.pdf...\n",
            "Copying gs://github-repo/rag/intro_multimodal_rag/temp/consumer-checkpoint-january-2024.pdf_selected_pages_4_2024-05-24-12:13:58.595.pdf...\n",
            "Copying gs://github-repo/rag/intro_multimodal_rag/temp/consumer-checkpoint-january-2024.pdf_selected_pages_4_2024-05-24-12:16:00.840.pdf...\n",
            "Copying gs://github-repo/rag/intro_multimodal_rag/temp/consumer-checkpoint-january-2024.pdf_selected_pages_4_2024-05-24-12:19:02.774.pdf...\n",
            "Copying gs://github-repo/rag/intro_multimodal_rag/temp/consumer-checkpoint-january-2024.pdf_selected_pages_4_2024-05-24-12:23:03.524.pdf...\n",
            "Copying gs://github-repo/rag/intro_multimodal_rag/temp/consumer-checkpoint-january-2024.pdf_selected_pages_4_2024-05-24-12:24:07.782.pdf...\n",
            "Copying gs://github-repo/rag/intro_multimodal_rag/temp/consumer-checkpoint-january-2024.pdf_selected_pages_4_2024-05-24-12:37:45.571.pdf...\n",
            "Copying gs://github-repo/rag/intro_multimodal_rag/temp/consumer-checkpoint-january-2024.pdf_selected_pages_4_2024-05-24-12:38:40.317.pdf...\n",
            "Copying gs://github-repo/rag/intro_multimodal_rag/temp/consumer-checkpoint-january-2024.pdf_selected_pages_6_2024-05-24-12:22:22.075.pdf...\n",
            "Copying gs://github-repo/rag/intro_multimodal_rag/temp/consumer-checkpoint-march-2024.pdf_selected_pages_1_2024-05-24-12:16:05.597.pdf...\n",
            "Copying gs://github-repo/rag/intro_multimodal_rag/temp/consumer-checkpoint-march-2024.pdf_selected_pages_1_2024-05-24-12:19:08.417.pdf...\n",
            "Copying gs://github-repo/rag/intro_multimodal_rag/temp/consumer-checkpoint-march-2024.pdf_selected_pages_1_2024-05-24-12:21:50.032.pdf...\n",
            "Copying gs://github-repo/rag/intro_multimodal_rag/temp/consumer-checkpoint-march-2024.pdf_selected_pages_1_2024-05-24-12:14:03.540.pdf...\n",
            "Copying gs://github-repo/rag/intro_multimodal_rag/temp/consumer-checkpoint-january-2024.pdf_selected_pages_6_2024-05-24-12:36:32.005.pdf...\n",
            "Copying gs://github-repo/rag/intro_multimodal_rag/temp/consumer-checkpoint-march-2024.pdf_selected_pages_1_2024-05-24-12:11:41.319.pdf...\n",
            "Copying gs://github-repo/rag/intro_multimodal_rag/temp/consumer-checkpoint-march-2024.pdf_selected_pages_1_2024-05-24-12:22:24.662.pdf...\n",
            "Copying gs://github-repo/rag/intro_multimodal_rag/temp/consumer-checkpoint-march-2024.pdf_selected_pages_1_2024-05-24-12:23:07.782.pdf...\n",
            "Copying gs://github-repo/rag/intro_multimodal_rag/temp/consumer-checkpoint-march-2024.pdf_selected_pages_1_2024-05-24-12:24:12.425.pdf...\n",
            "Copying gs://github-repo/rag/intro_multimodal_rag/temp/consumer-checkpoint-march-2024.pdf_selected_pages_1_2024-05-24-12:34:58.272.pdf...\n",
            "Copying gs://github-repo/rag/intro_multimodal_rag/temp/consumer-checkpoint-march-2024.pdf_selected_pages_1_2024-05-24-12:37:50.093.pdf...\n",
            "Copying gs://github-repo/rag/intro_multimodal_rag/temp/consumer-checkpoint-march-2024.pdf_selected_pages_3_2024-05-24-12:34:57.204.pdf...\n",
            "Copying gs://github-repo/rag/intro_multimodal_rag/temp/consumer-checkpoint-march-2024.pdf_selected_pages_4_2024-05-24-12:21:50.578.pdf...\n",
            "Copying gs://github-repo/rag/intro_multimodal_rag/temp/consumer-checkpoint-march-2024.pdf_selected_pages_2_2024-05-24-12:35:00.559.pdf...\n",
            "Copying gs://github-repo/rag/intro_multimodal_rag/temp/consumer-checkpoint-march-2024.pdf_selected_pages_2_2024-05-24-12:21:52.257.pdf...\n",
            "Copying gs://github-repo/rag/intro_multimodal_rag/temp/consumer-checkpoint-march-2024.pdf_selected_pages_1_2024-05-24-12:36:34.853.pdf...\n",
            "Copying gs://github-repo/rag/intro_multimodal_rag/temp/consumer-checkpoint-march-2024.pdf_selected_pages_3_2024-05-24-12:21:48.779.pdf...\n",
            "Copying gs://github-repo/rag/intro_multimodal_rag/temp/consumer-checkpoint-march-2024.pdf_selected_pages_4_2024-05-24-12:34:58.806.pdf...\n",
            "Copying gs://github-repo/rag/intro_multimodal_rag/temp/consumer-checkpoint-november-2023.pdf_selected_pages_1_2024-05-24-12:22:19.420.pdf...\n",
            "Copying gs://github-repo/rag/intro_multimodal_rag/temp/consumer-checkpoint-november-2023.pdf_selected_pages_1_2024-05-24-12:36:29.433.pdf...\n",
            "Copying gs://github-repo/rag/intro_multimodal_rag/temp/consumer-checkpoint-november-2023.pdf_selected_pages_2_2024-05-24-12:16:04.552.pdf...\n",
            "Copying gs://github-repo/rag/intro_multimodal_rag/temp/consumer-checkpoint-november-2023.pdf_selected_pages_2_2024-05-24-12:14:02.476.pdf...\n",
            "Copying gs://github-repo/rag/intro_multimodal_rag/temp/consumer-checkpoint-november-2023.pdf_selected_pages_2_2024-05-24-12:21:51.202.pdf...\n",
            "Copying gs://github-repo/rag/intro_multimodal_rag/temp/consumer-checkpoint-november-2023.pdf_selected_pages_2_2024-05-24-12:23:06.669.pdf...\n",
            "Copying gs://github-repo/rag/intro_multimodal_rag/temp/consumer-checkpoint-november-2023.pdf_selected_pages_2_2024-05-24-12:19:07.376.pdf...\n",
            "Copying gs://github-repo/rag/intro_multimodal_rag/temp/consumer-checkpoint-november-2023.pdf_selected_pages_2_2024-05-24-12:24:11.205.pdf...\n",
            "Copying gs://github-repo/rag/intro_multimodal_rag/temp/consumer-checkpoint-november-2023.pdf_selected_pages_2_2024-05-24-12:11:40.226.pdf...\n",
            "Copying gs://github-repo/rag/intro_multimodal_rag/temp/consumer-checkpoint-november-2023.pdf_selected_pages_2_2024-05-24-12:34:59.380.pdf...\n",
            "Copying gs://github-repo/rag/intro_multimodal_rag/temp/consumer-checkpoint-november-2023.pdf_selected_pages_2_2024-05-24-12:37:48.833.pdf...\n",
            "Copying gs://github-repo/rag/intro_multimodal_rag/temp/consumer-checkpoint-november-2023.pdf_selected_pages_3_2024-05-24-12:21:47.286.pdf...\n",
            "Copying gs://github-repo/rag/intro_multimodal_rag/temp/consumer-checkpoint-november-2023.pdf_selected_pages_3_2024-05-24-12:34:55.377.pdf...\n",
            "Copying gs://github-repo/rag/intro_multimodal_rag/temp/consumer-checkpoint-november-2023.pdf_selected_pages_4_2024-05-24-12:11:38.651.pdf...\n",
            "Copying gs://github-repo/rag/intro_multimodal_rag/temp/consumer-checkpoint-november-2023.pdf_selected_pages_4_2024-05-24-12:14:00.860.pdf...\n",
            "Copying gs://github-repo/rag/intro_multimodal_rag/temp/consumer-checkpoint-november-2023.pdf_selected_pages_4_2024-05-24-12:16:02.871.pdf...\n",
            "Copying gs://github-repo/rag/intro_multimodal_rag/temp/consumer-checkpoint-november-2023.pdf_selected_pages_4_2024-05-24-12:19:05.584.pdf...\n",
            "Copying gs://github-repo/rag/intro_multimodal_rag/temp/consumer-checkpoint-november-2023.pdf_selected_pages_4_2024-05-24-12:21:46.631.pdf...\n",
            "Copying gs://github-repo/rag/intro_multimodal_rag/temp/consumer-checkpoint-november-2023.pdf_selected_pages_4_2024-05-24-12:22:25.177.pdf...\n",
            "Copying gs://github-repo/rag/intro_multimodal_rag/temp/consumer-checkpoint-november-2023.pdf_selected_pages_4_2024-05-24-12:24:09.575.pdf...\n",
            "Copying gs://github-repo/rag/intro_multimodal_rag/temp/consumer-checkpoint-november-2023.pdf_selected_pages_4_2024-05-24-12:23:05.145.pdf...\n",
            "Copying gs://github-repo/rag/intro_multimodal_rag/temp/consumer-checkpoint-november-2023.pdf_selected_pages_4_2024-05-24-12:34:54.748.pdf...\n",
            "Copying gs://github-repo/rag/intro_multimodal_rag/temp/consumer-checkpoint-november-2023.pdf_selected_pages_4_2024-05-24-12:36:35.437.pdf...\n",
            "Copying gs://github-repo/rag/intro_multimodal_rag/temp/consumer-checkpoint-november-2023.pdf_selected_pages_4_2024-05-24-12:37:47.261.pdf...\n",
            "Copying gs://github-repo/rag/intro_multimodal_rag/temp/consumer-checkpoint-november-2023.pdf_selected_pages_4_2024-05-24-12:38:42.061.pdf...\n",
            "Copying gs://github-repo/rag/intro_multimodal_rag/temp/consumer-checkpoint-november-2023.pdf_selected_pages_5_2024-05-24-12:21:52.748.pdf...\n",
            "Copying gs://github-repo/rag/intro_multimodal_rag/temp/consumer-checkpoint-november-2023.pdf_selected_pages_5_2024-05-24-12:22:20.542.pdf...\n",
            "Copying gs://github-repo/rag/intro_multimodal_rag/temp/consumer-checkpoint-november-2023.pdf_selected_pages_5_2024-05-24-12:35:01.082.pdf...\n",
            "Copying gs://github-repo/rag/intro_multimodal_rag/temp/consumer-checkpoint-november-2023.pdf_selected_pages_5_2024-05-24-12:36:30.916.pdf...\n",
            "Copying gs://github-repo/rag/intro_multimodal_rag/temp/small-business-checkpoint-december-2023.pdf_selected_pages_3_2024-05-24-12:21:51.729.pdf...\n",
            "Copying gs://github-repo/rag/intro_multimodal_rag/temp/small-business-checkpoint-december-2023.pdf_selected_pages_3_2024-05-24-12:35:00.003.pdf...\n",
            "Copying gs://github-repo/rag/intro_multimodal_rag/temp/small-business-checkpoint-november-2023.pdf_selected_pages_1_2024-05-24-12:21:47.770.pdf...\n",
            "Copying gs://github-repo/rag/intro_multimodal_rag/temp/small-business-checkpoint-november-2023.pdf_selected_pages_1_2024-05-24-12:34:55.954.pdf...\n",
            "Copying gs://github-repo/rag/intro_multimodal_rag/temp/small-business-checkpoint-november-2023.pdf_selected_pages_2_2024-05-24-12:21:48.269.pdf...\n",
            "Copying gs://github-repo/rag/intro_multimodal_rag/temp/small-business-checkpoint-november-2023.pdf_selected_pages_2_2024-05-24-12:34:56.598.pdf...\n",
            "Copying gs://github-repo/rag/intro_multimodal_rag/test_bank_data/consumer-checkpoint-january-2024.pdf...\n",
            "Copying gs://github-repo/rag/intro_multimodal_rag/test_bank_data/consumer-checkpoint-december-2023.pdf...\n",
            "Copying gs://github-repo/rag/intro_multimodal_rag/test_bank_data/consumer-checkpoint-february-2024.pdf...\n",
            "Copying gs://github-repo/rag/intro_multimodal_rag/test_bank_data/consumer-checkpoint-november-2023.pdf...\n",
            "Copying gs://github-repo/rag/intro_multimodal_rag/test_bank_data/consumer-checkpoint-march-2024.pdf...\n",
            "Copying gs://github-repo/rag/intro_multimodal_rag/test_bank_data/small-business-checkpoint-december-2023.pdf...\n",
            "Copying gs://github-repo/rag/intro_multimodal_rag/test_bank_data/small-business-checkpoint-february-2024.pdf...\n",
            "Copying gs://github-repo/rag/intro_multimodal_rag/test_bank_data/small-business-checkpoint-march-2024.pdf...\n",
            "Copying gs://github-repo/rag/intro_multimodal_rag/test_bank_data/small-business-checkpoint-january-2024.pdf...\n",
            "Copying gs://github-repo/rag/intro_multimodal_rag/test_bank_data/small-business-checkpoint-november-2023.pdf...\n",
            "Copying gs://github-repo/rag/intro_multimodal_rag/utils/multimodal_qa_with_rag_utils.py...\n",
            "\\ [453/453 files][112.8 MiB/112.8 MiB] 100% Done   1.5 MiB/s ETA 00:00:00       \n",
            "Operation completed over 453 objects/112.8 MiB.                                  \n",
            "Download completed\n"
          ]
        }
      ],
      "source": [
        "# Download documents and images used in this notebook\n",
        "!gsutil -m rsync -r gs://github-repo/rag/intro_multimodal_rag/ .\n",
        "print(\"Download completed\")"
      ]
    },
    {
      "cell_type": "markdown",
      "metadata": {
        "id": "Ps1G-cCfpibN"
      },
      "source": [
        "## Partition PDF tables, text, and images"
      ]
    },
    {
      "cell_type": "markdown",
      "metadata": {
        "id": "jqLsy3iZ5t-R"
      },
      "source": [
        "### The data\n",
        "\n",
        "The source data that you will use in this notebook is a modified version of [Google-10K](https://abc.xyz/assets/investor/static/pdf/20220202_alphabet_10K.pdf) which provides a comprehensive overview of the company's financial performance, business operations, management, and risk factors. As the original document is rather large, you will be using [a modified version with only 14 pages](https://storage.googleapis.com/github-repo/rag/multimodal_rag_langchain/google-10k-sample-14pages.pdf) instead. Although it's truncated, the sample document still contains text along with images such as tables, charts, and graphs."
      ]
    },
    {
      "cell_type": "code",
      "source": [
        "!wget -q https://storage.googleapis.com/github-repo/rag/multimodal_rag_langchain/google-10k-sample-14pages.pdf"
      ],
      "metadata": {
        "id": "6QGSvCY0HZeI"
      },
      "execution_count": null,
      "outputs": []
    },
    {
      "cell_type": "code",
      "execution_count": null,
      "metadata": {
        "id": "FxOq-Q76kzBO"
      },
      "outputs": [],
      "source": [
        "pdf_folder_path = \"/content/\" if \"google.colab\" in sys.modules else \"data/\"\n",
        "pdf_file_name = \"google-10k-sample-14pages.pdf\"\n",
        "\n",
        "# Extract images, tables, and chunk text from a PDF file.\n",
        "raw_pdf_elements = partition_pdf(\n",
        "    filename=pdf_file_name,\n",
        "    extract_images_in_pdf=True,\n",
        "    infer_table_structure=True,\n",
        "    chunking_strategy=\"by_title\",\n",
        "    max_characters=4000,\n",
        "    new_after_n_chars=3800,\n",
        "    combine_text_under_n_chars=2000,\n",
        "    image_output_dir_path=pdf_folder_path,\n",
        ")\n",
        "\n",
        "# Categorize extracted elements from a PDF into tables and texts.\n",
        "tables = []\n",
        "texts = []\n",
        "images = []\n",
        "for element in raw_pdf_elements:\n",
        "    if \"unstructured.documents.elements.Table\" in str(type(element)):\n",
        "        tables.append(str(element))\n",
        "    elif \"unstructured.documents.elements.CompositeElement\" in str(type(element)):\n",
        "        texts.append(str(element))\n",
        "    elif \"unstructured.documents.elements.Image\" in str(type(element)):\n",
        "      images.append(element)\n",
        "\n",
        "# Optional: Enforce a specific token size for texts\n",
        "text_splitter = CharacterTextSplitter.from_tiktoken_encoder(\n",
        "    chunk_size=10000, chunk_overlap=0\n",
        ")\n",
        "joined_texts = \" \".join(texts)\n",
        "texts_4k_token = text_splitter.split_text(joined_texts)"
      ]
    },
    {
      "cell_type": "code",
      "source": [
        "len(joined_texts)"
      ],
      "metadata": {
        "id": "ZnCu4EW8ivTt",
        "outputId": "12263a73-d59d-41e2-8d38-c16fe1701fe1",
        "colab": {
          "base_uri": "https://localhost:8080/"
        }
      },
      "execution_count": null,
      "outputs": [
        {
          "output_type": "execute_result",
          "data": {
            "text/plain": [
              "22053"
            ]
          },
          "metadata": {},
          "execution_count": 12
        }
      ]
    },
    {
      "cell_type": "code",
      "source": [
        "from IPython.display import display,Markdown\n",
        "display(Markdown(tables[1]))"
      ],
      "metadata": {
        "id": "1E6Aq-NUjpvm",
        "outputId": "4820e98e-e61e-43ea-9f9c-2419d7b24c68",
        "colab": {
          "base_uri": "https://localhost:8080/",
          "height": 88
        }
      },
      "execution_count": null,
      "outputs": [
        {
          "output_type": "display_data",
          "data": {
            "text/plain": [
              "<IPython.core.display.Markdown object>"
            ],
            "text/markdown": "Unvested Restricted Stock Units Weighted- Number of Grant Date Shares Fair Value Unvested as of December 31, 2020 19,288,793 $ 1,262.13 Granted 10,582,700 $ 1,949.16 Vested (11,209,486) $ 1,345.98 Forfeited/canceled (1,767,294) $ 1,425.48 Unvested as of December 31, 2021 16,894,713 $ 1,626.13"
          },
          "metadata": {}
        }
      ]
    },
    {
      "cell_type": "code",
      "source": [
        "raw_pdf_elements"
      ],
      "metadata": {
        "id": "FnCbbJSmknbz",
        "outputId": "af73cfc3-77ce-4834-e459-ac0cd5bb00f9",
        "colab": {
          "base_uri": "https://localhost:8080/"
        }
      },
      "execution_count": null,
      "outputs": [
        {
          "output_type": "execute_result",
          "data": {
            "text/plain": [
              "[<unstructured.documents.elements.CompositeElement at 0x7fe81bc056f0>,\n",
              " <unstructured.documents.elements.Table at 0x7fe81bc05420>,\n",
              " <unstructured.documents.elements.CompositeElement at 0x7fe81bc05db0>,\n",
              " <unstructured.documents.elements.CompositeElement at 0x7fe81bc05e70>,\n",
              " <unstructured.documents.elements.CompositeElement at 0x7fe91f3d0ee0>,\n",
              " <unstructured.documents.elements.CompositeElement at 0x7fe81bc06050>,\n",
              " <unstructured.documents.elements.CompositeElement at 0x7fe79e6bfe80>,\n",
              " <unstructured.documents.elements.CompositeElement at 0x7fe79e6bc9a0>,\n",
              " <unstructured.documents.elements.Table at 0x7fe79e6bffa0>,\n",
              " <unstructured.documents.elements.CompositeElement at 0x7fe79e6bee90>]"
            ]
          },
          "metadata": {},
          "execution_count": 22
        }
      ]
    },
    {
      "cell_type": "code",
      "source": [
        "len(images)"
      ],
      "metadata": {
        "id": "cjDw8dlpj7ec",
        "outputId": "1e3884c6-d839-43b4-e5cd-9e6d9d5454d2",
        "colab": {
          "base_uri": "https://localhost:8080/"
        }
      },
      "execution_count": null,
      "outputs": [
        {
          "output_type": "execute_result",
          "data": {
            "text/plain": [
              "0"
            ]
          },
          "metadata": {},
          "execution_count": 20
        }
      ]
    },
    {
      "cell_type": "code",
      "execution_count": null,
      "metadata": {
        "id": "_TOsDQU2kzBO"
      },
      "outputs": [],
      "source": [
        "MODEL_NAME = \"gemini-1.5-flash-001\"\n",
        "\n",
        "# Generate summaries of text elements\n",
        "def generate_text_summaries(\n",
        "    texts: List[str], tables: List[str], summarize_texts: bool = False\n",
        ") -> Tuple[List, List]:\n",
        "    \"\"\"\n",
        "    Summarize text elements\n",
        "    texts: List of str\n",
        "    tables: List of str\n",
        "    summarize_texts: Bool to summarize texts\n",
        "    \"\"\"\n",
        "\n",
        "    # Prompt\n",
        "    prompt_text = \"\"\"You are an assistant tasked with summarizing tables and text for retrieval. \\\n",
        "    These summaries will be embedded and used to retrieve the raw text or table elements. \\\n",
        "    Give a concise summary of the table or text that is well optimized for retrieval. Table or text: {element} \"\"\"\n",
        "    prompt = PromptTemplate.from_template(prompt_text)\n",
        "    empty_response = RunnableLambda(\n",
        "        lambda x: AIMessage(content=\"Error processing document\")\n",
        "    )\n",
        "    # Text summary chain\n",
        "    model = VertexAI(\n",
        "        temperature=0, model_name=MODEL_NAME, max_output_tokens=1024\n",
        "    ).with_fallbacks([empty_response])\n",
        "    summarize_chain = {\"element\": lambda x: x} | prompt | model | StrOutputParser()\n",
        "\n",
        "    # Initialize empty summaries\n",
        "    text_summaries = []\n",
        "    table_summaries = []\n",
        "\n",
        "    # Apply to text if texts are provided and summarization is requested\n",
        "    if texts:\n",
        "        if summarize_texts:\n",
        "            text_summaries = summarize_chain.batch(texts, {\"max_concurrency\": 1})\n",
        "        else:\n",
        "            text_summaries = texts\n",
        "\n",
        "    # Apply to tables if tables are provided\n",
        "    if tables:\n",
        "        table_summaries = summarize_chain.batch(tables, {\"max_concurrency\": 1})\n",
        "\n",
        "    return text_summaries, table_summaries\n",
        "\n",
        "\n",
        "# Get text, table summaries\n",
        "text_summaries, table_summaries = generate_text_summaries(\n",
        "    texts_4k_token, tables, summarize_texts=True\n",
        ")"
      ]
    },
    {
      "cell_type": "code",
      "execution_count": null,
      "metadata": {
        "id": "YKVvO1VnkzBO"
      },
      "outputs": [],
      "source": [
        "def encode_image(image_path):\n",
        "    \"\"\"Getting the base64 string\"\"\"\n",
        "    with open(image_path, \"rb\") as image_file:\n",
        "        return base64.b64encode(image_file.read()).decode(\"utf-8\")\n",
        "\n",
        "\n",
        "def image_summarize(img_base64, prompt):\n",
        "    \"\"\"Make image summary\"\"\"\n",
        "    model = ChatVertexAI(model_name=\"gemini-pro-vision\", max_output_tokens=1024)\n",
        "\n",
        "    msg = model(\n",
        "        [\n",
        "            HumanMessage(\n",
        "                content=[\n",
        "                    {\"type\": \"text\", \"text\": prompt},\n",
        "                    {\n",
        "                        \"type\": \"image_url\",\n",
        "                        \"image_url\": {\"url\": f\"data:image/png;base64,{img_base64}\"},\n",
        "                    },\n",
        "                ]\n",
        "            )\n",
        "        ]\n",
        "    )\n",
        "    return msg.content\n",
        "\n",
        "\n",
        "def generate_img_summaries(path):\n",
        "    \"\"\"\n",
        "    Generate summaries and base64 encoded strings for images\n",
        "    path: Path to list of .jpg files extracted by Unstructured\n",
        "    \"\"\"\n",
        "\n",
        "    # Store base64 encoded images\n",
        "    img_base64_list = []\n",
        "\n",
        "    # Store image summaries\n",
        "    image_summaries = []\n",
        "\n",
        "    # Prompt\n",
        "    prompt = \"\"\"You are an assistant tasked with summarizing images for retrieval. \\\n",
        "    These summaries will be embedded and used to retrieve the raw image. \\\n",
        "    Give a concise summary of the image that is well optimized for retrieval.\n",
        "    If it's a table, extract all elements of the table.\n",
        "    If it's a graph, explain the findings in the graph.\n",
        "    Do not include any numbers that are not mentioned in the image.\n",
        "    \"\"\"\n",
        "\n",
        "    # Apply to images\n",
        "    for img_file in sorted(os.listdir(path)):\n",
        "        if img_file.endswith(\".png\"):\n",
        "            img_path = os.path.join(path, img_file)\n",
        "            base64_image = encode_image(img_path)\n",
        "            img_base64_list.append(base64_image)\n",
        "            image_summaries.append(image_summarize(base64_image, prompt))\n",
        "\n",
        "    return img_base64_list, image_summaries\n",
        "\n",
        "\n",
        "# Image summaries\n",
        "img_base64_list, image_summaries = generate_img_summaries(\".\")"
      ]
    },
    {
      "cell_type": "markdown",
      "metadata": {
        "id": "3MXGRMZIkzBP"
      },
      "source": [
        "## Create & Deploy Vertex AI Vector Search Index & Endpoint\n",
        "\n",
        "Skip this step if you already have Vector Search set up.\n",
        "\n",
        "- https://console.cloud.google.com/vertex-ai/matching-engine/indexes"
      ]
    },
    {
      "cell_type": "markdown",
      "metadata": {
        "id": "_3qRRUavkzBP"
      },
      "source": [
        "- Create [`MatchingEngineIndex`](https://cloud.google.com/python/docs/reference/aiplatform/latest/google.cloud.aiplatform.MatchingEngineIndex)\n",
        "  - https://cloud.google.com/vertex-ai/docs/vector-search/create-manage-index"
      ]
    },
    {
      "cell_type": "code",
      "execution_count": null,
      "metadata": {
        "id": "Q-Us5cltkzBP",
        "outputId": "39b132ba-5f1c-4644-cfd9-79ee64ef1229",
        "colab": {
          "base_uri": "https://localhost:8080/"
        }
      },
      "outputs": [
        {
          "output_type": "stream",
          "name": "stderr",
          "text": [
            "INFO:google.cloud.aiplatform.matching_engine.matching_engine_index:Creating MatchingEngineIndex\n",
            "INFO:google.cloud.aiplatform.matching_engine.matching_engine_index:Create MatchingEngineIndex backing LRO: projects/1015881047051/locations/us-central1/indexes/2920316077512589312/operations/6778381192581349376\n",
            "INFO:google.cloud.aiplatform.matching_engine.matching_engine_index:MatchingEngineIndex created. Resource name: projects/1015881047051/locations/us-central1/indexes/2920316077512589312\n",
            "INFO:google.cloud.aiplatform.matching_engine.matching_engine_index:To use this MatchingEngineIndex in another session:\n",
            "INFO:google.cloud.aiplatform.matching_engine.matching_engine_index:index = aiplatform.MatchingEngineIndex('projects/1015881047051/locations/us-central1/indexes/2920316077512589312')\n"
          ]
        }
      ],
      "source": [
        "# https://cloud.google.com/vertex-ai/generative-ai/docs/model-reference/text-embeddings\n",
        "DIMENSIONS = 768  # Dimensions output from textembedding-gecko\n",
        "\n",
        "index = aiplatform.MatchingEngineIndex.create_tree_ah_index(\n",
        "    display_name=\"mm_rag_langchain_index\",\n",
        "    dimensions=DIMENSIONS,\n",
        "    approximate_neighbors_count=150,\n",
        "    leaf_node_embedding_count=500,\n",
        "    leaf_nodes_to_search_percent=7,\n",
        "    description=\"Multimodal RAG LangChain Index\",\n",
        ")"
      ]
    },
    {
      "cell_type": "markdown",
      "metadata": {
        "id": "wqZCywCWkzBQ"
      },
      "source": [
        "- Create [`MatchingEngineIndexEndpoint`](https://cloud.google.com/python/docs/reference/aiplatform/latest/google.cloud.aiplatform.MatchingEngineIndexEndpoint)\n",
        "  - https://cloud.google.com/vertex-ai/docs/vector-search/deploy-index-public"
      ]
    },
    {
      "cell_type": "code",
      "execution_count": null,
      "metadata": {
        "id": "xR-vVUvukzBQ",
        "outputId": "809bfa23-8a34-466b-f1f2-69726b86b409",
        "colab": {
          "base_uri": "https://localhost:8080/"
        }
      },
      "outputs": [
        {
          "output_type": "stream",
          "name": "stderr",
          "text": [
            "INFO:google.cloud.aiplatform.matching_engine.matching_engine_index_endpoint:Creating MatchingEngineIndexEndpoint\n",
            "INFO:google.cloud.aiplatform.matching_engine.matching_engine_index_endpoint:Create MatchingEngineIndexEndpoint backing LRO: projects/1015881047051/locations/us-central1/indexEndpoints/1222177543017201664/operations/138949441930395648\n",
            "INFO:google.cloud.aiplatform.matching_engine.matching_engine_index_endpoint:MatchingEngineIndexEndpoint created. Resource name: projects/1015881047051/locations/us-central1/indexEndpoints/1222177543017201664\n",
            "INFO:google.cloud.aiplatform.matching_engine.matching_engine_index_endpoint:To use this MatchingEngineIndexEndpoint in another session:\n",
            "INFO:google.cloud.aiplatform.matching_engine.matching_engine_index_endpoint:index_endpoint = aiplatform.MatchingEngineIndexEndpoint('projects/1015881047051/locations/us-central1/indexEndpoints/1222177543017201664')\n"
          ]
        }
      ],
      "source": [
        "DEPLOYED_INDEX_ID = \"mm_rag_langchain_index_endpoint\"\n",
        "\n",
        "index_endpoint = aiplatform.MatchingEngineIndexEndpoint.create(\n",
        "    display_name=DEPLOYED_INDEX_ID,\n",
        "    description=\"Multimodal RAG LangChain Index Endpoint\",\n",
        "    public_endpoint_enabled=True,\n",
        ")"
      ]
    },
    {
      "cell_type": "markdown",
      "metadata": {
        "id": "6TPyoqcOkzBQ"
      },
      "source": [
        "- Deploy Index to Index Endpoint\n",
        "  - NOTE: This will take a while to run.\n",
        "  - You can stop this cell after starting it instead of waiting for deployment.\n",
        "  - You can check the status at https://console.cloud.google.com/vertex-ai/matching-engine/indexes"
      ]
    },
    {
      "cell_type": "code",
      "execution_count": null,
      "metadata": {
        "id": "NiPjTc-BkzBQ",
        "outputId": "13313e3a-8f96-4e89-fedf-92c4f594b81b",
        "colab": {
          "base_uri": "https://localhost:8080/",
          "height": 567
        }
      },
      "outputs": [
        {
          "output_type": "stream",
          "name": "stderr",
          "text": [
            "INFO:google.cloud.aiplatform.matching_engine.matching_engine_index_endpoint:Deploying index MatchingEngineIndexEndpoint index_endpoint: projects/1015881047051/locations/us-central1/indexEndpoints/1222177543017201664\n",
            "INFO:google.cloud.aiplatform.matching_engine.matching_engine_index_endpoint:Deploy index MatchingEngineIndexEndpoint index_endpoint backing LRO: projects/1015881047051/locations/us-central1/indexEndpoints/1222177543017201664/operations/3748584543267848192\n"
          ]
        },
        {
          "output_type": "error",
          "ename": "TimeoutError",
          "evalue": "Operation did not complete within the designated timeout of 900 seconds.",
          "traceback": [
            "\u001b[0;31m---------------------------------------------------------------------------\u001b[0m",
            "\u001b[0;31m_OperationNotComplete\u001b[0m                     Traceback (most recent call last)",
            "\u001b[0;32m/usr/local/lib/python3.10/dist-packages/google/api_core/retry/retry_unary.py\u001b[0m in \u001b[0;36mretry_target\u001b[0;34m(target, predicate, sleep_generator, timeout, on_error, exception_factory, **kwargs)\u001b[0m\n\u001b[1;32m    143\u001b[0m         \u001b[0;32mtry\u001b[0m\u001b[0;34m:\u001b[0m\u001b[0;34m\u001b[0m\u001b[0;34m\u001b[0m\u001b[0m\n\u001b[0;32m--> 144\u001b[0;31m             \u001b[0mresult\u001b[0m \u001b[0;34m=\u001b[0m \u001b[0mtarget\u001b[0m\u001b[0;34m(\u001b[0m\u001b[0;34m)\u001b[0m\u001b[0;34m\u001b[0m\u001b[0;34m\u001b[0m\u001b[0m\n\u001b[0m\u001b[1;32m    145\u001b[0m             \u001b[0;32mif\u001b[0m \u001b[0minspect\u001b[0m\u001b[0;34m.\u001b[0m\u001b[0misawaitable\u001b[0m\u001b[0;34m(\u001b[0m\u001b[0mresult\u001b[0m\u001b[0;34m)\u001b[0m\u001b[0;34m:\u001b[0m\u001b[0;34m\u001b[0m\u001b[0;34m\u001b[0m\u001b[0m\n",
            "\u001b[0;32m/usr/local/lib/python3.10/dist-packages/google/api_core/future/polling.py\u001b[0m in \u001b[0;36m_done_or_raise\u001b[0;34m(self, retry)\u001b[0m\n\u001b[1;32m    119\u001b[0m         \u001b[0;32mif\u001b[0m \u001b[0;32mnot\u001b[0m \u001b[0mself\u001b[0m\u001b[0;34m.\u001b[0m\u001b[0mdone\u001b[0m\u001b[0;34m(\u001b[0m\u001b[0mretry\u001b[0m\u001b[0;34m=\u001b[0m\u001b[0mretry\u001b[0m\u001b[0;34m)\u001b[0m\u001b[0;34m:\u001b[0m\u001b[0;34m\u001b[0m\u001b[0;34m\u001b[0m\u001b[0m\n\u001b[0;32m--> 120\u001b[0;31m             \u001b[0;32mraise\u001b[0m \u001b[0m_OperationNotComplete\u001b[0m\u001b[0;34m(\u001b[0m\u001b[0;34m)\u001b[0m\u001b[0;34m\u001b[0m\u001b[0;34m\u001b[0m\u001b[0m\n\u001b[0m\u001b[1;32m    121\u001b[0m \u001b[0;34m\u001b[0m\u001b[0m\n",
            "\u001b[0;31m_OperationNotComplete\u001b[0m: ",
            "\nThe above exception was the direct cause of the following exception:\n",
            "\u001b[0;31mRetryError\u001b[0m                                Traceback (most recent call last)",
            "\u001b[0;32m/usr/local/lib/python3.10/dist-packages/google/api_core/future/polling.py\u001b[0m in \u001b[0;36m_blocking_poll\u001b[0;34m(self, timeout, retry, polling)\u001b[0m\n\u001b[1;32m    136\u001b[0m         \u001b[0;32mtry\u001b[0m\u001b[0;34m:\u001b[0m\u001b[0;34m\u001b[0m\u001b[0;34m\u001b[0m\u001b[0m\n\u001b[0;32m--> 137\u001b[0;31m             \u001b[0mpolling\u001b[0m\u001b[0;34m(\u001b[0m\u001b[0mself\u001b[0m\u001b[0;34m.\u001b[0m\u001b[0m_done_or_raise\u001b[0m\u001b[0;34m)\u001b[0m\u001b[0;34m(\u001b[0m\u001b[0mretry\u001b[0m\u001b[0;34m=\u001b[0m\u001b[0mretry\u001b[0m\u001b[0;34m)\u001b[0m\u001b[0;34m\u001b[0m\u001b[0;34m\u001b[0m\u001b[0m\n\u001b[0m\u001b[1;32m    138\u001b[0m         \u001b[0;32mexcept\u001b[0m \u001b[0mexceptions\u001b[0m\u001b[0;34m.\u001b[0m\u001b[0mRetryError\u001b[0m\u001b[0;34m:\u001b[0m\u001b[0;34m\u001b[0m\u001b[0;34m\u001b[0m\u001b[0m\n",
            "\u001b[0;32m/usr/local/lib/python3.10/dist-packages/google/api_core/retry/retry_unary.py\u001b[0m in \u001b[0;36mretry_wrapped_func\u001b[0;34m(*args, **kwargs)\u001b[0m\n\u001b[1;32m    292\u001b[0m             )\n\u001b[0;32m--> 293\u001b[0;31m             return retry_target(\n\u001b[0m\u001b[1;32m    294\u001b[0m                 \u001b[0mtarget\u001b[0m\u001b[0;34m,\u001b[0m\u001b[0;34m\u001b[0m\u001b[0;34m\u001b[0m\u001b[0m\n",
            "\u001b[0;32m/usr/local/lib/python3.10/dist-packages/google/api_core/retry/retry_unary.py\u001b[0m in \u001b[0;36mretry_target\u001b[0;34m(target, predicate, sleep_generator, timeout, on_error, exception_factory, **kwargs)\u001b[0m\n\u001b[1;32m    152\u001b[0m             \u001b[0;31m# defer to shared logic for handling errors\u001b[0m\u001b[0;34m\u001b[0m\u001b[0;34m\u001b[0m\u001b[0m\n\u001b[0;32m--> 153\u001b[0;31m             _retry_error_helper(\n\u001b[0m\u001b[1;32m    154\u001b[0m                 \u001b[0mexc\u001b[0m\u001b[0;34m,\u001b[0m\u001b[0;34m\u001b[0m\u001b[0;34m\u001b[0m\u001b[0m\n",
            "\u001b[0;32m/usr/local/lib/python3.10/dist-packages/google/api_core/retry/retry_base.py\u001b[0m in \u001b[0;36m_retry_error_helper\u001b[0;34m(exc, deadline, next_sleep, error_list, predicate_fn, on_error_fn, exc_factory_fn, original_timeout)\u001b[0m\n\u001b[1;32m    220\u001b[0m         )\n\u001b[0;32m--> 221\u001b[0;31m         \u001b[0;32mraise\u001b[0m \u001b[0mfinal_exc\u001b[0m \u001b[0;32mfrom\u001b[0m \u001b[0msource_exc\u001b[0m\u001b[0;34m\u001b[0m\u001b[0;34m\u001b[0m\u001b[0m\n\u001b[0m\u001b[1;32m    222\u001b[0m     _LOGGER.debug(\n",
            "\u001b[0;31mRetryError\u001b[0m: Timeout of 900.0s exceeded, last exception: ",
            "\nDuring handling of the above exception, another exception occurred:\n",
            "\u001b[0;31mTimeoutError\u001b[0m                              Traceback (most recent call last)",
            "\u001b[0;32m<ipython-input-27-30fef8aa22b8>\u001b[0m in \u001b[0;36m<cell line: 1>\u001b[0;34m()\u001b[0m\n\u001b[0;32m----> 1\u001b[0;31m index_endpoint = index_endpoint.deploy_index(\n\u001b[0m\u001b[1;32m      2\u001b[0m     \u001b[0mindex\u001b[0m\u001b[0;34m=\u001b[0m\u001b[0mindex\u001b[0m\u001b[0;34m,\u001b[0m \u001b[0mdeployed_index_id\u001b[0m\u001b[0;34m=\u001b[0m\u001b[0;34m\"mm_rag_langchain_deployed_index\"\u001b[0m\u001b[0;34m\u001b[0m\u001b[0;34m\u001b[0m\u001b[0m\n\u001b[1;32m      3\u001b[0m )\n\u001b[1;32m      4\u001b[0m \u001b[0mindex_endpoint\u001b[0m\u001b[0;34m.\u001b[0m\u001b[0mdeployed_indexes\u001b[0m\u001b[0;34m\u001b[0m\u001b[0;34m\u001b[0m\u001b[0m\n",
            "\u001b[0;32m/usr/local/lib/python3.10/dist-packages/google/cloud/aiplatform/matching_engine/matching_engine_index_endpoint.py\u001b[0m in \u001b[0;36mdeploy_index\u001b[0;34m(self, index, deployed_index_id, display_name, machine_type, min_replica_count, max_replica_count, enable_access_logging, reserved_ip_ranges, deployment_group, auth_config_audiences, auth_config_allowed_issuers, request_metadata, deploy_request_timeout)\u001b[0m\n\u001b[1;32m   1141\u001b[0m         )\n\u001b[1;32m   1142\u001b[0m \u001b[0;34m\u001b[0m\u001b[0m\n\u001b[0;32m-> 1143\u001b[0;31m         \u001b[0mdeploy_lro\u001b[0m\u001b[0;34m.\u001b[0m\u001b[0mresult\u001b[0m\u001b[0;34m(\u001b[0m\u001b[0mtimeout\u001b[0m\u001b[0;34m=\u001b[0m\u001b[0;32mNone\u001b[0m\u001b[0;34m)\u001b[0m\u001b[0;34m\u001b[0m\u001b[0;34m\u001b[0m\u001b[0m\n\u001b[0m\u001b[1;32m   1144\u001b[0m \u001b[0;34m\u001b[0m\u001b[0m\n\u001b[1;32m   1145\u001b[0m         _LOGGER.log_action_completed_against_resource(\n",
            "\u001b[0;32m/usr/local/lib/python3.10/dist-packages/google/api_core/future/polling.py\u001b[0m in \u001b[0;36mresult\u001b[0;34m(self, timeout, retry, polling)\u001b[0m\n\u001b[1;32m    254\u001b[0m         \"\"\"\n\u001b[1;32m    255\u001b[0m \u001b[0;34m\u001b[0m\u001b[0m\n\u001b[0;32m--> 256\u001b[0;31m         \u001b[0mself\u001b[0m\u001b[0;34m.\u001b[0m\u001b[0m_blocking_poll\u001b[0m\u001b[0;34m(\u001b[0m\u001b[0mtimeout\u001b[0m\u001b[0;34m=\u001b[0m\u001b[0mtimeout\u001b[0m\u001b[0;34m,\u001b[0m \u001b[0mretry\u001b[0m\u001b[0;34m=\u001b[0m\u001b[0mretry\u001b[0m\u001b[0;34m,\u001b[0m \u001b[0mpolling\u001b[0m\u001b[0;34m=\u001b[0m\u001b[0mpolling\u001b[0m\u001b[0;34m)\u001b[0m\u001b[0;34m\u001b[0m\u001b[0;34m\u001b[0m\u001b[0m\n\u001b[0m\u001b[1;32m    257\u001b[0m \u001b[0;34m\u001b[0m\u001b[0m\n\u001b[1;32m    258\u001b[0m         \u001b[0;32mif\u001b[0m \u001b[0mself\u001b[0m\u001b[0;34m.\u001b[0m\u001b[0m_exception\u001b[0m \u001b[0;32mis\u001b[0m \u001b[0;32mnot\u001b[0m \u001b[0;32mNone\u001b[0m\u001b[0;34m:\u001b[0m\u001b[0;34m\u001b[0m\u001b[0;34m\u001b[0m\u001b[0m\n",
            "\u001b[0;32m/usr/local/lib/python3.10/dist-packages/google/api_core/future/polling.py\u001b[0m in \u001b[0;36m_blocking_poll\u001b[0;34m(self, timeout, retry, polling)\u001b[0m\n\u001b[1;32m    137\u001b[0m             \u001b[0mpolling\u001b[0m\u001b[0;34m(\u001b[0m\u001b[0mself\u001b[0m\u001b[0;34m.\u001b[0m\u001b[0m_done_or_raise\u001b[0m\u001b[0;34m)\u001b[0m\u001b[0;34m(\u001b[0m\u001b[0mretry\u001b[0m\u001b[0;34m=\u001b[0m\u001b[0mretry\u001b[0m\u001b[0;34m)\u001b[0m\u001b[0;34m\u001b[0m\u001b[0;34m\u001b[0m\u001b[0m\n\u001b[1;32m    138\u001b[0m         \u001b[0;32mexcept\u001b[0m \u001b[0mexceptions\u001b[0m\u001b[0;34m.\u001b[0m\u001b[0mRetryError\u001b[0m\u001b[0;34m:\u001b[0m\u001b[0;34m\u001b[0m\u001b[0;34m\u001b[0m\u001b[0m\n\u001b[0;32m--> 139\u001b[0;31m             raise concurrent.futures.TimeoutError(\n\u001b[0m\u001b[1;32m    140\u001b[0m                 \u001b[0;34mf\"Operation did not complete within the designated timeout of \"\u001b[0m\u001b[0;34m\u001b[0m\u001b[0;34m\u001b[0m\u001b[0m\n\u001b[1;32m    141\u001b[0m                 \u001b[0;34mf\"{polling.timeout} seconds.\"\u001b[0m\u001b[0;34m\u001b[0m\u001b[0;34m\u001b[0m\u001b[0m\n",
            "\u001b[0;31mTimeoutError\u001b[0m: Operation did not complete within the designated timeout of 900 seconds."
          ]
        }
      ],
      "source": [
        "index_endpoint = index_endpoint.deploy_index(\n",
        "    index=index, deployed_index_id=\"mm_rag_langchain_deployed_index\"\n",
        ")\n",
        "index_endpoint.deployed_indexes"
      ]
    },
    {
      "cell_type": "markdown",
      "metadata": {
        "id": "jEthDwxJkzBR"
      },
      "source": [
        "## Create retriever & load documents"
      ]
    },
    {
      "cell_type": "markdown",
      "metadata": {
        "id": "7Hd-v272kzBR"
      },
      "source": [
        "- Create [`VectorSearchVectorStore`](https://api.python.langchain.com/en/latest/vectorstores/langchain_google_vertexai.vectorstores.vectorstores.VectorSearchVectorStore.html) with Vector Search Index ID and Endpoint ID.\n",
        "- Use [`textembedding-gecko`](https://cloud.google.com/vertex-ai/generative-ai/docs/model-reference/text-embeddings) as embedding model."
      ]
    },
    {
      "cell_type": "code",
      "execution_count": null,
      "metadata": {
        "id": "6CGkWxPukzBR"
      },
      "outputs": [],
      "source": [
        "# The vectorstore to use to index the summaries\n",
        "vectorstore = VectorSearchVectorStore.from_components(\n",
        "    project_id=PROJECT_ID,\n",
        "    region=LOCATION,\n",
        "    gcs_bucket_name=GCS_BUCKET,\n",
        "    index_id=index.name,\n",
        "    endpoint_id=index_endpoint.name,\n",
        "    embedding=VertexAIEmbeddings(model_name=\"textembedding-gecko@003\"),\n",
        ")"
      ]
    },
    {
      "cell_type": "markdown",
      "metadata": {
        "id": "yxwVcPxokzBR"
      },
      "source": [
        "- Alternatively, use Chroma for a local vector store."
      ]
    },
    {
      "cell_type": "code",
      "execution_count": null,
      "metadata": {
        "id": "eSaolbrXkzBa"
      },
      "outputs": [],
      "source": [
        "vectorstore = Chroma(\n",
        "     collection_name=\"mm_rag_test\",\n",
        "     embedding_function=VertexAIEmbeddings(model_name=\"textembedding-gecko@003\"),)"
      ]
    },
    {
      "cell_type": "markdown",
      "metadata": {
        "id": "KD3LPxlVkzBb"
      },
      "source": [
        "- Create Multi-Vector Retriever using the vector store you created.\n",
        "- Since vector stores only contain the embedding and an ID, you'll also need to create a document store indexed by ID to get the original source documents after searching for embeddings."
      ]
    },
    {
      "cell_type": "code",
      "execution_count": null,
      "metadata": {
        "id": "wH7qzrmCkzBb"
      },
      "outputs": [],
      "source": [
        "docstore = InMemoryStore()\n",
        "\n",
        "id_key = \"doc_id\"\n",
        "# Create the multi-vector retriever\n",
        "retriever_multi_vector_img = MultiVectorRetriever(\n",
        "    vectorstore=vectorstore,\n",
        "    docstore=docstore,\n",
        "    id_key=id_key,\n",
        ")"
      ]
    },
    {
      "cell_type": "markdown",
      "metadata": {
        "id": "7Wh5WdWhkzBc"
      },
      "source": [
        "- Load data into Document Store and Vector Store"
      ]
    },
    {
      "cell_type": "code",
      "execution_count": null,
      "metadata": {
        "id": "GvJbt266kzBc",
        "outputId": "76e062b4-ed7e-48d2-e9e4-b8cb6cfa020b",
        "colab": {
          "base_uri": "https://localhost:8080/",
          "height": 567
        }
      },
      "outputs": [
        {
          "output_type": "stream",
          "name": "stderr",
          "text": [
            "INFO:google.cloud.aiplatform.matching_engine.matching_engine_index:Updating MatchingEngineIndex index: projects/1015881047051/locations/us-central1/indexes/2920316077512589312\n",
            "INFO:google.cloud.aiplatform.matching_engine.matching_engine_index:Update MatchingEngineIndex index backing LRO: projects/1015881047051/locations/us-central1/indexes/2920316077512589312/operations/2856871817048489984\n"
          ]
        },
        {
          "output_type": "error",
          "ename": "TimeoutError",
          "evalue": "Operation did not complete within the designated timeout of 900 seconds.",
          "traceback": [
            "\u001b[0;31m---------------------------------------------------------------------------\u001b[0m",
            "\u001b[0;31m_OperationNotComplete\u001b[0m                     Traceback (most recent call last)",
            "\u001b[0;32m/usr/local/lib/python3.10/dist-packages/google/api_core/retry/retry_unary.py\u001b[0m in \u001b[0;36mretry_target\u001b[0;34m(target, predicate, sleep_generator, timeout, on_error, exception_factory, **kwargs)\u001b[0m\n\u001b[1;32m    143\u001b[0m         \u001b[0;32mtry\u001b[0m\u001b[0;34m:\u001b[0m\u001b[0;34m\u001b[0m\u001b[0;34m\u001b[0m\u001b[0m\n\u001b[0;32m--> 144\u001b[0;31m             \u001b[0mresult\u001b[0m \u001b[0;34m=\u001b[0m \u001b[0mtarget\u001b[0m\u001b[0;34m(\u001b[0m\u001b[0;34m)\u001b[0m\u001b[0;34m\u001b[0m\u001b[0;34m\u001b[0m\u001b[0m\n\u001b[0m\u001b[1;32m    145\u001b[0m             \u001b[0;32mif\u001b[0m \u001b[0minspect\u001b[0m\u001b[0;34m.\u001b[0m\u001b[0misawaitable\u001b[0m\u001b[0;34m(\u001b[0m\u001b[0mresult\u001b[0m\u001b[0;34m)\u001b[0m\u001b[0;34m:\u001b[0m\u001b[0;34m\u001b[0m\u001b[0;34m\u001b[0m\u001b[0m\n",
            "\u001b[0;32m/usr/local/lib/python3.10/dist-packages/google/api_core/future/polling.py\u001b[0m in \u001b[0;36m_done_or_raise\u001b[0;34m(self, retry)\u001b[0m\n\u001b[1;32m    119\u001b[0m         \u001b[0;32mif\u001b[0m \u001b[0;32mnot\u001b[0m \u001b[0mself\u001b[0m\u001b[0;34m.\u001b[0m\u001b[0mdone\u001b[0m\u001b[0;34m(\u001b[0m\u001b[0mretry\u001b[0m\u001b[0;34m=\u001b[0m\u001b[0mretry\u001b[0m\u001b[0;34m)\u001b[0m\u001b[0;34m:\u001b[0m\u001b[0;34m\u001b[0m\u001b[0;34m\u001b[0m\u001b[0m\n\u001b[0;32m--> 120\u001b[0;31m             \u001b[0;32mraise\u001b[0m \u001b[0m_OperationNotComplete\u001b[0m\u001b[0;34m(\u001b[0m\u001b[0;34m)\u001b[0m\u001b[0;34m\u001b[0m\u001b[0;34m\u001b[0m\u001b[0m\n\u001b[0m\u001b[1;32m    121\u001b[0m \u001b[0;34m\u001b[0m\u001b[0m\n",
            "\u001b[0;31m_OperationNotComplete\u001b[0m: ",
            "\nThe above exception was the direct cause of the following exception:\n",
            "\u001b[0;31mRetryError\u001b[0m                                Traceback (most recent call last)",
            "\u001b[0;32m/usr/local/lib/python3.10/dist-packages/google/api_core/future/polling.py\u001b[0m in \u001b[0;36m_blocking_poll\u001b[0;34m(self, timeout, retry, polling)\u001b[0m\n\u001b[1;32m    136\u001b[0m         \u001b[0;32mtry\u001b[0m\u001b[0;34m:\u001b[0m\u001b[0;34m\u001b[0m\u001b[0;34m\u001b[0m\u001b[0m\n\u001b[0;32m--> 137\u001b[0;31m             \u001b[0mpolling\u001b[0m\u001b[0;34m(\u001b[0m\u001b[0mself\u001b[0m\u001b[0;34m.\u001b[0m\u001b[0m_done_or_raise\u001b[0m\u001b[0;34m)\u001b[0m\u001b[0;34m(\u001b[0m\u001b[0mretry\u001b[0m\u001b[0;34m=\u001b[0m\u001b[0mretry\u001b[0m\u001b[0;34m)\u001b[0m\u001b[0;34m\u001b[0m\u001b[0;34m\u001b[0m\u001b[0m\n\u001b[0m\u001b[1;32m    138\u001b[0m         \u001b[0;32mexcept\u001b[0m \u001b[0mexceptions\u001b[0m\u001b[0;34m.\u001b[0m\u001b[0mRetryError\u001b[0m\u001b[0;34m:\u001b[0m\u001b[0;34m\u001b[0m\u001b[0;34m\u001b[0m\u001b[0m\n",
            "\u001b[0;32m/usr/local/lib/python3.10/dist-packages/google/api_core/retry/retry_unary.py\u001b[0m in \u001b[0;36mretry_wrapped_func\u001b[0;34m(*args, **kwargs)\u001b[0m\n\u001b[1;32m    292\u001b[0m             )\n\u001b[0;32m--> 293\u001b[0;31m             return retry_target(\n\u001b[0m\u001b[1;32m    294\u001b[0m                 \u001b[0mtarget\u001b[0m\u001b[0;34m,\u001b[0m\u001b[0;34m\u001b[0m\u001b[0;34m\u001b[0m\u001b[0m\n",
            "\u001b[0;32m/usr/local/lib/python3.10/dist-packages/google/api_core/retry/retry_unary.py\u001b[0m in \u001b[0;36mretry_target\u001b[0;34m(target, predicate, sleep_generator, timeout, on_error, exception_factory, **kwargs)\u001b[0m\n\u001b[1;32m    152\u001b[0m             \u001b[0;31m# defer to shared logic for handling errors\u001b[0m\u001b[0;34m\u001b[0m\u001b[0;34m\u001b[0m\u001b[0m\n\u001b[0;32m--> 153\u001b[0;31m             _retry_error_helper(\n\u001b[0m\u001b[1;32m    154\u001b[0m                 \u001b[0mexc\u001b[0m\u001b[0;34m,\u001b[0m\u001b[0;34m\u001b[0m\u001b[0;34m\u001b[0m\u001b[0m\n",
            "\u001b[0;32m/usr/local/lib/python3.10/dist-packages/google/api_core/retry/retry_base.py\u001b[0m in \u001b[0;36m_retry_error_helper\u001b[0;34m(exc, deadline, next_sleep, error_list, predicate_fn, on_error_fn, exc_factory_fn, original_timeout)\u001b[0m\n\u001b[1;32m    220\u001b[0m         )\n\u001b[0;32m--> 221\u001b[0;31m         \u001b[0;32mraise\u001b[0m \u001b[0mfinal_exc\u001b[0m \u001b[0;32mfrom\u001b[0m \u001b[0msource_exc\u001b[0m\u001b[0;34m\u001b[0m\u001b[0;34m\u001b[0m\u001b[0m\n\u001b[0m\u001b[1;32m    222\u001b[0m     _LOGGER.debug(\n",
            "\u001b[0;31mRetryError\u001b[0m: Timeout of 900.0s exceeded, last exception: ",
            "\nDuring handling of the above exception, another exception occurred:\n",
            "\u001b[0;31mTimeoutError\u001b[0m                              Traceback (most recent call last)",
            "\u001b[0;32m<ipython-input-49-6f3b304b8354>\u001b[0m in \u001b[0;36m<cell line: 14>\u001b[0;34m()\u001b[0m\n\u001b[1;32m     12\u001b[0m \u001b[0;31m# If using Vertex AI Vector Search, this will take a while to complete.\u001b[0m\u001b[0;34m\u001b[0m\u001b[0;34m\u001b[0m\u001b[0m\n\u001b[1;32m     13\u001b[0m \u001b[0;31m# You can cancel this cell and continue later.\u001b[0m\u001b[0;34m\u001b[0m\u001b[0;34m\u001b[0m\u001b[0m\n\u001b[0;32m---> 14\u001b[0;31m \u001b[0mretriever_multi_vector_img\u001b[0m\u001b[0;34m.\u001b[0m\u001b[0mvectorstore\u001b[0m\u001b[0;34m.\u001b[0m\u001b[0madd_documents\u001b[0m\u001b[0;34m(\u001b[0m\u001b[0msummary_docs\u001b[0m\u001b[0;34m)\u001b[0m\u001b[0;34m\u001b[0m\u001b[0;34m\u001b[0m\u001b[0m\n\u001b[0m",
            "\u001b[0;32m/usr/local/lib/python3.10/dist-packages/langchain_core/vectorstores/base.py\u001b[0m in \u001b[0;36madd_documents\u001b[0;34m(self, documents, **kwargs)\u001b[0m\n\u001b[1;32m    489\u001b[0m         \u001b[0mtexts\u001b[0m \u001b[0;34m=\u001b[0m \u001b[0;34m[\u001b[0m\u001b[0mdoc\u001b[0m\u001b[0;34m.\u001b[0m\u001b[0mpage_content\u001b[0m \u001b[0;32mfor\u001b[0m \u001b[0mdoc\u001b[0m \u001b[0;32min\u001b[0m \u001b[0mdocuments\u001b[0m\u001b[0;34m]\u001b[0m\u001b[0;34m\u001b[0m\u001b[0;34m\u001b[0m\u001b[0m\n\u001b[1;32m    490\u001b[0m         \u001b[0mmetadatas\u001b[0m \u001b[0;34m=\u001b[0m \u001b[0;34m[\u001b[0m\u001b[0mdoc\u001b[0m\u001b[0;34m.\u001b[0m\u001b[0mmetadata\u001b[0m \u001b[0;32mfor\u001b[0m \u001b[0mdoc\u001b[0m \u001b[0;32min\u001b[0m \u001b[0mdocuments\u001b[0m\u001b[0;34m]\u001b[0m\u001b[0;34m\u001b[0m\u001b[0;34m\u001b[0m\u001b[0m\n\u001b[0;32m--> 491\u001b[0;31m         \u001b[0;32mreturn\u001b[0m \u001b[0mself\u001b[0m\u001b[0;34m.\u001b[0m\u001b[0madd_texts\u001b[0m\u001b[0;34m(\u001b[0m\u001b[0mtexts\u001b[0m\u001b[0;34m,\u001b[0m \u001b[0mmetadatas\u001b[0m\u001b[0;34m,\u001b[0m \u001b[0;34m**\u001b[0m\u001b[0mkwargs\u001b[0m\u001b[0;34m)\u001b[0m\u001b[0;34m\u001b[0m\u001b[0;34m\u001b[0m\u001b[0m\n\u001b[0m\u001b[1;32m    492\u001b[0m \u001b[0;34m\u001b[0m\u001b[0m\n\u001b[1;32m    493\u001b[0m     async def aadd_documents(\n",
            "\u001b[0;32m/usr/local/lib/python3.10/dist-packages/langchain_google_vertexai/vectorstores/vectorstores.py\u001b[0m in \u001b[0;36madd_texts\u001b[0;34m(self, texts, metadatas, is_complete_overwrite, **kwargs)\u001b[0m\n\u001b[1;32m    202\u001b[0m         \u001b[0membeddings\u001b[0m \u001b[0;34m=\u001b[0m \u001b[0mself\u001b[0m\u001b[0;34m.\u001b[0m\u001b[0m_embeddings\u001b[0m\u001b[0;34m.\u001b[0m\u001b[0membed_documents\u001b[0m\u001b[0;34m(\u001b[0m\u001b[0mtexts\u001b[0m\u001b[0;34m)\u001b[0m\u001b[0;34m\u001b[0m\u001b[0;34m\u001b[0m\u001b[0m\n\u001b[1;32m    203\u001b[0m \u001b[0;34m\u001b[0m\u001b[0m\n\u001b[0;32m--> 204\u001b[0;31m         self._searcher.add_to_index(\n\u001b[0m\u001b[1;32m    205\u001b[0m             \u001b[0mids\u001b[0m\u001b[0;34m,\u001b[0m \u001b[0membeddings\u001b[0m\u001b[0;34m,\u001b[0m \u001b[0mmetadatas\u001b[0m\u001b[0;34m,\u001b[0m \u001b[0mis_complete_overwrite\u001b[0m\u001b[0;34m,\u001b[0m \u001b[0;34m**\u001b[0m\u001b[0mkwargs\u001b[0m\u001b[0;34m\u001b[0m\u001b[0;34m\u001b[0m\u001b[0m\n\u001b[1;32m    206\u001b[0m         )\n",
            "\u001b[0;32m/usr/local/lib/python3.10/dist-packages/langchain_google_vertexai/vectorstores/_searcher.py\u001b[0m in \u001b[0;36madd_to_index\u001b[0;34m(self, ids, embeddings, metadatas, is_complete_overwrite, **kwargs)\u001b[0m\n\u001b[1;32m    130\u001b[0m                     \u001b[0;34m\" be defined.\"\u001b[0m\u001b[0;34m\u001b[0m\u001b[0;34m\u001b[0m\u001b[0m\n\u001b[1;32m    131\u001b[0m                 )\n\u001b[0;32m--> 132\u001b[0;31m             batch_update_index(\n\u001b[0m\u001b[1;32m    133\u001b[0m                 \u001b[0mindex\u001b[0m\u001b[0;34m=\u001b[0m\u001b[0mself\u001b[0m\u001b[0;34m.\u001b[0m\u001b[0m_index\u001b[0m\u001b[0;34m,\u001b[0m\u001b[0;34m\u001b[0m\u001b[0;34m\u001b[0m\u001b[0m\n\u001b[1;32m    134\u001b[0m                 \u001b[0mdata_points\u001b[0m\u001b[0;34m=\u001b[0m\u001b[0mdata_points\u001b[0m\u001b[0;34m,\u001b[0m\u001b[0;34m\u001b[0m\u001b[0;34m\u001b[0m\u001b[0m\n",
            "\u001b[0;32m/usr/local/lib/python3.10/dist-packages/langchain_google_vertexai/vectorstores/_utils.py\u001b[0m in \u001b[0;36mbatch_update_index\u001b[0;34m(index, data_points, staging_bucket, prefix, file_name, is_complete_overwrite)\u001b[0m\n\u001b[1;32m     57\u001b[0m     \u001b[0mcontents_delta_uri\u001b[0m \u001b[0;34m=\u001b[0m \u001b[0;34mf\"gs://{staging_bucket.name}/{prefix}\"\u001b[0m\u001b[0;34m\u001b[0m\u001b[0;34m\u001b[0m\u001b[0m\n\u001b[1;32m     58\u001b[0m \u001b[0;34m\u001b[0m\u001b[0m\n\u001b[0;32m---> 59\u001b[0;31m     index.update_embeddings(\n\u001b[0m\u001b[1;32m     60\u001b[0m         \u001b[0mcontents_delta_uri\u001b[0m\u001b[0;34m=\u001b[0m\u001b[0mcontents_delta_uri\u001b[0m\u001b[0;34m,\u001b[0m\u001b[0;34m\u001b[0m\u001b[0;34m\u001b[0m\u001b[0m\n\u001b[1;32m     61\u001b[0m         \u001b[0mis_complete_overwrite\u001b[0m\u001b[0;34m=\u001b[0m\u001b[0mis_complete_overwrite\u001b[0m\u001b[0;34m,\u001b[0m\u001b[0;34m\u001b[0m\u001b[0;34m\u001b[0m\u001b[0m\n",
            "\u001b[0;32m/usr/local/lib/python3.10/dist-packages/google/cloud/aiplatform/matching_engine/matching_engine_index.py\u001b[0m in \u001b[0;36mupdate_embeddings\u001b[0;34m(self, contents_delta_uri, is_complete_overwrite, request_metadata, update_request_timeout)\u001b[0m\n\u001b[1;32m    392\u001b[0m         )\n\u001b[1;32m    393\u001b[0m \u001b[0;34m\u001b[0m\u001b[0m\n\u001b[0;32m--> 394\u001b[0;31m         \u001b[0mself\u001b[0m\u001b[0;34m.\u001b[0m\u001b[0m_gca_resource\u001b[0m \u001b[0;34m=\u001b[0m \u001b[0mupdate_lro\u001b[0m\u001b[0;34m.\u001b[0m\u001b[0mresult\u001b[0m\u001b[0;34m(\u001b[0m\u001b[0mtimeout\u001b[0m\u001b[0;34m=\u001b[0m\u001b[0;32mNone\u001b[0m\u001b[0;34m)\u001b[0m\u001b[0;34m\u001b[0m\u001b[0;34m\u001b[0m\u001b[0m\n\u001b[0m\u001b[1;32m    395\u001b[0m \u001b[0;34m\u001b[0m\u001b[0m\n\u001b[1;32m    396\u001b[0m         \u001b[0m_LOGGER\u001b[0m\u001b[0;34m.\u001b[0m\u001b[0mlog_action_completed_against_resource\u001b[0m\u001b[0;34m(\u001b[0m\u001b[0;34m\"index\"\u001b[0m\u001b[0;34m,\u001b[0m \u001b[0;34m\"Updated\"\u001b[0m\u001b[0;34m,\u001b[0m \u001b[0mself\u001b[0m\u001b[0;34m)\u001b[0m\u001b[0;34m\u001b[0m\u001b[0;34m\u001b[0m\u001b[0m\n",
            "\u001b[0;32m/usr/local/lib/python3.10/dist-packages/google/api_core/future/polling.py\u001b[0m in \u001b[0;36mresult\u001b[0;34m(self, timeout, retry, polling)\u001b[0m\n\u001b[1;32m    254\u001b[0m         \"\"\"\n\u001b[1;32m    255\u001b[0m \u001b[0;34m\u001b[0m\u001b[0m\n\u001b[0;32m--> 256\u001b[0;31m         \u001b[0mself\u001b[0m\u001b[0;34m.\u001b[0m\u001b[0m_blocking_poll\u001b[0m\u001b[0;34m(\u001b[0m\u001b[0mtimeout\u001b[0m\u001b[0;34m=\u001b[0m\u001b[0mtimeout\u001b[0m\u001b[0;34m,\u001b[0m \u001b[0mretry\u001b[0m\u001b[0;34m=\u001b[0m\u001b[0mretry\u001b[0m\u001b[0;34m,\u001b[0m \u001b[0mpolling\u001b[0m\u001b[0;34m=\u001b[0m\u001b[0mpolling\u001b[0m\u001b[0;34m)\u001b[0m\u001b[0;34m\u001b[0m\u001b[0;34m\u001b[0m\u001b[0m\n\u001b[0m\u001b[1;32m    257\u001b[0m \u001b[0;34m\u001b[0m\u001b[0m\n\u001b[1;32m    258\u001b[0m         \u001b[0;32mif\u001b[0m \u001b[0mself\u001b[0m\u001b[0;34m.\u001b[0m\u001b[0m_exception\u001b[0m \u001b[0;32mis\u001b[0m \u001b[0;32mnot\u001b[0m \u001b[0;32mNone\u001b[0m\u001b[0;34m:\u001b[0m\u001b[0;34m\u001b[0m\u001b[0;34m\u001b[0m\u001b[0m\n",
            "\u001b[0;32m/usr/local/lib/python3.10/dist-packages/google/api_core/future/polling.py\u001b[0m in \u001b[0;36m_blocking_poll\u001b[0;34m(self, timeout, retry, polling)\u001b[0m\n\u001b[1;32m    137\u001b[0m             \u001b[0mpolling\u001b[0m\u001b[0;34m(\u001b[0m\u001b[0mself\u001b[0m\u001b[0;34m.\u001b[0m\u001b[0m_done_or_raise\u001b[0m\u001b[0;34m)\u001b[0m\u001b[0;34m(\u001b[0m\u001b[0mretry\u001b[0m\u001b[0;34m=\u001b[0m\u001b[0mretry\u001b[0m\u001b[0;34m)\u001b[0m\u001b[0;34m\u001b[0m\u001b[0;34m\u001b[0m\u001b[0m\n\u001b[1;32m    138\u001b[0m         \u001b[0;32mexcept\u001b[0m \u001b[0mexceptions\u001b[0m\u001b[0;34m.\u001b[0m\u001b[0mRetryError\u001b[0m\u001b[0;34m:\u001b[0m\u001b[0;34m\u001b[0m\u001b[0;34m\u001b[0m\u001b[0m\n\u001b[0;32m--> 139\u001b[0;31m             raise concurrent.futures.TimeoutError(\n\u001b[0m\u001b[1;32m    140\u001b[0m                 \u001b[0;34mf\"Operation did not complete within the designated timeout of \"\u001b[0m\u001b[0;34m\u001b[0m\u001b[0;34m\u001b[0m\u001b[0m\n\u001b[1;32m    141\u001b[0m                 \u001b[0;34mf\"{polling.timeout} seconds.\"\u001b[0m\u001b[0;34m\u001b[0m\u001b[0;34m\u001b[0m\u001b[0m\n",
            "\u001b[0;31mTimeoutError\u001b[0m: Operation did not complete within the designated timeout of 900 seconds."
          ]
        }
      ],
      "source": [
        "# Raw Document Contents\n",
        "doc_contents = texts + tables + img_base64_list\n",
        "\n",
        "doc_ids = [str(uuid.uuid4()) for _ in doc_contents]\n",
        "summary_docs = [\n",
        "    Document(page_content=s, metadata={id_key: doc_ids[i]})\n",
        "    for i, s in enumerate(text_summaries + table_summaries + image_summaries)\n",
        "]\n",
        "\n",
        "retriever_multi_vector_img.docstore.mset(list(zip(doc_ids, doc_contents)))\n",
        "\n",
        "# If using Vertex AI Vector Search, this will take a while to complete.\n",
        "# You can cancel this cell and continue later.\n",
        "retriever_multi_vector_img.vectorstore.add_documents(summary_docs)"
      ]
    },
    {
      "cell_type": "markdown",
      "metadata": {
        "id": "G1AYYKJikzBd"
      },
      "source": [
        "## Create Chain with Retriever and Gemini LLM"
      ]
    },
    {
      "cell_type": "code",
      "execution_count": null,
      "metadata": {
        "id": "y9BLMOnxkzBd"
      },
      "outputs": [],
      "source": [
        "def looks_like_base64(sb):\n",
        "    \"\"\"Check if the string looks like base64\"\"\"\n",
        "    return re.match(\"^[A-Za-z0-9+/]+[=]{0,2}$\", sb) is not None\n",
        "\n",
        "\n",
        "def is_image_data(b64data):\n",
        "    \"\"\"\n",
        "    Check if the base64 data is an image by looking at the start of the data\n",
        "    \"\"\"\n",
        "    image_signatures = {\n",
        "        b\"\\xFF\\xD8\\xFF\": \"jpg\",\n",
        "        b\"\\x89\\x50\\x4E\\x47\\x0D\\x0A\\x1A\\x0A\": \"png\",\n",
        "        b\"\\x47\\x49\\x46\\x38\": \"gif\",\n",
        "        b\"\\x52\\x49\\x46\\x46\": \"webp\",\n",
        "    }\n",
        "    try:\n",
        "        header = base64.b64decode(b64data)[:8]  # Decode and get the first 8 bytes\n",
        "        for sig, format in image_signatures.items():\n",
        "            if header.startswith(sig):\n",
        "                return True\n",
        "        return False\n",
        "    except Exception:\n",
        "        return False\n",
        "\n",
        "\n",
        "def split_image_text_types(docs):\n",
        "    \"\"\"\n",
        "    Split base64-encoded images and texts\n",
        "    \"\"\"\n",
        "    b64_images = []\n",
        "    texts = []\n",
        "    for doc in docs:\n",
        "        # Check if the document is of type Document and extract page_content if so\n",
        "        if isinstance(doc, Document):\n",
        "            doc = doc.page_content\n",
        "        if looks_like_base64(doc) and is_image_data(doc):\n",
        "            b64_images.append(doc)\n",
        "        else:\n",
        "            texts.append(doc)\n",
        "    return {\"images\": b64_images, \"texts\": texts}\n",
        "\n",
        "\n",
        "def img_prompt_func(data_dict):\n",
        "    \"\"\"\n",
        "    Join the context into a single string\n",
        "    \"\"\"\n",
        "    formatted_texts = \"\\n\".join(data_dict[\"context\"][\"texts\"])\n",
        "    messages = [\n",
        "        {\n",
        "            \"type\": \"text\",\n",
        "            \"text\": (\n",
        "                \"You are financial analyst tasking with providing investment advice.\\n\"\n",
        "                \"You will be given a mix of text, tables, and image(s) usually of charts or graphs.\\n\"\n",
        "                \"Use this information to provide investment advice related to the user's question. \\n\"\n",
        "                f\"User-provided question: {data_dict['question']}\\n\\n\"\n",
        "                \"Text and / or tables:\\n\"\n",
        "                f\"{formatted_texts}\"\n",
        "            ),\n",
        "        }\n",
        "    ]\n",
        "\n",
        "    # Adding image(s) to the messages if present\n",
        "    if data_dict[\"context\"][\"images\"]:\n",
        "        for image in data_dict[\"context\"][\"images\"]:\n",
        "            messages.append(\n",
        "                {\n",
        "                    \"type\": \"image_url\",\n",
        "                    \"image_url\": {\"url\": f\"data:image/jpeg;base64,{image}\"},\n",
        "                }\n",
        "            )\n",
        "    return [HumanMessage(content=messages)]\n",
        "\n",
        "\n",
        "# Create RAG chain\n",
        "chain_multimodal_rag = (\n",
        "    {\n",
        "        \"context\": retriever_multi_vector_img | RunnableLambda(split_image_text_types),\n",
        "        \"question\": RunnablePassthrough(),\n",
        "    }\n",
        "    | RunnableLambda(img_prompt_func)\n",
        "    | ChatVertexAI(\n",
        "        temperature=0, model_name=\"gemini-pro-vision\", max_output_tokens=1024\n",
        "    )  # Multi-modal LLM\n",
        "    | StrOutputParser()\n",
        ")"
      ]
    },
    {
      "cell_type": "markdown",
      "metadata": {
        "id": "7opIB9jskzBd"
      },
      "source": [
        "## Process user query"
      ]
    },
    {
      "cell_type": "code",
      "execution_count": null,
      "metadata": {
        "id": "rZfhBdubkzBd"
      },
      "outputs": [],
      "source": [
        "query = \"\"\"\n",
        " - What are the critical difference between various graphs for Class A Share?\n",
        " - Which index best matches Class A share performance closely where Google is not already a part? Explain the reasoning.\n",
        " - Identify key chart patterns for Google Class A shares.\n",
        " - What is cost of revenues, operating expenses and net income for 2020. Do mention the percentage change\n",
        " - What was the effect of Covid in the 2020 financial year?\n",
        " - What are the total revenues for APAC and USA for 2021?\n",
        " - What is deferred income taxes?\n",
        " - How do you compute net income per share?\n",
        " - What drove percentage change in the consolidated revenue and cost of revenue for the year 2021 and was there any effect of Covid?\n",
        " - What is the cause of 41% increase in revenue from 2020 to 2021 and how much is dollar change?\n",
        "\"\"\""
      ]
    },
    {
      "cell_type": "markdown",
      "metadata": {
        "id": "QjRPK3AwkzBe"
      },
      "source": [
        "### Get Retrieved documents"
      ]
    },
    {
      "cell_type": "code",
      "execution_count": null,
      "metadata": {
        "id": "e5yEOmkZkzBe",
        "outputId": "00654a35-5174-4550-aa59-2110e9444918",
        "colab": {
          "base_uri": "https://localhost:8080/",
          "height": 373
        }
      },
      "outputs": [
        {
          "output_type": "error",
          "ename": "IndexError",
          "evalue": "list index out of range",
          "traceback": [
            "\u001b[0;31m---------------------------------------------------------------------------\u001b[0m",
            "\u001b[0;31mIndexError\u001b[0m                                Traceback (most recent call last)",
            "\u001b[0;32m<ipython-input-52-2dbe6f3f2a6e>\u001b[0m in \u001b[0;36m<cell line: 2>\u001b[0;34m()\u001b[0m\n\u001b[1;32m      1\u001b[0m \u001b[0;31m# List of source documents\u001b[0m\u001b[0;34m\u001b[0m\u001b[0;34m\u001b[0m\u001b[0m\n\u001b[0;32m----> 2\u001b[0;31m \u001b[0mdocs\u001b[0m \u001b[0;34m=\u001b[0m \u001b[0mretriever_multi_vector_img\u001b[0m\u001b[0;34m.\u001b[0m\u001b[0mget_relevant_documents\u001b[0m\u001b[0;34m(\u001b[0m\u001b[0mquery\u001b[0m\u001b[0;34m,\u001b[0m \u001b[0mlimit\u001b[0m\u001b[0;34m=\u001b[0m\u001b[0;36m10\u001b[0m\u001b[0;34m)\u001b[0m\u001b[0;34m\u001b[0m\u001b[0;34m\u001b[0m\u001b[0m\n\u001b[0m\u001b[1;32m      3\u001b[0m \u001b[0;34m\u001b[0m\u001b[0m\n\u001b[1;32m      4\u001b[0m \u001b[0msource_docs\u001b[0m \u001b[0;34m=\u001b[0m \u001b[0msplit_image_text_types\u001b[0m\u001b[0;34m(\u001b[0m\u001b[0mdocs\u001b[0m\u001b[0;34m)\u001b[0m\u001b[0;34m\u001b[0m\u001b[0;34m\u001b[0m\u001b[0m\n\u001b[1;32m      5\u001b[0m \u001b[0;34m\u001b[0m\u001b[0m\n",
            "\u001b[0;32m/usr/local/lib/python3.10/dist-packages/langchain_core/_api/deprecation.py\u001b[0m in \u001b[0;36mwarning_emitting_wrapper\u001b[0;34m(*args, **kwargs)\u001b[0m\n\u001b[1;32m    166\u001b[0m                 \u001b[0mwarned\u001b[0m \u001b[0;34m=\u001b[0m \u001b[0;32mTrue\u001b[0m\u001b[0;34m\u001b[0m\u001b[0;34m\u001b[0m\u001b[0m\n\u001b[1;32m    167\u001b[0m                 \u001b[0memit_warning\u001b[0m\u001b[0;34m(\u001b[0m\u001b[0;34m)\u001b[0m\u001b[0;34m\u001b[0m\u001b[0;34m\u001b[0m\u001b[0m\n\u001b[0;32m--> 168\u001b[0;31m             \u001b[0;32mreturn\u001b[0m \u001b[0mwrapped\u001b[0m\u001b[0;34m(\u001b[0m\u001b[0;34m*\u001b[0m\u001b[0margs\u001b[0m\u001b[0;34m,\u001b[0m \u001b[0;34m**\u001b[0m\u001b[0mkwargs\u001b[0m\u001b[0;34m)\u001b[0m\u001b[0;34m\u001b[0m\u001b[0;34m\u001b[0m\u001b[0m\n\u001b[0m\u001b[1;32m    169\u001b[0m \u001b[0;34m\u001b[0m\u001b[0m\n\u001b[1;32m    170\u001b[0m         \u001b[0;32masync\u001b[0m \u001b[0;32mdef\u001b[0m \u001b[0mawarning_emitting_wrapper\u001b[0m\u001b[0;34m(\u001b[0m\u001b[0;34m*\u001b[0m\u001b[0margs\u001b[0m\u001b[0;34m:\u001b[0m \u001b[0mAny\u001b[0m\u001b[0;34m,\u001b[0m \u001b[0;34m**\u001b[0m\u001b[0mkwargs\u001b[0m\u001b[0;34m:\u001b[0m \u001b[0mAny\u001b[0m\u001b[0;34m)\u001b[0m \u001b[0;34m->\u001b[0m \u001b[0mAny\u001b[0m\u001b[0;34m:\u001b[0m\u001b[0;34m\u001b[0m\u001b[0;34m\u001b[0m\u001b[0m\n",
            "\u001b[0;32m/usr/local/lib/python3.10/dist-packages/langchain_core/retrievers.py\u001b[0m in \u001b[0;36mget_relevant_documents\u001b[0;34m(self, query, callbacks, tags, metadata, run_name, **kwargs)\u001b[0m\n\u001b[1;32m    358\u001b[0m         \u001b[0;32mif\u001b[0m \u001b[0mrun_name\u001b[0m\u001b[0;34m:\u001b[0m\u001b[0;34m\u001b[0m\u001b[0;34m\u001b[0m\u001b[0m\n\u001b[1;32m    359\u001b[0m             \u001b[0mconfig\u001b[0m\u001b[0;34m[\u001b[0m\u001b[0;34m\"run_name\"\u001b[0m\u001b[0;34m]\u001b[0m \u001b[0;34m=\u001b[0m \u001b[0mrun_name\u001b[0m\u001b[0;34m\u001b[0m\u001b[0;34m\u001b[0m\u001b[0m\n\u001b[0;32m--> 360\u001b[0;31m         \u001b[0;32mreturn\u001b[0m \u001b[0mself\u001b[0m\u001b[0;34m.\u001b[0m\u001b[0minvoke\u001b[0m\u001b[0;34m(\u001b[0m\u001b[0mquery\u001b[0m\u001b[0;34m,\u001b[0m \u001b[0mconfig\u001b[0m\u001b[0;34m,\u001b[0m \u001b[0;34m**\u001b[0m\u001b[0mkwargs\u001b[0m\u001b[0;34m)\u001b[0m\u001b[0;34m\u001b[0m\u001b[0;34m\u001b[0m\u001b[0m\n\u001b[0m\u001b[1;32m    361\u001b[0m \u001b[0;34m\u001b[0m\u001b[0m\n\u001b[1;32m    362\u001b[0m     \u001b[0;34m@\u001b[0m\u001b[0mdeprecated\u001b[0m\u001b[0;34m(\u001b[0m\u001b[0msince\u001b[0m\u001b[0;34m=\u001b[0m\u001b[0;34m\"0.1.46\"\u001b[0m\u001b[0;34m,\u001b[0m \u001b[0malternative\u001b[0m\u001b[0;34m=\u001b[0m\u001b[0;34m\"ainvoke\"\u001b[0m\u001b[0;34m,\u001b[0m \u001b[0mremoval\u001b[0m\u001b[0;34m=\u001b[0m\u001b[0;34m\"0.3.0\"\u001b[0m\u001b[0;34m)\u001b[0m\u001b[0;34m\u001b[0m\u001b[0;34m\u001b[0m\u001b[0m\n",
            "\u001b[0;32m/usr/local/lib/python3.10/dist-packages/langchain_core/retrievers.py\u001b[0m in \u001b[0;36minvoke\u001b[0;34m(self, input, config, **kwargs)\u001b[0m\n\u001b[1;32m    219\u001b[0m         \u001b[0;32mexcept\u001b[0m \u001b[0mException\u001b[0m \u001b[0;32mas\u001b[0m \u001b[0me\u001b[0m\u001b[0;34m:\u001b[0m\u001b[0;34m\u001b[0m\u001b[0;34m\u001b[0m\u001b[0m\n\u001b[1;32m    220\u001b[0m             \u001b[0mrun_manager\u001b[0m\u001b[0;34m.\u001b[0m\u001b[0mon_retriever_error\u001b[0m\u001b[0;34m(\u001b[0m\u001b[0me\u001b[0m\u001b[0;34m)\u001b[0m\u001b[0;34m\u001b[0m\u001b[0;34m\u001b[0m\u001b[0m\n\u001b[0;32m--> 221\u001b[0;31m             \u001b[0;32mraise\u001b[0m \u001b[0me\u001b[0m\u001b[0;34m\u001b[0m\u001b[0;34m\u001b[0m\u001b[0m\n\u001b[0m\u001b[1;32m    222\u001b[0m         \u001b[0;32melse\u001b[0m\u001b[0;34m:\u001b[0m\u001b[0;34m\u001b[0m\u001b[0;34m\u001b[0m\u001b[0m\n\u001b[1;32m    223\u001b[0m             run_manager.on_retriever_end(\n",
            "\u001b[0;32m/usr/local/lib/python3.10/dist-packages/langchain_core/retrievers.py\u001b[0m in \u001b[0;36minvoke\u001b[0;34m(self, input, config, **kwargs)\u001b[0m\n\u001b[1;32m    212\u001b[0m             \u001b[0m_kwargs\u001b[0m \u001b[0;34m=\u001b[0m \u001b[0mkwargs\u001b[0m \u001b[0;32mif\u001b[0m \u001b[0mself\u001b[0m\u001b[0;34m.\u001b[0m\u001b[0m_expects_other_args\u001b[0m \u001b[0;32melse\u001b[0m \u001b[0;34m{\u001b[0m\u001b[0;34m}\u001b[0m\u001b[0;34m\u001b[0m\u001b[0;34m\u001b[0m\u001b[0m\n\u001b[1;32m    213\u001b[0m             \u001b[0;32mif\u001b[0m \u001b[0mself\u001b[0m\u001b[0;34m.\u001b[0m\u001b[0m_new_arg_supported\u001b[0m\u001b[0;34m:\u001b[0m\u001b[0;34m\u001b[0m\u001b[0;34m\u001b[0m\u001b[0m\n\u001b[0;32m--> 214\u001b[0;31m                 result = self._get_relevant_documents(\n\u001b[0m\u001b[1;32m    215\u001b[0m                     \u001b[0minput\u001b[0m\u001b[0;34m,\u001b[0m \u001b[0mrun_manager\u001b[0m\u001b[0;34m=\u001b[0m\u001b[0mrun_manager\u001b[0m\u001b[0;34m,\u001b[0m \u001b[0;34m**\u001b[0m\u001b[0m_kwargs\u001b[0m\u001b[0;34m\u001b[0m\u001b[0;34m\u001b[0m\u001b[0m\n\u001b[1;32m    216\u001b[0m                 )\n",
            "\u001b[0;32m/usr/local/lib/python3.10/dist-packages/langchain/retrievers/multi_vector.py\u001b[0m in \u001b[0;36m_get_relevant_documents\u001b[0;34m(self, query, run_manager)\u001b[0m\n\u001b[1;32m     66\u001b[0m             )\n\u001b[1;32m     67\u001b[0m         \u001b[0;32melse\u001b[0m\u001b[0;34m:\u001b[0m\u001b[0;34m\u001b[0m\u001b[0;34m\u001b[0m\u001b[0m\n\u001b[0;32m---> 68\u001b[0;31m             \u001b[0msub_docs\u001b[0m \u001b[0;34m=\u001b[0m \u001b[0mself\u001b[0m\u001b[0;34m.\u001b[0m\u001b[0mvectorstore\u001b[0m\u001b[0;34m.\u001b[0m\u001b[0msimilarity_search\u001b[0m\u001b[0;34m(\u001b[0m\u001b[0mquery\u001b[0m\u001b[0;34m,\u001b[0m \u001b[0;34m**\u001b[0m\u001b[0mself\u001b[0m\u001b[0;34m.\u001b[0m\u001b[0msearch_kwargs\u001b[0m\u001b[0;34m)\u001b[0m\u001b[0;34m\u001b[0m\u001b[0;34m\u001b[0m\u001b[0m\n\u001b[0m\u001b[1;32m     69\u001b[0m \u001b[0;34m\u001b[0m\u001b[0m\n\u001b[1;32m     70\u001b[0m         \u001b[0;31m# We do this to maintain the order of the ids that are returned\u001b[0m\u001b[0;34m\u001b[0m\u001b[0;34m\u001b[0m\u001b[0m\n",
            "\u001b[0;32m/usr/local/lib/python3.10/dist-packages/langchain_google_vertexai/vectorstores/vectorstores.py\u001b[0m in \u001b[0;36msimilarity_search\u001b[0;34m(self, query, k, filter, numeric_filter, **kwargs)\u001b[0m\n\u001b[1;32m    158\u001b[0m         return [\n\u001b[1;32m    159\u001b[0m             \u001b[0mdocument\u001b[0m\u001b[0;34m\u001b[0m\u001b[0;34m\u001b[0m\u001b[0m\n\u001b[0;32m--> 160\u001b[0;31m             for document, _ in self.similarity_search_with_score(\n\u001b[0m\u001b[1;32m    161\u001b[0m                 \u001b[0mquery\u001b[0m\u001b[0;34m,\u001b[0m \u001b[0mk\u001b[0m\u001b[0;34m,\u001b[0m \u001b[0mfilter\u001b[0m\u001b[0;34m,\u001b[0m \u001b[0mnumeric_filter\u001b[0m\u001b[0;34m\u001b[0m\u001b[0;34m\u001b[0m\u001b[0m\n\u001b[1;32m    162\u001b[0m             )\n",
            "\u001b[0;32m/usr/local/lib/python3.10/dist-packages/langchain_google_vertexai/vectorstores/vectorstores.py\u001b[0m in \u001b[0;36msimilarity_search_with_score\u001b[0;34m(self, query, k, filter, numeric_filter)\u001b[0m\n\u001b[1;32m     79\u001b[0m         \u001b[0membbedings\u001b[0m \u001b[0;34m=\u001b[0m \u001b[0mself\u001b[0m\u001b[0;34m.\u001b[0m\u001b[0m_embeddings\u001b[0m\u001b[0;34m.\u001b[0m\u001b[0membed_query\u001b[0m\u001b[0;34m(\u001b[0m\u001b[0mquery\u001b[0m\u001b[0;34m)\u001b[0m\u001b[0;34m\u001b[0m\u001b[0;34m\u001b[0m\u001b[0m\n\u001b[1;32m     80\u001b[0m \u001b[0;34m\u001b[0m\u001b[0m\n\u001b[0;32m---> 81\u001b[0;31m         return self.similarity_search_by_vector_with_score(\n\u001b[0m\u001b[1;32m     82\u001b[0m             \u001b[0membedding\u001b[0m\u001b[0;34m=\u001b[0m\u001b[0membbedings\u001b[0m\u001b[0;34m,\u001b[0m \u001b[0mk\u001b[0m\u001b[0;34m=\u001b[0m\u001b[0mk\u001b[0m\u001b[0;34m,\u001b[0m \u001b[0mfilter\u001b[0m\u001b[0;34m=\u001b[0m\u001b[0mfilter\u001b[0m\u001b[0;34m,\u001b[0m \u001b[0mnumeric_filter\u001b[0m\u001b[0;34m=\u001b[0m\u001b[0mnumeric_filter\u001b[0m\u001b[0;34m\u001b[0m\u001b[0;34m\u001b[0m\u001b[0m\n\u001b[1;32m     83\u001b[0m         )\n",
            "\u001b[0;32m/usr/local/lib/python3.10/dist-packages/langchain_google_vertexai/vectorstores/vectorstores.py\u001b[0m in \u001b[0;36msimilarity_search_by_vector_with_score\u001b[0;34m(self, embedding, k, filter, numeric_filter)\u001b[0m\n\u001b[1;32m    116\u001b[0m         )\n\u001b[1;32m    117\u001b[0m \u001b[0;34m\u001b[0m\u001b[0m\n\u001b[0;32m--> 118\u001b[0;31m         \u001b[0mkeys\u001b[0m \u001b[0;34m=\u001b[0m \u001b[0;34m[\u001b[0m\u001b[0mkey\u001b[0m \u001b[0;32mfor\u001b[0m \u001b[0mkey\u001b[0m\u001b[0;34m,\u001b[0m \u001b[0m_\u001b[0m \u001b[0;32min\u001b[0m \u001b[0mneighbors_list\u001b[0m\u001b[0;34m[\u001b[0m\u001b[0;36m0\u001b[0m\u001b[0;34m]\u001b[0m\u001b[0;34m]\u001b[0m\u001b[0;34m\u001b[0m\u001b[0;34m\u001b[0m\u001b[0m\n\u001b[0m\u001b[1;32m    119\u001b[0m         \u001b[0mdistances\u001b[0m \u001b[0;34m=\u001b[0m \u001b[0;34m[\u001b[0m\u001b[0mdistance\u001b[0m \u001b[0;32mfor\u001b[0m \u001b[0m_\u001b[0m\u001b[0;34m,\u001b[0m \u001b[0mdistance\u001b[0m \u001b[0;32min\u001b[0m \u001b[0mneighbors_list\u001b[0m\u001b[0;34m[\u001b[0m\u001b[0;36m0\u001b[0m\u001b[0;34m]\u001b[0m\u001b[0;34m]\u001b[0m\u001b[0;34m\u001b[0m\u001b[0;34m\u001b[0m\u001b[0m\n\u001b[1;32m    120\u001b[0m         \u001b[0mdocuments\u001b[0m \u001b[0;34m=\u001b[0m \u001b[0mself\u001b[0m\u001b[0;34m.\u001b[0m\u001b[0m_document_storage\u001b[0m\u001b[0;34m.\u001b[0m\u001b[0mmget\u001b[0m\u001b[0;34m(\u001b[0m\u001b[0mkeys\u001b[0m\u001b[0;34m)\u001b[0m\u001b[0;34m\u001b[0m\u001b[0;34m\u001b[0m\u001b[0m\n",
            "\u001b[0;31mIndexError\u001b[0m: list index out of range"
          ]
        }
      ],
      "source": [
        "# List of source documents\n",
        "docs = retriever_multi_vector_img.get_relevant_documents(query, limit=10)\n",
        "\n",
        "source_docs = split_image_text_types(docs)\n",
        "\n",
        "print(source_docs[\"texts\"])\n",
        "\n",
        "for i in source_docs[\"images\"]:\n",
        "    display(Image(base64.b64decode(i)))"
      ]
    },
    {
      "cell_type": "code",
      "source": [
        "source_docs"
      ],
      "metadata": {
        "id": "Y8Fj9v6zvuyQ",
        "outputId": "0974132b-c13d-451b-b3c5-42d5ed3f31a8",
        "colab": {
          "base_uri": "https://localhost:8080/"
        }
      },
      "execution_count": null,
      "outputs": [
        {
          "output_type": "execute_result",
          "data": {
            "text/plain": [
              "{'images': [],\n",
              " 'texts': ['source: https://abc.xyz/assets/investor/static/pdf/20220202_alphabet_10K.pdf source: https://abc.xyz/assets/9a/bd/838c917c4b4ab21f94e84c3c2c65/goog-10-k-q4-2022.pdf Note: Tables and figures are converted to images for demonstration purposes.\\n\\nMARKET FOR REGISTRANT’S COMMON EQUITY, RELATED STOCKHOLDER MATTERS AND ISSUER PURCHASES OF EQUITY SECURITIES\\n\\nAs of October 2, 2015, Alphabet Inc. became the successor issuer of Google Inc. pursuant to Rule 12g-3(a) under the Exchange Act. Our Class A common stock has been listed on the Nasdaq Global Select Market under the symbol “GOOG” since August 19, 2004 and under the symbol \"GOOGL\" since April 3, 2014. Prior to August 19, 2004, there was no public market for our stock. Our Class B common stock is neither listed nor traded. Our Class C capital stock has been listed on the Nasdaq Global Select Market under the symbol “GOOG” since April 3, 2014.\\n\\nHolders of Record\\n\\nAs of December 31, 2021, there were approximately 4,907 and 1,733 stockholders of record of our Class A common stock and Class C capital stock, respectively. Because many of our shares of Class A common stock and Class C capital stock are held by brokers and other institutions on behalf of stockholders, we are unable to estimate the total number of stockholders represented by these record holders. As of December 31, 2021, there were approximately 64 stockholders of record of our Class B common stock.\\n\\nDividend Policy\\n\\nWe have never declared or paid any cash dividend on our common or capital stock. The primary use of capital continues to be to invest for the long-term growth of the business. We regularly evaluate our cash and capital structure, including the size, pace, and form of capital return to stockholders.\\n\\nIssuer Purchases of Equity Securities\\n\\nThe following table presents information with respect to Alphabet\\'s repurchases of Class A common stock and Class C capital stock during the quarter ended December 31, 2021:\\n\\nTotal Number of Approxi Shares lar Value of Purchased Shares that Total Number of Total Numberof A\\\\ Price Ai Price Partof Publicly Yet Be Purchased A Shares Inder Purchased Purchased ClassA Share Class C Share Programs Period (in thousands) \"(in thousands) \"’ bl _*___{inthousands)\" __(in millions) _ October 1 - 31 126 1,445 $ 2,812.76 $ 2,794.72 1.571 § 26,450 November 1 - 30 289 1,393 $ 2,943.97 $ 2,956.73 1,682 $ 21,479 December 1 - 31 250 1,169 $ 2,880.79 $ 2,898.56 1,419 $ 17,371 Total 665 4,007 4,672 () The repurchases are being executed from time to time, subject to general business and market conditions and other investment opportunities, through open market purchases or privately negotiated transactions, including through Rule 10b5-1 plans. The repurchase program does not have an expiration date. See Note 11 of the Notes to Consolidated Financial Statements included in Item 8 of this Annual Report on Form 10-K for additional information related to share repurchases. @ Average price paid per share includes costs associated with the repurchases.',\n",
              "  'Executive Overview\\n\\nThe following table summarizes consolidated financial results for the years ended December 31, 2020 and 2021 unless otherwise specified (in millions, except for per share information and percentages):\\n\\nYear Ended December 31, 2020 2021 $ Change % Change Consolidated revenues $182,527 $257,637 $ 75,110 41% Change in consolidated constant currency revenues 39 % Cost of revenues $ 84,732 $ 110,939 $ 26,207 31% Operating expenses $ 56,571 $ 67,984 $ 11,413 20 % Operating income $ 41,224 $ 78,714 $ 37,490 91% Operating margin 23 % 31 % 8% Other income (expense), net $ 6858 $ 12,020 $ 5,162 75 % Net Income $ 40,269 $ 76,033 $ 35,764 89 % Diluted EPS $ 5861 $ 11220 §$ 53.59 91 % Number of Employees 135,301 156,500 21,199 16 %\\n\\n● Revenues were $257.6 billion, an increase of 41%. The increase in revenues was primarily driven by Google Services and Google Cloud. The adverse effect of COVID-19 on 2020 advertising revenues also contributed to the year-over-year growth.\\n\\n● Cost of revenues was $110.9 billion, an increase of 31%, primarily driven by increases in TAC and content acquisition costs.\\n\\n● An overall increase in data centers and other operations costs was partially offset by a reduction in depreciation expense due to the change in the estimated useful life of our servers and certain network equipment. • Operating expenses were $68.0 billion, an increase of 20%, primarily driven by headcount growth, increases in advertising and promotional expenses and charges related to legal matters.\\n\\nOther information:\\n\\n● Operating cash flow was $91.7 billion, primarily driven by revenues generated from our advertising products.\\n\\n● Share repurchases were $50.3 billion, an increase of 62%. See Note 11 of the Notes to Consolidated Financial Statements included in Item 8 of this Annual Report on Form 10-K for further information.\\n\\n● Capital expenditures, which primarily reflected investments in technical infrastructure, were $24.6 billion.\\n\\n● In January 2021, we updated the useful lives of certain of our servers and network equipment, resulting in a reduction in depreciation expense of $2.6 billion recorded primarily in cost of revenues and R&D. See Note 1 of the Notes to Consolidated Financial Statements included in Item 8 of this Annual Report on Form 10-K for further information.\\n\\n● Our acquisition of Fitbit closed in early January 2021, and the related revenues are included in Google other. See Note 8 of the Notes to Consolidated Financial Statements included in Item 8 of this Annual Report on Form 10-K for further information.\\n\\nhad approved and declared a 20- for-one stock split in the form of a one-time special stock dividend on each share of the Company’s Class A, Class B, and Class C stock. See Note 11 of the Notes to Consolidated Financial Statements included in Item 8 of this Annual Report on Form 10-K for additional information.',\n",
              "  \"Stock Performance Graphs\\n\\nThe graph below matches Alphabet Inc. Class A's cumulative 5-year total stockholder return on common stock with the cumulative total returns of the S&P 500 index, the NASDAQ Composite index, and the RDG Internet Composite index. The graph tracks the performance of a $100 investment in our common stock and in each index (with the reinvestment of all dividends) from December 31, 2016 to December 31, 2021. The returns shown are based on historical results and are not intended to suggest future performance.\\n\\nCOMPARISON OF CUMULATIVE 5-YEAR TOTAL RETURN* ALPHABET INC. CLASS A COMMON STOCK Among Alphabet Inc., the S&P 500 Index, the NASDAQ Composite Index, and the RDG Internet Composite Index $350 $250 $150 $100 BP FSH gg g% gy oF p% gh J gph HK KML LC LS ——— Alphabet Inc. Class A ——— S&P 500 ——— RDG Internet Composite NASDAQ Composite *$100 invested on December 31, 2016 in stock or index, including reinvestment of dividends. Fiscal year ending December 31. Copyright® 2022 S&P, a division of The McGraw-Hill Companies Inc. All rights reserved.\\n\\nThe graph below matches Alphabet Inc. Class A's cumulative 5-year total stockholder return on common stock with the cumulative total returns of the S&P 500 index, the NASDAQ Composite index, and the RDG Internet Composite index. The graph tracks the performance of a $100 investment in our common stock and in each index (with the reinvestment of all dividends) from December 31, 2017 to December 31, 2022. The returns shown are based on historical results and are not intended to suggest future performance.\\n\\nCOMPARISON OF CUMULATIVE 5-YEAR TOTAL RETURN* ALPHABET INC. CLASS A COMMON STOCK Among Alphabet Inc., the S&P 500 Index, the NASDAQ Composite Index, and the RDG Internet Composite Index $400 $350 ~ $300 - $250 - $200 - $150 - $100 $50 ~ $0 “5 T T T T — — — —1— — AnD nD WD DD WD WD 1D GD GO QO GD EW aX Gr Gr GL GV GV oD BF BB ag VM MD MM MWh MMM Mh MMM Alphabet Inc. Class A —— S&P 500 = NASDAQ Composite RDG Internet Composite *$100 invested on December 31, 2017 in stock or index, including reinvestment of dividends. Copyright® 2023 S&P, a division of The McGraw-Hill Companies Inc. All rights reserved.\"]}"
            ]
          },
          "metadata": {},
          "execution_count": 41
        }
      ]
    },
    {
      "cell_type": "markdown",
      "metadata": {
        "id": "7-rTeciJkzBe"
      },
      "source": [
        "### Get generative response"
      ]
    },
    {
      "cell_type": "code",
      "execution_count": null,
      "metadata": {
        "id": "2BvBfSdWkzBe",
        "outputId": "73d677bb-3505-4023-a3f1-d7338ce13d60",
        "colab": {
          "base_uri": "https://localhost:8080/",
          "height": 764
        }
      },
      "outputs": [
        {
          "output_type": "stream",
          "name": "stderr",
          "text": [
            "WARNING:chromadb.segment.impl.vector.local_hnsw:Number of requested results 4 is greater than number of elements in index 3, updating n_results = 3\n"
          ]
        },
        {
          "output_type": "execute_result",
          "data": {
            "text/plain": [
              "<IPython.core.display.Markdown object>"
            ],
            "text/markdown": "**Critical Differences Between Various Graphs for Class A Share**\n\nThe provided text does not contain any information on critical differences between various graphs for Class A shares.\n\n**Index that Best Matches Class A Share Performance Closely Where Google is Not Already a Part**\n\nThe provided text does not contain any information on an index that best matches Class A share performance closely where Google is not already a part.\n\n**Key Chart Patterns for Google Class A Shares**\n\nThe provided text does not contain any information on key chart patterns for Google Class A shares.\n\n**Cost of Revenues, Operating Expenses, and Net Income for 2020**\n\n* Cost of revenues: $84,732 million\n* Operating expenses: $56,571 million\n* Net income: $40,269 million\n\n**Percentage Change in Cost of Revenues, Operating Expenses, and Net Income for 2020**\n\n* Cost of revenues: 31%\n* Operating expenses: 20%\n* Net income: 89%\n\n**Effect of COVID-19 in the 2020 Financial Year**\n\nThe text states that the adverse effect of COVID-19 on 2020 advertising revenues contributed to the year-over-year growth in revenues in 2021.\n\n**Total Revenues for APAC and USA for 2021**\n\nThe provided text does not contain information on total revenues for APAC and USA for 2021.\n\n**Deferred Income Taxes**\n\nThe provided text does not contain any information on deferred income taxes.\n\n**Computation of Net Income Per Share**\n\nThe provided text does not contain any information on how to compute net income per share.\n\n**Percentage Change in Consolidated Revenue and Cost of Revenue for the Year 2021**\n\n* Consolidated revenue: 41%\n* Cost of revenue: 31%\n\n**Effect of COVID-19 on Consolidated Revenue and Cost of Revenue for the Year 2021**\n\nThe text states that the increase in revenues was primarily driven by Google Services and Google Cloud, while the increase in cost of revenues was primarily driven by increases in TAC and content acquisition costs. The adverse effect of COVID-19 on 2020 advertising revenues also contributed to the year-over-year growth in revenues.\n\n**Cause of 41% Increase in Revenue from 2020 to 2021 and Dollar Change**\n\nThe 41% increase in revenue from 2020 to 2021 was primarily driven by Google Services and Google Cloud, as well as the adverse effect of COVID-19 on 2020 advertising revenues. The dollar change in revenue was $75,110 million."
          },
          "metadata": {},
          "execution_count": 42
        }
      ],
      "source": [
        "result = chain_multimodal_rag.invoke(query)\n",
        "\n",
        "Markdown(result)"
      ]
    },
    {
      "cell_type": "markdown",
      "metadata": {
        "id": "KwNrHCqbi3xi"
      },
      "source": [
        "## Conclusions"
      ]
    },
    {
      "cell_type": "markdown",
      "metadata": {
        "id": "05jynhZnkgxn"
      },
      "source": [
        "Congratulations on making it through this multimodal RAG notebook!\n",
        "\n",
        "While multimodal RAG can be quite powerful, note that it can face some limitations:\n",
        "\n",
        "* **Data dependency:** Needs high-accuracy data from the text and visuals.\n",
        "* **Computationally demanding:** Generating embeddings from multimodal data is resource-intensive.\n",
        "* **Domain specific:** Models trained on general data may not shine in specialized fields like medicine.\n",
        "* **Black box:** Understanding how these models work can be tricky, hindering trust and adoption.\n",
        "\n",
        "\n",
        "Despite these challenges, multimodal RAG represents a significant step towards search and retrieval systems that can handle diverse, multimodal data."
      ]
    }
  ],
  "metadata": {
    "colab": {
      "provenance": [],
      "include_colab_link": true
    },
    "environment": {
      "kernel": "python3",
      "name": "common-cpu.m116",
      "type": "gcloud",
      "uri": "gcr.io/deeplearning-platform-release/base-cpu:m116"
    },
    "kernelspec": {
      "display_name": "Python 3 (Local)",
      "language": "python",
      "name": "python3"
    },
    "language_info": {
      "codemirror_mode": {
        "name": "ipython",
        "version": 3
      },
      "file_extension": ".py",
      "mimetype": "text/x-python",
      "name": "python",
      "nbconvert_exporter": "python",
      "pygments_lexer": "ipython3",
      "version": "3.11.0"
    }
  },
  "nbformat": 4,
  "nbformat_minor": 0
}