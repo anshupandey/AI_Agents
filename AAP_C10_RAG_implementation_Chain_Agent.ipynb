{
  "cells": [
    {
      "cell_type": "markdown",
      "metadata": {
        "id": "view-in-github",
        "colab_type": "text"
      },
      "source": [
        "<a href=\"https://colab.research.google.com/github/anshupandey/AI_Agents/blob/main/AAP_C10_RAG_implementation_Chain_Agent.ipynb\" target=\"_parent\"><img src=\"https://colab.research.google.com/assets/colab-badge.svg\" alt=\"Open In Colab\"/></a>"
      ]
    },
    {
      "cell_type": "markdown",
      "metadata": {
        "id": "SpVgBlJNayoI"
      },
      "source": [
        "# RAG Implementation with Vertex AI Gemini Flash and LangChain"
      ]
    },
    {
      "cell_type": "markdown",
      "source": [
        "## 1. Setup & Installation"
      ],
      "metadata": {
        "id": "BHSzA25XJ8F9"
      }
    },
    {
      "cell_type": "code",
      "execution_count": 1,
      "metadata": {
        "colab": {
          "base_uri": "https://localhost:8080/"
        },
        "id": "28d272cd-4e31-40aa-bbb4-0be0a1f49a14",
        "outputId": "9fca44b3-d3b4-4ac3-df88-890050a1e66f"
      },
      "outputs": [
        {
          "output_type": "stream",
          "name": "stdout",
          "text": [
            "\u001b[2K     \u001b[90m━━━━━━━━━━━━━━━━━━━━━━━━━━━━━━━━━━━━━━━━\u001b[0m \u001b[32m366.5/366.5 kB\u001b[0m \u001b[31m3.0 MB/s\u001b[0m eta \u001b[36m0:00:00\u001b[0m\n",
            "\u001b[2K     \u001b[90m━━━━━━━━━━━━━━━━━━━━━━━━━━━━━━━━━━━━━━━━\u001b[0m \u001b[32m2.2/2.2 MB\u001b[0m \u001b[31m12.8 MB/s\u001b[0m eta \u001b[36m0:00:00\u001b[0m\n",
            "\u001b[2K     \u001b[90m━━━━━━━━━━━━━━━━━━━━━━━━━━━━━━━━━━━━━━━━\u001b[0m \u001b[32m91.4/91.4 kB\u001b[0m \u001b[31m4.6 MB/s\u001b[0m eta \u001b[36m0:00:00\u001b[0m\n",
            "\u001b[2K     \u001b[90m━━━━━━━━━━━━━━━━━━━━━━━━━━━━━━━━━━━━━━━━\u001b[0m \u001b[32m129.4/129.4 kB\u001b[0m \u001b[31m5.2 MB/s\u001b[0m eta \u001b[36m0:00:00\u001b[0m\n",
            "\u001b[2K     \u001b[90m━━━━━━━━━━━━━━━━━━━━━━━━━━━━━━━━━━━━━━━━\u001b[0m \u001b[32m987.6/987.6 kB\u001b[0m \u001b[31m10.1 MB/s\u001b[0m eta \u001b[36m0:00:00\u001b[0m\n",
            "\u001b[2K     \u001b[90m━━━━━━━━━━━━━━━━━━━━━━━━━━━━━━━━━━━━━━━━\u001b[0m \u001b[32m49.2/49.2 kB\u001b[0m \u001b[31m2.1 MB/s\u001b[0m eta \u001b[36m0:00:00\u001b[0m\n",
            "\u001b[2K     \u001b[90m━━━━━━━━━━━━━━━━━━━━━━━━━━━━━━━━━━━━━━━━\u001b[0m \u001b[32m141.1/141.1 kB\u001b[0m \u001b[31m1.9 MB/s\u001b[0m eta \u001b[36m0:00:00\u001b[0m\n",
            "\u001b[2K     \u001b[90m━━━━━━━━━━━━━━━━━━━━━━━━━━━━━━━━━━━━━━━━\u001b[0m \u001b[32m64.9/64.9 kB\u001b[0m \u001b[31m2.0 MB/s\u001b[0m eta \u001b[36m0:00:00\u001b[0m\n",
            "\u001b[?25h\u001b[31mERROR: pip's dependency resolver does not currently take into account all the packages that are installed. This behaviour is the source of the following dependency conflicts.\n",
            "google-colab 1.0.0 requires requests==2.31.0, but you have requests 2.32.3 which is incompatible.\u001b[0m\u001b[31m\n",
            "\u001b[2K     \u001b[90m━━━━━━━━━━━━━━━━━━━━━━━━━━━━━━━━━━━━━━━━\u001b[0m \u001b[32m73.0/73.0 kB\u001b[0m \u001b[31m1.1 MB/s\u001b[0m eta \u001b[36m0:00:00\u001b[0m\n",
            "\u001b[2K     \u001b[90m━━━━━━━━━━━━━━━━━━━━━━━━━━━━━━━━━━━━━━━━\u001b[0m \u001b[32m126.5/126.5 kB\u001b[0m \u001b[31m5.0 MB/s\u001b[0m eta \u001b[36m0:00:00\u001b[0m\n",
            "\u001b[2K     \u001b[90m━━━━━━━━━━━━━━━━━━━━━━━━━━━━━━━━━━━━━━━━\u001b[0m \u001b[32m581.4/581.4 kB\u001b[0m \u001b[31m9.0 MB/s\u001b[0m eta \u001b[36m0:00:00\u001b[0m\n",
            "\u001b[2K     \u001b[90m━━━━━━━━━━━━━━━━━━━━━━━━━━━━━━━━━━━━━━━━\u001b[0m \u001b[32m202.7/202.7 kB\u001b[0m \u001b[31m18.5 MB/s\u001b[0m eta \u001b[36m0:00:00\u001b[0m\n",
            "\u001b[2K     \u001b[90m━━━━━━━━━━━━━━━━━━━━━━━━━━━━━━━━━━━━━━━━\u001b[0m \u001b[32m2.4/2.4 MB\u001b[0m \u001b[31m45.2 MB/s\u001b[0m eta \u001b[36m0:00:00\u001b[0m\n",
            "\u001b[2K     \u001b[90m━━━━━━━━━━━━━━━━━━━━━━━━━━━━━━━━━━━━━━━━\u001b[0m \u001b[32m92.2/92.2 kB\u001b[0m \u001b[31m9.9 MB/s\u001b[0m eta \u001b[36m0:00:00\u001b[0m\n",
            "\u001b[2K     \u001b[90m━━━━━━━━━━━━━━━━━━━━━━━━━━━━━━━━━━━━━━━━\u001b[0m \u001b[32m62.4/62.4 kB\u001b[0m \u001b[31m8.9 MB/s\u001b[0m eta \u001b[36m0:00:00\u001b[0m\n",
            "\u001b[2K     \u001b[90m━━━━━━━━━━━━━━━━━━━━━━━━━━━━━━━━━━━━━━━━\u001b[0m \u001b[32m41.3/41.3 kB\u001b[0m \u001b[31m5.2 MB/s\u001b[0m eta \u001b[36m0:00:00\u001b[0m\n",
            "\u001b[2K     \u001b[90m━━━━━━━━━━━━━━━━━━━━━━━━━━━━━━━━━━━━━━━━\u001b[0m \u001b[32m6.8/6.8 MB\u001b[0m \u001b[31m69.9 MB/s\u001b[0m eta \u001b[36m0:00:00\u001b[0m\n",
            "\u001b[2K     \u001b[90m━━━━━━━━━━━━━━━━━━━━━━━━━━━━━━━━━━━━━━━━\u001b[0m \u001b[32m59.9/59.9 kB\u001b[0m \u001b[31m7.5 MB/s\u001b[0m eta \u001b[36m0:00:00\u001b[0m\n",
            "\u001b[2K     \u001b[90m━━━━━━━━━━━━━━━━━━━━━━━━━━━━━━━━━━━━━━━━\u001b[0m \u001b[32m107.0/107.0 kB\u001b[0m \u001b[31m13.0 MB/s\u001b[0m eta \u001b[36m0:00:00\u001b[0m\n",
            "\u001b[2K     \u001b[90m━━━━━━━━━━━━━━━━━━━━━━━━━━━━━━━━━━━━━━━━\u001b[0m \u001b[32m67.3/67.3 kB\u001b[0m \u001b[31m7.4 MB/s\u001b[0m eta \u001b[36m0:00:00\u001b[0m\n",
            "\u001b[?25h  Installing build dependencies ... \u001b[?25l\u001b[?25hdone\n",
            "  Getting requirements to build wheel ... \u001b[?25l\u001b[?25hdone\n",
            "  Preparing metadata (pyproject.toml) ... \u001b[?25l\u001b[?25hdone\n",
            "\u001b[2K     \u001b[90m━━━━━━━━━━━━━━━━━━━━━━━━━━━━━━━━━━━━━━━━\u001b[0m \u001b[32m283.7/283.7 kB\u001b[0m \u001b[31m28.2 MB/s\u001b[0m eta \u001b[36m0:00:00\u001b[0m\n",
            "\u001b[2K     \u001b[90m━━━━━━━━━━━━━━━━━━━━━━━━━━━━━━━━━━━━━━━━\u001b[0m \u001b[32m1.7/1.7 MB\u001b[0m \u001b[31m43.1 MB/s\u001b[0m eta \u001b[36m0:00:00\u001b[0m\n",
            "\u001b[2K     \u001b[90m━━━━━━━━━━━━━━━━━━━━━━━━━━━━━━━━━━━━━━━━\u001b[0m \u001b[32m67.6/67.6 kB\u001b[0m \u001b[31m9.7 MB/s\u001b[0m eta \u001b[36m0:00:00\u001b[0m\n",
            "\u001b[2K     \u001b[90m━━━━━━━━━━━━━━━━━━━━━━━━━━━━━━━━━━━━━━━━\u001b[0m \u001b[32m75.6/75.6 kB\u001b[0m \u001b[31m9.4 MB/s\u001b[0m eta \u001b[36m0:00:00\u001b[0m\n",
            "\u001b[2K     \u001b[90m━━━━━━━━━━━━━━━━━━━━━━━━━━━━━━━━━━━━━━━━\u001b[0m \u001b[32m71.9/71.9 kB\u001b[0m \u001b[31m8.9 MB/s\u001b[0m eta \u001b[36m0:00:00\u001b[0m\n",
            "\u001b[2K     \u001b[90m━━━━━━━━━━━━━━━━━━━━━━━━━━━━━━━━━━━━━━━━\u001b[0m \u001b[32m77.9/77.9 kB\u001b[0m \u001b[31m6.8 MB/s\u001b[0m eta \u001b[36m0:00:00\u001b[0m\n",
            "\u001b[2K     \u001b[90m━━━━━━━━━━━━━━━━━━━━━━━━━━━━━━━━━━━━━━━━\u001b[0m \u001b[32m58.3/58.3 kB\u001b[0m \u001b[31m7.6 MB/s\u001b[0m eta \u001b[36m0:00:00\u001b[0m\n",
            "\u001b[2K     \u001b[90m━━━━━━━━━━━━━━━━━━━━━━━━━━━━━━━━━━━━━━━━\u001b[0m \u001b[32m46.0/46.0 kB\u001b[0m \u001b[31m6.0 MB/s\u001b[0m eta \u001b[36m0:00:00\u001b[0m\n",
            "\u001b[2K     \u001b[90m━━━━━━━━━━━━━━━━━━━━━━━━━━━━━━━━━━━━━━━━\u001b[0m \u001b[32m52.5/52.5 kB\u001b[0m \u001b[31m6.9 MB/s\u001b[0m eta \u001b[36m0:00:00\u001b[0m\n",
            "\u001b[2K     \u001b[90m━━━━━━━━━━━━━━━━━━━━━━━━━━━━━━━━━━━━━━━━\u001b[0m \u001b[32m130.5/130.5 kB\u001b[0m \u001b[31m16.4 MB/s\u001b[0m eta \u001b[36m0:00:00\u001b[0m\n",
            "\u001b[2K     \u001b[90m━━━━━━━━━━━━━━━━━━━━━━━━━━━━━━━━━━━━━━━━\u001b[0m \u001b[32m341.4/341.4 kB\u001b[0m \u001b[31m37.1 MB/s\u001b[0m eta \u001b[36m0:00:00\u001b[0m\n",
            "\u001b[2K     \u001b[90m━━━━━━━━━━━━━━━━━━━━━━━━━━━━━━━━━━━━━━━━\u001b[0m \u001b[32m3.4/3.4 MB\u001b[0m \u001b[31m78.4 MB/s\u001b[0m eta \u001b[36m0:00:00\u001b[0m\n",
            "\u001b[2K     \u001b[90m━━━━━━━━━━━━━━━━━━━━━━━━━━━━━━━━━━━━━━━━\u001b[0m \u001b[32m1.2/1.2 MB\u001b[0m \u001b[31m63.8 MB/s\u001b[0m eta \u001b[36m0:00:00\u001b[0m\n",
            "\u001b[2K     \u001b[90m━━━━━━━━━━━━━━━━━━━━━━━━━━━━━━━━━━━━━━━━\u001b[0m \u001b[32m130.2/130.2 kB\u001b[0m \u001b[31m17.5 MB/s\u001b[0m eta \u001b[36m0:00:00\u001b[0m\n",
            "\u001b[2K     \u001b[90m━━━━━━━━━━━━━━━━━━━━━━━━━━━━━━━━━━━━━━━━\u001b[0m \u001b[32m307.7/307.7 kB\u001b[0m \u001b[31m29.4 MB/s\u001b[0m eta \u001b[36m0:00:00\u001b[0m\n",
            "\u001b[2K     \u001b[90m━━━━━━━━━━━━━━━━━━━━━━━━━━━━━━━━━━━━━━━━\u001b[0m \u001b[32m86.8/86.8 kB\u001b[0m \u001b[31m10.9 MB/s\u001b[0m eta \u001b[36m0:00:00\u001b[0m\n",
            "\u001b[?25h  Building wheel for pypika (pyproject.toml) ... \u001b[?25l\u001b[?25hdone\n"
          ]
        }
      ],
      "source": [
        "!pip install -q -U langchain-core langchain-community langgraph langchain-chroma\n",
        "!pip install --upgrade --quiet google-cloud-aiplatform requests\n",
        "!pip install -q -U langchain-google-vertexai --quiet\n",
        "!pip install -q -U chromadb langchain-experimental pypdf --quiet"
      ]
    },
    {
      "cell_type": "code",
      "source": [
        "import IPython\n",
        "\n",
        "app = IPython.Application.instance()\n",
        "app.kernel.do_shutdown(True)"
      ],
      "metadata": {
        "colab": {
          "base_uri": "https://localhost:8080/"
        },
        "id": "R_SsrYWdJsoh",
        "outputId": "f217b025-23b4-4432-f7a9-2eedb07af1aa"
      },
      "execution_count": 2,
      "outputs": [
        {
          "output_type": "execute_result",
          "data": {
            "text/plain": [
              "{'status': 'ok', 'restart': True}"
            ]
          },
          "metadata": {},
          "execution_count": 2
        }
      ]
    },
    {
      "cell_type": "code",
      "source": [
        "import sys\n",
        "\n",
        "if \"google.colab\" in sys.modules:\n",
        "    from google.colab import auth\n",
        "\n",
        "    auth.authenticate_user()"
      ],
      "metadata": {
        "id": "pwMllwCmJutm"
      },
      "execution_count": 1,
      "outputs": []
    },
    {
      "cell_type": "code",
      "source": [
        "PROJECT_ID = \"jrproject-402905\"  # @param {type:\"string\"}\n",
        "LOCATION = \"us-central1\"  # @param {type:\"string\"}\n",
        "\n",
        "import vertexai\n",
        "\n",
        "vertexai.init(project=PROJECT_ID, location=LOCATION)"
      ],
      "metadata": {
        "id": "0kLiZXZTJyRr"
      },
      "execution_count": 2,
      "outputs": []
    },
    {
      "cell_type": "markdown",
      "source": [
        "## 2. RAG Part 1 : Extract Transform and Load to Vector DB"
      ],
      "metadata": {
        "id": "UdFWZP7GJ_Sz"
      }
    },
    {
      "cell_type": "code",
      "execution_count": 3,
      "metadata": {
        "id": "MGhs4RN7vgXG"
      },
      "outputs": [],
      "source": [
        "doc_paths = [\"https://www.morningstar.com/content/dam/marketing/shared/research/methodology/771945_Morningstar_Rating_for_Funds_Methodology.pdf\",\n",
        "             \"https://www.morningstar.in/docs/methodology/CategoryDefinitionsIndiaV3.pdf\",\n",
        "             \"https://s21.q4cdn.com/198919461/files/doc_downloads/press_kits/2016/Morningstar-Sustainable-Investing-Handbook.pdf\"]"
      ]
    },
    {
      "cell_type": "code",
      "execution_count": 4,
      "metadata": {
        "id": "nhl29sxXD085"
      },
      "outputs": [],
      "source": [
        "from langchain_community.document_loaders import PyPDFLoader\n",
        "from langchain_text_splitters import RecursiveCharacterTextSplitter\n",
        "\n",
        "loaders = [PyPDFLoader(pdf, extract_images=False) for pdf in doc_paths]\n",
        "\n",
        "docs = []\n",
        "\n",
        "for loader in loaders:\n",
        "    doc = loader.load()\n",
        "    docs.extend(doc)"
      ]
    },
    {
      "cell_type": "code",
      "execution_count": 5,
      "metadata": {
        "colab": {
          "base_uri": "https://localhost:8080/"
        },
        "id": "plYaZJcrwZrd",
        "outputId": "401bff87-966b-4131-9f39-ecf4482336c8"
      },
      "outputs": [
        {
          "output_type": "execute_result",
          "data": {
            "text/plain": [
              "46"
            ]
          },
          "metadata": {},
          "execution_count": 5
        }
      ],
      "source": [
        "len(docs)"
      ]
    },
    {
      "cell_type": "code",
      "execution_count": 6,
      "metadata": {
        "colab": {
          "base_uri": "https://localhost:8080/"
        },
        "id": "HVLYgpziwdKD",
        "outputId": "1583d1f8-2e1f-4ef1-bbfa-f618b498f7b2"
      },
      "outputs": [
        {
          "output_type": "execute_result",
          "data": {
            "text/plain": [
              "45"
            ]
          },
          "metadata": {},
          "execution_count": 6
        }
      ],
      "source": [
        "# drop pages which have less than 100 characters (e.g. header pages, empty separater pages)\n",
        "docs = [doc for doc in docs if len(doc.page_content.strip())>100]\n",
        "len(docs)"
      ]
    },
    {
      "cell_type": "code",
      "execution_count": 7,
      "metadata": {
        "colab": {
          "base_uri": "https://localhost:8080/"
        },
        "id": "msEaKLKqwiOE",
        "outputId": "ba21481b-7fd5-4096-99cd-5ef5183c429c"
      },
      "outputs": [
        {
          "output_type": "execute_result",
          "data": {
            "text/plain": [
              "2657.3333333333335"
            ]
          },
          "metadata": {},
          "execution_count": 7
        }
      ],
      "source": [
        "# For all remaining document, checking the average characters count\n",
        "sum(len(doc.page_content) for doc in docs)/len(docs)"
      ]
    },
    {
      "cell_type": "code",
      "execution_count": 8,
      "metadata": {
        "colab": {
          "base_uri": "https://localhost:8080/"
        },
        "id": "qM6hV4DjwkIe",
        "outputId": "7d07ff0d-f32f-460b-ab0f-d32dd8ff4ae9"
      },
      "outputs": [
        {
          "output_type": "execute_result",
          "data": {
            "text/plain": [
              "53"
            ]
          },
          "metadata": {},
          "execution_count": 8
        }
      ],
      "source": [
        "# split the documents(each pdf page as one document) , into multiple so that at max there are 3500 characters in one document, with overlap of 500 characters while splitting\n",
        "text_splitter = RecursiveCharacterTextSplitter(chunk_size=3500, chunk_overlap=500)\n",
        "docs = text_splitter.split_documents(docs)\n",
        "len(docs)"
      ]
    },
    {
      "cell_type": "code",
      "execution_count": 9,
      "metadata": {
        "colab": {
          "base_uri": "https://localhost:8080/"
        },
        "id": "YpYTraoSwmUj",
        "outputId": "35cbca90-0b1e-4eba-c73c-b8c839c08d35"
      },
      "outputs": [
        {
          "output_type": "stream",
          "name": "stdout",
          "text": [
            "3\n",
            "3\n",
            "3\n",
            "©2021 Morningstar, Inc. All rights reserved. The information in this document is the property of Morningstar, Inc. Reproduction or transcription by any means, in whole or in part, without the prior written \n",
            "consent of Morningstar, Inc., is prohibited.\n",
            " The Morningstar RatingTM for Funds    August 2021 Page 2 of 21\n",
            "captured by standard deviation, as would be the case if excess return were normally or lognormally \n",
            "distributed, which is not always the case. Also, standard deviation measures variation both above \n",
            "and below the mean equally. But investors are generally risk-averse and dislike downside variation \n",
            "more than upside variation. Morningstar gives more weight to downside variation when calculating \n",
            "Morningstar Risk-Adjusted Return and does not make any assumptions about the distribution of \n",
            "excess returns.\n",
            "The other commonly accepted meaning of “risk-adjusted” is based on assumed investor preferences. \n",
            "Under this approach, higher return is “good” and higher risk is “bad” under all circumstances, \n",
            "without regard to how these two outcomes are combined. Hence, when grading funds, return \n",
            "should be rewarded and risk penalized in all cases. The Morningstar Risk-Adjusted Return measure \n",
            "described in this document has this property.\n",
            "This document discusses the Morningstar Category as the basis for the rating, and it describes the \n",
            "methodology for calculating risk-adjusted return and the Morningstar Rating. Morningstar calculates \n",
            "ratings at the end of each month.\n",
            "Morningstar Categories\n",
            "Category Peer Groups\n",
            "Morningstar uses the Morningstar Category as the primary peer group for a number of calculations, \n",
            "including percentile ranks, fund-versus-category-average comparisons, and the Morningstar Rating. \n",
            "The Morningstar Rating compares funds’ risk-adjusted historical returns. Its usefulness depends, in \n",
            "part, on which funds are compared with others. \n",
            "It can be assumed that the returns of major asset classes (domestic equities, foreign equities, \n",
            "domestic bonds, and so on) will, over lengthy periods of time, be commensurate with their risk. \n",
            "However, asset class relative returns may not reflect relative risk over ordinary investor time \n",
            "horizons. For instance, in a declining interest-rate environment, investment-grade bond returns can \n",
            "exceed equity returns despite the higher long-term risk of equities; such a situation might continue \n",
            "for months or even years. Under these circumstances many bond funds outperform equity funds for \n",
            "reasons unrelated to the skills of the fund managers.\n",
            "A general principle that applies to the calculation of fund star ratings follows from this fact; that \n",
            "is, the relative star ratings of two funds should be affected more by manager skill than by market \n",
            "circumstances or events that lie beyond the fund managers’ control. \n",
            "Another general principle is that peer groups should reflect the investment opportunities for \n",
            "investors. So, categories are defined and funds are rated within each of the major markets around \n",
            "the world. Morningstar supports different category schemes for different markets based on the \n",
            "investment needs and perspectives of local investors. For example, Morningstar rates high-yield\n"
          ]
        }
      ],
      "source": [
        "print(docs[1].page_content)"
      ]
    },
    {
      "cell_type": "code",
      "source": [
        "%pip install --upgrade --quiet langchain-chroma"
      ],
      "metadata": {
        "id": "IIJwbLibTbLo"
      },
      "execution_count": 10,
      "outputs": []
    },
    {
      "cell_type": "code",
      "source": [
        "from langchain_google_vertexai.embeddings import VertexAIEmbeddings\n",
        "embeddings = VertexAIEmbeddings(model_name=\"textembedding-gecko@001\")"
      ],
      "metadata": {
        "id": "bgKeHUQyRNsF"
      },
      "execution_count": 11,
      "outputs": []
    },
    {
      "cell_type": "code",
      "execution_count": 12,
      "metadata": {
        "id": "gbSAbl22wopB"
      },
      "outputs": [],
      "source": [
        "# loading embedding model from Hugging Face\n",
        "from langchain.embeddings import HuggingFaceBgeEmbeddings\n",
        "embedding_model_name = \"BAAI/bge-large-en-v1.5\"\n",
        "# embeddings = HuggingFaceBgeEmbeddings(model_name=embedding_model_name,)"
      ]
    },
    {
      "cell_type": "code",
      "execution_count": 15,
      "metadata": {
        "colab": {
          "base_uri": "https://localhost:8080/"
        },
        "id": "gf5mK77hWXA7",
        "outputId": "74675552-51f0-4f25-8f63-58d1b9a21b46"
      },
      "outputs": [
        {
          "output_type": "stream",
          "name": "stderr",
          "text": [
            "WARNING:google.cloud.aiplatform.telemetry:Gapic client context issue detected.This can occur due to parallelization.\n",
            "WARNING:google.cloud.aiplatform.telemetry:Gapic client context issue detected.This can occur due to parallelization.\n",
            "WARNING:google.cloud.aiplatform.telemetry:Gapic client context issue detected.This can occur due to parallelization.\n",
            "WARNING:google.cloud.aiplatform.telemetry:Gapic client context issue detected.This can occur due to parallelization.\n"
          ]
        }
      ],
      "source": [
        "# initializng the vector store using CHromaDB\n",
        "from langchain_chroma import Chroma\n",
        "# Using embedding model, to embed documents to vector and store to a vector db (Inmemory vectorDB - FAISS)\n",
        "vectorstore = Chroma.from_documents(documents = docs, embedding=embeddings)\n",
        "\n",
        "# using vector db object to initialize a retriever object - to perform vector search/retrieval\n",
        "retriever = vectorstore.as_retriever(search_type=\"similarity\", search_kwargs={\"k\": 2})"
      ]
    },
    {
      "cell_type": "code",
      "execution_count": 16,
      "metadata": {
        "colab": {
          "base_uri": "https://localhost:8080/"
        },
        "id": "mfJHg61Uw6BP",
        "outputId": "7ba65e96-079a-4ba1-d145-18028adaf1a9"
      },
      "outputs": [
        {
          "output_type": "stream",
          "name": "stderr",
          "text": [
            "WARNING:langchain_core.language_models.llms:Retrying vertexai.language_models._language_models._TextEmbeddingModel.get_embeddings in 4.0 seconds as it raised ResourceExhausted: 429 Quota exceeded for aiplatform.googleapis.com/online_prediction_requests_per_base_model with base model: textembedding-gecko. Please submit a quota increase request. https://cloud.google.com/vertex-ai/docs/generative-ai/quotas-genai..\n",
            "WARNING:langchain_core.language_models.llms:Retrying vertexai.language_models._language_models._TextEmbeddingModel.get_embeddings in 4.0 seconds as it raised ResourceExhausted: 429 Quota exceeded for aiplatform.googleapis.com/online_prediction_requests_per_base_model with base model: textembedding-gecko. Please submit a quota increase request. https://cloud.google.com/vertex-ai/docs/generative-ai/quotas-genai..\n",
            "WARNING:langchain_core.language_models.llms:Retrying vertexai.language_models._language_models._TextEmbeddingModel.get_embeddings in 4.0 seconds as it raised ResourceExhausted: 429 Quota exceeded for aiplatform.googleapis.com/online_prediction_requests_per_base_model with base model: textembedding-gecko. Please submit a quota increase request. https://cloud.google.com/vertex-ai/docs/generative-ai/quotas-genai..\n",
            "WARNING:langchain_core.language_models.llms:Retrying vertexai.language_models._language_models._TextEmbeddingModel.get_embeddings in 8.0 seconds as it raised ResourceExhausted: 429 Quota exceeded for aiplatform.googleapis.com/online_prediction_requests_per_base_model with base model: textembedding-gecko. Please submit a quota increase request. https://cloud.google.com/vertex-ai/docs/generative-ai/quotas-genai..\n"
          ]
        },
        {
          "output_type": "execute_result",
          "data": {
            "text/plain": [
              "2"
            ]
          },
          "metadata": {},
          "execution_count": 16
        }
      ],
      "source": [
        "retrieved_docs = retriever.invoke(\"What is Large Cap equity fund\")\n",
        "len(retrieved_docs)"
      ]
    },
    {
      "cell_type": "code",
      "execution_count": 17,
      "metadata": {
        "colab": {
          "base_uri": "https://localhost:8080/"
        },
        "id": "DNIGp-p9w6BV",
        "outputId": "dbbbbb65-586b-4988-8d03-c59aa05a77e5"
      },
      "outputs": [
        {
          "output_type": "stream",
          "name": "stdout",
          "text": [
            "?  \n",
            " \n",
            " \n",
            " \n",
            " \n",
            " \n",
            " \n",
            " \n",
            " \n",
            " \n",
            " \n",
            " Categor y Definitions  \n",
            "India \n",
            "Equity  \n",
            " \n",
            "Large-Cap \n",
            "Large-Cap funds primarily consist of stocks which a re the Top 100 stocks by full market capitalization  of \n",
            "the equity market. These funds invest at least 80% of total assets in Indian equities and the balance can \n",
            "be invested in other asset classes such as fixed in come and overseas equities, among others. Funds in \n",
            "this category would invest at least 80% of their to tal assets in large-cap stocks. \n",
            "Morningstar Category Index: S&P BSE 100 TR \n",
            " \n",
            "Mid-Cap \n",
            "Mid-Cap funds primarily consist of stocks ranked 10 1st to 250th by full market capitalization of the \n",
            "equity market. These funds invest at least 65% of t otal assets in Indian equities, and the balance can  be \n",
            "invested in other asset classes such as fixed incom e and overseas equities, among others. Funds in thi s \n",
            "category would invest at least 65% of their total a ssets in mid-cap stocks. \n",
            "Morningstar Category Index: S&P BSE Mid Cap TR \n",
            " \n",
            "Small-Cap \n",
            "Small-Cap funds primarily consist of stocks ranked 251st onwards by full market capitalization of the \n",
            "equity market. These funds invest at least 65% of t otal assets in Indian equities, and the balance can  be \n",
            "invested in other asset classes such as fixed incom e and overseas equities, among others. Funds in thi s \n",
            "category would invest at least 65% of their total a ssets in small-cap stocks. \n",
            "Morningstar Category Index: S&P BSE Small Cap TR \n",
            " \n",
            "Flexi Cap \n",
            "Flexi Cap funds invest at least 65% of their total assets in Indian equities, and the balance can be \n",
            "invested in other asset classes such as fixed incom e and overseas equities, among others. These funds \n",
            "will invest into a mix of Large, Mid and small-cap stocks. \n",
            "Morningstar Category Index: S&P BSE 500 TR \n",
            " \n",
            " \n",
            " Morningstar Research  \n",
            "April 2021\n"
          ]
        }
      ],
      "source": [
        "print(retrieved_docs[0].page_content)"
      ]
    },
    {
      "cell_type": "code",
      "execution_count": 18,
      "metadata": {
        "colab": {
          "base_uri": "https://localhost:8080/"
        },
        "id": "6tMaR7AVw6BV",
        "outputId": "38edae1c-25da-427f-abb8-cec983ede67c"
      },
      "outputs": [
        {
          "output_type": "stream",
          "name": "stdout",
          "text": [
            "©2019 Morningstar, Inc. All rights reserved. The in formation in this document is the property of Morni ngstar, Inc. Reproduction or transcription by any m eans, in whole or part, without  \n",
            "the prior written consent of Morningstar, Inc., is prohibited. Category Definitions , India  | 26 February 2021  Page 2 of 12  Multi- Cap Multi-Cap funds invest at least 75% of their total assets in Indian equities, and the balance can be invested in other asset classes such as fixed incom e and overseas equities, among others. These funds will invest a minimum of 25% each in Large Cap, Mid  Cap and Small Cap stocks. Morningstar Category Index: S&P BSE 500 TR   Large & Mid- Cap Large & Mid-Cap funds primarily consist of stocks w hich are the Top 250 stocks by full market capitalization of the equity market. These funds in vest at least 70% of total assets in Indian equitie s and the balance can be invested in other asset classes such as fixed income and overseas equities, among others. Funds in this category would invest at leas t 35% of their total assets in large-cap stocks and  35% of their total assets in mid-cap stocks. Morningstar Category Index: S&P BSE 200 TR   Global – Other Global – Other funds include those funds that inves t at least 65% of total assets in instruments issue d by overseas i.e. non-Indian companies. In addition, fu nds that invest at least 65% of total assets in exchange traded funds, fund of funds domiciled outs ide India are also included in this category. [Funds in this category do not receive a Morningsta r Rating™ due to the diverse nature of the constituents.]  ELSS (Equity Linked Saving Schemes) These funds are notified as ELSS by SEBI under Sect ion 10 (23D). Investments of up to Rs 150,000 in a financial year in these funds are exempt from Incom e Tax under Section 80C of the Income Tax Act, 1961. Investments in ELSS are subject to a lock-in of three years from the date of investment. Morningstar Category Index: S&P BSE 200 TR  Value Funds   Value funds invest at least 65% of their total asse ts in Indian equities, and the balance can be inves ted in other asset classes such as fixed income and overse as equities, among others. These funds will predominantly invest in value stocks. Morningstar Category Index: S&P BSE 500 TR  Contra Funds  Contra funds invest at least 65% of their total ass ets in Indian equities, and the balance can be inve sted in other asset classes such as fixed income and ove rseas equities, among others. These funds will predominantly invest using a contrarian investment theme. Morningstar Category Index: S&P BSE 500 TR\n"
          ]
        }
      ],
      "source": [
        "print(retrieved_docs[1].page_content)"
      ]
    },
    {
      "cell_type": "markdown",
      "metadata": {
        "id": "RvXc0hT1WXA8"
      },
      "source": [
        "### Implementing RAG Chain"
      ]
    },
    {
      "cell_type": "code",
      "execution_count": 19,
      "metadata": {
        "id": "7gnVfKs6WXA-"
      },
      "outputs": [],
      "source": [
        "from langchain_core.prompts import ChatPromptTemplate\n",
        "from langchain_core.runnables import RunnablePassthrough\n",
        "\n",
        "message = \"\"\"\n",
        "Answer this question using the provided context only.\n",
        "\n",
        "{question}\n",
        "\n",
        "Context:\n",
        "{context}\n",
        "\"\"\"\n",
        "\n",
        "prompt = ChatPromptTemplate.from_messages([(\"human\", message)])"
      ]
    },
    {
      "cell_type": "code",
      "execution_count": 20,
      "metadata": {
        "id": "1UINbA2JWXA-"
      },
      "outputs": [],
      "source": [
        "from langchain_google_vertexai import ChatVertexAI\n",
        "llm = ChatVertexAI(model=\"gemini-1.5-flash-001\")\n",
        "\n",
        "rag_chain = {\"context\": retriever, \"question\": RunnablePassthrough()} | prompt | llm\n"
      ]
    },
    {
      "cell_type": "code",
      "execution_count": 21,
      "metadata": {
        "colab": {
          "base_uri": "https://localhost:8080/"
        },
        "id": "K1jEtJ4oWXA-",
        "outputId": "b276a7d6-f87c-4f84-95ef-a6c57c2d2757"
      },
      "outputs": [
        {
          "output_type": "stream",
          "name": "stdout",
          "text": [
            "Mid-Cap funds primarily invest in stocks ranked 101st to 250th by market capitalization. They must invest at least 65% of their assets in Indian equities, with the remaining portion potentially invested in fixed income, overseas equities, or other asset classes. The Morningstar Category Index for Mid-Cap funds is the S&P BSE Mid Cap TR. \n",
            "\n"
          ]
        }
      ],
      "source": [
        "response = rag_chain.invoke(\"tell me about mid cap market\")\n",
        "\n",
        "print(response.content)"
      ]
    },
    {
      "cell_type": "markdown",
      "metadata": {
        "id": "N6QXH5AIWXA_"
      },
      "source": [
        "### Implementing RAG Agent"
      ]
    },
    {
      "cell_type": "markdown",
      "metadata": {
        "id": "JdZHbTzmWXBA"
      },
      "source": [
        "### Creating retriever Tool"
      ]
    },
    {
      "cell_type": "code",
      "execution_count": 30,
      "metadata": {
        "id": "5w4_XN7eWXBC"
      },
      "outputs": [],
      "source": [
        "from langchain.tools.retriever import create_retriever_tool\n",
        "\n",
        "tool = create_retriever_tool(\n",
        "    retriever,\n",
        "    \"searchCapitalMarket\",\n",
        "    \"Searches and returns excerpts about trading stocks markets shares capital markets, DO not use it for any other info than that of capital market/ finance questions\",\n",
        ")\n",
        "\n",
        "\n",
        "from langchain.agents import Tool\n",
        "tool_list = [Tool(name = \"CaptialMakrket\", func=tool,\n",
        "        description=\"Tool to get information about capital markets, stocks, trading and finance\",\n",
        "        return_direct=False),]"
      ]
    },
    {
      "cell_type": "code",
      "source": [
        "from langchain_core.prompts import ChatPromptTemplate\n",
        "\n",
        "prompt = ChatPromptTemplate.from_messages(\n",
        "    [\n",
        "        (\"system\", \"You are a helpful assistant\"),\n",
        "        (\"human\", \"{input}\"),\n",
        "        # Placeholders fill up a **list** of messages\n",
        "        (\"placeholder\", \"{agent_scratchpad}\"),\n",
        "    ]\n",
        ")\n",
        "prompt"
      ],
      "metadata": {
        "colab": {
          "base_uri": "https://localhost:8080/"
        },
        "id": "T0UtURHXZ-I-",
        "outputId": "1d36ac86-1ab4-4b0b-b256-c21e8c114e40"
      },
      "execution_count": 31,
      "outputs": [
        {
          "output_type": "execute_result",
          "data": {
            "text/plain": [
              "ChatPromptTemplate(input_variables=['input'], optional_variables=['agent_scratchpad'], input_types={'agent_scratchpad': typing.List[typing.Union[langchain_core.messages.ai.AIMessage, langchain_core.messages.human.HumanMessage, langchain_core.messages.chat.ChatMessage, langchain_core.messages.system.SystemMessage, langchain_core.messages.function.FunctionMessage, langchain_core.messages.tool.ToolMessage]]}, partial_variables={'agent_scratchpad': []}, messages=[SystemMessagePromptTemplate(prompt=PromptTemplate(input_variables=[], template='You are a helpful assistant')), HumanMessagePromptTemplate(prompt=PromptTemplate(input_variables=['input'], template='{input}')), MessagesPlaceholder(variable_name='agent_scratchpad', optional=True)])"
            ]
          },
          "metadata": {},
          "execution_count": 31
        }
      ]
    },
    {
      "cell_type": "code",
      "execution_count": 32,
      "metadata": {
        "id": "6j64VZANWXBD"
      },
      "outputs": [],
      "source": [
        "from langchain_google_vertexai import ChatVertexAI\n",
        "llm = ChatVertexAI(model=\"gemini-1.5-flash-001\")"
      ]
    },
    {
      "cell_type": "code",
      "source": [
        "from langgraph.prebuilt import create_react_agent\n",
        "\n",
        "agent_executor = create_react_agent(llm, [tool,])"
      ],
      "metadata": {
        "id": "W0Bb3E5alzz4"
      },
      "execution_count": 38,
      "outputs": []
    },
    {
      "cell_type": "code",
      "source": [
        "from langchain_core.messages import AIMessage, HumanMessage\n",
        "query = \"Hi\"\n",
        "\n",
        "for s in agent_executor.stream(\n",
        "    {\"messages\": [HumanMessage(content=query)]},\n",
        "):\n",
        "    print(s)\n",
        "    print(\"----\")"
      ],
      "metadata": {
        "colab": {
          "base_uri": "https://localhost:8080/"
        },
        "id": "9StnBSI1l2ni",
        "outputId": "ff1fcdd9-c784-448d-d0bc-5485506ae16b"
      },
      "execution_count": 40,
      "outputs": [
        {
          "output_type": "stream",
          "name": "stdout",
          "text": [
            "{'agent': {'messages': [AIMessage(content='Hello! 👋 How can I help you today? 😊 \\n', response_metadata={'is_blocked': False, 'safety_ratings': [{'category': 'HARM_CATEGORY_HATE_SPEECH', 'probability_label': 'NEGLIGIBLE', 'blocked': False, 'severity': 'HARM_SEVERITY_NEGLIGIBLE'}, {'category': 'HARM_CATEGORY_DANGEROUS_CONTENT', 'probability_label': 'NEGLIGIBLE', 'blocked': False, 'severity': 'HARM_SEVERITY_NEGLIGIBLE'}, {'category': 'HARM_CATEGORY_HARASSMENT', 'probability_label': 'NEGLIGIBLE', 'blocked': False, 'severity': 'HARM_SEVERITY_NEGLIGIBLE'}, {'category': 'HARM_CATEGORY_SEXUALLY_EXPLICIT', 'probability_label': 'NEGLIGIBLE', 'blocked': False, 'severity': 'HARM_SEVERITY_NEGLIGIBLE'}], 'usage_metadata': {'prompt_token_count': 46, 'candidates_token_count': 13, 'total_token_count': 59}}, id='run-9ec52303-ade7-4153-a6a2-ba35fde7f8fb-0', usage_metadata={'input_tokens': 46, 'output_tokens': 13, 'total_tokens': 59})]}}\n",
            "----\n"
          ]
        }
      ]
    },
    {
      "cell_type": "code",
      "execution_count": 41,
      "metadata": {
        "id": "z4hBtdV67QQ4",
        "colab": {
          "base_uri": "https://localhost:8080/"
        },
        "outputId": "b95a93c2-295e-4d89-d86a-3c367ebced25"
      },
      "outputs": [
        {
          "output_type": "stream",
          "name": "stderr",
          "text": [
            "WARNING:langchain_core.language_models.llms:Retrying langchain_google_vertexai.chat_models._completion_with_retry.<locals>._completion_with_retry_inner in 4.0 seconds as it raised ResourceExhausted: 429 Quota exceeded for aiplatform.googleapis.com/generate_content_requests_per_minute_per_project_per_base_model with base model: gemini-1.5-flash. Please submit a quota increase request. https://cloud.google.com/vertex-ai/docs/generative-ai/quotas-genai..\n",
            "WARNING:langchain_core.language_models.llms:Retrying langchain_google_vertexai.chat_models._completion_with_retry.<locals>._completion_with_retry_inner in 4.0 seconds as it raised ResourceExhausted: 429 Quota exceeded for aiplatform.googleapis.com/generate_content_requests_per_minute_per_project_per_base_model with base model: gemini-1.5-flash. Please submit a quota increase request. https://cloud.google.com/vertex-ai/docs/generative-ai/quotas-genai..\n",
            "WARNING:langchain_core.language_models.llms:Retrying langchain_google_vertexai.chat_models._completion_with_retry.<locals>._completion_with_retry_inner in 4.0 seconds as it raised ResourceExhausted: 429 Quota exceeded for aiplatform.googleapis.com/generate_content_requests_per_minute_per_project_per_base_model with base model: gemini-1.5-flash. Please submit a quota increase request. https://cloud.google.com/vertex-ai/docs/generative-ai/quotas-genai..\n",
            "WARNING:langchain_core.language_models.llms:Retrying langchain_google_vertexai.chat_models._completion_with_retry.<locals>._completion_with_retry_inner in 8.0 seconds as it raised ResourceExhausted: 429 Quota exceeded for aiplatform.googleapis.com/generate_content_requests_per_minute_per_project_per_base_model with base model: gemini-1.5-flash. Please submit a quota increase request. https://cloud.google.com/vertex-ai/docs/generative-ai/quotas-genai..\n"
          ]
        },
        {
          "output_type": "stream",
          "name": "stdout",
          "text": [
            "{'agent': {'messages': [AIMessage(content='', additional_kwargs={'function_call': {'name': 'searchCapitalMarket', 'arguments': '{\"query\": \"What is large cap capital market?\"}'}}, response_metadata={'is_blocked': False, 'safety_ratings': [{'category': 'HARM_CATEGORY_HATE_SPEECH', 'probability_label': 'NEGLIGIBLE', 'blocked': False, 'severity': 'HARM_SEVERITY_NEGLIGIBLE'}, {'category': 'HARM_CATEGORY_DANGEROUS_CONTENT', 'probability_label': 'NEGLIGIBLE', 'blocked': False, 'severity': 'HARM_SEVERITY_LOW'}, {'category': 'HARM_CATEGORY_HARASSMENT', 'probability_label': 'NEGLIGIBLE', 'blocked': False, 'severity': 'HARM_SEVERITY_NEGLIGIBLE'}, {'category': 'HARM_CATEGORY_SEXUALLY_EXPLICIT', 'probability_label': 'NEGLIGIBLE', 'blocked': False, 'severity': 'HARM_SEVERITY_NEGLIGIBLE'}], 'usage_metadata': {'prompt_token_count': 52, 'candidates_token_count': 11, 'total_token_count': 63}}, id='run-2497ab25-7e11-4aa1-8eab-11d7e066de87-0', tool_calls=[{'name': 'searchCapitalMarket', 'args': {'query': 'What is large cap capital market?'}, 'id': '45af63fe-02c7-4a0a-bfce-c2ea0163fd82', 'type': 'tool_call'}], usage_metadata={'input_tokens': 52, 'output_tokens': 11, 'total_tokens': 63})]}}\n",
            "----\n",
            "{'tools': {'messages': [ToolMessage(content='?  \\n \\n \\n \\n \\n \\n \\n \\n \\n \\n \\n Categor y Definitions  \\nIndia \\nEquity  \\n \\nLarge-Cap \\nLarge-Cap funds primarily consist of stocks which a re the Top 100 stocks by full market capitalization  of \\nthe equity market. These funds invest at least 80% of total assets in Indian equities and the balance can \\nbe invested in other asset classes such as fixed in come and overseas equities, among others. Funds in \\nthis category would invest at least 80% of their to tal assets in large-cap stocks. \\nMorningstar Category Index: S&P BSE 100 TR \\n \\nMid-Cap \\nMid-Cap funds primarily consist of stocks ranked 10 1st to 250th by full market capitalization of the \\nequity market. These funds invest at least 65% of t otal assets in Indian equities, and the balance can  be \\ninvested in other asset classes such as fixed incom e and overseas equities, among others. Funds in thi s \\ncategory would invest at least 65% of their total a ssets in mid-cap stocks. \\nMorningstar Category Index: S&P BSE Mid Cap TR \\n \\nSmall-Cap \\nSmall-Cap funds primarily consist of stocks ranked 251st onwards by full market capitalization of the \\nequity market. These funds invest at least 65% of t otal assets in Indian equities, and the balance can  be \\ninvested in other asset classes such as fixed incom e and overseas equities, among others. Funds in thi s \\ncategory would invest at least 65% of their total a ssets in small-cap stocks. \\nMorningstar Category Index: S&P BSE Small Cap TR \\n \\nFlexi Cap \\nFlexi Cap funds invest at least 65% of their total assets in Indian equities, and the balance can be \\ninvested in other asset classes such as fixed incom e and overseas equities, among others. These funds \\nwill invest into a mix of Large, Mid and small-cap stocks. \\nMorningstar Category Index: S&P BSE 500 TR \\n \\n \\n Morningstar Research  \\nApril 2021\\n\\n©2019 Morningstar, Inc. All rights reserved. The in formation in this document is the property of Morni ngstar, Inc. Reproduction or transcription by any m eans, in whole or part, without  \\nthe prior written consent of Morningstar, Inc., is prohibited. Category Definitions , India  | 26 February 2021  Page 11  of 12  Money Market  Liquid Liquid funds primarily invest in investment-grade f ixed-income securities with maturities of up to 91 days. Given their focus on instruments with a short  duration, they offer minimal interest-rate sensiti vity. They typically invest in treasury bills, call money , commercial papers and certificate of deposits, am ong others. Morningstar Category Index: CRISIL Liquid Fund Inde x  Overnight Overnight funds primarily invest in overnight secur ities with maturities of 1 day. Given their focus o n instruments with a short duration, they offer minim al interest-rate sensitivity.   Morningstar Category Index: CRISIL Liquid Fund Inde x.  K', name='searchCapitalMarket', tool_call_id='45af63fe-02c7-4a0a-bfce-c2ea0163fd82')]}}\n",
            "----\n",
            "{'agent': {'messages': [AIMessage(content='Large-cap funds primarily consist of stocks which are the Top 100 stocks by full market capitalization of the equity market. These funds invest at least 80% of total assets in Indian equities and the balance can be invested in other asset classes such as fixed income and overseas equities, among others. \\n', response_metadata={'is_blocked': False, 'safety_ratings': [{'category': 'HARM_CATEGORY_HATE_SPEECH', 'probability_label': 'NEGLIGIBLE', 'blocked': False, 'severity': 'HARM_SEVERITY_NEGLIGIBLE'}, {'category': 'HARM_CATEGORY_DANGEROUS_CONTENT', 'probability_label': 'NEGLIGIBLE', 'blocked': False, 'severity': 'HARM_SEVERITY_NEGLIGIBLE'}, {'category': 'HARM_CATEGORY_HARASSMENT', 'probability_label': 'NEGLIGIBLE', 'blocked': False, 'severity': 'HARM_SEVERITY_NEGLIGIBLE'}, {'category': 'HARM_CATEGORY_SEXUALLY_EXPLICIT', 'probability_label': 'NEGLIGIBLE', 'blocked': False, 'severity': 'HARM_SEVERITY_NEGLIGIBLE'}], 'usage_metadata': {'prompt_token_count': 797, 'candidates_token_count': 64, 'total_token_count': 861}}, id='run-80d60115-81e1-487f-b29d-b1c41e6e6e98-0', usage_metadata={'input_tokens': 797, 'output_tokens': 64, 'total_tokens': 861})]}}\n",
            "----\n"
          ]
        }
      ],
      "source": [
        "from langchain_core.messages import AIMessage, HumanMessage\n",
        "query = \"What is large cap capital market?\"\n",
        "\n",
        "for s in agent_executor.stream(\n",
        "    {\"messages\": [HumanMessage(content=query)]},\n",
        "):\n",
        "    print(s)\n",
        "    print(\"----\")"
      ]
    },
    {
      "cell_type": "code",
      "execution_count": null,
      "metadata": {
        "id": "UoumLqEn7QNf"
      },
      "outputs": [],
      "source": []
    },
    {
      "cell_type": "code",
      "execution_count": null,
      "metadata": {
        "id": "X5rhhNSE7Q50"
      },
      "outputs": [],
      "source": []
    }
  ],
  "metadata": {
    "colab": {
      "provenance": [],
      "include_colab_link": true
    },
    "kernelspec": {
      "display_name": "Python 3",
      "name": "python3"
    },
    "language_info": {
      "codemirror_mode": {
        "name": "ipython",
        "version": 3
      },
      "file_extension": ".py",
      "mimetype": "text/x-python",
      "name": "python",
      "nbconvert_exporter": "python",
      "pygments_lexer": "ipython3",
      "version": "3.10.9"
    }
  },
  "nbformat": 4,
  "nbformat_minor": 0
}