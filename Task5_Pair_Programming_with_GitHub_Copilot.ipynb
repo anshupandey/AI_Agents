{
  "cells": [
    {
      "cell_type": "markdown",
      "metadata": {
        "id": "view-in-github",
        "colab_type": "text"
      },
      "source": [
        "<a href=\"https://colab.research.google.com/github/anshupandey/AI_Agents/blob/main/Task5_Pair_Programming_with_GitHub_Copilot.ipynb\" target=\"_parent\"><img src=\"https://colab.research.google.com/assets/colab-badge.svg\" alt=\"Open In Colab\"/></a>"
      ]
    },
    {
      "cell_type": "markdown",
      "id": "549ca679",
      "metadata": {
        "id": "549ca679"
      },
      "source": [
        "# Pair Programming with GitHub Copilot Practice Exercises"
      ]
    },
    {
      "cell_type": "markdown",
      "id": "411f76ca",
      "metadata": {
        "id": "411f76ca"
      },
      "source": [
        "## Code Debugging"
      ]
    },
    {
      "cell_type": "markdown",
      "id": "d9a138b6",
      "metadata": {
        "id": "d9a138b6"
      },
      "source": [
        "\n",
        "### Task:\n",
        "- **Scenario:** Participants are provided with a Python script that calculates the factorial of a number but contains several bugs.\n",
        "- **Objective:** Identify and fix the bugs in the code using GitHub Copilot's suggestions.\n",
        "- **Instructions:**\n",
        "  1. Review the provided code.\n",
        "  2. Identify the bugs and incorrect logic.\n",
        "  3. Use GitHub Copilot to assist in debugging and fixing the code.\n",
        "\n",
        "#### Sample Code with Bugs:\n",
        "```python\n",
        "def factorial(n):\n",
        "    if n == 0:\n",
        "        return 1\n",
        "    else:\n",
        "        return n * factorial(n - 1)\n",
        "\n",
        "print(factorial(5))\n",
        "```\n",
        "*Possible bugs might include handling of negative numbers, non-integer inputs, etc.*\n"
      ]
    },
    {
      "cell_type": "code",
      "source": [
        "def factorial(n):\n",
        "    if n == 0:\n",
        "        return 1\n",
        "    else:\n",
        "        return n * factorial(n - 1)\n",
        "\n",
        "print(factorial(5))"
      ],
      "metadata": {
        "colab": {
          "base_uri": "https://localhost:8080/"
        },
        "id": "VvSI5K9XJE1O",
        "outputId": "73659cf8-2b7c-46a5-e8b3-46d42adae521"
      },
      "id": "VvSI5K9XJE1O",
      "execution_count": 1,
      "outputs": [
        {
          "output_type": "stream",
          "name": "stdout",
          "text": [
            "120\n"
          ]
        }
      ]
    },
    {
      "cell_type": "markdown",
      "source": [
        "### Task:\n",
        "\n",
        "\n",
        "\n",
        "- **Scenario:** Participants are provided with a Python script that calculates the factorial of a number but contains several bugs.\n",
        "- **Objective:** Identify and fix the bugs in the code using GitHub Copilot's suggestions.\n",
        "- **Instructions:**\n",
        "  1. Identify the bug: Use GitHub Copilot to analyze the code and identify the potential bug.\n",
        "  2. Fix the bug: Work together to fix the bug using Copilot's suggestions. Remember to test the code after each change.\n",
        "  3. Test the solution: Write test cases to cover various scenarios and ensure the bug is fixed.\n",
        "  "
      ],
      "metadata": {
        "id": "8C3vK8XfIx5_"
      },
      "id": "8C3vK8XfIx5_"
    },
    {
      "cell_type": "code",
      "source": [
        "def calculator(num1, num2, operator):\n",
        "  if operator == \"+\":\n",
        "    return num1 + num2\n",
        "  elif operator == \"-\":\n",
        "    return num1 - num2\n",
        "  elif operator == \"*\":\n",
        "    return num1 * num2\n",
        "  elif operator == \"/\":\n",
        "    return num1 / num2\n",
        "  else:\n",
        "    return \"Invalid operator\"\n",
        "\n",
        "# Example Usage\n",
        "result = calculator(5, 2, \"*\")\n",
        "print(result) # Expected: 10"
      ],
      "metadata": {
        "colab": {
          "base_uri": "https://localhost:8080/"
        },
        "id": "wpVlOjhAI0f_",
        "outputId": "a5196b01-f70e-44ba-e6fe-93ed155718e4"
      },
      "id": "wpVlOjhAI0f_",
      "execution_count": 2,
      "outputs": [
        {
          "output_type": "stream",
          "name": "stdout",
          "text": [
            "10\n"
          ]
        }
      ]
    },
    {
      "cell_type": "markdown",
      "id": "f50f0c20",
      "metadata": {
        "id": "f50f0c20"
      },
      "source": [
        "## Code Documentation Generation"
      ]
    },
    {
      "cell_type": "markdown",
      "id": "ebba7ca9",
      "metadata": {
        "id": "ebba7ca9"
      },
      "source": [
        "\n",
        "### Task:\n",
        "- **Scenario:** Participants are given a simple function that lacks documentation.\n",
        "- **Objective:** Generate comprehensive documentation for the function using GitHub Copilot.\n",
        "- **Instructions:**\n",
        "  1. Examine the provided function.\n",
        "  2. Use GitHub Copilot to generate detailed docstrings and comments explaining the function's purpose, parameters, and return values.\n",
        "\n",
        "#### Sample Code:\n",
        "```python\n",
        "def add(a, b):\n",
        "    return a + b\n",
        "```\n"
      ]
    },
    {
      "cell_type": "code",
      "source": [
        "def add(a, b):\n",
        "    return a + b"
      ],
      "metadata": {
        "id": "M5Er4qmPJjTm"
      },
      "id": "M5Er4qmPJjTm",
      "execution_count": 3,
      "outputs": []
    },
    {
      "cell_type": "markdown",
      "source": [
        "### Task:\n",
        "\n",
        "\n",
        "\n",
        "- **Scenario:**  You are working on a function that converts a string containing Roman numerals to an integer. The code is functional, but it lacks proper documentation.\n",
        "- **Objective:** Generate comprehensive documentation for the function using GitHub Copilot.\n",
        "- **Instructions:**\n",
        "\n",
        "  1. Generate docstrings: Use GitHub Copilot to generate docstrings for the roman_to_integer function. Make sure the docstrings include a clear description of the function, its parameters, return value, and potential exceptions.\n",
        "  2. Review and improve: Discuss and refine the generated docstrings, ensuring they are comprehensive and easy to understand.\n",
        "  3. Add comments: Use Copilot to add comments explaining complex sections of the code.\n",
        "  "
      ],
      "metadata": {
        "id": "K08W40cyJqAS"
      },
      "id": "K08W40cyJqAS"
    },
    {
      "cell_type": "code",
      "source": [
        "def roman_to_integer(roman_string):\n",
        "  roman_values = {'I': 1, 'V': 5, 'X': 10, 'L': 50, 'C': 100, 'D': 500, 'M': 1000}\n",
        "  integer = 0\n",
        "  i = 0\n",
        "  while i < len(roman_string):\n",
        "    current_symbol = roman_string[i]\n",
        "    next_symbol = roman_string[i+1] if i+1 < len(roman_string) else None\n",
        "    if next_symbol and roman_values[current_symbol] < roman_values[next_symbol]:\n",
        "      integer += roman_values[next_symbol] - roman_values[current_symbol]\n",
        "      i += 2\n",
        "    else:\n",
        "      integer += roman_values[current_symbol]\n",
        "      i += 1\n",
        "  return integer\n",
        "\n",
        "# Example Usage\n",
        "result = roman_to_integer(\"MCMXCIV\")\n",
        "print(result) # Expected: 1994"
      ],
      "metadata": {
        "id": "d_AiHTglJqfU"
      },
      "id": "d_AiHTglJqfU",
      "execution_count": null,
      "outputs": []
    },
    {
      "cell_type": "markdown",
      "id": "0b19bed2",
      "metadata": {
        "id": "0b19bed2"
      },
      "source": [
        "## .md File Generation"
      ]
    },
    {
      "cell_type": "markdown",
      "id": "99269982",
      "metadata": {
        "id": "99269982"
      },
      "source": [
        "\n",
        "### Task:\n",
        "- **Scenario:** Participants need to create a README.md file for a small project.\n",
        "- **Objective:** Generate a README.md file using GitHub Copilot, including sections such as Project Title, Description, Installation, Usage, and License.\n",
        "- **Instructions:**\n",
        "  1. Create a new README.md file.\n",
        "  2. Use GitHub Copilot to assist in writing the various sections of the README.\n",
        "\n",
        "#### Sample Project:\n",
        "```plaintext\n",
        "# Sample Project\n",
        "This is a simple Python project that includes a script to add two numbers.\n",
        "```\n"
      ]
    },
    {
      "cell_type": "markdown",
      "id": "311747b6",
      "metadata": {
        "id": "311747b6"
      },
      "source": [
        "## Writing Test Cases"
      ]
    },
    {
      "cell_type": "markdown",
      "id": "635c0e4b",
      "metadata": {
        "id": "635c0e4b"
      },
      "source": [
        "\n",
        "### Task:\n",
        "- **Scenario:** Participants are provided with a function and need to write test cases for it.\n",
        "- **Objective:** Write unit tests using a testing framework (e.g., pytest) with the help of GitHub Copilot.\n",
        "- **Instructions:**\n",
        "  1. Review the provided function.\n",
        "  2. Write test cases using GitHub Copilot's suggestions to ensure the function works correctly under various conditions.\n",
        "\n",
        "#### Sample Function:\n",
        "```python\n",
        "def is_prime(num):\n",
        "    if num <= 1:\n",
        "        return False\n",
        "    for i in range(2, num):\n",
        "        if num % i == 0:\n",
        "            return False\n",
        "    return True\n",
        "```\n",
        "\n",
        "#### Writing Test Cases:\n",
        "```python\n",
        "import pytest\n",
        "\n",
        "def test_is_prime():\n",
        "    assert is_prime(2) == True\n",
        "    assert is_prime(4) == False\n",
        "    assert is_prime(13) == True\n",
        "    assert is_prime(0) == False\n",
        "    assert is_prime(1) == False\n",
        "\n",
        "if __name__ == \"__main__\":\n",
        "    pytest.main()\n",
        "```\n"
      ]
    },
    {
      "cell_type": "code",
      "source": [
        "def is_prime(num):\n",
        "    if num <= 1:\n",
        "        return False\n",
        "    for i in range(2, num):\n",
        "        if num % i == 0:\n",
        "            return False\n",
        "    return True"
      ],
      "metadata": {
        "id": "9quq_oM7KWPr"
      },
      "id": "9quq_oM7KWPr",
      "execution_count": null,
      "outputs": []
    },
    {
      "cell_type": "markdown",
      "source": [
        "### Task:\n",
        "- **Scenario:** You're working on a function that checks if a given number is a prime number.\n",
        "- **Objective:** Write unit tests using a testing framework (e.g., pytest) with the help of GitHub Copilot.\n",
        "- **Instructions:**\n",
        "  1. Generate test cases: Use GitHub Copilot to generate test cases for the is_prime function. Include various scenarios, such as positive and negative integers, zero, one, and large prime numbers.\n",
        "  2. Implement tests: Work together to write test code using a testing framework like unittest or pytest. Ensure the test cases cover all possible scenarios.\n",
        "  3. Run tests and analyze results: Run the tests and analyze the results. If any tests fail, debug the code and fix the issues."
      ],
      "metadata": {
        "id": "6_Jr_plAKWnB"
      },
      "id": "6_Jr_plAKWnB"
    },
    {
      "cell_type": "code",
      "source": [
        "def is_prime(number):\n",
        "  if number <= 1:\n",
        "    return False\n",
        "  for i in range(2, int(number**0.5) + 1):\n",
        "    if number % i == 0:\n",
        "      return False\n",
        "  return True\n",
        "\n",
        "# Example Usage\n",
        "print(is_prime(7)) # Expected: True\n",
        "print(is_prime(10)) # Expected: False"
      ],
      "metadata": {
        "id": "i1gAQ2TdKXDr"
      },
      "id": "i1gAQ2TdKXDr",
      "execution_count": null,
      "outputs": []
    }
  ],
  "metadata": {
    "colab": {
      "provenance": [],
      "include_colab_link": true
    },
    "language_info": {
      "name": "python"
    },
    "kernelspec": {
      "name": "python3",
      "display_name": "Python 3"
    }
  },
  "nbformat": 4,
  "nbformat_minor": 5
}