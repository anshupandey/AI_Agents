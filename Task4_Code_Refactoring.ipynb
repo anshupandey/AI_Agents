{
  "cells": [
    {
      "cell_type": "markdown",
      "metadata": {
        "id": "BIJE5JZkIYXC"
      },
      "source": [
        "# Code Refactoring with GitHub Copilot"
      ]
    },
    {
      "cell_type": "markdown",
      "metadata": {
        "id": "tEtPsr9C3bMa"
      },
      "source": [
        "* **Extract Method**: Separating a block of code into a dedicated function for reusability.\n",
        "* **Extract Variable**: Assigning a meaningful name to a complex expression for readability.\n",
        "* **Rename Variable**: Changing a variable name to be more descriptive.\n",
        "* **Inline Variable**: Removing unnecessary temporary variables by directly using their values.\n",
        "* **Introduce Explaining Variable**: Adding a new variable to clarify the purpose of a complex expression.\n",
        "* **Consolidate Duplicate Conditional Fragments**: Combining redundant conditional branches.\n",
        "* **Replace Magic Number with Named Constant**: Replacing hardcoded numbers with named constants for better readability and maintainability.\n",
        "* **Replace Conditional with Polymorphism**: Utilizing polymorphism (using interfaces or abstract classes) to handle different object types without explicit conditional checks."
      ]
    },
    {
      "cell_type": "markdown",
      "metadata": {},
      "source": [
        "### Extract Method"
      ]
    },
    {
      "cell_type": "code",
      "execution_count": 1,
      "metadata": {
        "colab": {
          "base_uri": "https://localhost:8080/"
        },
        "id": "OYyU-CSIIJC0",
        "outputId": "fbebbafc-8b50-49c5-ed9e-2bc98c4b7c55"
      },
      "outputs": [
        {
          "name": "stdout",
          "output_type": "stream",
          "text": [
            "The average is: 3.0\n"
          ]
        }
      ],
      "source": [
        "def calculate_average(numbers):\n",
        "  sum = 0\n",
        "  for number in numbers:\n",
        "    sum += number\n",
        "  average = sum / len(numbers)\n",
        "  return average\n",
        "\n",
        "# Calculate the average of a list of numbers\n",
        "numbers = [1, 2, 3, 4, 5]\n",
        "average = calculate_average(numbers)\n",
        "print(f\"The average is: {average}\")"
      ]
    },
    {
      "cell_type": "code",
      "execution_count": 1,
      "metadata": {
        "id": "aqRk4qxsIcji"
      },
      "outputs": [
        {
          "name": "stdout",
          "output_type": "stream",
          "text": [
            "The average is: 3.0\n"
          ]
        }
      ],
      "source": []
    },
    {
      "cell_type": "code",
      "execution_count": 2,
      "metadata": {
        "colab": {
          "base_uri": "https://localhost:8080/"
        },
        "id": "u_aoKaAO4Afj",
        "outputId": "4d61965e-2e72-4935-de3d-cdc06d12cf08"
      },
      "outputs": [
        {
          "data": {
            "text/plain": [
              "181.3"
            ]
          },
          "execution_count": 2,
          "metadata": {},
          "output_type": "execute_result"
        }
      ],
      "source": [
        "def calculate_total_price(items):\n",
        "    total = 0\n",
        "    for item in items:\n",
        "        price = item[\"price\"]\n",
        "        quantity = item[\"quantity\"]\n",
        "        discount = item.get(\"discount\", 0)\n",
        "        total += (price * quantity) * (1 - discount)\n",
        "    return total\n",
        "\n",
        "# Calculate proce for item\n",
        "items = [{'price':30,'quantity':5,'discount':0.05},{'price':20,'quantity':2,'discount':0.03}]\n",
        "calculate_total_price(items)"
      ]
    },
    {
      "cell_type": "code",
      "execution_count": null,
      "metadata": {
        "id": "xtLgGWgJ4ACh"
      },
      "outputs": [],
      "source": []
    },
    {
      "cell_type": "markdown",
      "metadata": {},
      "source": [
        "### Extract Variable"
      ]
    },
    {
      "cell_type": "code",
      "execution_count": null,
      "metadata": {},
      "outputs": [],
      "source": [
        "def calculate_area(length, width):\n",
        "  return length * width\n",
        "\n",
        "# Calculate area of a rectangle\n",
        "length = 10\n",
        "width = 5\n",
        "area = calculate_area(length, width)\n",
        "print(f\"Area of rectangle: {area}\")"
      ]
    },
    {
      "cell_type": "code",
      "execution_count": null,
      "metadata": {},
      "outputs": [],
      "source": []
    },
    {
      "cell_type": "code",
      "execution_count": 3,
      "metadata": {
        "colab": {
          "base_uri": "https://localhost:8080/"
        },
        "id": "IY6z7a7BIdmE",
        "outputId": "4e812ec3-9993-47df-992d-c7e5d9f5eaea"
      },
      "outputs": [
        {
          "name": "stdout",
          "output_type": "stream",
          "text": [
            "Enter your name: Anshu\n",
            "Hello, Anshu!\n"
          ]
        }
      ],
      "source": [
        "def get_user_name():\n",
        "  return input(\"Enter your name: \")\n",
        "\n",
        "# Get the user's name and print a greeting\n",
        "name = get_user_name()\n",
        "print(f\"Hello, {name}!\")"
      ]
    },
    {
      "cell_type": "code",
      "execution_count": null,
      "metadata": {
        "id": "bOJ3eu1TIjvM"
      },
      "outputs": [],
      "source": []
    },
    {
      "cell_type": "code",
      "execution_count": null,
      "metadata": {},
      "outputs": [],
      "source": [
        "class Order:\n",
        "    def __init__(self, quantity, item_price):\n",
        "        self.quantity = quantity\n",
        "        self.item_price = item_price\n",
        "\n",
        "    def calculate_total(self):\n",
        "        return self.quantity * self.item_price - max(0, self.quantity - 500) * self.item_price * 0.05 + min(self.quantity * self.item_price * 0.1, 100)\n",
        "\n",
        "# Example Usage\n",
        "order = Order(600, 2)\n",
        "print(order.calculate_total())\n"
      ]
    },
    {
      "cell_type": "code",
      "execution_count": null,
      "metadata": {},
      "outputs": [],
      "source": []
    },
    {
      "cell_type": "markdown",
      "metadata": {},
      "source": [
        "### Rename Variable"
      ]
    },
    {
      "cell_type": "code",
      "execution_count": null,
      "metadata": {},
      "outputs": [],
      "source": [
        "def calculate_discount(price, discount_rate):\n",
        "  discount = price * discount_rate\n",
        "  return discount\n",
        "\n",
        "# Calculate the discount on a product\n",
        "price = 100\n",
        "discount_rate = 0.1\n",
        "discount = calculate_discount(price, discount_rate)\n",
        "print(f\"The discount is: {discount}\")"
      ]
    },
    {
      "cell_type": "code",
      "execution_count": 2,
      "metadata": {
        "colab": {
          "base_uri": "https://localhost:8080/"
        },
        "id": "N6eafi2N2YNS",
        "outputId": "a3c10154-1de8-46bc-fa4e-a6d082993b19"
      },
      "outputs": [
        {
          "name": "stdout",
          "output_type": "stream",
          "text": [
            "The area is: 50\n"
          ]
        }
      ],
      "source": [
        "\n",
        "def calculate_area(length, width):\n",
        "  area = length * width\n",
        "  return area\n",
        "\n",
        "# Calculate the area of a rectangle\n",
        "length = 10\n",
        "width = 5\n",
        "area = calculate_area(length, width)\n",
        "print(f\"The area is: {area}\")"
      ]
    },
    {
      "cell_type": "code",
      "execution_count": null,
      "metadata": {
        "id": "p6I3w-Px2csx"
      },
      "outputs": [],
      "source": []
    },
    {
      "cell_type": "markdown",
      "metadata": {},
      "source": [
        "### Introducing explaining variable"
      ]
    },
    {
      "cell_type": "code",
      "execution_count": 3,
      "metadata": {
        "colab": {
          "base_uri": "https://localhost:8080/"
        },
        "id": "6AFZOMe-2xQ3",
        "outputId": "c5b1ad78-a742-4609-f36b-d97d9fca0bb1"
      },
      "outputs": [
        {
          "name": "stdout",
          "output_type": "stream",
          "text": [
            "The total price is: 180.0\n"
          ]
        }
      ],
      "source": [
        "def calculate_total_price(price, quantity, discount_rate):\n",
        "  return price * quantity * (1 - discount_rate)\n",
        "\n",
        "# Calculate the total price of a product\n",
        "price = 100\n",
        "quantity = 2\n",
        "discount_rate = 0.1\n",
        "total_price = calculate_total_price(price, quantity, discount_rate)\n",
        "print(f\"The total price is: {total_price}\")"
      ]
    },
    {
      "cell_type": "code",
      "execution_count": null,
      "metadata": {
        "id": "E1gR_25S2xqF"
      },
      "outputs": [],
      "source": []
    },
    {
      "cell_type": "code",
      "execution_count": null,
      "metadata": {
        "id": "y-grEzJE43m9"
      },
      "outputs": [],
      "source": []
    },
    {
      "cell_type": "markdown",
      "metadata": {},
      "source": [
        "### Consolidate Duplicate Conditional Fragments"
      ]
    },
    {
      "cell_type": "code",
      "execution_count": 6,
      "metadata": {
        "colab": {
          "base_uri": "https://localhost:8080/"
        },
        "id": "HdEOMyGh22_e",
        "outputId": "ec5766ef-34e1-4b4b-9bba-a06a3b3224ce"
      },
      "outputs": [
        {
          "name": "stdout",
          "output_type": "stream",
          "text": [
            "Order is pending.\n"
          ]
        }
      ],
      "source": [
        "\n",
        "def process_order(order):\n",
        "  if order['status'] == \"Pending\":\n",
        "    print(\"Order is pending.\")\n",
        "    order['status'] = \"Processing\"\n",
        "  elif order['status'] == \"Processing\":\n",
        "    print(\"Order is being processed.\")\n",
        "  else:\n",
        "    print(\"Order status is unknown.\")\n",
        "\n",
        "# Process an order\n",
        "order = {\"status\": \"Pending\"}\n",
        "process_order(order)"
      ]
    },
    {
      "cell_type": "code",
      "execution_count": null,
      "metadata": {
        "id": "QkZjVvaf3Kot"
      },
      "outputs": [],
      "source": []
    },
    {
      "cell_type": "code",
      "execution_count": null,
      "metadata": {
        "id": "AuIDUts741W6"
      },
      "outputs": [],
      "source": []
    },
    {
      "cell_type": "markdown",
      "metadata": {},
      "source": [
        "### Replace magic number with named constant"
      ]
    },
    {
      "cell_type": "code",
      "execution_count": 7,
      "metadata": {
        "colab": {
          "base_uri": "https://localhost:8080/"
        },
        "id": "fERZ6MjU23Tt",
        "outputId": "053e54af-8889-446e-8aa6-b04153de72b9"
      },
      "outputs": [
        {
          "name": "stdout",
          "output_type": "stream",
          "text": [
            "The discount is: 10.0\n"
          ]
        }
      ],
      "source": [
        "def calculate_discount(price):\n",
        "  return price * 0.1\n",
        "\n",
        "# Calculate the discount on a product\n",
        "price = 100\n",
        "discount = calculate_discount(price)\n",
        "print(f\"The discount is: {discount}\")"
      ]
    },
    {
      "cell_type": "code",
      "execution_count": null,
      "metadata": {
        "id": "WKuqKUmK3KBy"
      },
      "outputs": [],
      "source": []
    },
    {
      "cell_type": "markdown",
      "metadata": {},
      "source": [
        "### Replace conditional with polymorphism"
      ]
    },
    {
      "cell_type": "code",
      "execution_count": 8,
      "metadata": {
        "colab": {
          "base_uri": "https://localhost:8080/"
        },
        "id": "CBwjkW3U3Lb0",
        "outputId": "47e6c166-7c10-4211-8708-48c948f2a141"
      },
      "outputs": [
        {
          "name": "stdout",
          "output_type": "stream",
          "text": [
            "The area is: 50\n"
          ]
        }
      ],
      "source": [
        "class Shape:\n",
        "  def calculate_area(self):\n",
        "    pass\n",
        "\n",
        "class Rectangle(Shape):\n",
        "  def __init__(self, length, width):\n",
        "    self.length = length\n",
        "    self.width = width\n",
        "\n",
        "  def calculate_area(self):\n",
        "    return self.length * self.width\n",
        "\n",
        "class Circle(Shape):\n",
        "  def __init__(self, radius):\n",
        "    self.radius = radius\n",
        "\n",
        "  def calculate_area(self):\n",
        "    return 3.14 * self.radius * self.radius\n",
        "\n",
        "# Calculate the area of different shapes\n",
        "rectangle = Rectangle(10, 5)\n",
        "circle = Circle(5)\n",
        "\n",
        "if isinstance(rectangle, Rectangle):\n",
        "  area = rectangle.calculate_area()\n",
        "elif isinstance(circle, Circle):\n",
        "  area = circle.calculate_area()\n",
        "else:\n",
        "  area = 0\n",
        "\n",
        "print(f\"The area is: {area}\")"
      ]
    },
    {
      "cell_type": "code",
      "execution_count": null,
      "metadata": {
        "id": "68SV2OrK3VRp"
      },
      "outputs": [],
      "source": []
    }
  ],
  "metadata": {
    "colab": {
      "provenance": []
    },
    "kernelspec": {
      "display_name": "Python 3",
      "name": "python3"
    },
    "language_info": {
      "codemirror_mode": {
        "name": "ipython",
        "version": 3
      },
      "file_extension": ".py",
      "mimetype": "text/x-python",
      "name": "python",
      "nbconvert_exporter": "python",
      "pygments_lexer": "ipython3",
      "version": "3.10.9"
    }
  },
  "nbformat": 4,
  "nbformat_minor": 0
}
