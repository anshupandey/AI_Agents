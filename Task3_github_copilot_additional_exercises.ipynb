{
  "cells": [
    {
      "cell_type": "markdown",
      "metadata": {
        "id": "view-in-github",
        "colab_type": "text"
      },
      "source": [
        "<a href=\"https://colab.research.google.com/github/anshupandey/AI_Agents/blob/main/Task3_github_copilot_additional_exercises.ipynb\" target=\"_parent\"><img src=\"https://colab.research.google.com/assets/colab-badge.svg\" alt=\"Open In Colab\"/></a>"
      ]
    },
    {
      "cell_type": "markdown",
      "id": "00d075e2",
      "metadata": {
        "id": "00d075e2"
      },
      "source": [
        "# GitHub Copilot Testing and Learning Exercise - Additional Scenarios"
      ]
    },
    {
      "cell_type": "markdown",
      "id": "516ef82c",
      "metadata": {
        "id": "516ef82c"
      },
      "source": [
        "\n",
        "This Jupyter notebook is designed to help you learn and test the capabilities of GitHub Copilot across various coding scenarios.\n",
        "The exercises will cover:\n",
        "1. Code Completion\n",
        "2. Code Refactoring\n",
        "3. Code Translation (to another language)\n",
        "4. Code Comment Generation\n",
        "5. Code Bug Fixing\n"
      ]
    },
    {
      "cell_type": "markdown",
      "id": "af601eb8",
      "metadata": {
        "id": "af601eb8"
      },
      "source": [
        "## 1. Code Completion"
      ]
    },
    {
      "cell_type": "markdown",
      "id": "55fa3c80",
      "metadata": {
        "id": "55fa3c80"
      },
      "source": [
        "### Example 1:"
      ]
    },
    {
      "cell_type": "code",
      "execution_count": null,
      "id": "ba088d8c",
      "metadata": {
        "id": "ba088d8c"
      },
      "outputs": [],
      "source": [
        "# Task: Complete the function to reverse a string\n",
        "\n",
        "def reverse_string(s):\n",
        ""
      ]
    },
    {
      "cell_type": "markdown",
      "id": "1218c5e6",
      "metadata": {
        "id": "1218c5e6"
      },
      "source": [
        "### Example 2:"
      ]
    },
    {
      "cell_type": "code",
      "execution_count": null,
      "id": "c21524ec",
      "metadata": {
        "id": "c21524ec"
      },
      "outputs": [],
      "source": [
        "# Task: Complete the function to check if a number is even\n",
        "\n",
        "def is_even(n):\n",
        ""
      ]
    },
    {
      "cell_type": "markdown",
      "id": "e2e148b2",
      "metadata": {
        "id": "e2e148b2"
      },
      "source": [
        "## 2. Code Refactoring"
      ]
    },
    {
      "cell_type": "markdown",
      "id": "9373dd04",
      "metadata": {
        "id": "9373dd04"
      },
      "source": [
        "### Example 1:"
      ]
    },
    {
      "cell_type": "code",
      "execution_count": null,
      "id": "00748901",
      "metadata": {
        "id": "00748901"
      },
      "outputs": [],
      "source": [
        "\n",
        "# Original Code: Calculate the sum of squares of a list of numbers\n",
        "def sum_of_squares(nums):\n",
        "    result = 0\n",
        "    for num in nums:\n",
        "        result += num * num\n",
        "    return result\n"
      ]
    },
    {
      "cell_type": "markdown",
      "id": "57069f21",
      "metadata": {
        "id": "57069f21"
      },
      "source": [
        "### Example 2:"
      ]
    },
    {
      "cell_type": "code",
      "execution_count": null,
      "id": "253e4cbe",
      "metadata": {
        "id": "253e4cbe"
      },
      "outputs": [],
      "source": [
        "\n",
        "# Original Code: Check if a list is sorted\n",
        "def is_sorted(lst):\n",
        "    for i in range(len(lst) - 1):\n",
        "        if lst[i] > lst[i + 1]:\n",
        "            return False\n",
        "    return True\n"
      ]
    },
    {
      "cell_type": "markdown",
      "id": "889d6a39",
      "metadata": {
        "id": "889d6a39"
      },
      "source": [
        "## 3. Code Translation (to another language)"
      ]
    },
    {
      "cell_type": "markdown",
      "id": "c6d5649e",
      "metadata": {
        "id": "c6d5649e"
      },
      "source": [
        "### Example 1:"
      ]
    },
    {
      "cell_type": "code",
      "execution_count": null,
      "id": "8c3e5de6",
      "metadata": {
        "id": "8c3e5de6"
      },
      "outputs": [],
      "source": [
        "# Task: Translate the following Python function to JavaScript\n",
        "\n",
        "def add(a, b):\n",
        "    return a + b\n"
      ]
    },
    {
      "cell_type": "markdown",
      "id": "d077f39d",
      "metadata": {
        "id": "d077f39d"
      },
      "source": [
        "### Example 2:"
      ]
    },
    {
      "cell_type": "code",
      "execution_count": null,
      "id": "096eae31",
      "metadata": {
        "id": "096eae31"
      },
      "outputs": [],
      "source": [
        "# Task: Translate the following Python function to Java\n",
        "\n",
        "def factorial(n):\n",
        "    if n == 0:\n",
        "        return 1\n",
        "    else:\n",
        "        return n * factorial(n - 1)\n"
      ]
    },
    {
      "cell_type": "markdown",
      "id": "4b6bd1e7",
      "metadata": {
        "id": "4b6bd1e7"
      },
      "source": [
        "## 4. Code Comment Generation"
      ]
    },
    {
      "cell_type": "markdown",
      "id": "47d81242",
      "metadata": {
        "id": "47d81242"
      },
      "source": [
        "### Example 1:"
      ]
    },
    {
      "cell_type": "code",
      "execution_count": null,
      "id": "9e2e6d78",
      "metadata": {
        "id": "9e2e6d78"
      },
      "outputs": [],
      "source": [
        "\n",
        "# Task: Generate comments for the following code\n",
        "\n",
        "def binary_search(arr, x):\n",
        "    l = 0\n",
        "    r = len(arr) - 1\n",
        "    while l <= r:\n",
        "        mid = l + (r - l) // 2\n",
        "        if arr[mid] == x:\n",
        "            return mid\n",
        "        elif arr[mid] < x:\n",
        "            l = mid + 1\n",
        "        else:\n",
        "            r = mid - 1\n",
        "    return -1\n"
      ]
    },
    {
      "cell_type": "markdown",
      "id": "34e48730",
      "metadata": {
        "id": "34e48730"
      },
      "source": [
        "### Example 2:"
      ]
    },
    {
      "cell_type": "code",
      "execution_count": null,
      "id": "04682dc9",
      "metadata": {
        "id": "04682dc9"
      },
      "outputs": [],
      "source": [
        "\n",
        "# Task: Generate comments for the following code\n",
        "\n",
        "def quicksort(arr):\n",
        "    if len(arr) <= 1:\n",
        "        return arr\n",
        "    pivot = arr[len(arr) // 2]\n",
        "    left = [x for x in arr if x < pivot]\n",
        "    middle = [x for x in arr if x == pivot]\n",
        "    right = [x for x in arr if x > pivot]\n",
        "    return quicksort(left) + middle + quicksort(right)\n"
      ]
    },
    {
      "cell_type": "markdown",
      "id": "692c1e22",
      "metadata": {
        "id": "692c1e22"
      },
      "source": [
        "## 5. Code Bug Fixing"
      ]
    },
    {
      "cell_type": "markdown",
      "id": "2c26242a",
      "metadata": {
        "id": "2c26242a"
      },
      "source": [
        "### Example 1:"
      ]
    },
    {
      "cell_type": "code",
      "execution_count": null,
      "id": "dfb788ea",
      "metadata": {
        "id": "dfb788ea"
      },
      "outputs": [],
      "source": [
        "\n",
        "# Task: Fix the bug in the following code\n",
        "\n",
        "def divide(a, b):\n",
        "    return a / b\n",
        "\n",
        "# Example test\n",
        "print(divide(10, 2))  # Expected output: 5\n",
        "print(divide(10, 0))  # Expected output: Error handling for division by zero\n"
      ]
    },
    {
      "cell_type": "markdown",
      "id": "c3d16d57",
      "metadata": {
        "id": "c3d16d57"
      },
      "source": [
        "### Example 2:"
      ]
    },
    {
      "cell_type": "code",
      "execution_count": null,
      "id": "8c5b7075",
      "metadata": {
        "id": "8c5b7075"
      },
      "outputs": [],
      "source": [
        "\n",
        "# Task: Fix the bug in the following code\n",
        "\n",
        "def find_min(lst):\n",
        "    min_val = lst[0]\n",
        "    for i in range(1, len(lst)):\n",
        "        if lst[i] < min_val:\n",
        "            min_val = lst[i]\n",
        "    return min_val\n",
        "\n",
        "# Example test\n",
        "print(find_min([3, 1, 4, 1, 5, 9]))  # Expected output: 1\n",
        "print(find_min([]))  # Expected output: Error handling for empty list\n"
      ]
    }
  ],
  "metadata": {
    "colab": {
      "provenance": [],
      "include_colab_link": true
    }
  },
  "nbformat": 4,
  "nbformat_minor": 5
}