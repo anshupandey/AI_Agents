{
  "cells": [
    {
      "cell_type": "markdown",
      "metadata": {
        "id": "view-in-github",
        "colab_type": "text"
      },
      "source": [
        "<a href=\"https://colab.research.google.com/github/anshupandey/AI_Agents/blob/main/Task2_github_copilot_testing_exercise.ipynb\" target=\"_parent\"><img src=\"https://colab.research.google.com/assets/colab-badge.svg\" alt=\"Open In Colab\"/></a>"
      ]
    },
    {
      "cell_type": "markdown",
      "id": "5b934457",
      "metadata": {
        "id": "5b934457"
      },
      "source": [
        "# GitHub Copilot Testing and Learning Exercise"
      ]
    },
    {
      "cell_type": "markdown",
      "id": "0b006dcc",
      "metadata": {
        "id": "0b006dcc"
      },
      "source": [
        "\n",
        "This Jupyter notebook is designed to help you learn and test the capabilities of GitHub Copilot across various coding scenarios.\n",
        "The exercises will cover:\n",
        "1. Code Generation\n",
        "2. Code Complexity Calculation for a Given Code\n",
        "3. Code Optimization\n",
        "4. Code Debugging\n",
        "5. Code Explanation\n",
        "6. Code Documentation Generation\n"
      ]
    },
    {
      "cell_type": "markdown",
      "id": "3d1822b6",
      "metadata": {
        "id": "3d1822b6"
      },
      "source": [
        "## 1. Code Generation"
      ]
    },
    {
      "cell_type": "markdown",
      "id": "a99d94c3",
      "metadata": {
        "id": "a99d94c3"
      },
      "source": [
        "Use GitHub Copilot to generate code for the following task:"
      ]
    },
    {
      "cell_type": "code",
      "execution_count": null,
      "id": "85575965",
      "metadata": {
        "id": "85575965"
      },
      "outputs": [],
      "source": [
        "# Task: Generate a Python function that calculates the factorial of a number."
      ]
    },
    {
      "cell_type": "markdown",
      "id": "9668aa25",
      "metadata": {
        "id": "9668aa25"
      },
      "source": [
        "## 2. Code Complexity Calculation for a Given Code"
      ]
    },
    {
      "cell_type": "markdown",
      "id": "5a09f082",
      "metadata": {
        "id": "5a09f082"
      },
      "source": [
        "Use GitHub Copilot to calculate the complexity of the following code:"
      ]
    },
    {
      "cell_type": "code",
      "execution_count": null,
      "id": "edeb3644",
      "metadata": {
        "id": "edeb3644"
      },
      "outputs": [],
      "source": [
        "\n",
        "def fibonacci(n):\n",
        "    if n <= 0:\n",
        "        return []\n",
        "    elif n == 1:\n",
        "        return [0]\n",
        "    elif n == 2:\n",
        "        return [0, 1]\n",
        "    fib_series = [0, 1]\n",
        "    while len(fib_series) < n:\n",
        "        fib_series.append(fib_series[-1] + fib_series[-2])\n",
        "    return fib_series\n"
      ]
    },
    {
      "cell_type": "markdown",
      "id": "89855a46",
      "metadata": {
        "id": "89855a46"
      },
      "source": [
        "## 3. Code Optimization"
      ]
    },
    {
      "cell_type": "markdown",
      "id": "90cccea5",
      "metadata": {
        "id": "90cccea5"
      },
      "source": [
        "Use GitHub Copilot to optimize the following code:"
      ]
    },
    {
      "cell_type": "code",
      "execution_count": null,
      "id": "e3149693",
      "metadata": {
        "id": "e3149693"
      },
      "outputs": [],
      "source": [
        "\n",
        "def find_max(arr):\n",
        "    max_val = arr[0]\n",
        "    for i in range(1, len(arr)):\n",
        "        if arr[i] > max_val:\n",
        "            max_val = arr[i]\n",
        "    return max_val\n"
      ]
    },
    {
      "cell_type": "markdown",
      "id": "ee5d40f2",
      "metadata": {
        "id": "ee5d40f2"
      },
      "source": [
        "## 4. Code Debugging"
      ]
    },
    {
      "cell_type": "markdown",
      "id": "8525a8fa",
      "metadata": {
        "id": "8525a8fa"
      },
      "source": [
        "Use GitHub Copilot to debug the following code and correct any errors:"
      ]
    },
    {
      "cell_type": "code",
      "execution_count": null,
      "id": "33c91246",
      "metadata": {
        "id": "33c91246"
      },
      "outputs": [],
      "source": [
        "\n",
        "def is_prime(num):\n",
        "    if num <= 1:\n",
        "        return False\n",
        "    for i in range(2, num):\n",
        "        if num % i == 0:\n",
        "            return False\n",
        "    return True\n",
        "\n",
        "# Example test\n",
        "print(is_prime(11))  # Expected output: True\n",
        "print(is_prime(4))   # Expected output: False\n"
      ]
    },
    {
      "cell_type": "markdown",
      "id": "8817f54a",
      "metadata": {
        "id": "8817f54a"
      },
      "source": [
        "## 5. Code Explanation"
      ]
    },
    {
      "cell_type": "markdown",
      "id": "328330a2",
      "metadata": {
        "id": "328330a2"
      },
      "source": [
        "Use GitHub Copilot to provide an explanation for the following code:"
      ]
    },
    {
      "cell_type": "code",
      "execution_count": null,
      "id": "6a27db8b",
      "metadata": {
        "id": "6a27db8b"
      },
      "outputs": [],
      "source": [
        "\n",
        "def bubble_sort(arr):\n",
        "    n = len(arr)\n",
        "    for i in range(n):\n",
        "        for j in range(0, n-i-1):\n",
        "            if arr[j] > arr[j+1]:\n",
        "                arr[j], arr[j+1] = arr[j+1], arr[j]\n",
        "    return arr\n"
      ]
    },
    {
      "cell_type": "markdown",
      "id": "17220c86",
      "metadata": {
        "id": "17220c86"
      },
      "source": [
        "## 6. Code Documentation Generation"
      ]
    },
    {
      "cell_type": "markdown",
      "id": "dafd95d8",
      "metadata": {
        "id": "dafd95d8"
      },
      "source": [
        "Use GitHub Copilot to generate documentation for the following code:"
      ]
    },
    {
      "cell_type": "code",
      "execution_count": null,
      "id": "5136ed4c",
      "metadata": {
        "id": "5136ed4c"
      },
      "outputs": [],
      "source": [
        "\n",
        "def gcd(a, b):\n",
        "    while b:\n",
        "        a, b = b, a % b\n",
        "    return a\n",
        "\n",
        "# Example usage\n",
        "print(gcd(48, 18))  # Expected output: 6\n"
      ]
    }
  ],
  "metadata": {
    "colab": {
      "provenance": [],
      "include_colab_link": true
    }
  },
  "nbformat": 4,
  "nbformat_minor": 5
}