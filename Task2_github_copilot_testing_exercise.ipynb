{
  "cells": [
    {
      "cell_type": "markdown",
      "metadata": {
        "id": "view-in-github",
        "colab_type": "text"
      },
      "source": [
        "<a href=\"https://colab.research.google.com/github/anshupandey/AI_Agents/blob/main/Task2_github_copilot_testing_exercise.ipynb\" target=\"_parent\"><img src=\"https://colab.research.google.com/assets/colab-badge.svg\" alt=\"Open In Colab\"/></a>"
      ]
    },
    {
      "cell_type": "markdown",
      "id": "3e2ea53d",
      "metadata": {
        "id": "3e2ea53d"
      },
      "source": [
        "# GitHub Copilot Testing and Learning Exercise"
      ]
    },
    {
      "cell_type": "markdown",
      "id": "f3dc207f",
      "metadata": {
        "id": "f3dc207f"
      },
      "source": [
        "\n",
        "This Jupyter notebook is designed to help you learn and test the capabilities of GitHub Copilot across various coding scenarios.\n",
        "The exercises will cover:\n",
        "1. Code Generation\n",
        "2. Code Complexity Calculation for a Given Code\n",
        "3. Code Optimization\n",
        "4. Code Debugging\n",
        "5. Code Explanation\n",
        "6. Code Documentation Generation\n"
      ]
    },
    {
      "cell_type": "markdown",
      "id": "2bc0a8b6",
      "metadata": {
        "id": "2bc0a8b6"
      },
      "source": [
        "## 1. Code Generation"
      ]
    },
    {
      "cell_type": "markdown",
      "id": "1430970c",
      "metadata": {
        "id": "1430970c"
      },
      "source": [
        "Use GitHub Copilot to generate code for the following tasks:"
      ]
    },
    {
      "cell_type": "code",
      "execution_count": null,
      "id": "e8435772",
      "metadata": {
        "id": "e8435772"
      },
      "outputs": [],
      "source": [
        "# Task 1: Generate a Python function that calculates the factorial of a number."
      ]
    },
    {
      "cell_type": "markdown",
      "id": "6ea01c87",
      "metadata": {
        "id": "6ea01c87"
      },
      "source": [
        "**Prompt for Copilot:** `# Write a Python function that calculates the factorial of a number`"
      ]
    },
    {
      "cell_type": "code",
      "execution_count": null,
      "id": "f720e451",
      "metadata": {
        "id": "f720e451"
      },
      "outputs": [],
      "source": [
        "# Task 2: Generate a Python function that checks if a string is a palindrome."
      ]
    },
    {
      "cell_type": "markdown",
      "id": "d30bd4cb",
      "metadata": {
        "id": "d30bd4cb"
      },
      "source": [
        "**Prompt for Copilot:** `# Write a Python function that checks if a string is a palindrome`"
      ]
    },
    {
      "cell_type": "markdown",
      "id": "7c22970e",
      "metadata": {
        "id": "7c22970e"
      },
      "source": [
        "## 2. Code Complexity Calculation for a Given Code"
      ]
    },
    {
      "cell_type": "markdown",
      "id": "2dfa18c3",
      "metadata": {
        "id": "2dfa18c3"
      },
      "source": [
        "Use GitHub Copilot to calculate the complexity of the following code:"
      ]
    },
    {
      "cell_type": "code",
      "execution_count": null,
      "id": "a394eaf7",
      "metadata": {
        "id": "a394eaf7"
      },
      "outputs": [],
      "source": [
        "\n",
        "def fibonacci(n):\n",
        "    if n <= 0:\n",
        "        return []\n",
        "    elif n == 1:\n",
        "        return [0]\n",
        "    elif n == 2:\n",
        "        return [0, 1]\n",
        "    fib_series = [0, 1]\n",
        "    while len(fib_series) < n:\n",
        "        fib_series.append(fib_series[-1] + fib_series[-2])\n",
        "    return fib_series\n"
      ]
    },
    {
      "cell_type": "markdown",
      "id": "31e838b4",
      "metadata": {
        "id": "31e838b4"
      },
      "source": [
        "**Prompt for Copilot:** `# Calculate the time complexity of the given Python code`"
      ]
    },
    {
      "cell_type": "code",
      "execution_count": null,
      "id": "c23ae1a4",
      "metadata": {
        "id": "c23ae1a4"
      },
      "outputs": [],
      "source": [
        "\n",
        "def bubble_sort(arr):\n",
        "    n = len(arr)\n",
        "    for i in range(n):\n",
        "        for j in range(0, n-i-1):\n",
        "            if arr[j] > arr[j+1]:\n",
        "                arr[j], arr[j+1] = arr[j+1], arr[j]\n",
        "    return arr\n"
      ]
    },
    {
      "cell_type": "markdown",
      "id": "f7f8f1e9",
      "metadata": {
        "id": "f7f8f1e9"
      },
      "source": [
        "**Prompt for Copilot:** `# Calculate the time complexity of the given Python code`"
      ]
    },
    {
      "cell_type": "markdown",
      "id": "5edcd165",
      "metadata": {
        "id": "5edcd165"
      },
      "source": [
        "## 3. Code Optimization"
      ]
    },
    {
      "cell_type": "markdown",
      "id": "386593c9",
      "metadata": {
        "id": "386593c9"
      },
      "source": [
        "Use GitHub Copilot to optimize the following code:"
      ]
    },
    {
      "cell_type": "code",
      "execution_count": null,
      "id": "c36b7c7e",
      "metadata": {
        "id": "c36b7c7e"
      },
      "outputs": [],
      "source": [
        "\n",
        "def find_max(arr):\n",
        "    max_val = arr[0]\n",
        "    for i in range(1, len(arr)):\n",
        "        if arr[i] > max_val:\n",
        "            max_val = arr[i]\n",
        "    return max_val\n"
      ]
    },
    {
      "cell_type": "markdown",
      "id": "0dcb1198",
      "metadata": {
        "id": "0dcb1198"
      },
      "source": [
        "**Prompt for Copilot:** `# Optimize the following Python code for finding the maximum value in a list`"
      ]
    },
    {
      "cell_type": "code",
      "execution_count": null,
      "id": "418cb634",
      "metadata": {
        "id": "418cb634"
      },
      "outputs": [],
      "source": [
        "\n",
        "def sum_of_squares(nums):\n",
        "    result = 0\n",
        "    for num in nums:\n",
        "        result += num * num\n",
        "    return result\n"
      ]
    },
    {
      "cell_type": "markdown",
      "id": "5c54000d",
      "metadata": {
        "id": "5c54000d"
      },
      "source": [
        "**Prompt for Copilot:** `# Optimize the following Python code for calculating the sum of squares`"
      ]
    },
    {
      "cell_type": "markdown",
      "id": "2d74067e",
      "metadata": {
        "id": "2d74067e"
      },
      "source": [
        "## 4. Code Debugging"
      ]
    },
    {
      "cell_type": "markdown",
      "id": "7b70830e",
      "metadata": {
        "id": "7b70830e"
      },
      "source": [
        "Use GitHub Copilot to debug the following code and correct any errors:"
      ]
    },
    {
      "cell_type": "code",
      "execution_count": null,
      "id": "c5881e31",
      "metadata": {
        "id": "c5881e31"
      },
      "outputs": [],
      "source": [
        "\n",
        "def is_prime(num):\n",
        "    if num <= 1:\n",
        "        return False\n",
        "    for i in range(2, num):\n",
        "        if num % i == 0:\n",
        "            return False\n",
        "    return True\n",
        "\n",
        "# Example test\n",
        "print(is_prime(11))  # Expected output: True\n",
        "print(is_prime(4))   # Expected output: False\n"
      ]
    },
    {
      "cell_type": "markdown",
      "id": "96dae76e",
      "metadata": {
        "id": "96dae76e"
      },
      "source": [
        "**Prompt for Copilot:** `# Debug the following Python code to check for prime numbers`"
      ]
    },
    {
      "cell_type": "code",
      "execution_count": null,
      "id": "405160df",
      "metadata": {
        "id": "405160df"
      },
      "outputs": [],
      "source": [
        "\n",
        "def sum_elements(arr):\n",
        "    total = 0\n",
        "    for element in arr:\n",
        "        total += element\n",
        "    return total\n",
        "\n",
        "# Example test\n",
        "print(sum_elements([1, 2, 3, 4]))  # Expected output: 10\n",
        "print(sum_elements([]))            # Expected output: 0\n"
      ]
    },
    {
      "cell_type": "markdown",
      "id": "b1ed9597",
      "metadata": {
        "id": "b1ed9597"
      },
      "source": [
        "**Prompt for Copilot:** `# Debug the following Python code to sum the elements of a list`"
      ]
    },
    {
      "cell_type": "markdown",
      "id": "bf4d4194",
      "metadata": {
        "id": "bf4d4194"
      },
      "source": [
        "## 5. Code Explanation"
      ]
    },
    {
      "cell_type": "markdown",
      "id": "87f25f22",
      "metadata": {
        "id": "87f25f22"
      },
      "source": [
        "Use GitHub Copilot to provide an explanation for the following code:"
      ]
    },
    {
      "cell_type": "code",
      "execution_count": null,
      "id": "7bc27628",
      "metadata": {
        "id": "7bc27628"
      },
      "outputs": [],
      "source": [
        "\n",
        "def bubble_sort(arr):\n",
        "    n = len(arr)\n",
        "    for i in range(n):\n",
        "        for j in range(0, n-i-1):\n",
        "            if arr[j] > arr[j+1]:\n",
        "                arr[j], arr[j+1] = arr[j+1], arr[j]\n",
        "    return arr\n"
      ]
    },
    {
      "cell_type": "markdown",
      "id": "cf0a9eda",
      "metadata": {
        "id": "cf0a9eda"
      },
      "source": [
        "**Prompt for Copilot:** `# Explain the following Python code for bubble sort`"
      ]
    },
    {
      "cell_type": "code",
      "execution_count": null,
      "id": "5ec37bf2",
      "metadata": {
        "id": "5ec37bf2"
      },
      "outputs": [],
      "source": [
        "\n",
        "def gcd(a, b):\n",
        "    while b:\n",
        "        a, b = b, a % b\n",
        "    return a\n",
        "\n",
        "# Example usage\n",
        "print(gcd(48, 18))  # Expected output: 6\n"
      ]
    },
    {
      "cell_type": "markdown",
      "id": "ab4873f4",
      "metadata": {
        "id": "ab4873f4"
      },
      "source": [
        "**Prompt for Copilot:** `# Explain the following Python code for finding the greatest common divisor (GCD)`"
      ]
    },
    {
      "cell_type": "markdown",
      "id": "8fb301cc",
      "metadata": {
        "id": "8fb301cc"
      },
      "source": [
        "## 6. Code Documentation Generation"
      ]
    },
    {
      "cell_type": "markdown",
      "id": "b802b29e",
      "metadata": {
        "id": "b802b29e"
      },
      "source": [
        "Use GitHub Copilot to generate documentation for the following code:"
      ]
    },
    {
      "cell_type": "code",
      "execution_count": null,
      "id": "0c5a4463",
      "metadata": {
        "id": "0c5a4463"
      },
      "outputs": [],
      "source": [
        "\n",
        "def gcd(a, b):\n",
        "    while b:\n",
        "        a, b = b, a % b\n",
        "    return a\n",
        "\n",
        "# Example usage\n",
        "print(gcd(48, 18))  # Expected output: 6\n"
      ]
    },
    {
      "cell_type": "markdown",
      "id": "feb34b4e",
      "metadata": {
        "id": "feb34b4e"
      },
      "source": [
        "**Prompt for Copilot:** `# Generate documentation for the following Python code for finding the greatest common divisor (GCD)`"
      ]
    },
    {
      "cell_type": "code",
      "execution_count": null,
      "id": "28a56140",
      "metadata": {
        "id": "28a56140"
      },
      "outputs": [],
      "source": [
        "\n",
        "def factorial(n):\n",
        "    if n == 0:\n",
        "        return 1\n",
        "    else:\n",
        "        return n * factorial(n - 1)\n",
        "\n",
        "# Example usage\n",
        "print(factorial(5))  # Expected output: 120\n"
      ]
    },
    {
      "cell_type": "markdown",
      "id": "f80b6a00",
      "metadata": {
        "id": "f80b6a00"
      },
      "source": [
        "**Prompt for Copilot:** `# Generate documentation for the following Python code for calculating the factorial of a number`"
      ]
    }
  ],
  "metadata": {
    "colab": {
      "provenance": [],
      "include_colab_link": true
    }
  },
  "nbformat": 4,
  "nbformat_minor": 5
}