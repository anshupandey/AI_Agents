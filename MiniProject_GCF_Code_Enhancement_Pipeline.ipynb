{
  "nbformat": 4,
  "nbformat_minor": 0,
  "metadata": {
    "colab": {
      "provenance": [],
      "authorship_tag": "ABX9TyOMALxXAtAilIHV2St45XfF",
      "include_colab_link": true
    },
    "kernelspec": {
      "name": "python3",
      "display_name": "Python 3"
    },
    "language_info": {
      "name": "python"
    }
  },
  "cells": [
    {
      "cell_type": "markdown",
      "metadata": {
        "id": "view-in-github",
        "colab_type": "text"
      },
      "source": [
        "<a href=\"https://colab.research.google.com/github/anshupandey/AI_Agents/blob/main/MiniProject_GCF_Code_Enhancement_Pipeline.ipynb\" target=\"_parent\"><img src=\"https://colab.research.google.com/assets/colab-badge.svg\" alt=\"Open In Colab\"/></a>"
      ]
    },
    {
      "cell_type": "markdown",
      "source": [
        "# Implementing code Enhancement Pipeline with OpenAI and Google Cloud Function"
      ],
      "metadata": {
        "id": "Opk-eztYzrSb"
      }
    },
    {
      "cell_type": "markdown",
      "source": [
        "## Step 1: Environment Setup\n",
        "\n",
        "- install openai SDK\n",
        "- Obtain the openAI Key"
      ],
      "metadata": {
        "id": "T-l_DhPszzXi"
      }
    },
    {
      "cell_type": "code",
      "execution_count": 1,
      "metadata": {
        "colab": {
          "base_uri": "https://localhost:8080/"
        },
        "id": "ZOeylEK2zdGv",
        "outputId": "0cce877e-ebbc-4990-ffed-bb03a8c36b56"
      },
      "outputs": [
        {
          "output_type": "stream",
          "name": "stdout",
          "text": [
            "\u001b[?25l   \u001b[90m━━━━━━━━━━━━━━━━━━━━━━━━━━━━━━━━━━━━━━━━\u001b[0m \u001b[32m0.0/337.0 kB\u001b[0m \u001b[31m?\u001b[0m eta \u001b[36m-:--:--\u001b[0m\r\u001b[2K   \u001b[91m━━━━━━━━━━━━━━━━━━━━━━━━━━━━━━━━━━━━━━\u001b[0m\u001b[91m╸\u001b[0m\u001b[90m━\u001b[0m \u001b[32m327.7/337.0 kB\u001b[0m \u001b[31m13.4 MB/s\u001b[0m eta \u001b[36m0:00:01\u001b[0m\r\u001b[2K   \u001b[90m━━━━━━━━━━━━━━━━━━━━━━━━━━━━━━━━━━━━━━━━\u001b[0m \u001b[32m337.0/337.0 kB\u001b[0m \u001b[31m5.7 MB/s\u001b[0m eta \u001b[36m0:00:00\u001b[0m\n",
            "\u001b[2K   \u001b[90m━━━━━━━━━━━━━━━━━━━━━━━━━━━━━━━━━━━━━━━━\u001b[0m \u001b[32m75.6/75.6 kB\u001b[0m \u001b[31m3.2 MB/s\u001b[0m eta \u001b[36m0:00:00\u001b[0m\n",
            "\u001b[2K   \u001b[90m━━━━━━━━━━━━━━━━━━━━━━━━━━━━━━━━━━━━━━━━\u001b[0m \u001b[32m77.9/77.9 kB\u001b[0m \u001b[31m2.9 MB/s\u001b[0m eta \u001b[36m0:00:00\u001b[0m\n",
            "\u001b[2K   \u001b[90m━━━━━━━━━━━━━━━━━━━━━━━━━━━━━━━━━━━━━━━━\u001b[0m \u001b[32m58.3/58.3 kB\u001b[0m \u001b[31m1.8 MB/s\u001b[0m eta \u001b[36m0:00:00\u001b[0m\n",
            "\u001b[?25h"
          ]
        }
      ],
      "source": [
        "!pip install openai --quiet"
      ]
    },
    {
      "cell_type": "code",
      "source": [
        "import os\n",
        "os.environ['OPENAI_API_KEY'] = \"sk-proj-xxxxxxxxxxxxxxxxxxx\""
      ],
      "metadata": {
        "id": "zIk6SyRTz6ek"
      },
      "execution_count": 2,
      "outputs": []
    },
    {
      "cell_type": "markdown",
      "source": [
        "## Step 2: Code Enhancement Pipeline"
      ],
      "metadata": {
        "id": "RQJvV5dg0FgF"
      }
    },
    {
      "cell_type": "code",
      "source": [
        "# prompt: create a function \"enhance_code\" which takes code_snippet as input, it has a prompt defined to perform code enhancement, it uses gpt-4o model to enhance code quality and returns the updated code.\n",
        "\n",
        "from openai import OpenAI\n",
        "client = OpenAI()\n",
        "\n",
        "\n",
        "def enhance_code(code_snippet):\n",
        "  \"\"\"\n",
        "  This function takes code snippet as input and performs code enhancement and returns the final enhanced enriched code.\n",
        "\n",
        "  Input Args: code_snippet: str\n",
        "  Returns: str\n",
        "  \"\"\"\n",
        "  prompt = f\"\"\" Enhance the following code provided in triple backticks.\n",
        "  Only provided updated code as a response, no other additional explanation text, the response should only be in string format, do not use python cell like: ``` python.\n",
        "\n",
        "  Example:\n",
        "      input:\n",
        "        def hello_world():\n",
        "            print(\"Hello World\n",
        "\n",
        "      output:\n",
        "        def hello_world():\n",
        "            print(\"Hello World\")\n",
        "\n",
        "\n",
        "\n",
        "  Code:\n",
        "  ```{code_snippet}```\n",
        "  \"\"\"\n",
        "\n",
        "  # call the openai API\n",
        "  response = client.chat.completions.create(\n",
        "      model=\"gpt-4o\",\n",
        "      messages=[\n",
        "          {\"role\": \"user\", \"content\": prompt}\n",
        "      ]\n",
        "      )\n",
        "  response = response.choices[0].message.content\n",
        "  response = response.replace('```python', '')\n",
        "  response = response.replace('```', '')\n",
        "  response = response.strip()\n",
        "  return response\n",
        ""
      ],
      "metadata": {
        "id": "y-CvkO6d0BjO"
      },
      "execution_count": 7,
      "outputs": []
    },
    {
      "cell_type": "code",
      "source": [
        "code = \"\"\"\n",
        "\n",
        "def is_prime(num):\n",
        "    if num < 2:\n",
        "        return false\n",
        "    for i in range(2, int(num**0.5) + 1):\n",
        "        if num % i == 0:\n",
        "            return Fffalse\n",
        "    return Truew\n",
        "\n",
        "    \"\"\"\n",
        "\n",
        "output_code = enhance_code(code)\n",
        "print(output_code)"
      ],
      "metadata": {
        "colab": {
          "base_uri": "https://localhost:8080/"
        },
        "id": "smt0XVsz2FRm",
        "outputId": "a36d0004-7456-4439-ff15-2273a31e3ffc"
      },
      "execution_count": 8,
      "outputs": [
        {
          "output_type": "stream",
          "name": "stdout",
          "text": [
            "def is_prime(num):\n",
            "    if num < 2:\n",
            "        return False\n",
            "    for i in range(2, int(num**0.5) + 1):\n",
            "        if num % i == 0:\n",
            "            return False\n",
            "    return True\n"
          ]
        }
      ]
    },
    {
      "cell_type": "code",
      "source": [],
      "metadata": {
        "id": "o5U_qjQc2Qt6"
      },
      "execution_count": null,
      "outputs": []
    },
    {
      "cell_type": "markdown",
      "source": [
        "# Initialize cloud function\n",
        "\n",
        "- name: code_enhancmenet\n",
        "- environemnt: gen 2\n",
        "- trigger: http\n",
        "- authentication: None\n",
        "\n",
        "Next\n",
        "- code: Python 3.10\n"
      ],
      "metadata": {
        "id": "pRwd2-GKBCvy"
      }
    },
    {
      "cell_type": "code",
      "source": [
        "import functions_framework\n",
        "import os\n",
        "os.environ['OPENAI_API_KEY'] = \"sk-proj-xxxxxxxxxxxxxxxxxxxxxxxxxx\"\n",
        "from openai import OpenAI\n",
        "client = OpenAI()\n",
        "\n",
        "@functions_framework.http\n",
        "def code_enhancement(request):\n",
        "    \"\"\"HTTP Cloud Function.\n",
        "    Args:\n",
        "        request (flask.Request): The request object.\n",
        "        <https://flask.palletsprojects.com/en/1.1.x/api/#incoming-request-data>\n",
        "    Returns:\n",
        "        The response text, or any set of values that can be turned into a\n",
        "        Response object using `make_response`\n",
        "        <https://flask.palletsprojects.com/en/1.1.x/api/#flask.make_response>.\n",
        "    \"\"\"\n",
        "    request_json = request.get_json(silent=True)\n",
        "    request_args = request.args\n",
        "\n",
        "    if request_json and 'code' in request_json:\n",
        "        code_snippet = request_json['code']\n",
        "    elif request_args and 'code' in request_args:\n",
        "        code_snippet = request_args['code']\n",
        "    else:\n",
        "        code_snippet  =\"print('Hello World')\"\n",
        "\n",
        "    enhanced_code = enhance_code(code_snippet)\n",
        "    return enhanced_code\n",
        "\n",
        "\n",
        "def enhance_code(code_snippet):\n",
        "  \"\"\"\n",
        "  This function takes code snippet as input and performs code enhancement and returns the final enhanced enriched code.\n",
        "\n",
        "  Input Args: code_snippet: str\n",
        "  Returns: str\n",
        "  \"\"\"\n",
        "  prompt = f\"\"\" Enhance the following code provided in triple backticks.\n",
        "  Only provided updated code as a response, no other additional explanation text, the response should only be in string format, do not use python cell like: ``` python.\n",
        "\n",
        "  Example:\n",
        "      input:\n",
        "        def hello_world():\n",
        "            print(\"Hello World\n",
        "\n",
        "      output:\n",
        "        def hello_world():\n",
        "            print(\"Hello World\")\n",
        "\n",
        "\n",
        "\n",
        "  Code:\n",
        "  ```{code_snippet}```\n",
        "  \"\"\"\n",
        "\n",
        "  # call the openai API\n",
        "  response = client.chat.completions.create(\n",
        "      model=\"gpt-4o\",\n",
        "      messages=[\n",
        "          {\"role\": \"user\", \"content\": prompt}\n",
        "      ]\n",
        "      )\n",
        "  response = response.choices[0].message.content\n",
        "  response = response.replace('```python', '')\n",
        "  response = response.replace('```', '')\n",
        "  response = response.strip()\n",
        "  return response"
      ],
      "metadata": {
        "id": "fyuHzWmn_cjr"
      },
      "execution_count": null,
      "outputs": []
    },
    {
      "cell_type": "markdown",
      "source": [
        "## Step: Testing the pipeline"
      ],
      "metadata": {
        "id": "xKafimQJAIf0"
      }
    },
    {
      "cell_type": "code",
      "source": [
        "url = \"https://us-central1-jrproject-402905.cloudfunctions.net/codepipeline\"\n",
        "import requests\n",
        "import json\n",
        "\n",
        "code = \"\"\"\n",
        "\n",
        "def is_prime(num):\n",
        "    if num < 2:\n",
        "        return false\n",
        "    for i in range(2, int(num**0.5) + 1):\n",
        "        if num % i == 0:\n",
        "            return Fffalse\n",
        "    return Truew\n",
        "\n",
        "    \"\"\"\n",
        "\n",
        "data = json.dumps({\"code\":code})\n",
        "headers = {\"Content-Type\":\"application/json\"}\n",
        "response = requests.post(url, data=data,headers=headers)\n",
        "print(response.content)"
      ],
      "metadata": {
        "colab": {
          "base_uri": "https://localhost:8080/"
        },
        "id": "ctPskBJM_cgO",
        "outputId": "d3bc9775-4564-4d5c-8003-dd35b3ff89c7"
      },
      "execution_count": 11,
      "outputs": [
        {
          "output_type": "stream",
          "name": "stdout",
          "text": [
            "b'def is_prime(num):\\n    if num < 2:\\n        return False\\n    for i in range(2, int(num**0.5) + 1):\\n        if num % i == 0:\\n            return False\\n    return True'\n"
          ]
        }
      ]
    },
    {
      "cell_type": "code",
      "source": [
        "out = response.content.decode()\n",
        "print(out)"
      ],
      "metadata": {
        "colab": {
          "base_uri": "https://localhost:8080/"
        },
        "id": "azJTjqFIAAbV",
        "outputId": "e9ae6624-9361-4dfa-d8f8-21c1367a2fbe"
      },
      "execution_count": 12,
      "outputs": [
        {
          "output_type": "stream",
          "name": "stdout",
          "text": [
            "def is_prime(num):\n",
            "    if num < 2:\n",
            "        return False\n",
            "    for i in range(2, int(num**0.5) + 1):\n",
            "        if num % i == 0:\n",
            "            return False\n",
            "    return True\n"
          ]
        }
      ]
    },
    {
      "cell_type": "code",
      "source": [],
      "metadata": {
        "id": "8HZ7Ml4OAGhY"
      },
      "execution_count": null,
      "outputs": []
    }
  ]
}