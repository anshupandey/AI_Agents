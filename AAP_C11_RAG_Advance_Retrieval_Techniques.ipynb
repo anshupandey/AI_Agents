{
  "cells": [
    {
      "cell_type": "markdown",
      "metadata": {
        "id": "view-in-github",
        "colab_type": "text"
      },
      "source": [
        "<a href=\"https://colab.research.google.com/github/anshupandey/AI_Agents/blob/main/AAP_C11_RAG_Advance_Retrieval_Techniques.ipynb\" target=\"_parent\"><img src=\"https://colab.research.google.com/assets/colab-badge.svg\" alt=\"Open In Colab\"/></a>"
      ]
    },
    {
      "cell_type": "markdown",
      "id": "b189cc5c",
      "metadata": {
        "id": "b189cc5c"
      },
      "source": [
        "# **RAG: Advance retrieval techniques using LangChain**\n",
        "\n",
        "- Using LangChain - multi query retrieval, few other advance techniques from LangChain\n",
        "\n",
        "- Vector DB: PineCone (sign in at https://login.pinecone.io/login? )\n",
        "\n",
        "- Embedding model: vertex ai text embedding model\n",
        "\n",
        "- LLM: Gemini-1.5-flash\n",
        "\n",
        "- Domain: Education"
      ]
    },
    {
      "cell_type": "markdown",
      "id": "e892670b",
      "metadata": {
        "id": "e892670b"
      },
      "source": [
        "Using Advanced Retrieval techniques like\n",
        "- Multi-Query retriever\n",
        "- Contextual compression\n",
        "- Long-Context Reorder"
      ]
    },
    {
      "cell_type": "markdown",
      "source": [
        "This Lab focuses on implementing Retriever-Augmented Generation (RAG) system, designed for the botany domain, leverages advanced retrieval techniques facilitated by **LangChain**, employing **PineCone** as the vector database and **Gemini-1.5-Flash** for language modeling. This configuration enhances the precision and efficiency of botanical information retrieval and generation, ideal for academic research, educational content, and professional consultation.\n",
        "\n",
        "**LangChain** serves as the orchestration framework that implements sophisticated retrieval techniques, crucial for dealing with complex botanical data. Key features include:\n",
        "\n",
        "**Multi-Query Retriever**: This technique allows the system to handle multiple queries simultaneously or queries with multiple components, enhancing the system's ability to retrieve comprehensive information from a large dataset.\n",
        "**Contextual Compression**: Here, relevant information is compressed into context-rich embeddings, preserving essential data while optimizing storage and retrieval processes.\n",
        "**Long-Context Reorder**: This technique reorganizes the retrieved data to maintain coherence and relevance over extended contexts, vital for understanding complex botanical interactions and processes.\n",
        "Weaviate is utilized as the vector database, storing and managing the vector embeddings generated using OpenAI's text-embedding-03 model. These embeddings encode detailed semantic relationships within botanical texts, enabling the system to retrieve highly relevant information rapidly and accurately.\n",
        "\n",
        "\n",
        "Overall, this RAG setup offers a powerful solution for the botany domain, enhancing the retrieval and presentation of botanical knowledge through advanced AI-driven techniques. It significantly aids in research, teaching, and practical applications by delivering accurate, contextually enriched responses swiftly, thus supporting deeper insights and learning in botany.\n",
        "\n",
        "\n",
        "\n",
        "\n",
        "\n"
      ],
      "metadata": {
        "id": "__w8zwDtkKd-"
      },
      "id": "__w8zwDtkKd-"
    },
    {
      "cell_type": "markdown",
      "id": "19d852cb",
      "metadata": {
        "id": "19d852cb"
      },
      "source": [
        "Necessary libraries for implementing this \"RAG: Advance retrieval techniques using LangChain\""
      ]
    },
    {
      "cell_type": "markdown",
      "source": [
        "## Environment Setup"
      ],
      "metadata": {
        "id": "h6ahHLm6kYr1"
      },
      "id": "h6ahHLm6kYr1"
    },
    {
      "cell_type": "code",
      "execution_count": 1,
      "id": "742504c3",
      "metadata": {
        "id": "742504c3",
        "outputId": "b0bcf313-3b07-41c7-a7ba-d277f779b47d",
        "colab": {
          "base_uri": "https://localhost:8080/"
        }
      },
      "outputs": [
        {
          "output_type": "stream",
          "name": "stdout",
          "text": [
            "\u001b[2K     \u001b[90m━━━━━━━━━━━━━━━━━━━━━━━━━━━━━━━━━━━━━━━━\u001b[0m \u001b[32m987.6/987.6 kB\u001b[0m \u001b[31m4.2 MB/s\u001b[0m eta \u001b[36m0:00:00\u001b[0m\n",
            "\u001b[2K     \u001b[90m━━━━━━━━━━━━━━━━━━━━━━━━━━━━━━━━━━━━━━━━\u001b[0m \u001b[32m2.2/2.2 MB\u001b[0m \u001b[31m13.9 MB/s\u001b[0m eta \u001b[36m0:00:00\u001b[0m\n",
            "\u001b[2K     \u001b[90m━━━━━━━━━━━━━━━━━━━━━━━━━━━━━━━━━━━━━━━━\u001b[0m \u001b[32m295.7/295.7 kB\u001b[0m \u001b[31m14.8 MB/s\u001b[0m eta \u001b[36m0:00:00\u001b[0m\n",
            "\u001b[2K     \u001b[90m━━━━━━━━━━━━━━━━━━━━━━━━━━━━━━━━━━━━━━━━\u001b[0m \u001b[32m216.4/216.4 kB\u001b[0m \u001b[31m5.9 MB/s\u001b[0m eta \u001b[36m0:00:00\u001b[0m\n",
            "\u001b[2K     \u001b[90m━━━━━━━━━━━━━━━━━━━━━━━━━━━━━━━━━━━━━━━━\u001b[0m \u001b[32m366.5/366.5 kB\u001b[0m \u001b[31m15.5 MB/s\u001b[0m eta \u001b[36m0:00:00\u001b[0m\n",
            "\u001b[2K     \u001b[90m━━━━━━━━━━━━━━━━━━━━━━━━━━━━━━━━━━━━━━━━\u001b[0m \u001b[32m129.4/129.4 kB\u001b[0m \u001b[31m4.7 MB/s\u001b[0m eta \u001b[36m0:00:00\u001b[0m\n",
            "\u001b[2K     \u001b[90m━━━━━━━━━━━━━━━━━━━━━━━━━━━━━━━━━━━━━━━━\u001b[0m \u001b[32m215.9/215.9 kB\u001b[0m \u001b[31m7.7 MB/s\u001b[0m eta \u001b[36m0:00:00\u001b[0m\n",
            "\u001b[2K     \u001b[90m━━━━━━━━━━━━━━━━━━━━━━━━━━━━━━━━━━━━━━━━\u001b[0m \u001b[32m49.2/49.2 kB\u001b[0m \u001b[31m1.7 MB/s\u001b[0m eta \u001b[36m0:00:00\u001b[0m\n",
            "\u001b[2K     \u001b[90m━━━━━━━━━━━━━━━━━━━━━━━━━━━━━━━━━━━━━━━━\u001b[0m \u001b[32m141.1/141.1 kB\u001b[0m \u001b[31m1.2 MB/s\u001b[0m eta \u001b[36m0:00:00\u001b[0m\n",
            "\u001b[2K     \u001b[90m━━━━━━━━━━━━━━━━━━━━━━━━━━━━━━━━━━━━━━━━\u001b[0m \u001b[32m91.4/91.4 kB\u001b[0m \u001b[31m1.1 MB/s\u001b[0m eta \u001b[36m0:00:00\u001b[0m\n",
            "\u001b[2K     \u001b[90m━━━━━━━━━━━━━━━━━━━━━━━━━━━━━━━━━━━━━━━━\u001b[0m \u001b[32m202.7/202.7 kB\u001b[0m \u001b[31m3.8 MB/s\u001b[0m eta \u001b[36m0:00:00\u001b[0m\n",
            "\u001b[2K     \u001b[90m━━━━━━━━━━━━━━━━━━━━━━━━━━━━━━━━━━━━━━━━\u001b[0m \u001b[32m64.9/64.9 kB\u001b[0m \u001b[31m751.2 kB/s\u001b[0m eta \u001b[36m0:00:00\u001b[0m\n",
            "\u001b[?25h\u001b[31mERROR: pip's dependency resolver does not currently take into account all the packages that are installed. This behaviour is the source of the following dependency conflicts.\n",
            "google-colab 1.0.0 requires requests==2.31.0, but you have requests 2.32.3 which is incompatible.\u001b[0m\u001b[31m\n",
            "\u001b[2K     \u001b[90m━━━━━━━━━━━━━━━━━━━━━━━━━━━━━━━━━━━━━━━━\u001b[0m \u001b[32m73.0/73.0 kB\u001b[0m \u001b[31m845.3 kB/s\u001b[0m eta \u001b[36m0:00:00\u001b[0m\n",
            "\u001b[2K     \u001b[90m━━━━━━━━━━━━━━━━━━━━━━━━━━━━━━━━━━━━━━━━\u001b[0m \u001b[32m126.5/126.5 kB\u001b[0m \u001b[31m2.6 MB/s\u001b[0m eta \u001b[36m0:00:00\u001b[0m\n",
            "\u001b[?25h"
          ]
        }
      ],
      "source": [
        "!pip install -q langchain  langchain-community pypdf pinecone-client langchain-pinecone\n",
        "!pip install -q -U langchain-core langgraph langchain-experimental --quiet\n",
        "!pip install --upgrade --quiet google-cloud-aiplatform requests\n",
        "!pip install -q -U langchain-google-vertexai --quiet"
      ]
    },
    {
      "cell_type": "code",
      "source": [
        "import IPython\n",
        "\n",
        "app = IPython.Application.instance()\n",
        "app.kernel.do_shutdown(True)"
      ],
      "metadata": {
        "colab": {
          "base_uri": "https://localhost:8080/"
        },
        "id": "R_SsrYWdJsoh",
        "outputId": "82b1f286-40a7-4590-9add-496f5172f06b"
      },
      "execution_count": 2,
      "outputs": [
        {
          "output_type": "execute_result",
          "data": {
            "text/plain": [
              "{'status': 'ok', 'restart': True}"
            ]
          },
          "metadata": {},
          "execution_count": 2
        }
      ],
      "id": "R_SsrYWdJsoh"
    },
    {
      "cell_type": "code",
      "source": [
        "import os\n",
        "os.environ[\"PINECONE_API_KEY\"] = \"b7d8be33-ebf8-493c-9b9a-8714b00b2513\""
      ],
      "metadata": {
        "id": "_5dublUl3yn8"
      },
      "id": "_5dublUl3yn8",
      "execution_count": 1,
      "outputs": []
    },
    {
      "cell_type": "code",
      "source": [
        "import sys\n",
        "\n",
        "if \"google.colab\" in sys.modules:\n",
        "    from google.colab import auth\n",
        "\n",
        "    auth.authenticate_user()"
      ],
      "metadata": {
        "id": "pwMllwCmJutm"
      },
      "execution_count": 2,
      "outputs": [],
      "id": "pwMllwCmJutm"
    },
    {
      "cell_type": "code",
      "source": [
        "PROJECT_ID = \"jrproject-402905\"  # @param {type:\"string\"}\n",
        "LOCATION = \"us-central1\"  # @param {type:\"string\"}\n",
        "\n",
        "import vertexai\n",
        "\n",
        "vertexai.init(project=PROJECT_ID, location=LOCATION)"
      ],
      "metadata": {
        "id": "0kLiZXZTJyRr"
      },
      "execution_count": 3,
      "outputs": [],
      "id": "0kLiZXZTJyRr"
    },
    {
      "cell_type": "markdown",
      "id": "3f9f6ddf",
      "metadata": {
        "id": "3f9f6ddf"
      },
      "source": [
        "Function for showing retrieved document results in intuitive way"
      ]
    },
    {
      "cell_type": "code",
      "source": [
        "!wget -q https://anshupandey.blob.core.windows.net/generativeaidocs/BotanyDocs.zip\n",
        "!unzip -q BotanyDocs.zip"
      ],
      "metadata": {
        "id": "WJTFa6NdfXYD"
      },
      "id": "WJTFa6NdfXYD",
      "execution_count": 4,
      "outputs": []
    },
    {
      "cell_type": "code",
      "execution_count": 5,
      "id": "fdf6fd4a",
      "metadata": {
        "id": "fdf6fd4a"
      },
      "outputs": [],
      "source": [
        "def pretty_print_docs(docs):\n",
        "    print(\n",
        "        f\"\\n{'-' * 100}\\n\".join(\n",
        "            [f\"Document {i+1}:\\n\\n\" + d.page_content for i, d in enumerate(docs)]\n",
        "        )\n",
        "    )"
      ]
    },
    {
      "cell_type": "markdown",
      "id": "2771d028",
      "metadata": {
        "id": "2771d028"
      },
      "source": [
        "The RecursiveCharacterTextSplitter is used in Retriever-Augmented Generation (RAG) models for handling long text inputs.\n",
        "\n",
        "Here are the main points for its use:\n",
        "\n",
        "- Length Management\n",
        "- Context Preservation\n",
        "- Efficient Processing"
      ]
    },
    {
      "cell_type": "markdown",
      "source": [
        "## Data Preparation"
      ],
      "metadata": {
        "id": "tPrnaabukeO1"
      },
      "id": "tPrnaabukeO1"
    },
    {
      "cell_type": "code",
      "execution_count": 6,
      "id": "979d5470",
      "metadata": {
        "id": "979d5470"
      },
      "outputs": [],
      "source": [
        "# Import the RecursiveCharacterTextSplitter class.\n",
        "from langchain.text_splitter import RecursiveCharacterTextSplitter\n",
        "\n",
        "# Initialize a RecursiveCharacterTextSplitter with specified separators and configurations.\n",
        "# The text will be split into chunks around 1000 characters long, with a 20-character overlap between chunks.\n",
        "\n",
        "character_splitter = RecursiveCharacterTextSplitter(\n",
        "    separators=[\"\\n\\n\", \"\\n\", \". \", \" \", \"\"],  # The hierarchy of separators to use for splitting.\n",
        "    chunk_size=800,  # Target size of each chunk in characters.\n",
        "    chunk_overlap=100)\n"
      ]
    },
    {
      "cell_type": "markdown",
      "id": "bc9b2c83",
      "metadata": {
        "id": "bc9b2c83"
      },
      "source": [
        "Here we are using four pdfs related to Stock market investments and strategies. These are our external data sources on which we will implement RAG solution\n",
        "\n",
        "PyPDFLoader class from the langchain_community.document_loaders module to load and process multiple PDF documents\n",
        "\n",
        "Loop Through PDF Files: The code iterates over the list of PDF filenames using a for-loop.\n",
        "\n",
        "Loading PDF Content: For each PDF file in the list, an instance of PyPDFLoader is created with the filename as an argument.\n",
        "\n",
        "Extract and Split Text: The load_and_split method of the PyPDFLoader instance is called to load the text content from the PDF file and split it into manageable segments. The method uses a text_splitter for this purpose, which is RecursiveCharacterTextSplitter defined above cell"
      ]
    },
    {
      "cell_type": "code",
      "execution_count": 7,
      "id": "0045a4e9",
      "metadata": {
        "id": "0045a4e9"
      },
      "outputs": [],
      "source": [
        "from langchain_community.document_loaders import PyPDFLoader\n",
        "pdfs=[\"intro_botany.pdf\",\"Basics_of_Plants.pdf\"]\n",
        "docs=[]\n",
        "for i in pdfs:\n",
        "    loader = PyPDFLoader(i)\n",
        "    docs.extend(loader.load_and_split(text_splitter=character_splitter))"
      ]
    },
    {
      "cell_type": "code",
      "execution_count": 8,
      "id": "db0670b8",
      "metadata": {
        "colab": {
          "base_uri": "https://localhost:8080/"
        },
        "id": "db0670b8",
        "outputId": "4dea0fb3-3059-4519-9041-a519367bdeef"
      },
      "outputs": [
        {
          "output_type": "execute_result",
          "data": {
            "text/plain": [
              "Document(metadata={'source': 'intro_botany.pdf', 'page': 0}, page_content='Chapter 1\\nIntroduction to the Introduction\\n1.1 Plants, Botany, and Kingdoms\\nBotany is the scientiﬁc study of plants and plant-like organisms. It helps us under-\\nstand why plants are so vitally important to the world. Plants start the majority of\\nfood and energy chains, they provide us with oxygen, food and medicine.\\nPlants can be divided into two groups: plants 1andplants 2. Plants 1contain all pho-\\ntosynthetic organisms which use light, H 2O, and CO 2to make organic compounds\\nand O 2. Plants 1are deﬁned ecologically (based on their role in nature).\\nSome plants 1can be bacteria or even animals! One example of this a green slug,\\nElysia chlorotica (see Fig. 1.1). Green slugs collect chloroplasts from algae and use')"
            ]
          },
          "metadata": {},
          "execution_count": 8
        }
      ],
      "source": [
        "docs[0]"
      ]
    },
    {
      "cell_type": "code",
      "execution_count": 9,
      "id": "94bb7749",
      "metadata": {
        "colab": {
          "base_uri": "https://localhost:8080/"
        },
        "id": "94bb7749",
        "outputId": "04700218-b939-4c0a-efc6-c5eb6c61b448"
      },
      "outputs": [
        {
          "output_type": "execute_result",
          "data": {
            "text/plain": [
              "414"
            ]
          },
          "metadata": {},
          "execution_count": 9
        }
      ],
      "source": [
        "len(docs)"
      ]
    },
    {
      "cell_type": "markdown",
      "id": "a453fe9a",
      "metadata": {
        "id": "a453fe9a"
      },
      "source": [
        "We are using Openai embeddings \"text-embedding-ada-002\""
      ]
    },
    {
      "cell_type": "markdown",
      "source": [
        "## Vector Embeddings"
      ],
      "metadata": {
        "id": "desVV-eGkgyo"
      },
      "id": "desVV-eGkgyo"
    },
    {
      "cell_type": "code",
      "execution_count": 10,
      "id": "aec38728",
      "metadata": {
        "id": "aec38728"
      },
      "outputs": [],
      "source": [
        "from langchain_google_vertexai.embeddings import VertexAIEmbeddings\n",
        "embeddings = VertexAIEmbeddings(model_name=\"textembedding-gecko@001\")"
      ]
    },
    {
      "cell_type": "markdown",
      "source": [
        "## Vector DB Setup and Retrieval"
      ],
      "metadata": {
        "id": "M4IHi7yHaW59"
      },
      "id": "M4IHi7yHaW59"
    },
    {
      "cell_type": "markdown",
      "metadata": {
        "id": "xy2qgcA__BGu"
      },
      "source": [
        "We are using Pinecone vectorDB for storing the Vector embeddings"
      ],
      "id": "xy2qgcA__BGu"
    },
    {
      "cell_type": "code",
      "execution_count": 15,
      "metadata": {
        "id": "aSQt8T6EE7vm"
      },
      "outputs": [],
      "source": [
        "from pinecone import Pinecone, ServerlessSpec\n",
        "import time\n",
        "\n",
        "use_serverless=False\n",
        "\n",
        "# configure client\n",
        "pc = Pinecone(api_key=os.getenv(\"PINECONE_API_KEY\"))\n",
        "\n",
        "\n",
        "\n",
        "# check for and delete index if already exists\n",
        "index_name = 'langchain-rag'\n",
        "if index_name in pc.list_indexes().names():\n",
        "    pc.delete_index(index_name)\n",
        "\n",
        "# create a new index\n",
        "pc.create_index(\n",
        "    name=index_name,\n",
        "    dimension=768,\n",
        "    metric=\"cosine\",\n",
        "    spec=ServerlessSpec(\n",
        "        cloud='aws',\n",
        "        region='us-east-1'\n",
        "    )\n",
        ")\n",
        "\n",
        "# wait for index to be initialized\n",
        "while not pc.describe_index(index_name).status['ready']:\n",
        "    time.sleep(1)"
      ],
      "id": "aSQt8T6EE7vm"
    },
    {
      "cell_type": "code",
      "execution_count": 16,
      "metadata": {
        "id": "NpPnN7DdXa2F",
        "outputId": "193656f6-ea25-4830-ca3e-873168ddabae",
        "colab": {
          "base_uri": "https://localhost:8080/"
        }
      },
      "outputs": [
        {
          "output_type": "stream",
          "name": "stderr",
          "text": [
            "WARNING:google.cloud.aiplatform.telemetry:Gapic client context issue detected.This can occur due to parallelization.\n",
            "WARNING:google.cloud.aiplatform.telemetry:Gapic client context issue detected.This can occur due to parallelization.\n",
            "WARNING:langchain_core.language_models.llms:Retrying vertexai.language_models._language_models._TextEmbeddingModel.get_embeddings in 4.0 seconds as it raised ResourceExhausted: 429 Quota exceeded for aiplatform.googleapis.com/online_prediction_requests_per_base_model with base model: textembedding-gecko. Please submit a quota increase request. https://cloud.google.com/vertex-ai/docs/generative-ai/quotas-genai..\n",
            "WARNING:langchain_core.language_models.llms:Retrying vertexai.language_models._language_models._TextEmbeddingModel.get_embeddings in 4.0 seconds as it raised ResourceExhausted: 429 Quota exceeded for aiplatform.googleapis.com/online_prediction_requests_per_base_model with base model: textembedding-gecko. Please submit a quota increase request. https://cloud.google.com/vertex-ai/docs/generative-ai/quotas-genai..\n",
            "WARNING:langchain_core.language_models.llms:Retrying vertexai.language_models._language_models._TextEmbeddingModel.get_embeddings in 4.0 seconds as it raised ResourceExhausted: 429 Quota exceeded for aiplatform.googleapis.com/online_prediction_requests_per_base_model with base model: textembedding-gecko. Please submit a quota increase request. https://cloud.google.com/vertex-ai/docs/generative-ai/quotas-genai..\n",
            "WARNING:google.cloud.aiplatform.telemetry:Gapic client context issue detected.This can occur due to parallelization.\n",
            "WARNING:google.cloud.aiplatform.telemetry:Gapic client context issue detected.This can occur due to parallelization.\n",
            "WARNING:google.cloud.aiplatform.telemetry:Gapic client context issue detected.This can occur due to parallelization.\n",
            "WARNING:google.cloud.aiplatform.telemetry:Gapic client context issue detected.This can occur due to parallelization.\n"
          ]
        }
      ],
      "source": [
        "from langchain_pinecone import PineconeVectorStore\n",
        "\n",
        "index_name = \"langchain-rag\"\n",
        "\n",
        "docsearch = PineconeVectorStore.from_documents(docs, embeddings, index_name=index_name)"
      ],
      "id": "NpPnN7DdXa2F"
    },
    {
      "cell_type": "markdown",
      "metadata": {
        "id": "lLse9vtMaPgh"
      },
      "source": [
        "We are using Cohere LLM (Large language model)"
      ],
      "id": "lLse9vtMaPgh"
    },
    {
      "cell_type": "code",
      "execution_count": 13,
      "metadata": {
        "id": "glxaU04Fa9My"
      },
      "outputs": [],
      "source": [
        "from langchain_core.messages import HumanMessage"
      ],
      "id": "glxaU04Fa9My"
    },
    {
      "cell_type": "code",
      "execution_count": 14,
      "metadata": {
        "id": "0I6-S45ZaPgi"
      },
      "outputs": [],
      "source": [
        "from langchain_google_vertexai import ChatVertexAI\n",
        "model = ChatVertexAI(model=\"gemini-1.5-flash-001\")"
      ],
      "id": "0I6-S45ZaPgi"
    },
    {
      "cell_type": "markdown",
      "metadata": {
        "id": "4o52ExZZaPgi"
      },
      "source": [
        "This function will retrieve top n results from vectorDB which are semantically similar to the query"
      ],
      "id": "4o52ExZZaPgi"
    },
    {
      "cell_type": "code",
      "execution_count": 17,
      "metadata": {
        "colab": {
          "base_uri": "https://localhost:8080/"
        },
        "id": "4WV4_NPMaPgi",
        "outputId": "cfd661bc-d278-4c2f-9d29-9f1c4bf70255"
      },
      "outputs": [
        {
          "name": "stdout",
          "output_type": "stream",
          "text": [
            "what is you query? What is needed to understand life of plants\n"
          ]
        },
        {
          "output_type": "stream",
          "name": "stderr",
          "text": [
            "WARNING:langchain_core.language_models.llms:Retrying vertexai.language_models._language_models._TextEmbeddingModel.get_embeddings in 4.0 seconds as it raised ResourceExhausted: 429 Quota exceeded for aiplatform.googleapis.com/online_prediction_requests_per_base_model with base model: textembedding-gecko. Please submit a quota increase request. https://cloud.google.com/vertex-ai/docs/generative-ai/quotas-genai..\n",
            "WARNING:langchain_core.language_models.llms:Retrying vertexai.language_models._language_models._TextEmbeddingModel.get_embeddings in 4.0 seconds as it raised ResourceExhausted: 429 Quota exceeded for aiplatform.googleapis.com/online_prediction_requests_per_base_model with base model: textembedding-gecko. Please submit a quota increase request. https://cloud.google.com/vertex-ai/docs/generative-ai/quotas-genai..\n",
            "WARNING:langchain_core.language_models.llms:Retrying vertexai.language_models._language_models._TextEmbeddingModel.get_embeddings in 4.0 seconds as it raised ResourceExhausted: 429 Quota exceeded for aiplatform.googleapis.com/online_prediction_requests_per_base_model with base model: textembedding-gecko. Please submit a quota increase request. https://cloud.google.com/vertex-ai/docs/generative-ai/quotas-genai..\n"
          ]
        },
        {
          "output_type": "stream",
          "name": "stdout",
          "text": [
            "Document 1:\n",
            "\n",
            "and they play a vital role in the Earth's ecosystem. Botany is an important field because it helps \n",
            "us understand how plants work, how they interact with their environment, and how they can be \n",
            "used to improve our lives.  \n",
            "2. Plant Anatomy:  \n",
            "Plant anatomy is the study of the structure of plants, including their external features, internal \n",
            "structures, and tissues. Here are some basic terms you should know:  \n",
            "* Root: the underground part of a plant that absorbs water and minerals from the soil  \n",
            "* Stem: the above -ground part of a plant that supports the leaves and branches  \n",
            "* Leaf: a flat, green structure that absorbs sunlight and produces food for the plant through \n",
            "photosynthesis  \n",
            "* Flower: a reproductive structure that produces seeds\n",
            "----------------------------------------------------------------------------------------------------\n",
            "Document 2:\n",
            "\n",
            "* Reproduction: the process by which plants produce seeds, either sexually or asexually  \n",
            "* Senescence: the stage at which a plant begins to decline and eventually dies  \n",
            "5. Plant Evolution:  \n",
            "Plants have evolved over millions of years to adapt to their environments. Here are some basic \n",
            "concepts you should know:  \n",
            "* Evolution: the process by which plants change over time through genetic variation and natural \n",
            "selection  \n",
            "* Adaptation: the process by which plants develop structures and strategies to survive and \n",
            "thrive in their environments  \n",
            "* Speciation: the process by which new plant species arise through geographic isolation, \n",
            "genetic isolation, or other mechanisms  \n",
            "6. Plant Diversity:  \n",
            "Plants are incredibly diverse, with over 400,000 known species worldwide. Here are some basic\n",
            "----------------------------------------------------------------------------------------------------\n",
            "Document 3:\n",
            "\n",
            "minerals, and sugars  \n",
            "* Non -vascular plants: plants that lack a vascular system, such as mosses and liverworts  \n",
            "* Angiosperms: flowering plants that produce seeds enclosed in an ovary  \n",
            "* Gymnosperms: plants that produce seeds that are not enclosed in an ovary, such as conifers \n",
            "and cycads  \n",
            "7. Plant Ecology:  \n",
            "Plant ecology is the study of how plants interact with their environment and other organisms. \n",
            "Here are some basic concepts you should know:  \n",
            "* Habitat: the environment in which a plant grows  \n",
            "* Niche: the specific role a plant plays in its environment\n",
            "----------------------------------------------------------------------------------------------------\n",
            "Document 4:\n",
            "\n",
            "Kraehmer H., Baur P . 2013. Weed anatomy. John Wiley & Sons.\n",
            "Manetas Y. 2012. Alice in the land of plants: biology of plants and their importance\n",
            "for planet earth. Springer Science & Business Media.\n",
            "Olson M.E., Rosell J.A., Zamora Mu ˜noz S., Castorena M. 2018. Carbon limitation,\n",
            "stem growth rate and the biomechanical cause of Corner’s rules. Annals of\n",
            "Botany. 122: 583–592.\n",
            "Prusinkiewicz P ., Lindenmayer A. 2012. The algorithmic beauty of plants. Springer\n",
            "Science & Business Media.\n",
            "Sage R.F., Monson R.K., Ehleringer J.R., Adachi S., Pearcy R.W. 2018. Some like it\n",
            "hot: The physiological ecology of C 4plant evolution. Oecologia. 187: 941–966.\n",
            "Trewavas A. 2014. Plant behaviour and intelligence. OUP Oxford.\n",
            "von Denffer D., Bell P .R., Coombe D. 1976. Strasburger’s textbook of botany. Long-\n",
            "man.\n",
            "----------------------------------------------------------------------------------------------------\n",
            "Document 5:\n",
            "\n",
            "* Root: the underground part of a plant that absorbs water and minerals from the soil  \n",
            "* Stem: the above -ground part of a plant that supports the leaves and branches  \n",
            "* Leaf: a flat, green structure that absorbs sunlight and produces food for the plant through \n",
            "photosynthesis  \n",
            "* Flower: a reproductive structure that produces seeds  \n",
            "* Seed: a small, fertilized plant ovule that can grow into a new plant  \n",
            "* Bark: the protective outer layer of a tree or shrub  \n",
            "* Wood: the inner, hard tissue of a tree or shrub  \n",
            "3. Plant Physiology:  \n",
            "Plant physiology is the study of how plants function and respond to their environment. Here are \n",
            "some basic concepts you should know:  \n",
            "* Photosynthesis: the process by which plants convert sunlight, water, and carbon dioxide into \n",
            "glucose and oxygen\n",
            "----------------------------------------------------------------------------------------------------\n",
            "Document 6:\n",
            "\n",
            "Plants are incredibly diverse, with over 400,000 known species worldwide. Here are some basic \n",
            "categories of plants you should know:  \n",
            "* Vascular plants: plants that have a vascular system (xylem and phloem) to transport water, \n",
            "minerals, and sugars  \n",
            "* Non -vascular plants: plants that lack a vascular system, such as mosses and liverworts  \n",
            "* Angiosperms: flowering plants that produce seeds enclosed in an ovary  \n",
            "* Gymnosperms: plants that produce seeds that are not enclosed in an ovary, such as conifers \n",
            "and cycads  \n",
            "7. Plant Ecology:  \n",
            "Plant ecology is the study of how plants interact with their environment and other organisms. \n",
            "Here are some basic concepts you should know:  \n",
            "* Habitat: the environment in which a plant grows\n"
          ]
        }
      ],
      "source": [
        "def get_similiar_docs(query, k=6, score=False):\n",
        "  if score:\n",
        "    similar_docs = docsearch.similarity_search_with_score(query, k=k)\n",
        "  else:\n",
        "    similar_docs = docsearch.similarity_search(query, k=k)\n",
        "  return similar_docs\n",
        "\n",
        "query=input(\"what is you query? \")\n",
        "pretty_print_docs(get_similiar_docs(query))\n",
        "# What is needed to understand life of plants"
      ],
      "id": "4WV4_NPMaPgi"
    },
    {
      "cell_type": "markdown",
      "source": [
        "## Implementing RAG Chain"
      ],
      "metadata": {
        "id": "ZJC9wBi8aefn"
      },
      "id": "ZJC9wBi8aefn"
    },
    {
      "cell_type": "markdown",
      "id": "d51e66d1",
      "metadata": {
        "id": "d51e66d1"
      },
      "source": [
        "This below is the basic chaining process of langchain for RAG, we have provided two ways for Chainings\n"
      ]
    },
    {
      "cell_type": "markdown",
      "id": "1943b443",
      "metadata": {
        "id": "1943b443"
      },
      "source": [
        "The first code snippet sets up a retrieval chain for answering questions based on context using Langchain. It involves creating a retrieval chain with a specific retriever and language model, structuring the question-answer process with a ChatPromptTemplate, and invoking the retrieval chain with a user input question."
      ]
    },
    {
      "cell_type": "code",
      "execution_count": 18,
      "id": "e49cdd82",
      "metadata": {
        "id": "e49cdd82"
      },
      "outputs": [],
      "source": [
        "from langchain_core.documents import Document\n",
        "from langchain_core.prompts import ChatPromptTemplate\n",
        "from langchain.chains.combine_documents import create_stuff_documents_chain\n",
        "from langchain_core.runnables import RunnableLambda, RunnablePassthrough\n",
        "from langchain_core.output_parsers import StrOutputParser"
      ]
    },
    {
      "cell_type": "code",
      "execution_count": 19,
      "id": "802c3e58",
      "metadata": {
        "colab": {
          "base_uri": "https://localhost:8080/",
          "height": 35
        },
        "id": "802c3e58",
        "outputId": "599545e0-98b0-4eb7-e32c-d5639938a1cf"
      },
      "outputs": [
        {
          "output_type": "execute_result",
          "data": {
            "text/plain": [
              "'All organic molecules are made of some **organic skeleton**. \\n'"
            ],
            "application/vnd.google.colaboratory.intrinsic+json": {
              "type": "string"
            }
          },
          "metadata": {},
          "execution_count": 19
        }
      ],
      "source": [
        "template = \"\"\"Answer the question based only on the following context:\n",
        "{context}\n",
        "\n",
        "Question: {question}\n",
        "\"\"\"\n",
        "prompt = ChatPromptTemplate.from_template(template)\n",
        "chain = (\n",
        "    {\"context\":docsearch.as_retriever(), \"question\": RunnablePassthrough()}\n",
        "    | prompt\n",
        "    | model\n",
        "    | StrOutputParser()\n",
        ")\n",
        "\n",
        "chain.invoke(\"All organic molecule is made of what?\")"
      ]
    },
    {
      "cell_type": "markdown",
      "id": "ede69fbe",
      "metadata": {
        "id": "ede69fbe"
      },
      "source": [
        "**-------------------------------------------------------------------------------------------------------------------------------------------------------------------------------------------**"
      ]
    },
    {
      "cell_type": "markdown",
      "id": "237cda58",
      "metadata": {
        "id": "237cda58"
      },
      "source": [
        "The second code snippet constructs a chain for answering questions based on a provided context. It involves defining a template for structuring the question-answer process, creating a ChatPromptTemplate from the template, initializing a language model, and setting up a chain with components like the context (retriever), a placeholder for the question, a prompt template, the language model, and an output parser."
      ]
    },
    {
      "cell_type": "code",
      "execution_count": 20,
      "id": "1c721e09",
      "metadata": {
        "colab": {
          "base_uri": "https://localhost:8080/"
        },
        "id": "1c721e09",
        "outputId": "83a9ceaf-80dd-45d7-89b8-4d82e1718938"
      },
      "outputs": [
        {
          "name": "stdout",
          "output_type": "stream",
          "text": [
            "What is needed to understand life of plants\n"
          ]
        },
        {
          "output_type": "execute_result",
          "data": {
            "text/plain": [
              "{'input': 'What is needed to understand life of plants',\n",
              " 'context': [Document(metadata={'page': 2.0, 'source': 'Basics_of_Plants.pdf'}, page_content=\"and they play a vital role in the Earth's ecosystem. Botany is an important field because it helps \\nus understand how plants work, how they interact with their environment, and how they can be \\nused to improve our lives.  \\n2. Plant Anatomy:  \\nPlant anatomy is the study of the structure of plants, including their external features, internal \\nstructures, and tissues. Here are some basic terms you should know:  \\n* Root: the underground part of a plant that absorbs water and minerals from the soil  \\n* Stem: the above -ground part of a plant that supports the leaves and branches  \\n* Leaf: a flat, green structure that absorbs sunlight and produces food for the plant through \\nphotosynthesis  \\n* Flower: a reproductive structure that produces seeds\"),\n",
              "  Document(metadata={'page': 1.0, 'source': 'Basics_of_Plants.pdf'}, page_content='* Reproduction: the process by which plants produce seeds, either sexually or asexually  \\n* Senescence: the stage at which a plant begins to decline and eventually dies  \\n5. Plant Evolution:  \\nPlants have evolved over millions of years to adapt to their environments. Here are some basic \\nconcepts you should know:  \\n* Evolution: the process by which plants change over time through genetic variation and natural \\nselection  \\n* Adaptation: the process by which plants develop structures and strategies to survive and \\nthrive in their environments  \\n* Speciation: the process by which new plant species arise through geographic isolation, \\ngenetic isolation, or other mechanisms  \\n6. Plant Diversity:  \\nPlants are incredibly diverse, with over 400,000 known species worldwide. Here are some basic'),\n",
              "  Document(metadata={'page': 3.0, 'source': 'Basics_of_Plants.pdf'}, page_content='minerals, and sugars  \\n* Non -vascular plants: plants that lack a vascular system, such as mosses and liverworts  \\n* Angiosperms: flowering plants that produce seeds enclosed in an ovary  \\n* Gymnosperms: plants that produce seeds that are not enclosed in an ovary, such as conifers \\nand cycads  \\n7. Plant Ecology:  \\nPlant ecology is the study of how plants interact with their environment and other organisms. \\nHere are some basic concepts you should know:  \\n* Habitat: the environment in which a plant grows  \\n* Niche: the specific role a plant plays in its environment'),\n",
              "  Document(metadata={'page': 173.0, 'source': 'intro_botany.pdf'}, page_content='Kraehmer H., Baur P . 2013. Weed anatomy. John Wiley & Sons.\\nManetas Y. 2012. Alice in the land of plants: biology of plants and their importance\\nfor planet earth. Springer Science & Business Media.\\nOlson M.E., Rosell J.A., Zamora Mu ˜noz S., Castorena M. 2018. Carbon limitation,\\nstem growth rate and the biomechanical cause of Corner’s rules. Annals of\\nBotany. 122: 583–592.\\nPrusinkiewicz P ., Lindenmayer A. 2012. The algorithmic beauty of plants. Springer\\nScience & Business Media.\\nSage R.F., Monson R.K., Ehleringer J.R., Adachi S., Pearcy R.W. 2018. Some like it\\nhot: The physiological ecology of C 4plant evolution. Oecologia. 187: 941–966.\\nTrewavas A. 2014. Plant behaviour and intelligence. OUP Oxford.\\nvon Denffer D., Bell P .R., Coombe D. 1976. Strasburger’s textbook of botany. Long-\\nman.')],\n",
              " 'answer': 'The provided context highlights the importance of understanding plant anatomy, reproduction, evolution, diversity, and ecology to comprehend the life of plants. \\n'}"
            ]
          },
          "metadata": {},
          "execution_count": 20
        }
      ],
      "source": [
        "from langchain.chains import create_retrieval_chain\n",
        "from langchain.chains.combine_documents import create_stuff_documents_chain\n",
        "from langchain_core.prompts import ChatPromptTemplate\n",
        "\n",
        "\n",
        "# Create a retrieval chain\n",
        "retriever =docsearch.as_retriever()  # Define the retriever based on your specific requirements\n",
        "\n",
        "\n",
        "prompt = ChatPromptTemplate.from_template(\n",
        "    \"\"\"Answer the following question based only on the provided context:\n",
        "    <context>\n",
        "    {context}\n",
        "    </context>\n",
        "    Question: {input}\"\"\"\n",
        ")\n",
        "\n",
        "document_chain = create_stuff_documents_chain(model, prompt)\n",
        "retrieval_chain = create_retrieval_chain(retriever, document_chain)\n",
        "\n",
        "# Invoke the retrieval chain with the question\n",
        "ans=retrieval_chain.invoke({\"input\": input()}) # What is needed to understand life of plants\n",
        "ans"
      ]
    },
    {
      "cell_type": "code",
      "execution_count": 21,
      "id": "a1eeba93",
      "metadata": {
        "colab": {
          "base_uri": "https://localhost:8080/",
          "height": 53
        },
        "id": "a1eeba93",
        "outputId": "9da91546-688c-4680-f689-3fef94855773"
      },
      "outputs": [
        {
          "output_type": "execute_result",
          "data": {
            "text/plain": [
              "'The provided context highlights the importance of understanding plant anatomy, reproduction, evolution, diversity, and ecology to comprehend the life of plants. \\n'"
            ],
            "application/vnd.google.colaboratory.intrinsic+json": {
              "type": "string"
            }
          },
          "metadata": {},
          "execution_count": 21
        }
      ],
      "source": [
        "ans['answer']"
      ]
    },
    {
      "cell_type": "markdown",
      "id": "41d204f7",
      "metadata": {
        "id": "41d204f7"
      },
      "source": [
        "**------------------------------------------------------------------------------------------------------------------------------------------------------------------------------------------------------------**"
      ]
    },
    {
      "cell_type": "markdown",
      "id": "ca72056d",
      "metadata": {
        "id": "ca72056d"
      },
      "source": [
        "These functions are created for showing the final cleaned results from advanced retrieval techniques"
      ]
    },
    {
      "cell_type": "code",
      "execution_count": null,
      "id": "a9925c1f",
      "metadata": {
        "id": "a9925c1f"
      },
      "outputs": [],
      "source": [
        "from langchain.chains.combine_documents import create_stuff_documents_chain\n",
        "\n",
        "import re\n",
        "def clean_and_format_answer(text):\n",
        "\n",
        "  cleaned_text = text.strip()\n",
        "\n",
        "  # Split into paragraphs and remove extra newlines\n",
        "  paragraphs = re.split(r\"\\n\\n|\\n\", text.strip())\n",
        "  formatted_paragraphs = [paragraph.strip() for paragraph in paragraphs]\n",
        "\n",
        "  # Join paragraphs back with a single newline\n",
        "  answer = \"\".join(formatted_paragraphs)\n",
        "\n",
        "  return answer\n",
        "\n",
        "\n",
        "def answerRetriever(llm,docs,question):\n",
        "    prompt = ChatPromptTemplate.from_template(\n",
        "        \"\"\"Answer the following question based only on the provided context:\n",
        "        <context>\n",
        "        {context}\n",
        "        </context>\n",
        "        Question: {input}\"\"\"\n",
        "    )\n",
        "    document_chain = create_stuff_documents_chain(llm, prompt)\n",
        "\n",
        "    ans=document_chain.invoke({\n",
        "        \"context\": unique_docs,\n",
        "        \"input\":question\n",
        "    })\n",
        "    return ans"
      ]
    },
    {
      "cell_type": "markdown",
      "id": "8ed49624",
      "metadata": {
        "id": "8ed49624"
      },
      "source": [
        "Now we are going to leverage some advanced retrieval techniques"
      ]
    },
    {
      "cell_type": "markdown",
      "id": "0973a701",
      "metadata": {
        "id": "0973a701"
      },
      "source": [
        "# Multi-Query Retriever"
      ]
    },
    {
      "cell_type": "markdown",
      "id": "2a348ae5",
      "metadata": {
        "id": "2a348ae5"
      },
      "source": [
        "The Multi-Query Retriever automates prompt tuning by using a language model to generate multiple queries from different perspectives for a given user input query. It retrieves relevant documents for each query and combines the unique results across all queries. By generating diverse perspectives on the same question, it aims to overcome limitations of distance-based retrieval and provide a richer set of results. The retriever simplifies the process of generating varied queries and retrieving a broader range of potentially relevant documents based on user input"
      ]
    },
    {
      "cell_type": "code",
      "execution_count": null,
      "id": "a3706a3e",
      "metadata": {
        "id": "a3706a3e"
      },
      "outputs": [],
      "source": [
        "from langchain.retrievers.multi_query import MultiQueryRetriever\n",
        "\n",
        "\n",
        "question = \"Explain the whole process of photosynthesis\"\n",
        "\n",
        "retriever_from_llm = MultiQueryRetriever.from_llm(\n",
        "    retriever=retriever, llm=llm,\n",
        "\n",
        ")\n",
        "\n"
      ]
    },
    {
      "cell_type": "code",
      "execution_count": null,
      "id": "97ddea0a",
      "metadata": {
        "id": "97ddea0a"
      },
      "outputs": [],
      "source": [
        "# Set logging for the queries\n",
        "import logging\n",
        "\n",
        "logging.basicConfig()\n",
        "logging.getLogger(\"langchain.retrievers.multi_query\").setLevel(logging.INFO)"
      ]
    },
    {
      "cell_type": "code",
      "execution_count": null,
      "id": "120ea36f",
      "metadata": {
        "colab": {
          "base_uri": "https://localhost:8080/"
        },
        "id": "120ea36f",
        "outputId": "ec7e8440-6b5b-45e9-b704-ba24839153d6"
      },
      "outputs": [
        {
          "output_type": "stream",
          "name": "stderr",
          "text": [
            "/usr/local/lib/python3.10/dist-packages/langchain_core/_api/deprecation.py:119: LangChainDeprecationWarning: The method `BaseRetriever.get_relevant_documents` was deprecated in langchain-core 0.1.46 and will be removed in 0.3.0. Use invoke instead.\n",
            "  warn_deprecated(\n",
            "INFO:langchain.retrievers.multi_query:Generated queries: ['1. Can you outline the entire process of photosynthesis?', '2. How does photosynthesis occur from start to finish?', '3. What are the steps involved in the process of photosynthesis?']\n"
          ]
        },
        {
          "output_type": "execute_result",
          "data": {
            "text/plain": [
              "6"
            ]
          },
          "metadata": {},
          "execution_count": 43
        }
      ],
      "source": [
        "unique_docs = retriever_from_llm.get_relevant_documents(query=question)\n",
        "len(unique_docs)\n"
      ]
    },
    {
      "cell_type": "code",
      "execution_count": null,
      "id": "ac2559f6",
      "metadata": {
        "colab": {
          "base_uri": "https://localhost:8080/"
        },
        "id": "ac2559f6",
        "outputId": "9b8d8375-2001-4d3c-98fb-2daa13b20437"
      },
      "outputs": [
        {
          "output_type": "stream",
          "name": "stdout",
          "text": [
            "Document 1:\n",
            "\n",
            "glucose and oxygen  \n",
            "* Respiration: the process by which plants break down glucose and other organic compounds \n",
            "to produce energy  \n",
            "* Transpiration: the process by which plants lose water through their leaves  \n",
            "* Absorption: the process by which plants absorb water and minerals from the soil  \n",
            "* Transport: the process by which plants move water, minerals, and sugars through their tissues  \n",
            "4. Plant Life Cycles:  \n",
            "Plants have complex life cycles that involve several stages. Here are the basic stages of a plant's \n",
            "life cycle:  \n",
            "* Germination: the process by which a seed begins to grow and develop  \n",
            "* Seedling: the early stage of a plant's growth, characterized by the development of roots, \n",
            "stems, and leaves\n",
            "----------------------------------------------------------------------------------------------------\n",
            "Document 2:\n",
            "\n",
            "photosynthesis  \n",
            "* Flower: a reproductive structure that produces seeds  \n",
            "* Seed: a small, fertilized plant ovule that can grow into a new plant  \n",
            "* Bark: the protective outer layer of a tree or shrub  \n",
            "* Wood: the inner, hard tissue of a tree or shrub  \n",
            "3. Plant Physiology:  \n",
            "Plant physiology is the study of how plants function and respond to their environment. Here are \n",
            "some basic concepts you should know:  \n",
            "* Photosynthesis: the process by which plants convert sunlight, water, and carbon dioxide into \n",
            "glucose and oxygen  \n",
            "* Respiration: the process by which plants break down glucose and other organic compounds \n",
            "to produce energy  \n",
            "* Transpiration: the process by which plants lose water through their leaves\n",
            "----------------------------------------------------------------------------------------------------\n",
            "Document 3:\n",
            "\n",
            "Chapter 2\n",
            "Photosynthesis\n",
            "2.1 Discovery of Photosynthesis\n",
            "The history of the studies done on photosynthesis dates back into the 17th century\n",
            "with Jan Baptist van Helmont. He rejected the ancient idea that plants take most of\n",
            "their biomass from the soil. For the proof, he performed willow tree experiment. He\n",
            "started with a willow tree of 2.27 kg. Over 5 years, it grew to 67.7 kg. However, the\n",
            "weight of the soil only decreased by 57 grams. Van Helmont came to the conclusion\n",
            "that plants must take most of their weight from water. He did not know about gases.\n",
            "Joseph Priestley ran a series of experiments in 1772 (Fig. 2.1). He tested a mouse, a\n",
            "candle, and a sprig of mint under hermetically sealed (no air can go in or out) jar. He\n",
            "----------------------------------------------------------------------------------------------------\n",
            "Document 4:\n",
            "\n",
            "starch\n",
            "DNAgranum thylakoid\n",
            "matrix (stroma)Figure 2.5. Chloroplast.\n",
            "* * *\n",
            "To summarize, the logic of photosynthesis (Fig. 2.8) is based on a simple idea: make\n",
            "sugar from carbon dioxide . Imagine if we have letters “s”, “g”, “u”, and “a” and need\n",
            "to build the word “sugar”. Obviously, we will need two things: the letter “r” and the\n",
            "energy to put these letters in the right order. The same story occurs in photosynthe-\n",
            "sis: it will need hydrogen (H) which is the “absent letter” from CO 2because sugars\n",
            "must contain H, O and C. NADP+/NADPH is used as hydrogen supplier, and energy\n",
            "is ATP which is created via proton pump, and the proton pump starts because light\n",
            "helps to concentrate protons in the reservoir.\n",
            "33 Version June 7, 2021\n",
            "----------------------------------------------------------------------------------------------------\n",
            "Document 5:\n",
            "\n",
            "synthesis from ADP and P i(inorganic phosphate). On the other side of membrane,\n",
            "these protons make water with hydroxide ions.\n",
            "In the previous paragraph, “chlorophyll” is actually two photosystems: photosys-\n",
            "tem II (P680) and photosystem I (P700). Photosystem II (contains chlorophyll and\n",
            "carotenes) is more important. It splits water, makes proton the gradient and then\n",
            "ATP , and forwards electrons to photosystem I. Photosystem I contains only chloro-\n",
            "phylls and makes NADPH.\n",
            "Ultimately, the light stage starts from light, water, NADP+, ADP and results in an\n",
            "accumulation of energy (ATP) and hydrogen (NADPH) with a release of oxygen which\n",
            "is a kind of exhaust gas (Fig. 2.6).\n",
            "31 Version June 7, 2021\n",
            "----------------------------------------------------------------------------------------------------\n",
            "Document 6:\n",
            "\n",
            "Sun rays\n",
            "Photosystems↓↓\n",
            "Segregation of ions↓↓\n",
            "Difference of potentials↓↓\n",
            "Proton pump↓↓\n",
            "ATP↓↓\n",
            "CO 2assimilation↓↓\n",
            "Figure 2.4. The logical chain of light stage reactions (hydrogen carrier not shown).\n",
            "2.3 Enzymatic Stage\n",
            "The enzymatic stage has many participants. These include carbon dioxide, hydro-\n",
            "gen carrier with hydrogen (NADPH), ATP , ribulose biphosphate (RuBP , or C 5), and\n",
            "Rubisco along with some other enzymes. Everything occurs in the matrix (stroma)\n",
            "of the chloroplast.\n",
            "The main event of the enzymatic stage is CO 2assimilation with C 5into short-living\n",
            "C6molecules. Assimilation requires Rubisco as an enzyme. Next, this temporary C 6\n",
            "breaks into two C 3molecules (PGA). Then, PGA will participate in the complex set of\n"
          ]
        }
      ],
      "source": [
        "pretty_print_docs(unique_docs)"
      ]
    },
    {
      "cell_type": "code",
      "execution_count": null,
      "id": "9dd8ff6f",
      "metadata": {
        "colab": {
          "base_uri": "https://localhost:8080/",
          "height": 157
        },
        "id": "9dd8ff6f",
        "outputId": "a6903d31-0b99-4dff-f4c8-9bb2b56a7568"
      },
      "outputs": [
        {
          "output_type": "execute_result",
          "data": {
            "text/plain": [
              "'Photosynthesis is the process by which plants convert sunlight, water, and carbon dioxide into glucose and oxygen. It involves several stages, starting with the light stage where sun rays are absorbed by photosystems in the chloroplast. This leads to the segregation of ions, a difference in potentials, and the activation of a proton pump, resulting in the production of ATP and the assimilation of carbon dioxide. \\n\\nThe enzymatic stage of photosynthesis involves various participants including carbon dioxide, NADPH (a hydrogen carrier), ATP, ribulose biphosphate (RuBP), Rubisco enzyme, and other enzymes. In this stage, CO2 is assimilated into C6 molecules, which then break down into two C3 molecules (PGA). These PGA molecules go through a complex series of reactions, ultimately leading to the production of glucose. \\n\\nOverall, photosynthesis is a crucial process for plants as it allows them to create their own food (glucose) using sunlight, water, and carbon dioxide while releasing oxygen as a byproduct.'"
            ],
            "application/vnd.google.colaboratory.intrinsic+json": {
              "type": "string"
            }
          },
          "metadata": {},
          "execution_count": 45
        }
      ],
      "source": [
        "answerRetriever(llm,unique_docs,question)"
      ]
    },
    {
      "cell_type": "markdown",
      "id": "d204bf4e",
      "metadata": {
        "id": "d204bf4e"
      },
      "source": [
        "# Contextual compression"
      ]
    },
    {
      "cell_type": "markdown",
      "id": "5d079c83",
      "metadata": {
        "id": "5d079c83"
      },
      "source": [
        "Contextual compression in Langchain involves compressing retrieved documents using the context of a given query to filter out irrelevant information. It aims to return only the most relevant information by shortening document contents or removing documents altogether. This process helps optimize expensive language model calls and improve response quality by focusing on the essential content related to the query. Contextual compression involves passing queries to a base retriever, then compressing the retrieved documents using a Document Compressor to enhance the relevance of the information returned to the user"
      ]
    },
    {
      "cell_type": "code",
      "execution_count": null,
      "id": "1495e11e",
      "metadata": {
        "colab": {
          "base_uri": "https://localhost:8080/"
        },
        "id": "1495e11e",
        "outputId": "60553d84-8a04-4228-b4d9-6b5fff37a6f0"
      },
      "outputs": [
        {
          "output_type": "stream",
          "name": "stderr",
          "text": [
            "/usr/local/lib/python3.10/dist-packages/langchain/chains/llm.py:339: UserWarning: The predict_and_parse method is deprecated, instead pass an output parser directly to LLMChain.\n",
            "  warnings.warn(\n",
            "/usr/local/lib/python3.10/dist-packages/langchain/chains/llm.py:339: UserWarning: The predict_and_parse method is deprecated, instead pass an output parser directly to LLMChain.\n",
            "  warnings.warn(\n",
            "/usr/local/lib/python3.10/dist-packages/langchain/chains/llm.py:339: UserWarning: The predict_and_parse method is deprecated, instead pass an output parser directly to LLMChain.\n",
            "  warnings.warn(\n",
            "/usr/local/lib/python3.10/dist-packages/langchain/chains/llm.py:339: UserWarning: The predict_and_parse method is deprecated, instead pass an output parser directly to LLMChain.\n",
            "  warnings.warn(\n"
          ]
        },
        {
          "output_type": "stream",
          "name": "stdout",
          "text": [
            "Document 1:\n",
            "\n",
            "To summarize, the logic of photosynthesis (Fig. 2.8) is based on a simple idea: make sugar from carbon dioxide. Imagine if we have letters “s”, “g”, “u”, and “a” and need to build the word “sugar”. Obviously, we will need two things: the letter “r” and the energy to put these letters in the right order. The same story occurs in photosynthesis: it will need hydrogen (H) which is the “absent letter” from CO 2 because sugars must contain H, O and C. NADP+/NADPH is used as hydrogen supplier, and energy is ATP which is created via proton pump, and the proton pump starts because light helps to concentrate protons in the reservoir.\n",
            "----------------------------------------------------------------------------------------------------\n",
            "Document 2:\n",
            "\n",
            "* Photosynthesis: the process by which plants convert sunlight, water, and carbon dioxide into \n",
            "glucose and oxygen\n",
            "----------------------------------------------------------------------------------------------------\n",
            "Document 3:\n",
            "\n",
            "Ultimately, the light stage starts from light, water, NADP+, ADP and results in an accumulation of energy (ATP) and hydrogen (NADPH) with a release of oxygen which is a kind of exhaust gas\n"
          ]
        }
      ],
      "source": [
        "from langchain.retrievers import ContextualCompressionRetriever\n",
        "from langchain.retrievers.document_compressors import LLMChainExtractor\n",
        "\n",
        "compressor = LLMChainExtractor.from_llm(llm)\n",
        "compression_retriever = ContextualCompressionRetriever(\n",
        "    base_compressor=compressor, base_retriever=retriever\n",
        ")\n",
        "\n",
        "compressed_docs = compression_retriever.get_relevant_documents(question)\n",
        "pretty_print_docs(compressed_docs)"
      ]
    },
    {
      "cell_type": "code",
      "execution_count": null,
      "id": "92b2cfce",
      "metadata": {
        "colab": {
          "base_uri": "https://localhost:8080/",
          "height": 157
        },
        "id": "92b2cfce",
        "outputId": "8d6f7e28-28d0-4e0e-bba5-55705ea7b0c3"
      },
      "outputs": [
        {
          "output_type": "execute_result",
          "data": {
            "text/plain": [
              "'Photosynthesis is the process by which plants convert sunlight, water, and carbon dioxide into glucose and oxygen. It begins with the light stage, where sunlight is absorbed by photosystems in the chloroplasts of plant cells. This leads to the segregation of ions, a difference in potentials, and the creation of a proton pump that generates ATP. ATP is essential for providing energy for the conversion of carbon dioxide into glucose.During the light stage, water is split into protons, electrons, and oxygen by photosystem II, which also produces ATP and forwards electrons to photosystem I. Photosystem I then uses these electrons to create NADPH, a hydrogen carrier. The light stage results in the accumulation of energy (ATP) and hydrogen (NADPH), with oxygen released as a byproduct.The enzymatic stage of photosynthesis takes place in the matrix (stroma) of the chloroplast and involves various participants such as carbon dioxide, NADPH, ATP, ribulose biphosphate (RuBP), and the enzyme Rubisco. In this stage, carbon dioxide is assimilated into short-lived C6 molecules with the help of Rubisco. These C6 molecules then break down into two C3 molecules (PGA), which participate in further complex reactions.Overall, photosynthesis is a complex process that involves the conversion of sunlight, water, and carbon dioxide into glucose and oxygen through a series of light-dependent and enzymatic reactions within the chloroplasts of plant cells.'"
            ],
            "application/vnd.google.colaboratory.intrinsic+json": {
              "type": "string"
            }
          },
          "metadata": {},
          "execution_count": 47
        }
      ],
      "source": [
        "\n",
        "clean_and_format_answer(answerRetriever(llm,compressed_docs,question))"
      ]
    },
    {
      "cell_type": "markdown",
      "id": "679906eb",
      "metadata": {
        "id": "679906eb"
      },
      "source": [
        "\n",
        "# Long-Context Reorder"
      ]
    },
    {
      "cell_type": "markdown",
      "id": "b755e530",
      "metadata": {
        "id": "b755e530"
      },
      "source": [
        "Long-Context Reorder in Langchain is a technique used to address performance degradation when models access relevant information in the middle of long contexts. By reordering documents after retrieval, this method ensures that more relevant elements are placed at the beginning and end of the document list, while less relevant ones are in the middle. This reordering helps models avoid ignoring provided documents and enhances performance when dealing with long contexts and multiple retrieved documents. Long-Context Reorder is a valuable tool to optimize information retrieval and processing in complex language models"
      ]
    },
    {
      "cell_type": "code",
      "execution_count": null,
      "id": "d7316dea",
      "metadata": {
        "id": "d7316dea"
      },
      "outputs": [],
      "source": [
        "from langchain_community.document_transformers import (\n",
        "    LongContextReorder,\n",
        ")"
      ]
    },
    {
      "cell_type": "code",
      "execution_count": null,
      "id": "7cf32841",
      "metadata": {
        "colab": {
          "base_uri": "https://localhost:8080/"
        },
        "id": "7cf32841",
        "outputId": "f085aaad-7e73-4209-a3e8-381c8c897f0a"
      },
      "outputs": [
        {
          "output_type": "execute_result",
          "data": {
            "text/plain": [
              "[Document(page_content=\"glucose and oxygen  \\n* Respiration: the process by which plants break down glucose and other organic compounds \\nto produce energy  \\n* Transpiration: the process by which plants lose water through their leaves  \\n* Absorption: the process by which plants absorb water and minerals from the soil  \\n* Transport: the process by which plants move water, minerals, and sugars through their tissues  \\n4. Plant Life Cycles:  \\nPlants have complex life cycles that involve several stages. Here are the basic stages of a plant's \\nlife cycle:  \\n* Germination: the process by which a seed begins to grow and develop  \\n* Seedling: the early stage of a plant's growth, characterized by the development of roots, \\nstems, and leaves\", metadata={'page': 0, 'source': 'Basics_of_Plants.pdf'}),\n",
              " Document(page_content='starch\\nDNAgranum thylakoid\\nmatrix (stroma)Figure 2.5. Chloroplast.\\n* * *\\nTo summarize, the logic of photosynthesis (Fig. 2.8) is based on a simple idea: make\\nsugar from carbon dioxide . Imagine if we have letters “s”, “g”, “u”, and “a” and need\\nto build the word “sugar”. Obviously, we will need two things: the letter “r” and the\\nenergy to put these letters in the right order. The same story occurs in photosynthe-\\nsis: it will need hydrogen (H) which is the “absent letter” from CO 2because sugars\\nmust contain H, O and C. NADP+/NADPH is used as hydrogen supplier, and energy\\nis ATP which is created via proton pump, and the proton pump starts because light\\nhelps to concentrate protons in the reservoir.\\n33 Version June 7, 2021', metadata={'page': 14, 'source': 'intro_botany.pdf'}),\n",
              " Document(page_content='photosynthesis  \\n* Flower: a reproductive structure that produces seeds  \\n* Seed: a small, fertilized plant ovule that can grow into a new plant  \\n* Bark: the protective outer layer of a tree or shrub  \\n* Wood: the inner, hard tissue of a tree or shrub  \\n3. Plant Physiology:  \\nPlant physiology is the study of how plants function and respond to their environment. Here are \\nsome basic concepts you should know:  \\n* Photosynthesis: the process by which plants convert sunlight, water, and carbon dioxide into \\nglucose and oxygen  \\n* Respiration: the process by which plants break down glucose and other organic compounds \\nto produce energy  \\n* Transpiration: the process by which plants lose water through their leaves', metadata={'page': 2, 'source': 'Basics_of_Plants.pdf'}),\n",
              " Document(page_content='synthesis from ADP and P i(inorganic phosphate). On the other side of membrane,\\nthese protons make water with hydroxide ions.\\nIn the previous paragraph, “chlorophyll” is actually two photosystems: photosys-\\ntem II (P680) and photosystem I (P700). Photosystem II (contains chlorophyll and\\ncarotenes) is more important. It splits water, makes proton the gradient and then\\nATP , and forwards electrons to photosystem I. Photosystem I contains only chloro-\\nphylls and makes NADPH.\\nUltimately, the light stage starts from light, water, NADP+, ADP and results in an\\naccumulation of energy (ATP) and hydrogen (NADPH) with a release of oxygen which\\nis a kind of exhaust gas (Fig. 2.6).\\n31 Version June 7, 2021', metadata={'page': 12, 'source': 'intro_botany.pdf'})]"
            ]
          },
          "metadata": {},
          "execution_count": 49
        }
      ],
      "source": [
        "query = \"What is chlorophyll?\"\n",
        "\n",
        "# Get relevant documents ordered by relevance score\n",
        "docs = retriever.get_relevant_documents(question)\n",
        "docs"
      ]
    },
    {
      "cell_type": "code",
      "execution_count": null,
      "id": "d6b079f1",
      "metadata": {
        "colab": {
          "base_uri": "https://localhost:8080/"
        },
        "id": "d6b079f1",
        "outputId": "9cdc9322-a7ce-4030-8426-662c6693e7de"
      },
      "outputs": [
        {
          "output_type": "execute_result",
          "data": {
            "text/plain": [
              "[Document(page_content='starch\\nDNAgranum thylakoid\\nmatrix (stroma)Figure 2.5. Chloroplast.\\n* * *\\nTo summarize, the logic of photosynthesis (Fig. 2.8) is based on a simple idea: make\\nsugar from carbon dioxide . Imagine if we have letters “s”, “g”, “u”, and “a” and need\\nto build the word “sugar”. Obviously, we will need two things: the letter “r” and the\\nenergy to put these letters in the right order. The same story occurs in photosynthe-\\nsis: it will need hydrogen (H) which is the “absent letter” from CO 2because sugars\\nmust contain H, O and C. NADP+/NADPH is used as hydrogen supplier, and energy\\nis ATP which is created via proton pump, and the proton pump starts because light\\nhelps to concentrate protons in the reservoir.\\n33 Version June 7, 2021', metadata={'page': 14, 'source': 'intro_botany.pdf'}),\n",
              " Document(page_content='synthesis from ADP and P i(inorganic phosphate). On the other side of membrane,\\nthese protons make water with hydroxide ions.\\nIn the previous paragraph, “chlorophyll” is actually two photosystems: photosys-\\ntem II (P680) and photosystem I (P700). Photosystem II (contains chlorophyll and\\ncarotenes) is more important. It splits water, makes proton the gradient and then\\nATP , and forwards electrons to photosystem I. Photosystem I contains only chloro-\\nphylls and makes NADPH.\\nUltimately, the light stage starts from light, water, NADP+, ADP and results in an\\naccumulation of energy (ATP) and hydrogen (NADPH) with a release of oxygen which\\nis a kind of exhaust gas (Fig. 2.6).\\n31 Version June 7, 2021', metadata={'page': 12, 'source': 'intro_botany.pdf'}),\n",
              " Document(page_content='photosynthesis  \\n* Flower: a reproductive structure that produces seeds  \\n* Seed: a small, fertilized plant ovule that can grow into a new plant  \\n* Bark: the protective outer layer of a tree or shrub  \\n* Wood: the inner, hard tissue of a tree or shrub  \\n3. Plant Physiology:  \\nPlant physiology is the study of how plants function and respond to their environment. Here are \\nsome basic concepts you should know:  \\n* Photosynthesis: the process by which plants convert sunlight, water, and carbon dioxide into \\nglucose and oxygen  \\n* Respiration: the process by which plants break down glucose and other organic compounds \\nto produce energy  \\n* Transpiration: the process by which plants lose water through their leaves', metadata={'page': 2, 'source': 'Basics_of_Plants.pdf'}),\n",
              " Document(page_content=\"glucose and oxygen  \\n* Respiration: the process by which plants break down glucose and other organic compounds \\nto produce energy  \\n* Transpiration: the process by which plants lose water through their leaves  \\n* Absorption: the process by which plants absorb water and minerals from the soil  \\n* Transport: the process by which plants move water, minerals, and sugars through their tissues  \\n4. Plant Life Cycles:  \\nPlants have complex life cycles that involve several stages. Here are the basic stages of a plant's \\nlife cycle:  \\n* Germination: the process by which a seed begins to grow and develop  \\n* Seedling: the early stage of a plant's growth, characterized by the development of roots, \\nstems, and leaves\", metadata={'page': 0, 'source': 'Basics_of_Plants.pdf'})]"
            ]
          },
          "metadata": {},
          "execution_count": 50
        }
      ],
      "source": [
        "reordering = LongContextReorder()\n",
        "reordered_docs = reordering.transform_documents(docs)\n",
        "\n",
        "# Confirm that the 4 relevant documents are at beginning and end.\n",
        "reordered_docs"
      ]
    },
    {
      "cell_type": "code",
      "execution_count": null,
      "id": "e12427cd",
      "metadata": {
        "colab": {
          "base_uri": "https://localhost:8080/",
          "height": 70
        },
        "id": "e12427cd",
        "outputId": "48c4a5d2-378c-437a-e07f-c6046e334996"
      },
      "outputs": [
        {
          "output_type": "execute_result",
          "data": {
            "text/plain": [
              "'Chlorophyll is actually two photosystems: photosystem II (P680) and photosystem I (P700) found in the chloroplast. Photosystem II is more important as it splits water, makes a proton gradient, produces ATP, and forwards electrons to photosystem I. Photosystem I contains only chlorophylls and produces NADPH.'"
            ],
            "application/vnd.google.colaboratory.intrinsic+json": {
              "type": "string"
            }
          },
          "metadata": {},
          "execution_count": 51
        }
      ],
      "source": [
        "# We prepare and run a custom Stuff chain with reordered docs as context.\n",
        "clean_and_format_answer(answerRetriever(llm,reordered_docs,query))"
      ]
    },
    {
      "cell_type": "code",
      "execution_count": null,
      "id": "58121d29",
      "metadata": {
        "id": "58121d29"
      },
      "outputs": [],
      "source": []
    },
    {
      "cell_type": "markdown",
      "source": [
        "## Thank You"
      ],
      "metadata": {
        "id": "4ZjDjwJ_jmpg"
      },
      "id": "4ZjDjwJ_jmpg"
    }
  ],
  "metadata": {
    "kernelspec": {
      "display_name": "Python 3 (ipykernel)",
      "language": "python",
      "name": "python3"
    },
    "language_info": {
      "codemirror_mode": {
        "name": "ipython",
        "version": 3
      },
      "file_extension": ".py",
      "mimetype": "text/x-python",
      "name": "python",
      "nbconvert_exporter": "python",
      "pygments_lexer": "ipython3",
      "version": "3.11.5"
    },
    "colab": {
      "provenance": [],
      "include_colab_link": true
    }
  },
  "nbformat": 4,
  "nbformat_minor": 5
}