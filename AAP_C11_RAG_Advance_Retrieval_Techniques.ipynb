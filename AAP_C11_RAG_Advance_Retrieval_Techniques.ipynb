{
  "cells": [
    {
      "cell_type": "markdown",
      "metadata": {
        "id": "view-in-github",
        "colab_type": "text"
      },
      "source": [
        "<a href=\"https://colab.research.google.com/github/anshupandey/AI_Agents/blob/main/AAP_C11_RAG_Advance_Retrieval_Techniques.ipynb\" target=\"_parent\"><img src=\"https://colab.research.google.com/assets/colab-badge.svg\" alt=\"Open In Colab\"/></a>"
      ]
    },
    {
      "cell_type": "markdown",
      "id": "b189cc5c",
      "metadata": {
        "id": "b189cc5c"
      },
      "source": [
        "# **RAG: Advance retrieval techniques using LangChain**\n",
        "\n",
        "- Using LangChain - multi query retrieval, few other advance techniques from LangChain\n",
        "\n",
        "- Vector DB: PineCone (sign in at https://app.pinecone.io/organizations?sessionType=login )\n",
        "\n",
        "- Embedding model: vertex ai text embedding model\n",
        "\n",
        "- LLM: Gemini-1.5-flash\n",
        "\n",
        "- Domain: Education"
      ]
    },
    {
      "cell_type": "markdown",
      "id": "e892670b",
      "metadata": {
        "id": "e892670b"
      },
      "source": [
        "Using Advanced Retrieval techniques like\n",
        "- Multi-Query retriever\n",
        "- Contextual compression\n",
        "- Long-Context Reorder"
      ]
    },
    {
      "cell_type": "markdown",
      "source": [
        "This Lab focuses on implementing Retriever-Augmented Generation (RAG) system, designed for the botany domain, leverages advanced retrieval techniques facilitated by **LangChain**, employing **PineCone** as the vector database and **Gemini-1.5-Flash** for language modeling. This configuration enhances the precision and efficiency of botanical information retrieval and generation, ideal for academic research, educational content, and professional consultation.\n",
        "\n",
        "**LangChain** serves as the orchestration framework that implements sophisticated retrieval techniques, crucial for dealing with complex botanical data. Key features include:\n",
        "\n",
        "**Multi-Query Retriever**: This technique allows the system to handle multiple queries simultaneously or queries with multiple components, enhancing the system's ability to retrieve comprehensive information from a large dataset.\n",
        "**Contextual Compression**: Here, relevant information is compressed into context-rich embeddings, preserving essential data while optimizing storage and retrieval processes.\n",
        "**Long-Context Reorder**: This technique reorganizes the retrieved data to maintain coherence and relevance over extended contexts, vital for understanding complex botanical interactions and processes.\n",
        "Weaviate is utilized as the vector database, storing and managing the vector embeddings generated using OpenAI's text-embedding-03 model. These embeddings encode detailed semantic relationships within botanical texts, enabling the system to retrieve highly relevant information rapidly and accurately.\n",
        "\n",
        "\n",
        "Overall, this RAG setup offers a powerful solution for the botany domain, enhancing the retrieval and presentation of botanical knowledge through advanced AI-driven techniques. It significantly aids in research, teaching, and practical applications by delivering accurate, contextually enriched responses swiftly, thus supporting deeper insights and learning in botany.\n",
        "\n",
        "\n",
        "\n",
        "\n",
        "\n"
      ],
      "metadata": {
        "id": "__w8zwDtkKd-"
      },
      "id": "__w8zwDtkKd-"
    },
    {
      "cell_type": "markdown",
      "id": "19d852cb",
      "metadata": {
        "id": "19d852cb"
      },
      "source": [
        "Necessary libraries for implementing this \"RAG: Advance retrieval techniques using LangChain\""
      ]
    },
    {
      "cell_type": "markdown",
      "source": [
        "## Environment Setup"
      ],
      "metadata": {
        "id": "h6ahHLm6kYr1"
      },
      "id": "h6ahHLm6kYr1"
    },
    {
      "cell_type": "code",
      "execution_count": 1,
      "id": "742504c3",
      "metadata": {
        "id": "742504c3",
        "outputId": "12c141dd-5438-4d0f-bda6-f3eadacaf21c",
        "colab": {
          "base_uri": "https://localhost:8080/"
        }
      },
      "outputs": [
        {
          "output_type": "stream",
          "name": "stdout",
          "text": [
            "\u001b[2K     \u001b[90m━━━━━━━━━━━━━━━━━━━━━━━━━━━━━━━━━━━━━━━━\u001b[0m \u001b[32m987.6/987.6 kB\u001b[0m \u001b[31m6.4 MB/s\u001b[0m eta \u001b[36m0:00:00\u001b[0m\n",
            "\u001b[2K     \u001b[90m━━━━━━━━━━━━━━━━━━━━━━━━━━━━━━━━━━━━━━━━\u001b[0m \u001b[32m2.2/2.2 MB\u001b[0m \u001b[31m12.9 MB/s\u001b[0m eta \u001b[36m0:00:00\u001b[0m\n",
            "\u001b[2K     \u001b[90m━━━━━━━━━━━━━━━━━━━━━━━━━━━━━━━━━━━━━━━━\u001b[0m \u001b[32m295.7/295.7 kB\u001b[0m \u001b[31m9.3 MB/s\u001b[0m eta \u001b[36m0:00:00\u001b[0m\n",
            "\u001b[2K     \u001b[90m━━━━━━━━━━━━━━━━━━━━━━━━━━━━━━━━━━━━━━━━\u001b[0m \u001b[32m216.4/216.4 kB\u001b[0m \u001b[31m5.4 MB/s\u001b[0m eta \u001b[36m0:00:00\u001b[0m\n",
            "\u001b[2K     \u001b[90m━━━━━━━━━━━━━━━━━━━━━━━━━━━━━━━━━━━━━━━━\u001b[0m \u001b[32m366.5/366.5 kB\u001b[0m \u001b[31m13.8 MB/s\u001b[0m eta \u001b[36m0:00:00\u001b[0m\n",
            "\u001b[2K     \u001b[90m━━━━━━━━━━━━━━━━━━━━━━━━━━━━━━━━━━━━━━━━\u001b[0m \u001b[32m129.4/129.4 kB\u001b[0m \u001b[31m4.5 MB/s\u001b[0m eta \u001b[36m0:00:00\u001b[0m\n",
            "\u001b[2K     \u001b[90m━━━━━━━━━━━━━━━━━━━━━━━━━━━━━━━━━━━━━━━━\u001b[0m \u001b[32m215.9/215.9 kB\u001b[0m \u001b[31m7.5 MB/s\u001b[0m eta \u001b[36m0:00:00\u001b[0m\n",
            "\u001b[2K     \u001b[90m━━━━━━━━━━━━━━━━━━━━━━━━━━━━━━━━━━━━━━━━\u001b[0m \u001b[32m49.2/49.2 kB\u001b[0m \u001b[31m1.4 MB/s\u001b[0m eta \u001b[36m0:00:00\u001b[0m\n",
            "\u001b[2K     \u001b[90m━━━━━━━━━━━━━━━━━━━━━━━━━━━━━━━━━━━━━━━━\u001b[0m \u001b[32m141.1/141.1 kB\u001b[0m \u001b[31m2.0 MB/s\u001b[0m eta \u001b[36m0:00:00\u001b[0m\n",
            "\u001b[2K     \u001b[90m━━━━━━━━━━━━━━━━━━━━━━━━━━━━━━━━━━━━━━━━\u001b[0m \u001b[32m91.4/91.4 kB\u001b[0m \u001b[31m2.8 MB/s\u001b[0m eta \u001b[36m0:00:00\u001b[0m\n",
            "\u001b[2K     \u001b[90m━━━━━━━━━━━━━━━━━━━━━━━━━━━━━━━━━━━━━━━━\u001b[0m \u001b[32m202.7/202.7 kB\u001b[0m \u001b[31m12.4 MB/s\u001b[0m eta \u001b[36m0:00:00\u001b[0m\n",
            "\u001b[2K     \u001b[90m━━━━━━━━━━━━━━━━━━━━━━━━━━━━━━━━━━━━━━━━\u001b[0m \u001b[32m64.9/64.9 kB\u001b[0m \u001b[31m1.8 MB/s\u001b[0m eta \u001b[36m0:00:00\u001b[0m\n",
            "\u001b[?25h\u001b[31mERROR: pip's dependency resolver does not currently take into account all the packages that are installed. This behaviour is the source of the following dependency conflicts.\n",
            "google-colab 1.0.0 requires requests==2.31.0, but you have requests 2.32.3 which is incompatible.\u001b[0m\u001b[31m\n",
            "\u001b[2K     \u001b[90m━━━━━━━━━━━━━━━━━━━━━━━━━━━━━━━━━━━━━━━━\u001b[0m \u001b[32m73.0/73.0 kB\u001b[0m \u001b[31m2.4 MB/s\u001b[0m eta \u001b[36m0:00:00\u001b[0m\n",
            "\u001b[2K     \u001b[90m━━━━━━━━━━━━━━━━━━━━━━━━━━━━━━━━━━━━━━━━\u001b[0m \u001b[32m126.5/126.5 kB\u001b[0m \u001b[31m6.2 MB/s\u001b[0m eta \u001b[36m0:00:00\u001b[0m\n",
            "\u001b[?25h"
          ]
        }
      ],
      "source": [
        "!pip install -q langchain  langchain-community pypdf pinecone-client langchain-pinecone\n",
        "!pip install -q -U langchain-core langgraph langchain-experimental --quiet\n",
        "!pip install --upgrade --quiet google-cloud-aiplatform requests\n",
        "!pip install -q -U langchain-google-vertexai --quiet"
      ]
    },
    {
      "cell_type": "code",
      "source": [
        "import IPython\n",
        "\n",
        "app = IPython.Application.instance()\n",
        "app.kernel.do_shutdown(True)"
      ],
      "metadata": {
        "colab": {
          "base_uri": "https://localhost:8080/"
        },
        "id": "R_SsrYWdJsoh",
        "outputId": "e8ddcb3d-42dd-40bd-aa7d-e514981e705b"
      },
      "execution_count": 2,
      "outputs": [
        {
          "output_type": "execute_result",
          "data": {
            "text/plain": [
              "{'status': 'ok', 'restart': True}"
            ]
          },
          "metadata": {},
          "execution_count": 2
        }
      ],
      "id": "R_SsrYWdJsoh"
    },
    {
      "cell_type": "code",
      "source": [
        "import os\n",
        "os.environ[\"PINECONE_API_KEY\"] = \"15101c0c-1e64-42c3-929a-c8c2d60cd14a\""
      ],
      "metadata": {
        "id": "_5dublUl3yn8"
      },
      "id": "_5dublUl3yn8",
      "execution_count": 1,
      "outputs": []
    },
    {
      "cell_type": "code",
      "source": [
        "import sys\n",
        "\n",
        "if \"google.colab\" in sys.modules:\n",
        "    from google.colab import auth\n",
        "\n",
        "    auth.authenticate_user()"
      ],
      "metadata": {
        "id": "pwMllwCmJutm"
      },
      "execution_count": 2,
      "outputs": [],
      "id": "pwMllwCmJutm"
    },
    {
      "cell_type": "code",
      "source": [
        "PROJECT_ID = \"jrproject-402905\"  # @param {type:\"string\"}\n",
        "LOCATION = \"us-central1\"  # @param {type:\"string\"}\n",
        "\n",
        "import vertexai\n",
        "\n",
        "vertexai.init(project=PROJECT_ID, location=LOCATION)"
      ],
      "metadata": {
        "id": "0kLiZXZTJyRr"
      },
      "execution_count": 3,
      "outputs": [],
      "id": "0kLiZXZTJyRr"
    },
    {
      "cell_type": "markdown",
      "id": "3f9f6ddf",
      "metadata": {
        "id": "3f9f6ddf"
      },
      "source": [
        "Function for showing retrieved document results in intuitive way"
      ]
    },
    {
      "cell_type": "code",
      "source": [
        "!wget -q https://anshupandey.blob.core.windows.net/generativeaidocs/BotanyDocs.zip\n",
        "!unzip -q BotanyDocs.zip"
      ],
      "metadata": {
        "id": "WJTFa6NdfXYD"
      },
      "id": "WJTFa6NdfXYD",
      "execution_count": 4,
      "outputs": []
    },
    {
      "cell_type": "code",
      "execution_count": 5,
      "id": "fdf6fd4a",
      "metadata": {
        "id": "fdf6fd4a"
      },
      "outputs": [],
      "source": [
        "def pretty_print_docs(docs):\n",
        "    print(\n",
        "        f\"\\n{'-' * 100}\\n\".join(\n",
        "            [f\"Document {i+1}:\\n\\n\" + d.page_content for i, d in enumerate(docs)]\n",
        "        )\n",
        "    )"
      ]
    },
    {
      "cell_type": "markdown",
      "id": "2771d028",
      "metadata": {
        "id": "2771d028"
      },
      "source": [
        "The RecursiveCharacterTextSplitter is used in Retriever-Augmented Generation (RAG) models for handling long text inputs.\n",
        "\n",
        "Here are the main points for its use:\n",
        "\n",
        "- Length Management\n",
        "- Context Preservation\n",
        "- Efficient Processing"
      ]
    },
    {
      "cell_type": "markdown",
      "source": [
        "## Data Preparation"
      ],
      "metadata": {
        "id": "tPrnaabukeO1"
      },
      "id": "tPrnaabukeO1"
    },
    {
      "cell_type": "code",
      "execution_count": 9,
      "id": "979d5470",
      "metadata": {
        "id": "979d5470"
      },
      "outputs": [],
      "source": [
        "# Import the RecursiveCharacterTextSplitter class.\n",
        "from langchain.text_splitter import RecursiveCharacterTextSplitter\n",
        "\n",
        "# Initialize a RecursiveCharacterTextSplitter with specified separators and configurations.\n",
        "# The text will be split into chunks around 1000 characters long, with a 20-character overlap between chunks.\n",
        "\n",
        "character_splitter = RecursiveCharacterTextSplitter(\n",
        "    separators=[\"\\n\\n\", \"\\n\", \". \", \" \", \"\"],  # The hierarchy of separators to use for splitting.\n",
        "    chunk_size=2000,  # Target size of each chunk in characters.\n",
        "    chunk_overlap=400)\n"
      ]
    },
    {
      "cell_type": "markdown",
      "id": "bc9b2c83",
      "metadata": {
        "id": "bc9b2c83"
      },
      "source": [
        "Here we are using four pdfs related to Stock market investments and strategies. These are our external data sources on which we will implement RAG solution\n",
        "\n",
        "PyPDFLoader class from the langchain_community.document_loaders module to load and process multiple PDF documents\n",
        "\n",
        "Loop Through PDF Files: The code iterates over the list of PDF filenames using a for-loop.\n",
        "\n",
        "Loading PDF Content: For each PDF file in the list, an instance of PyPDFLoader is created with the filename as an argument.\n",
        "\n",
        "Extract and Split Text: The load_and_split method of the PyPDFLoader instance is called to load the text content from the PDF file and split it into manageable segments. The method uses a text_splitter for this purpose, which is RecursiveCharacterTextSplitter defined above cell"
      ]
    },
    {
      "cell_type": "code",
      "execution_count": 10,
      "id": "0045a4e9",
      "metadata": {
        "id": "0045a4e9"
      },
      "outputs": [],
      "source": [
        "from langchain_community.document_loaders import PyPDFLoader\n",
        "pdfs=[\"intro_botany.pdf\",\"Basics_of_Plants.pdf\"]\n",
        "docs=[]\n",
        "for i in pdfs:\n",
        "    loader = PyPDFLoader(i)\n",
        "    docs.extend(loader.load_and_split(text_splitter=character_splitter))"
      ]
    },
    {
      "cell_type": "code",
      "source": [
        "len(docs)"
      ],
      "metadata": {
        "id": "ZPRe2HZf8SMX",
        "outputId": "3830ecc6-9e21-45f1-82ee-9fc1fe3efb91",
        "colab": {
          "base_uri": "https://localhost:8080/"
        }
      },
      "id": "ZPRe2HZf8SMX",
      "execution_count": 11,
      "outputs": [
        {
          "output_type": "execute_result",
          "data": {
            "text/plain": [
              "214"
            ]
          },
          "metadata": {},
          "execution_count": 11
        }
      ]
    },
    {
      "cell_type": "code",
      "execution_count": 12,
      "id": "db0670b8",
      "metadata": {
        "colab": {
          "base_uri": "https://localhost:8080/"
        },
        "id": "db0670b8",
        "outputId": "f72f6fd3-9a65-4b94-863a-74df2aa66c1d"
      },
      "outputs": [
        {
          "output_type": "execute_result",
          "data": {
            "text/plain": [
              "Document(metadata={'source': 'intro_botany.pdf', 'page': 0}, page_content='Chapter 1\\nIntroduction to the Introduction\\n1.1 Plants, Botany, and Kingdoms\\nBotany is the scientiﬁc study of plants and plant-like organisms. It helps us under-\\nstand why plants are so vitally important to the world. Plants start the majority of\\nfood and energy chains, they provide us with oxygen, food and medicine.\\nPlants can be divided into two groups: plants 1andplants 2. Plants 1contain all pho-\\ntosynthetic organisms which use light, H 2O, and CO 2to make organic compounds\\nand O 2. Plants 1are deﬁned ecologically (based on their role in nature).\\nSome plants 1can be bacteria or even animals! One example of this a green slug,\\nElysia chlorotica (see Fig. 1.1). Green slugs collect chloroplasts from algae and use\\nthem for their entire life as food producers. Therefore, green slugs are both animals\\nand plants 1.\\nPlants 2areall organisms from Vegetabilia kingdom . Normally, plants 2are green\\norganisms with a stem and leaves. We can deﬁne them also as multi-tissued, pri-\\nmarily terrestrial and photosynthetic eukaryotes . This deﬁnition is taxonomical\\n(based on evolution).\\nIt is possible for the organism to be plant 2but not plant 1(see Fig. 1.2). Those who\\nfall into that category, are fully parasitic plants (mycoparasites like Pterospora , root\\nparasites like Hydnora , stem parasites like Cuscuta , and internal parasites like Pi-\\nlostyles) which do not practice photosynthesis but have tissues, terrestrial lifestyle\\nand originated from photosynthetic ancestors.\\n19')"
            ]
          },
          "metadata": {},
          "execution_count": 12
        }
      ],
      "source": [
        "docs[0]"
      ]
    },
    {
      "cell_type": "code",
      "execution_count": 13,
      "id": "94bb7749",
      "metadata": {
        "colab": {
          "base_uri": "https://localhost:8080/"
        },
        "id": "94bb7749",
        "outputId": "572c48c5-9be0-4023-838c-c73eded4d0ab"
      },
      "outputs": [
        {
          "output_type": "execute_result",
          "data": {
            "text/plain": [
              "214"
            ]
          },
          "metadata": {},
          "execution_count": 13
        }
      ],
      "source": [
        "len(docs)"
      ]
    },
    {
      "cell_type": "markdown",
      "id": "a453fe9a",
      "metadata": {
        "id": "a453fe9a"
      },
      "source": [
        "We are using Openai embeddings \"text-embedding-ada-002\""
      ]
    },
    {
      "cell_type": "markdown",
      "source": [
        "## Vector Embeddings"
      ],
      "metadata": {
        "id": "desVV-eGkgyo"
      },
      "id": "desVV-eGkgyo"
    },
    {
      "cell_type": "code",
      "execution_count": 14,
      "id": "aec38728",
      "metadata": {
        "id": "aec38728"
      },
      "outputs": [],
      "source": [
        "from langchain_google_vertexai.embeddings import VertexAIEmbeddings\n",
        "embeddings = VertexAIEmbeddings(model_name=\"textembedding-gecko@001\")"
      ]
    },
    {
      "cell_type": "markdown",
      "source": [
        "## Vector DB Setup and Retrieval"
      ],
      "metadata": {
        "id": "M4IHi7yHaW59"
      },
      "id": "M4IHi7yHaW59"
    },
    {
      "cell_type": "markdown",
      "metadata": {
        "id": "xy2qgcA__BGu"
      },
      "source": [
        "We are using Pinecone vectorDB for storing the Vector embeddings"
      ],
      "id": "xy2qgcA__BGu"
    },
    {
      "cell_type": "code",
      "execution_count": 15,
      "metadata": {
        "id": "aSQt8T6EE7vm"
      },
      "outputs": [],
      "source": [
        "from pinecone import Pinecone, ServerlessSpec\n",
        "import time\n",
        "\n",
        "use_serverless=False\n",
        "\n",
        "# configure client\n",
        "pc = Pinecone(api_key=os.getenv(\"PINECONE_API_KEY\"))\n",
        "\n",
        "\n",
        "\n",
        "# check for and delete index if already exists\n",
        "index_name = 'langchain-rag'\n",
        "if index_name in pc.list_indexes().names():\n",
        "    pc.delete_index(index_name)\n",
        "\n",
        "# create a new index\n",
        "pc.create_index(\n",
        "    name=index_name,\n",
        "    dimension=768,\n",
        "    metric=\"cosine\",\n",
        "    spec=ServerlessSpec(\n",
        "        cloud='aws',\n",
        "        region='us-east-1'\n",
        "    )\n",
        ")\n",
        "\n",
        "# wait for index to be initialized\n",
        "while not pc.describe_index(index_name).status['ready']:\n",
        "    time.sleep(1)"
      ],
      "id": "aSQt8T6EE7vm"
    },
    {
      "cell_type": "code",
      "execution_count": 16,
      "metadata": {
        "id": "NpPnN7DdXa2F",
        "outputId": "955f3a74-6887-48ae-fc83-02747cf1f4c1",
        "colab": {
          "base_uri": "https://localhost:8080/"
        }
      },
      "outputs": [
        {
          "output_type": "stream",
          "name": "stderr",
          "text": [
            "WARNING:langchain_core.language_models.llms:Retrying vertexai.language_models._language_models._TextEmbeddingModel.get_embeddings in 4.0 seconds as it raised ResourceExhausted: 429 Quota exceeded for aiplatform.googleapis.com/online_prediction_requests_per_base_model with base model: textembedding-gecko. Please submit a quota increase request. https://cloud.google.com/vertex-ai/docs/generative-ai/quotas-genai..\n",
            "WARNING:google.cloud.aiplatform.telemetry:Gapic client context issue detected.This can occur due to parallelization.\n",
            "WARNING:langchain_core.language_models.llms:Retrying vertexai.language_models._language_models._TextEmbeddingModel.get_embeddings in 4.0 seconds as it raised ResourceExhausted: 429 Quota exceeded for aiplatform.googleapis.com/online_prediction_requests_per_base_model with base model: textembedding-gecko. Please submit a quota increase request. https://cloud.google.com/vertex-ai/docs/generative-ai/quotas-genai..\n",
            "WARNING:google.cloud.aiplatform.telemetry:Gapic client context issue detected.This can occur due to parallelization.\n",
            "WARNING:google.cloud.aiplatform.telemetry:Gapic client context issue detected.This can occur due to parallelization.\n",
            "WARNING:google.cloud.aiplatform.telemetry:Gapic client context issue detected.This can occur due to parallelization.\n"
          ]
        }
      ],
      "source": [
        "from langchain_pinecone import PineconeVectorStore\n",
        "\n",
        "index_name = \"langchain-rag\"\n",
        "\n",
        "docsearch = PineconeVectorStore.from_documents(docs, embeddings, index_name=index_name)"
      ],
      "id": "NpPnN7DdXa2F"
    },
    {
      "cell_type": "code",
      "execution_count": 17,
      "metadata": {
        "id": "glxaU04Fa9My"
      },
      "outputs": [],
      "source": [
        "from langchain_core.messages import HumanMessage"
      ],
      "id": "glxaU04Fa9My"
    },
    {
      "cell_type": "code",
      "execution_count": 18,
      "metadata": {
        "id": "0I6-S45ZaPgi"
      },
      "outputs": [],
      "source": [
        "from langchain_google_vertexai import ChatVertexAI\n",
        "model = ChatVertexAI(model=\"gemini-1.5-flash-001\")"
      ],
      "id": "0I6-S45ZaPgi"
    },
    {
      "cell_type": "markdown",
      "metadata": {
        "id": "4o52ExZZaPgi"
      },
      "source": [
        "This function will retrieve top n results from vectorDB which are semantically similar to the query"
      ],
      "id": "4o52ExZZaPgi"
    },
    {
      "cell_type": "code",
      "execution_count": 19,
      "metadata": {
        "colab": {
          "base_uri": "https://localhost:8080/"
        },
        "id": "4WV4_NPMaPgi",
        "outputId": "16101abd-a5cb-4a15-ee52-edf18528b132"
      },
      "outputs": [
        {
          "output_type": "stream",
          "name": "stdout",
          "text": [
            "what is you query? What is needed to understand life of plants\n",
            "Document 1:\n",
            "\n",
            "goal of the analysis is the creation of a phylogeny tree (cladogram ) which becomes\n",
            "the basis of classiﬁcation. Below is a short instruction which explains the basics of\n",
            "the cladistic analysis on the artiﬁcial example of several “families” of plants.\n",
            "1. Start with determining the “players”—all subtaxa from bigger group. In our\n",
            "case, it will be these three “families”:\n",
            "Alphaceae\n",
            "Betaceae\n",
            "Gammaceae\n",
            "2. Describe these three groups:\n",
            "Alphaceae : Flowers red, petioles short, leaves whole, spines absent\n",
            "Betaceae : Flowers red, petioles long, leaves whole, spines absent\n",
            "Gammaceae : Flowers green, petioles short, leaves dissected, spines present\n",
            "3. Determine individual characters (we will need at least 2 N+ 1 characters where\n",
            "Nis number of studied taxa):\n",
            "(1) Flower color\n",
            "(2) Petiole size\n",
            "(3) Dissection of leaves\n",
            "(4) Presence of spines\n",
            "4.Polarize the characters : every character should have at least two character\n",
            "states where “0” is ancestral, plesiomorphic state, and “1” is derived, apo-\n",
            "morphic state. To decide which state is plesiomorphic and which is apomor-\n",
            "phic, use these kinds of arguments:\n",
            "(a) Historical evidence (e.g., from fossils)\n",
            "(b) Developmental evidence\n",
            "(c) Comparative evidence\n",
            "5. If this information is absent, ﬁnd the outgroup which is the most ancestral,\n",
            "most early divergent taxon related to our groups. In our case, we will employ\n",
            "outgroup:\n",
            "Omegaceae : Flowers green, petioles short, leaves whole, spines absent.\n",
            "6. Label characters with “1” (apomorphic) or “0” (plesiomorphic):\n",
            "(1) Flower color green—0; red—1\n",
            "(2) Petiole size small—0; big—1\n",
            "(3) Dissection of leaves absent—0; present—1\n",
            "(4) Absence of spines—0; spines present—1\n",
            "178 Version June 7, 2021\n",
            "----------------------------------------------------------------------------------------------------\n",
            "Document 2:\n",
            "\n",
            "these vegetation types will be arranged from a pole to equator exactly in the order\n",
            "from the list above. However, the real picture is more complicated (Fig. 9.1.)\n",
            "tundratundra\n",
            "taiga taiga\n",
            "taigagrassland\n",
            "grasslandgrassland\n",
            "desertdesert\n",
            "deserttropical\n",
            "foresttropical\n",
            "foresttropical\n",
            "forest\n",
            "desertshrubland\n",
            "shrublandshrublanddecidous\n",
            "forest\n",
            "decidous\n",
            "forestdesertdecidous\n",
            "forest\n",
            "grasslandshrubland\n",
            "Figure 9.1. Biomes (types of vegetation) of Earth. Please note that this map is largely sim-\n",
            "pliﬁed.\n",
            "Some smaller biomes, especially different kinds of wetlands (like sphagnum bogs or\n",
            "mangroves) are signiﬁcantly dispersed, sometimes even intra-zonal (occur in differ-\n",
            "ent climatic zones).\n",
            "9.2 Geography of Vegetabilia\n",
            "While taiga forest looks similar in Alaska (North America) and Patagonia (South\n",
            "America), a closer look will immediately reﬂect that species, genera and even fami-\n",
            "lies of plants are quite different. As an example, both Alaska and Patagonia forests\n",
            "include large conifers, but while in Alaska we frequently see members of Pinaceae\n",
            "family like spruces ( Picea ) or ﬁrs ( Abies ), in Patagonia these trees are absent and “re-\n",
            "placed” with superﬁcially similar trees of Araucariaceae and Podocarpaceae conifers.\n",
            "Analogously, Arizona desert is similar to African Kalahari but while American deserts\n",
            "are rich with cacti, similarly looking African plants belong to completely different\n",
            "group, succulent spurges ( Euphorbia ). The effect of these differences on the botan-\n",
            "ically educated traveler is a bit similar to the nightmare when you ﬁrst see a famil-\n",
            "iar thing but approach it—and realize that this is something completely alien and\n",
            "strange.\n",
            "174 Version June 7, 2021\n",
            "----------------------------------------------------------------------------------------------------\n",
            "Document 3:\n",
            "\n",
            "and they play a vital role in the Earth's ecosystem. Botany is an important field because it helps \n",
            "us understand how plants work, how they interact with their environment, and how they can be \n",
            "used to improve our lives.  \n",
            "2. Plant Anatomy:  \n",
            "Plant anatomy is the study of the structure of plants, including their external features, internal \n",
            "structures, and tissues. Here are some basic terms you should know:  \n",
            "* Root: the underground part of a plant that absorbs water and minerals from the soil  \n",
            "* Stem: the above -ground part of a plant that supports the leaves and branches  \n",
            "* Leaf: a flat, green structure that absorbs sunlight and produces food for the plant through \n",
            "photosynthesis  \n",
            "* Flower: a reproductive structure that produces seeds\n",
            "----------------------------------------------------------------------------------------------------\n",
            "Document 4:\n",
            "\n",
            "goal of the analysis is the creation of a phylogeny tree (cladogram ) which becomes\n",
            "the basis of classiﬁcation. Below is a short instruction which explains the basics of\n",
            "the cladistic analysis on the artiﬁcial example of several “families” of plants.\n",
            "1. Start with determining the “players”—all subtaxa from bigger group. In our\n",
            "case, it will be these three “families”:\n",
            "Alphaceae\n",
            "Betaceae\n",
            "Gammaceae\n",
            "2. Describe these three groups:\n",
            "Alphaceae : Flowers red, petioles short, leaves whole, spines absent\n",
            "Betaceae : Flowers red, petioles long, leaves whole, spines absent\n",
            "Gammaceae : Flowers green, petioles short, leaves dissected, spines present\n",
            "3. Determine individual characters (we will need at least 2 N+ 1 characters where\n",
            "Nis number of studied taxa):\n",
            "(1) Flower color\n",
            "(2) Petiole size\n",
            "----------------------------------------------------------------------------------------------------\n",
            "Document 5:\n",
            "\n",
            "rachilla\n",
            "glumeawnpalealemmalodiculesspikeletFigure 8.24. Gramineae: one plant, scheme of spikelet and ﬂower diagram.\n",
            "•Pooid (Pooideae) grasses usually are C 3plants, wheat ( Triticum ), rice ( Oryza ),\n",
            "barley ( Hordeum ) and rye ( Secale ) belong to this group.\n",
            "•Panicoid (Panicoideae) grasses are mostly C 4plants like corn ( Zea), sorghum\n",
            "(Sorghum ) and sugarcane ( Saccharum ).\n",
            "172 Version June 7, 2021\n",
            "----------------------------------------------------------------------------------------------------\n",
            "Document 6:\n",
            "\n",
            "South American From South Florida to Patagonia and Antarctic islands. Aroids\n",
            "(Araceae family) and bromeliads (Bromeliaceae) are very common South Amer-\n",
            "ican groups.\n",
            "African Excluding Mediterranean Africa (very north of the continent). African aca-\n",
            "cias ( Senegalia ) are common to the most of savannas there.\n",
            "Sometimes, botanists separate the southern tip of Africa into smallest Cape\n",
            "ﬂoristic kingdom which has multiple endemic plant genera (like Berzelia ,\n",
            "kolkol) and even whole families.\n",
            "Indo-Paciﬁc From India to paciﬁc islands including Hawaii. This kingdom is espe-\n",
            "cially rich of orchids (Orchidaceae); tropical pitcher plants ( Nepenthes ) grow\n",
            "only there.\n",
            "175 Version June 7, 2021\n"
          ]
        }
      ],
      "source": [
        "def get_similiar_docs(query, k=6, score=False):\n",
        "  if score:\n",
        "    similar_docs = docsearch.similarity_search_with_score(query, k=k)\n",
        "  else:\n",
        "    similar_docs = docsearch.similarity_search(query, k=k)\n",
        "  return similar_docs\n",
        "\n",
        "query=input(\"what is you query? \")\n",
        "pretty_print_docs(get_similiar_docs(query))\n",
        "# What is needed to understand life of plants"
      ],
      "id": "4WV4_NPMaPgi"
    },
    {
      "cell_type": "markdown",
      "source": [
        "## Implementing RAG Chain"
      ],
      "metadata": {
        "id": "ZJC9wBi8aefn"
      },
      "id": "ZJC9wBi8aefn"
    },
    {
      "cell_type": "markdown",
      "id": "d51e66d1",
      "metadata": {
        "id": "d51e66d1"
      },
      "source": [
        "This below is the basic chaining process of langchain for RAG, we have provided two ways for Chainings\n"
      ]
    },
    {
      "cell_type": "markdown",
      "id": "1943b443",
      "metadata": {
        "id": "1943b443"
      },
      "source": [
        "The first code snippet sets up a retrieval chain for answering questions based on context using Langchain. It involves creating a retrieval chain with a specific retriever and language model, structuring the question-answer process with a ChatPromptTemplate, and invoking the retrieval chain with a user input question."
      ]
    },
    {
      "cell_type": "code",
      "execution_count": 20,
      "id": "e49cdd82",
      "metadata": {
        "id": "e49cdd82"
      },
      "outputs": [],
      "source": [
        "from langchain_core.documents import Document\n",
        "from langchain_core.prompts import ChatPromptTemplate\n",
        "from langchain.chains.combine_documents import create_stuff_documents_chain\n",
        "from langchain_core.runnables import RunnableLambda, RunnablePassthrough\n",
        "from langchain_core.output_parsers import StrOutputParser"
      ]
    },
    {
      "cell_type": "code",
      "execution_count": 21,
      "id": "802c3e58",
      "metadata": {
        "colab": {
          "base_uri": "https://localhost:8080/",
          "height": 35
        },
        "id": "802c3e58",
        "outputId": "05c01330-6b3b-44c3-840a-a0d13204fddd"
      },
      "outputs": [
        {
          "output_type": "execute_result",
          "data": {
            "text/plain": [
              "'All organic molecules are made of some organic skeleton. \\n'"
            ],
            "application/vnd.google.colaboratory.intrinsic+json": {
              "type": "string"
            }
          },
          "metadata": {},
          "execution_count": 21
        }
      ],
      "source": [
        "template = \"\"\"Answer the question based only on the following context:\n",
        "{context}\n",
        "\n",
        "Question: {question}\n",
        "\"\"\"\n",
        "prompt = ChatPromptTemplate.from_template(template)\n",
        "chain = (\n",
        "    {\"context\":docsearch.as_retriever(), \"question\": RunnablePassthrough()}\n",
        "    | prompt\n",
        "    | model\n",
        "    | StrOutputParser()\n",
        ")\n",
        "\n",
        "chain.invoke(\"All organic molecule is made of what?\")"
      ]
    },
    {
      "cell_type": "markdown",
      "id": "ede69fbe",
      "metadata": {
        "id": "ede69fbe"
      },
      "source": [
        "**-------------------------------------------------------------------------------------------------------------------------------------------------------------------------------------------**"
      ]
    },
    {
      "cell_type": "markdown",
      "id": "237cda58",
      "metadata": {
        "id": "237cda58"
      },
      "source": [
        "The second code snippet constructs a chain for answering questions based on a provided context. It involves defining a template for structuring the question-answer process, creating a ChatPromptTemplate from the template, initializing a language model, and setting up a chain with components like the context (retriever), a placeholder for the question, a prompt template, the language model, and an output parser."
      ]
    },
    {
      "cell_type": "code",
      "execution_count": 22,
      "id": "1c721e09",
      "metadata": {
        "colab": {
          "base_uri": "https://localhost:8080/"
        },
        "id": "1c721e09",
        "outputId": "5b8a2fb3-8132-49fc-ed80-8e4945c9d3a2"
      },
      "outputs": [
        {
          "name": "stdout",
          "output_type": "stream",
          "text": [
            "What is needed to understand life of plants\n"
          ]
        },
        {
          "output_type": "execute_result",
          "data": {
            "text/plain": [
              "{'input': 'What is needed to understand life of plants',\n",
              " 'context': [Document(metadata={'page': 159.0, 'source': 'intro_botany.pdf'}, page_content='goal of the analysis is the creation of a phylogeny tree (cladogram ) which becomes\\nthe basis of classiﬁcation. Below is a short instruction which explains the basics of\\nthe cladistic analysis on the artiﬁcial example of several “families” of plants.\\n1. Start with determining the “players”—all subtaxa from bigger group. In our\\ncase, it will be these three “families”:\\nAlphaceae\\nBetaceae\\nGammaceae\\n2. Describe these three groups:\\nAlphaceae : Flowers red, petioles short, leaves whole, spines absent\\nBetaceae : Flowers red, petioles long, leaves whole, spines absent\\nGammaceae : Flowers green, petioles short, leaves dissected, spines present\\n3. Determine individual characters (we will need at least 2 N+ 1 characters where\\nNis number of studied taxa):\\n(1) Flower color\\n(2) Petiole size\\n(3) Dissection of leaves\\n(4) Presence of spines\\n4.Polarize the characters : every character should have at least two character\\nstates where “0” is ancestral, plesiomorphic state, and “1” is derived, apo-\\nmorphic state. To decide which state is plesiomorphic and which is apomor-\\nphic, use these kinds of arguments:\\n(a) Historical evidence (e.g., from fossils)\\n(b) Developmental evidence\\n(c) Comparative evidence\\n5. If this information is absent, ﬁnd the outgroup which is the most ancestral,\\nmost early divergent taxon related to our groups. In our case, we will employ\\noutgroup:\\nOmegaceae : Flowers green, petioles short, leaves whole, spines absent.\\n6. Label characters with “1” (apomorphic) or “0” (plesiomorphic):\\n(1) Flower color green—0; red—1\\n(2) Petiole size small—0; big—1\\n(3) Dissection of leaves absent—0; present—1\\n(4) Absence of spines—0; spines present—1\\n178 Version June 7, 2021'),\n",
              "  Document(metadata={'page': 155.0, 'source': 'intro_botany.pdf'}, page_content='these vegetation types will be arranged from a pole to equator exactly in the order\\nfrom the list above. However, the real picture is more complicated (Fig. 9.1.)\\ntundratundra\\ntaiga taiga\\ntaigagrassland\\ngrasslandgrassland\\ndesertdesert\\ndeserttropical\\nforesttropical\\nforesttropical\\nforest\\ndesertshrubland\\nshrublandshrublanddecidous\\nforest\\ndecidous\\nforestdesertdecidous\\nforest\\ngrasslandshrubland\\nFigure 9.1. Biomes (types of vegetation) of Earth. Please note that this map is largely sim-\\npliﬁed.\\nSome smaller biomes, especially different kinds of wetlands (like sphagnum bogs or\\nmangroves) are signiﬁcantly dispersed, sometimes even intra-zonal (occur in differ-\\nent climatic zones).\\n9.2 Geography of Vegetabilia\\nWhile taiga forest looks similar in Alaska (North America) and Patagonia (South\\nAmerica), a closer look will immediately reﬂect that species, genera and even fami-\\nlies of plants are quite different. As an example, both Alaska and Patagonia forests\\ninclude large conifers, but while in Alaska we frequently see members of Pinaceae\\nfamily like spruces ( Picea ) or ﬁrs ( Abies ), in Patagonia these trees are absent and “re-\\nplaced” with superﬁcially similar trees of Araucariaceae and Podocarpaceae conifers.\\nAnalogously, Arizona desert is similar to African Kalahari but while American deserts\\nare rich with cacti, similarly looking African plants belong to completely different\\ngroup, succulent spurges ( Euphorbia ). The effect of these differences on the botan-\\nically educated traveler is a bit similar to the nightmare when you ﬁrst see a famil-\\niar thing but approach it—and realize that this is something completely alien and\\nstrange.\\n174 Version June 7, 2021'),\n",
              "  Document(metadata={'page': 159.0, 'source': 'intro_botany.pdf'}, page_content='goal of the analysis is the creation of a phylogeny tree (cladogram ) which becomes\\nthe basis of classiﬁcation. Below is a short instruction which explains the basics of\\nthe cladistic analysis on the artiﬁcial example of several “families” of plants.\\n1. Start with determining the “players”—all subtaxa from bigger group. In our\\ncase, it will be these three “families”:\\nAlphaceae\\nBetaceae\\nGammaceae\\n2. Describe these three groups:\\nAlphaceae : Flowers red, petioles short, leaves whole, spines absent\\nBetaceae : Flowers red, petioles long, leaves whole, spines absent\\nGammaceae : Flowers green, petioles short, leaves dissected, spines present\\n3. Determine individual characters (we will need at least 2 N+ 1 characters where\\nNis number of studied taxa):\\n(1) Flower color\\n(2) Petiole size'),\n",
              "  Document(metadata={'page': 2.0, 'source': 'Basics_of_Plants.pdf'}, page_content=\"and they play a vital role in the Earth's ecosystem. Botany is an important field because it helps \\nus understand how plants work, how they interact with their environment, and how they can be \\nused to improve our lives.  \\n2. Plant Anatomy:  \\nPlant anatomy is the study of the structure of plants, including their external features, internal \\nstructures, and tissues. Here are some basic terms you should know:  \\n* Root: the underground part of a plant that absorbs water and minerals from the soil  \\n* Stem: the above -ground part of a plant that supports the leaves and branches  \\n* Leaf: a flat, green structure that absorbs sunlight and produces food for the plant through \\nphotosynthesis  \\n* Flower: a reproductive structure that produces seeds\")],\n",
              " 'answer': 'The provided text focuses on cladistic analysis and plant classification, not on the overall understanding of plant life.  Therefore, the context does not provide an answer to the question of what is needed to understand the life of plants. \\n'}"
            ]
          },
          "metadata": {},
          "execution_count": 22
        }
      ],
      "source": [
        "from langchain.chains import create_retrieval_chain\n",
        "from langchain.chains.combine_documents import create_stuff_documents_chain\n",
        "from langchain_core.prompts import ChatPromptTemplate\n",
        "\n",
        "\n",
        "# Create a retrieval chain\n",
        "retriever =docsearch.as_retriever()  # Define the retriever based on your specific requirements\n",
        "\n",
        "\n",
        "prompt = ChatPromptTemplate.from_template(\n",
        "    \"\"\"Answer the following question based only on the provided context:\n",
        "    <context>\n",
        "    {context}\n",
        "    </context>\n",
        "    Question: {input}\"\"\"\n",
        ")\n",
        "\n",
        "document_chain = create_stuff_documents_chain(model, prompt)\n",
        "retrieval_chain = create_retrieval_chain(retriever, document_chain)\n",
        "\n",
        "# Invoke the retrieval chain with the question\n",
        "ans=retrieval_chain.invoke({\"input\": input()}) # What is needed to understand life of plants\n",
        "ans"
      ]
    },
    {
      "cell_type": "code",
      "execution_count": 23,
      "id": "a1eeba93",
      "metadata": {
        "colab": {
          "base_uri": "https://localhost:8080/",
          "height": 53
        },
        "id": "a1eeba93",
        "outputId": "8192b4be-daab-492d-e03a-604c86eb96bc"
      },
      "outputs": [
        {
          "output_type": "execute_result",
          "data": {
            "text/plain": [
              "'The provided text focuses on cladistic analysis and plant classification, not on the overall understanding of plant life.  Therefore, the context does not provide an answer to the question of what is needed to understand the life of plants. \\n'"
            ],
            "application/vnd.google.colaboratory.intrinsic+json": {
              "type": "string"
            }
          },
          "metadata": {},
          "execution_count": 23
        }
      ],
      "source": [
        "ans['answer']"
      ]
    },
    {
      "cell_type": "markdown",
      "id": "41d204f7",
      "metadata": {
        "id": "41d204f7"
      },
      "source": [
        "**------------------------------------------------------------------------------------------------------------------------------------------------------------------------------------------------------------**"
      ]
    },
    {
      "cell_type": "markdown",
      "id": "ca72056d",
      "metadata": {
        "id": "ca72056d"
      },
      "source": [
        "These functions are created for showing the final cleaned results from advanced retrieval techniques"
      ]
    },
    {
      "cell_type": "code",
      "execution_count": 24,
      "id": "a9925c1f",
      "metadata": {
        "id": "a9925c1f"
      },
      "outputs": [],
      "source": [
        "from langchain.chains.combine_documents import create_stuff_documents_chain\n",
        "\n",
        "import re\n",
        "def clean_and_format_answer(text):\n",
        "\n",
        "  cleaned_text = text.strip()\n",
        "\n",
        "  # Split into paragraphs and remove extra newlines\n",
        "  paragraphs = re.split(r\"\\n\\n|\\n\", text.strip())\n",
        "  formatted_paragraphs = [paragraph.strip() for paragraph in paragraphs]\n",
        "\n",
        "  # Join paragraphs back with a single newline\n",
        "  answer = \"\".join(formatted_paragraphs)\n",
        "\n",
        "  return answer\n",
        "\n",
        "\n",
        "def answerRetriever(llm,docs,question):\n",
        "    prompt = ChatPromptTemplate.from_template(\n",
        "        \"\"\"Answer the following question based only on the provided context:\n",
        "        <context>\n",
        "        {context}\n",
        "        </context>\n",
        "        Question: {input}\"\"\"\n",
        "    )\n",
        "    document_chain = create_stuff_documents_chain(llm, prompt)\n",
        "\n",
        "    ans=document_chain.invoke({\n",
        "        \"context\": unique_docs,\n",
        "        \"input\":question\n",
        "    })\n",
        "    return ans"
      ]
    },
    {
      "cell_type": "markdown",
      "id": "8ed49624",
      "metadata": {
        "id": "8ed49624"
      },
      "source": [
        "Now we are going to leverage some advanced retrieval techniques"
      ]
    },
    {
      "cell_type": "markdown",
      "id": "0973a701",
      "metadata": {
        "id": "0973a701"
      },
      "source": [
        "# Multi-Query Retriever"
      ]
    },
    {
      "cell_type": "markdown",
      "id": "2a348ae5",
      "metadata": {
        "id": "2a348ae5"
      },
      "source": [
        "The Multi-Query Retriever automates prompt tuning by using a language model to generate multiple queries from different perspectives for a given user input query. It retrieves relevant documents for each query and combines the unique results across all queries. By generating diverse perspectives on the same question, it aims to overcome limitations of distance-based retrieval and provide a richer set of results. The retriever simplifies the process of generating varied queries and retrieving a broader range of potentially relevant documents based on user input"
      ]
    },
    {
      "cell_type": "code",
      "source": [
        "from langchain_google_vertexai import ChatVertexAI\n",
        "llm = ChatVertexAI(model=\"gemini-1.5-flash-001\")"
      ],
      "metadata": {
        "id": "zsukQURdVKXk"
      },
      "id": "zsukQURdVKXk",
      "execution_count": 25,
      "outputs": []
    },
    {
      "cell_type": "code",
      "execution_count": 31,
      "id": "a3706a3e",
      "metadata": {
        "id": "a3706a3e"
      },
      "outputs": [],
      "source": [
        "from langchain.retrievers.multi_query import MultiQueryRetriever\n",
        "question = \"Explain the whole process of photosynthesis\"\n",
        "retriever_from_llm = MultiQueryRetriever.from_llm(retriever=retriever, llm=llm)"
      ]
    },
    {
      "cell_type": "code",
      "execution_count": 27,
      "id": "97ddea0a",
      "metadata": {
        "id": "97ddea0a"
      },
      "outputs": [],
      "source": [
        "# Set logging for the queries\n",
        "import logging\n",
        "\n",
        "logging.basicConfig()\n",
        "logging.getLogger(\"langchain.retrievers.multi_query\").setLevel(logging.INFO)"
      ]
    },
    {
      "cell_type": "code",
      "source": [
        "from typing import List\n",
        "from langchain.output_parsers import PydanticOutputParser\n",
        "from langchain_core.prompts import PromptTemplate\n",
        "from pydantic import BaseModel, Field\n",
        "\n",
        "\n",
        "# Output parser will split the LLM result into a list of queries\n",
        "class LineList(BaseModel):\n",
        "    # \"lines\" is the key (attribute name) of the parsed output\n",
        "    lines: List[str] = Field(description=\"Lines of text\")\n",
        "\n",
        "\n",
        "class LineListOutputParser(PydanticOutputParser):\n",
        "    def __init__(self) -> None:\n",
        "        super().__init__(pydantic_object=LineList)\n",
        "\n",
        "    def parse(self, text: str) -> LineList:\n",
        "        lines = text.content.strip()#.split(\"\\n\")\n",
        "        return lines #LineList(lines=lines)\n",
        "\n",
        "\n",
        "output_parser = LineListOutputParser()\n",
        "\n",
        "QUERY_PROMPT = PromptTemplate(\n",
        "    input_variables=[\"question\"],\n",
        "    template=\"\"\"You are an AI language model assistant. Your task is to generate five\n",
        "    different versions of the given user question to retrieve relevant documents from a vector\n",
        "    database. By generating multiple perspectives on the user question, your goal is to help\n",
        "    the user overcome some of the limitations of the distance-based similarity search.\n",
        "    Provide these alternative questions separated by newlines.\n",
        "    Original question: {question}\"\"\",\n",
        ")\n",
        "\n",
        "llm = ChatVertexAI(model=\"gemini-1.5-flash-001\")\n",
        "\n",
        "# Chain\n",
        "multi_query_chain = QUERY_PROMPT | llm | output_parser.parse\n",
        "# Other inputs\n",
        "question = \"Explain the whole process of photosynthesis\""
      ],
      "metadata": {
        "id": "0uielVowXw9Y"
      },
      "id": "0uielVowXw9Y",
      "execution_count": 74,
      "outputs": []
    },
    {
      "cell_type": "code",
      "source": [
        "result = multi_query_chain.invoke({\"question\": question})\n",
        "print(result)"
      ],
      "metadata": {
        "id": "VLFqxCqvZa-o",
        "outputId": "b85910a3-5827-47c9-f6f4-f85eb630fd74",
        "colab": {
          "base_uri": "https://localhost:8080/"
        }
      },
      "id": "VLFqxCqvZa-o",
      "execution_count": 75,
      "outputs": [
        {
          "output_type": "stream",
          "name": "stdout",
          "text": [
            "Here are five different versions of the user question \"Explain the whole process of photosynthesis\" to retrieve relevant documents from a vector database:\n",
            "\n",
            "1. **Focus on stages:** What are the distinct stages involved in photosynthesis, and how do they work together?\n",
            "2. **Highlight inputs and outputs:** What are the key inputs and outputs of photosynthesis, and how are they transformed during the process?\n",
            "3. **Emphasize light dependence:** How does light energy play a role in photosynthesis, and what are the specific reactions that depend on it?\n",
            "4. **Focus on the role of chlorophyll:** What is the function of chlorophyll in photosynthesis\n"
          ]
        }
      ]
    },
    {
      "cell_type": "code",
      "source": [
        "# Run\n",
        "retriever = multi_query_chain | docsearch.as_retriever()\n",
        "# Results\n",
        "unique_docs = retriever.invoke(input=question)\n",
        "len(unique_docs)"
      ],
      "metadata": {
        "id": "BcCQraKXYKLC",
        "outputId": "877d07e4-98e4-4014-8c20-f795a36a3d4f",
        "colab": {
          "base_uri": "https://localhost:8080/"
        }
      },
      "id": "BcCQraKXYKLC",
      "execution_count": 76,
      "outputs": [
        {
          "output_type": "execute_result",
          "data": {
            "text/plain": [
              "4"
            ]
          },
          "metadata": {},
          "execution_count": 76
        }
      ]
    },
    {
      "cell_type": "code",
      "execution_count": 77,
      "id": "ac2559f6",
      "metadata": {
        "colab": {
          "base_uri": "https://localhost:8080/"
        },
        "id": "ac2559f6",
        "outputId": "5854b25e-f4ae-4b3f-b12e-56161449e979"
      },
      "outputs": [
        {
          "output_type": "stream",
          "name": "stdout",
          "text": [
            "Document 1:\n",
            "\n",
            "Sun rays\n",
            "Photosystems↓↓\n",
            "Segregation of ions↓↓\n",
            "Difference of potentials↓↓\n",
            "Proton pump↓↓\n",
            "ATP↓↓\n",
            "CO 2assimilation↓↓\n",
            "Figure 2.4. The logical chain of light stage reactions (hydrogen carrier not shown).\n",
            "2.3 Enzymatic Stage\n",
            "The enzymatic stage has many participants. These include carbon dioxide, hydro-\n",
            "gen carrier with hydrogen (NADPH), ATP , ribulose biphosphate (RuBP , or C 5), and\n",
            "Rubisco along with some other enzymes. Everything occurs in the matrix (stroma)\n",
            "of the chloroplast.\n",
            "The main event of the enzymatic stage is CO 2assimilation with C 5into short-living\n",
            "C6molecules. Assimilation requires Rubisco as an enzyme. Next, this temporary C 6\n",
            "breaks into two C 3molecules (PGA). Then, PGA will participate in the complex set of\n",
            "reactions which spend NADPH and ATP as sources of hydrogen and energy, respec-\n",
            "tively; and yields (through the intermediate stage of PGAL) one molecule of glucose\n",
            "(C6H12O6) for every six assimilated molecules of CO 2. NADP+, ADP and P iwill go\n",
            "back to the light stage. This set of chemical reactions returns RuBP which will start\n",
            "the new cycle of assimilation. Consequently, all reactions described in this para-\n",
            "graph are part of the cycle which has the name “Calvin cycle” or “C 3cycle” (because\n",
            "the C 3PGA molecules here are most important).\n",
            "In all, enzymatic stage starts with CO 2, NADPH, ATP and C 5(RuBP). It ends with\n",
            "glucose (C 6H12O6), NADP+, ADP , P iand the same C 5. With an addition of nitrogen\n",
            "and phosphorous, glucose will give all other organic molecules (Fig. 2.7).\n",
            "32 Version June 7, 2021\n",
            "----------------------------------------------------------------------------------------------------\n",
            "Document 2:\n",
            "\n",
            "starch\n",
            "DNAgranum thylakoid\n",
            "matrix (stroma)Figure 2.5. Chloroplast.\n",
            "* * *\n",
            "To summarize, the logic of photosynthesis (Fig. 2.8) is based on a simple idea: make\n",
            "sugar from carbon dioxide . Imagine if we have letters “s”, “g”, “u”, and “a” and need\n",
            "to build the word “sugar”. Obviously, we will need two things: the letter “r” and the\n",
            "energy to put these letters in the right order. The same story occurs in photosynthe-\n",
            "sis: it will need hydrogen (H) which is the “absent letter” from CO 2because sugars\n",
            "must contain H, O and C. NADP+/NADPH is used as hydrogen supplier, and energy\n",
            "is ATP which is created via proton pump, and the proton pump starts because light\n",
            "helps to concentrate protons in the reservoir.\n",
            "33 Version June 7, 2021\n",
            "----------------------------------------------------------------------------------------------------\n",
            "Document 3:\n",
            "\n",
            "starch\n",
            "DNAgranum thylakoid\n",
            "matrix (stroma)Figure 2.5. Chloroplast.\n",
            "* * *\n",
            "To summarize, the logic of photosynthesis (Fig. 2.8) is based on a simple idea: make\n",
            "sugar from carbon dioxide . Imagine if we have letters “s”, “g”, “u”, and “a” and need\n",
            "to build the word “sugar”. Obviously, we will need two things: the letter “r” and the\n",
            "energy to put these letters in the right order. The same story occurs in photosynthe-\n",
            "sis: it will need hydrogen (H) which is the “absent letter” from CO 2because sugars\n",
            "must contain H, O and C. NADP+/NADPH is used as hydrogen supplier, and energy\n",
            "is ATP which is created via proton pump, and the proton pump starts because light\n",
            "helps to concentrate protons in the reservoir.\n",
            "33 Version June 7, 2021\n",
            "----------------------------------------------------------------------------------------------------\n",
            "Document 4:\n",
            "\n",
            "starch\n",
            "DNAgranum thylakoid\n",
            "matrix (stroma)Figure 2.5. Chloroplast.\n",
            "* * *\n",
            "To summarize, the logic of photosynthesis (Fig. 2.8) is based on a simple idea: make\n",
            "sugar from carbon dioxide . Imagine if we have letters “s”, “g”, “u”, and “a” and need\n",
            "to build the word “sugar”. Obviously, we will need two things: the letter “r” and the\n",
            "energy to put these letters in the right order. The same story occurs in photosynthe-\n",
            "sis: it will need hydrogen (H) which is the “absent letter” from CO 2because sugars\n",
            "must contain H, O and C. NADP+/NADPH is used as hydrogen supplier, and energy\n",
            "is ATP which is created via proton pump, and the proton pump starts because light\n",
            "helps to concentrate protons in the reservoir.\n",
            "33 Version June 7, 2021\n"
          ]
        }
      ],
      "source": [
        "pretty_print_docs(unique_docs)"
      ]
    },
    {
      "cell_type": "code",
      "execution_count": 78,
      "id": "9dd8ff6f",
      "metadata": {
        "colab": {
          "base_uri": "https://localhost:8080/",
          "height": 87
        },
        "id": "9dd8ff6f",
        "outputId": "6db27cb4-5379-4fcd-f6a3-8eb92ec5182b"
      },
      "outputs": [
        {
          "output_type": "execute_result",
          "data": {
            "text/plain": [
              "'Photosynthesis is a process that plants use to convert light energy into chemical energy in the form of glucose. It occurs in two stages: the light-dependent reactions and the light-independent reactions (Calvin cycle).\\n\\n**Light-dependent reactions:**\\n\\n1. **Sun rays:** Sunlight is absorbed by chlorophyll in photosystems.\\n2. **Photosystems:** This energy excites electrons, which are then passed along an electron transport chain.\\n3. **Segregation of ions:** The movement of electrons creates a difference in potential across the thylakoid membrane.\\n4. **Difference of potentials:** This potential drives the movement of protons ('"
            ],
            "application/vnd.google.colaboratory.intrinsic+json": {
              "type": "string"
            }
          },
          "metadata": {},
          "execution_count": 78
        }
      ],
      "source": [
        "answerRetriever(llm,unique_docs,question)"
      ]
    },
    {
      "cell_type": "markdown",
      "id": "d204bf4e",
      "metadata": {
        "id": "d204bf4e"
      },
      "source": [
        "# Contextual compression"
      ]
    },
    {
      "cell_type": "markdown",
      "id": "5d079c83",
      "metadata": {
        "id": "5d079c83"
      },
      "source": [
        "Contextual compression in Langchain involves compressing retrieved documents using the context of a given query to filter out irrelevant information. It aims to return only the most relevant information by shortening document contents or removing documents altogether. This process helps optimize expensive language model calls and improve response quality by focusing on the essential content related to the query. Contextual compression involves passing queries to a base retriever, then compressing the retrieved documents using a Document Compressor to enhance the relevance of the information returned to the user"
      ]
    },
    {
      "cell_type": "code",
      "execution_count": null,
      "id": "1495e11e",
      "metadata": {
        "id": "1495e11e"
      },
      "outputs": [],
      "source": [
        "from langchain.retrievers import ContextualCompressionRetriever\n",
        "from langchain.retrievers.document_compressors import LLMChainExtractor\n",
        "\n",
        "compressor = LLMChainExtractor.from_llm(llm)\n",
        "compression_retriever = ContextualCompressionRetriever(\n",
        "    base_compressor=compressor, base_retriever=docsearch.as_retriever()\n",
        ")\n",
        "\n",
        "print(question)"
      ]
    },
    {
      "cell_type": "code",
      "source": [
        "compressed_docs = compression_retriever.get_relevant_documents(question)\n",
        "pretty_print_docs(compressed_docs)"
      ],
      "metadata": {
        "id": "xQCsZeEOpl5O"
      },
      "id": "xQCsZeEOpl5O",
      "execution_count": null,
      "outputs": []
    },
    {
      "cell_type": "code",
      "execution_count": null,
      "id": "92b2cfce",
      "metadata": {
        "colab": {
          "base_uri": "https://localhost:8080/",
          "height": 157
        },
        "id": "92b2cfce",
        "outputId": "8d6f7e28-28d0-4e0e-bba5-55705ea7b0c3"
      },
      "outputs": [
        {
          "output_type": "execute_result",
          "data": {
            "text/plain": [
              "'Photosynthesis is the process by which plants convert sunlight, water, and carbon dioxide into glucose and oxygen. It begins with the light stage, where sunlight is absorbed by photosystems in the chloroplasts of plant cells. This leads to the segregation of ions, a difference in potentials, and the creation of a proton pump that generates ATP. ATP is essential for providing energy for the conversion of carbon dioxide into glucose.During the light stage, water is split into protons, electrons, and oxygen by photosystem II, which also produces ATP and forwards electrons to photosystem I. Photosystem I then uses these electrons to create NADPH, a hydrogen carrier. The light stage results in the accumulation of energy (ATP) and hydrogen (NADPH), with oxygen released as a byproduct.The enzymatic stage of photosynthesis takes place in the matrix (stroma) of the chloroplast and involves various participants such as carbon dioxide, NADPH, ATP, ribulose biphosphate (RuBP), and the enzyme Rubisco. In this stage, carbon dioxide is assimilated into short-lived C6 molecules with the help of Rubisco. These C6 molecules then break down into two C3 molecules (PGA), which participate in further complex reactions.Overall, photosynthesis is a complex process that involves the conversion of sunlight, water, and carbon dioxide into glucose and oxygen through a series of light-dependent and enzymatic reactions within the chloroplasts of plant cells.'"
            ],
            "application/vnd.google.colaboratory.intrinsic+json": {
              "type": "string"
            }
          },
          "metadata": {},
          "execution_count": 47
        }
      ],
      "source": [
        "clean_and_format_answer(answerRetriever(llm,compressed_docs,question))"
      ]
    },
    {
      "cell_type": "markdown",
      "id": "679906eb",
      "metadata": {
        "id": "679906eb"
      },
      "source": [
        "\n",
        "# Long-Context Reorder"
      ]
    },
    {
      "cell_type": "markdown",
      "id": "b755e530",
      "metadata": {
        "id": "b755e530"
      },
      "source": [
        "Long-Context Reorder in Langchain is a technique used to address performance degradation when models access relevant information in the middle of long contexts. By reordering documents after retrieval, this method ensures that more relevant elements are placed at the beginning and end of the document list, while less relevant ones are in the middle. This reordering helps models avoid ignoring provided documents and enhances performance when dealing with long contexts and multiple retrieved documents. Long-Context Reorder is a valuable tool to optimize information retrieval and processing in complex language models"
      ]
    },
    {
      "cell_type": "code",
      "execution_count": 81,
      "id": "d7316dea",
      "metadata": {
        "id": "d7316dea"
      },
      "outputs": [],
      "source": [
        "from langchain_community.document_transformers import (\n",
        "    LongContextReorder,\n",
        ")"
      ]
    },
    {
      "cell_type": "code",
      "execution_count": 86,
      "id": "7cf32841",
      "metadata": {
        "colab": {
          "base_uri": "https://localhost:8080/"
        },
        "id": "7cf32841",
        "outputId": "9a1dc4cd-8c7c-4d94-f79e-dde88a700792"
      },
      "outputs": [
        {
          "output_type": "execute_result",
          "data": {
            "text/plain": [
              "[Document(metadata={'page': 14.0, 'source': 'intro_botany.pdf'}, page_content='starch\\nDNAgranum thylakoid\\nmatrix (stroma)Figure 2.5. Chloroplast.\\n* * *\\nTo summarize, the logic of photosynthesis (Fig. 2.8) is based on a simple idea: make\\nsugar from carbon dioxide . Imagine if we have letters “s”, “g”, “u”, and “a” and need\\nto build the word “sugar”. Obviously, we will need two things: the letter “r” and the\\nenergy to put these letters in the right order. The same story occurs in photosynthe-\\nsis: it will need hydrogen (H) which is the “absent letter” from CO 2because sugars\\nmust contain H, O and C. NADP+/NADPH is used as hydrogen supplier, and energy\\nis ATP which is created via proton pump, and the proton pump starts because light\\nhelps to concentrate protons in the reservoir.\\n33 Version June 7, 2021'),\n",
              " Document(metadata={'page': 14.0, 'source': 'intro_botany.pdf'}, page_content='starch\\nDNAgranum thylakoid\\nmatrix (stroma)Figure 2.5. Chloroplast.\\n* * *\\nTo summarize, the logic of photosynthesis (Fig. 2.8) is based on a simple idea: make\\nsugar from carbon dioxide . Imagine if we have letters “s”, “g”, “u”, and “a” and need\\nto build the word “sugar”. Obviously, we will need two things: the letter “r” and the\\nenergy to put these letters in the right order. The same story occurs in photosynthe-\\nsis: it will need hydrogen (H) which is the “absent letter” from CO 2because sugars\\nmust contain H, O and C. NADP+/NADPH is used as hydrogen supplier, and energy\\nis ATP which is created via proton pump, and the proton pump starts because light\\nhelps to concentrate protons in the reservoir.\\n33 Version June 7, 2021'),\n",
              " Document(metadata={'page': 14.0, 'source': 'intro_botany.pdf'}, page_content='starch\\nDNAgranum thylakoid\\nmatrix (stroma)Figure 2.5. Chloroplast.\\n* * *\\nTo summarize, the logic of photosynthesis (Fig. 2.8) is based on a simple idea: make\\nsugar from carbon dioxide . Imagine if we have letters “s”, “g”, “u”, and “a” and need\\nto build the word “sugar”. Obviously, we will need two things: the letter “r” and the\\nenergy to put these letters in the right order. The same story occurs in photosynthe-\\nsis: it will need hydrogen (H) which is the “absent letter” from CO 2because sugars\\nmust contain H, O and C. NADP+/NADPH is used as hydrogen supplier, and energy\\nis ATP which is created via proton pump, and the proton pump starts because light\\nhelps to concentrate protons in the reservoir.\\n33 Version June 7, 2021'),\n",
              " Document(metadata={'page': 13.0, 'source': 'intro_botany.pdf'}, page_content='Sun rays\\nPhotosystems↓↓\\nSegregation of ions↓↓\\nDifference of potentials↓↓\\nProton pump↓↓\\nATP↓↓\\nCO 2assimilation↓↓\\nFigure 2.4. The logical chain of light stage reactions (hydrogen carrier not shown).\\n2.3 Enzymatic Stage\\nThe enzymatic stage has many participants. These include carbon dioxide, hydro-\\ngen carrier with hydrogen (NADPH), ATP , ribulose biphosphate (RuBP , or C 5), and\\nRubisco along with some other enzymes. Everything occurs in the matrix (stroma)\\nof the chloroplast.\\nThe main event of the enzymatic stage is CO 2assimilation with C 5into short-living\\nC6molecules. Assimilation requires Rubisco as an enzyme. Next, this temporary C 6\\nbreaks into two C 3molecules (PGA). Then, PGA will participate in the complex set of\\nreactions which spend NADPH and ATP as sources of hydrogen and energy, respec-\\ntively; and yields (through the intermediate stage of PGAL) one molecule of glucose\\n(C6H12O6) for every six assimilated molecules of CO 2. NADP+, ADP and P iwill go\\nback to the light stage. This set of chemical reactions returns RuBP which will start\\nthe new cycle of assimilation. Consequently, all reactions described in this para-\\ngraph are part of the cycle which has the name “Calvin cycle” or “C 3cycle” (because\\nthe C 3PGA molecules here are most important).\\nIn all, enzymatic stage starts with CO 2, NADPH, ATP and C 5(RuBP). It ends with\\nglucose (C 6H12O6), NADP+, ADP , P iand the same C 5. With an addition of nitrogen\\nand phosphorous, glucose will give all other organic molecules (Fig. 2.7).\\n32 Version June 7, 2021')]"
            ]
          },
          "metadata": {},
          "execution_count": 86
        }
      ],
      "source": [
        "query = \"Explain the whole process of photosynthesis\"\n",
        "\n",
        "retriever = docsearch.as_retriever()\n",
        "# Get relevant documents ordered by relevance score\n",
        "docs = retriever.get_relevant_documents(question)\n",
        "docs"
      ]
    },
    {
      "cell_type": "code",
      "execution_count": 87,
      "id": "d6b079f1",
      "metadata": {
        "colab": {
          "base_uri": "https://localhost:8080/"
        },
        "id": "d6b079f1",
        "outputId": "44c0ea5f-c1f3-4493-ed51-b604b2933180"
      },
      "outputs": [
        {
          "output_type": "execute_result",
          "data": {
            "text/plain": [
              "[Document(metadata={'page': 14.0, 'source': 'intro_botany.pdf'}, page_content='starch\\nDNAgranum thylakoid\\nmatrix (stroma)Figure 2.5. Chloroplast.\\n* * *\\nTo summarize, the logic of photosynthesis (Fig. 2.8) is based on a simple idea: make\\nsugar from carbon dioxide . Imagine if we have letters “s”, “g”, “u”, and “a” and need\\nto build the word “sugar”. Obviously, we will need two things: the letter “r” and the\\nenergy to put these letters in the right order. The same story occurs in photosynthe-\\nsis: it will need hydrogen (H) which is the “absent letter” from CO 2because sugars\\nmust contain H, O and C. NADP+/NADPH is used as hydrogen supplier, and energy\\nis ATP which is created via proton pump, and the proton pump starts because light\\nhelps to concentrate protons in the reservoir.\\n33 Version June 7, 2021'),\n",
              " Document(metadata={'page': 13.0, 'source': 'intro_botany.pdf'}, page_content='Sun rays\\nPhotosystems↓↓\\nSegregation of ions↓↓\\nDifference of potentials↓↓\\nProton pump↓↓\\nATP↓↓\\nCO 2assimilation↓↓\\nFigure 2.4. The logical chain of light stage reactions (hydrogen carrier not shown).\\n2.3 Enzymatic Stage\\nThe enzymatic stage has many participants. These include carbon dioxide, hydro-\\ngen carrier with hydrogen (NADPH), ATP , ribulose biphosphate (RuBP , or C 5), and\\nRubisco along with some other enzymes. Everything occurs in the matrix (stroma)\\nof the chloroplast.\\nThe main event of the enzymatic stage is CO 2assimilation with C 5into short-living\\nC6molecules. Assimilation requires Rubisco as an enzyme. Next, this temporary C 6\\nbreaks into two C 3molecules (PGA). Then, PGA will participate in the complex set of\\nreactions which spend NADPH and ATP as sources of hydrogen and energy, respec-\\ntively; and yields (through the intermediate stage of PGAL) one molecule of glucose\\n(C6H12O6) for every six assimilated molecules of CO 2. NADP+, ADP and P iwill go\\nback to the light stage. This set of chemical reactions returns RuBP which will start\\nthe new cycle of assimilation. Consequently, all reactions described in this para-\\ngraph are part of the cycle which has the name “Calvin cycle” or “C 3cycle” (because\\nthe C 3PGA molecules here are most important).\\nIn all, enzymatic stage starts with CO 2, NADPH, ATP and C 5(RuBP). It ends with\\nglucose (C 6H12O6), NADP+, ADP , P iand the same C 5. With an addition of nitrogen\\nand phosphorous, glucose will give all other organic molecules (Fig. 2.7).\\n32 Version June 7, 2021'),\n",
              " Document(metadata={'page': 14.0, 'source': 'intro_botany.pdf'}, page_content='starch\\nDNAgranum thylakoid\\nmatrix (stroma)Figure 2.5. Chloroplast.\\n* * *\\nTo summarize, the logic of photosynthesis (Fig. 2.8) is based on a simple idea: make\\nsugar from carbon dioxide . Imagine if we have letters “s”, “g”, “u”, and “a” and need\\nto build the word “sugar”. Obviously, we will need two things: the letter “r” and the\\nenergy to put these letters in the right order. The same story occurs in photosynthe-\\nsis: it will need hydrogen (H) which is the “absent letter” from CO 2because sugars\\nmust contain H, O and C. NADP+/NADPH is used as hydrogen supplier, and energy\\nis ATP which is created via proton pump, and the proton pump starts because light\\nhelps to concentrate protons in the reservoir.\\n33 Version June 7, 2021'),\n",
              " Document(metadata={'page': 14.0, 'source': 'intro_botany.pdf'}, page_content='starch\\nDNAgranum thylakoid\\nmatrix (stroma)Figure 2.5. Chloroplast.\\n* * *\\nTo summarize, the logic of photosynthesis (Fig. 2.8) is based on a simple idea: make\\nsugar from carbon dioxide . Imagine if we have letters “s”, “g”, “u”, and “a” and need\\nto build the word “sugar”. Obviously, we will need two things: the letter “r” and the\\nenergy to put these letters in the right order. The same story occurs in photosynthe-\\nsis: it will need hydrogen (H) which is the “absent letter” from CO 2because sugars\\nmust contain H, O and C. NADP+/NADPH is used as hydrogen supplier, and energy\\nis ATP which is created via proton pump, and the proton pump starts because light\\nhelps to concentrate protons in the reservoir.\\n33 Version June 7, 2021')]"
            ]
          },
          "metadata": {},
          "execution_count": 87
        }
      ],
      "source": [
        "reordering = LongContextReorder()\n",
        "reordered_docs = reordering.transform_documents(docs)\n",
        "\n",
        "# Confirm that the 4 relevant documents are at beginning and end.\n",
        "reordered_docs"
      ]
    },
    {
      "cell_type": "code",
      "execution_count": 90,
      "id": "e12427cd",
      "metadata": {
        "colab": {
          "base_uri": "https://localhost:8080/",
          "height": 125
        },
        "id": "e12427cd",
        "outputId": "ba074b71-2c9a-4bce-c2f3-fe51784cb65c"
      },
      "outputs": [
        {
          "output_type": "stream",
          "name": "stderr",
          "text": [
            "WARNING:langchain_core.language_models.llms:Retrying langchain_google_vertexai.chat_models._completion_with_retry.<locals>._completion_with_retry_inner in 4.0 seconds as it raised ResourceExhausted: 429 Quota exceeded for aiplatform.googleapis.com/generate_content_requests_per_minute_per_project_per_base_model with base model: gemini-1.5-flash. Please submit a quota increase request. https://cloud.google.com/vertex-ai/docs/generative-ai/quotas-genai..\n",
            "WARNING:langchain_core.language_models.llms:Retrying langchain_google_vertexai.chat_models._completion_with_retry.<locals>._completion_with_retry_inner in 4.0 seconds as it raised ResourceExhausted: 429 Quota exceeded for aiplatform.googleapis.com/generate_content_requests_per_minute_per_project_per_base_model with base model: gemini-1.5-flash. Please submit a quota increase request. https://cloud.google.com/vertex-ai/docs/generative-ai/quotas-genai..\n",
            "WARNING:langchain_core.language_models.llms:Retrying langchain_google_vertexai.chat_models._completion_with_retry.<locals>._completion_with_retry_inner in 4.0 seconds as it raised ResourceExhausted: 429 Quota exceeded for aiplatform.googleapis.com/generate_content_requests_per_minute_per_project_per_base_model with base model: gemini-1.5-flash. Please submit a quota increase request. https://cloud.google.com/vertex-ai/docs/generative-ai/quotas-genai..\n",
            "WARNING:langchain_core.language_models.llms:Retrying langchain_google_vertexai.chat_models._completion_with_retry.<locals>._completion_with_retry_inner in 8.0 seconds as it raised ResourceExhausted: 429 Quota exceeded for aiplatform.googleapis.com/generate_content_requests_per_minute_per_project_per_base_model with base model: gemini-1.5-flash. Please submit a quota increase request. https://cloud.google.com/vertex-ai/docs/generative-ai/quotas-genai..\n"
          ]
        },
        {
          "output_type": "execute_result",
          "data": {
            "text/plain": [
              "''"
            ],
            "application/vnd.google.colaboratory.intrinsic+json": {
              "type": "string"
            }
          },
          "metadata": {},
          "execution_count": 90
        }
      ],
      "source": [
        "# We prepare and run a custom Stuff chain with reordered docs as context.\n",
        "ans = answerRetriever(llm,reordered_docs,query)\n",
        "ans"
      ]
    },
    {
      "cell_type": "code",
      "execution_count": null,
      "id": "58121d29",
      "metadata": {
        "id": "58121d29"
      },
      "outputs": [],
      "source": [
        "clean_and_format_answer(ans)"
      ]
    },
    {
      "cell_type": "markdown",
      "source": [
        "## Thank You"
      ],
      "metadata": {
        "id": "4ZjDjwJ_jmpg"
      },
      "id": "4ZjDjwJ_jmpg"
    }
  ],
  "metadata": {
    "kernelspec": {
      "display_name": "Python 3 (ipykernel)",
      "language": "python",
      "name": "python3"
    },
    "language_info": {
      "codemirror_mode": {
        "name": "ipython",
        "version": 3
      },
      "file_extension": ".py",
      "mimetype": "text/x-python",
      "name": "python",
      "nbconvert_exporter": "python",
      "pygments_lexer": "ipython3",
      "version": "3.11.5"
    },
    "colab": {
      "provenance": [],
      "include_colab_link": true
    }
  },
  "nbformat": 4,
  "nbformat_minor": 5
}