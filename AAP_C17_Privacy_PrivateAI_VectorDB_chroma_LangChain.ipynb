{
  "nbformat": 4,
  "nbformat_minor": 0,
  "metadata": {
    "colab": {
      "provenance": [],
      "authorship_tag": "ABX9TyOOr+Omn2Ct5lid7+Svu72Z",
      "include_colab_link": true
    },
    "kernelspec": {
      "name": "python3",
      "display_name": "Python 3"
    },
    "language_info": {
      "name": "python"
    }
  },
  "cells": [
    {
      "cell_type": "markdown",
      "metadata": {
        "id": "view-in-github",
        "colab_type": "text"
      },
      "source": [
        "<a href=\"https://colab.research.google.com/github/anshupandey/AI_Agents/blob/main/AAP_C17_Privacy_PrivateAI_VectorDB_chroma_LangChain.ipynb\" target=\"_parent\"><img src=\"https://colab.research.google.com/assets/colab-badge.svg\" alt=\"Open In Colab\"/></a>"
      ]
    },
    {
      "cell_type": "code",
      "execution_count": 1,
      "metadata": {
        "colab": {
          "base_uri": "https://localhost:8080/"
        },
        "id": "cHhpYCLo1WDI",
        "outputId": "5d0a1ecb-7ff7-4c04-8714-ea72acc8fa8a"
      },
      "outputs": [
        {
          "output_type": "stream",
          "name": "stdout",
          "text": [
            "\u001b[?25l     \u001b[90m━━━━━━━━━━━━━━━━━━━━━━━━━━━━━━━━━━━━━━━━\u001b[0m \u001b[32m0.0/67.3 kB\u001b[0m \u001b[31m?\u001b[0m eta \u001b[36m-:--:--\u001b[0m\r\u001b[2K     \u001b[90m━━━━━━━━━━━━━━━━━━━━━━━━━━━━━━━━━━━━━━━━\u001b[0m \u001b[32m67.3/67.3 kB\u001b[0m \u001b[31m2.5 MB/s\u001b[0m eta \u001b[36m0:00:00\u001b[0m\n",
            "\u001b[?25h  Installing build dependencies ... \u001b[?25l\u001b[?25hdone\n",
            "  Getting requirements to build wheel ... \u001b[?25l\u001b[?25hdone\n",
            "  Preparing metadata (pyproject.toml) ... \u001b[?25l\u001b[?25hdone\n",
            "\u001b[2K     \u001b[90m━━━━━━━━━━━━━━━━━━━━━━━━━━━━━━━━━━━━━━━━\u001b[0m \u001b[32m50.4/50.4 kB\u001b[0m \u001b[31m1.3 MB/s\u001b[0m eta \u001b[36m0:00:00\u001b[0m\n",
            "\u001b[2K   \u001b[90m━━━━━━━━━━━━━━━━━━━━━━━━━━━━━━━━━━━━━━━━\u001b[0m \u001b[32m295.8/295.8 kB\u001b[0m \u001b[31m10.1 MB/s\u001b[0m eta \u001b[36m0:00:00\u001b[0m\n",
            "\u001b[2K   \u001b[90m━━━━━━━━━━━━━━━━━━━━━━━━━━━━━━━━━━━━━━━━\u001b[0m \u001b[32m337.0/337.0 kB\u001b[0m \u001b[31m17.8 MB/s\u001b[0m eta \u001b[36m0:00:00\u001b[0m\n",
            "\u001b[2K   \u001b[90m━━━━━━━━━━━━━━━━━━━━━━━━━━━━━━━━━━━━━━━━\u001b[0m \u001b[32m990.3/990.3 kB\u001b[0m \u001b[31m33.7 MB/s\u001b[0m eta \u001b[36m0:00:00\u001b[0m\n",
            "\u001b[2K   \u001b[90m━━━━━━━━━━━━━━━━━━━━━━━━━━━━━━━━━━━━━━━━\u001b[0m \u001b[32m47.1/47.1 kB\u001b[0m \u001b[31m2.5 MB/s\u001b[0m eta \u001b[36m0:00:00\u001b[0m\n",
            "\u001b[2K   \u001b[90m━━━━━━━━━━━━━━━━━━━━━━━━━━━━━━━━━━━━━━━━\u001b[0m \u001b[32m255.0/255.0 kB\u001b[0m \u001b[31m12.3 MB/s\u001b[0m eta \u001b[36m0:00:00\u001b[0m\n",
            "\u001b[2K   \u001b[90m━━━━━━━━━━━━━━━━━━━━━━━━━━━━━━━━━━━━━━━━\u001b[0m \u001b[32m584.3/584.3 kB\u001b[0m \u001b[31m27.0 MB/s\u001b[0m eta \u001b[36m0:00:00\u001b[0m\n",
            "\u001b[2K   \u001b[90m━━━━━━━━━━━━━━━━━━━━━━━━━━━━━━━━━━━━━━━━\u001b[0m \u001b[32m2.4/2.4 MB\u001b[0m \u001b[31m48.8 MB/s\u001b[0m eta \u001b[36m0:00:00\u001b[0m\n",
            "\u001b[2K   \u001b[90m━━━━━━━━━━━━━━━━━━━━━━━━━━━━━━━━━━━━━━━━\u001b[0m \u001b[32m92.2/92.2 kB\u001b[0m \u001b[31m5.4 MB/s\u001b[0m eta \u001b[36m0:00:00\u001b[0m\n",
            "\u001b[2K   \u001b[90m━━━━━━━━━━━━━━━━━━━━━━━━━━━━━━━━━━━━━━━━\u001b[0m \u001b[32m75.6/75.6 kB\u001b[0m \u001b[31m3.8 MB/s\u001b[0m eta \u001b[36m0:00:00\u001b[0m\n",
            "\u001b[2K   \u001b[90m━━━━━━━━━━━━━━━━━━━━━━━━━━━━━━━━━━━━━━━━\u001b[0m \u001b[32m77.9/77.9 kB\u001b[0m \u001b[31m3.2 MB/s\u001b[0m eta \u001b[36m0:00:00\u001b[0m\n",
            "\u001b[2K   \u001b[90m━━━━━━━━━━━━━━━━━━━━━━━━━━━━━━━━━━━━━━━━\u001b[0m \u001b[32m377.6/377.6 kB\u001b[0m \u001b[31m13.6 MB/s\u001b[0m eta \u001b[36m0:00:00\u001b[0m\n",
            "\u001b[2K   \u001b[90m━━━━━━━━━━━━━━━━━━━━━━━━━━━━━━━━━━━━━━━━\u001b[0m \u001b[32m139.9/139.9 kB\u001b[0m \u001b[31m8.4 MB/s\u001b[0m eta \u001b[36m0:00:00\u001b[0m\n",
            "\u001b[2K   \u001b[90m━━━━━━━━━━━━━━━━━━━━━━━━━━━━━━━━━━━━━━━━\u001b[0m \u001b[32m1.1/1.1 MB\u001b[0m \u001b[31m40.0 MB/s\u001b[0m eta \u001b[36m0:00:00\u001b[0m\n",
            "\u001b[2K   \u001b[90m━━━━━━━━━━━━━━━━━━━━━━━━━━━━━━━━━━━━━━━━\u001b[0m \u001b[32m273.8/273.8 kB\u001b[0m \u001b[31m13.3 MB/s\u001b[0m eta \u001b[36m0:00:00\u001b[0m\n",
            "\u001b[2K   \u001b[90m━━━━━━━━━━━━━━━━━━━━━━━━━━━━━━━━━━━━━━━━\u001b[0m \u001b[32m1.7/1.7 MB\u001b[0m \u001b[31m41.3 MB/s\u001b[0m eta \u001b[36m0:00:00\u001b[0m\n",
            "\u001b[2K   \u001b[90m━━━━━━━━━━━━━━━━━━━━━━━━━━━━━━━━━━━━━━━━\u001b[0m \u001b[32m67.6/67.6 kB\u001b[0m \u001b[31m3.7 MB/s\u001b[0m eta \u001b[36m0:00:00\u001b[0m\n",
            "\u001b[2K   \u001b[90m━━━━━━━━━━━━━━━━━━━━━━━━━━━━━━━━━━━━━━━━\u001b[0m \u001b[32m6.8/6.8 MB\u001b[0m \u001b[31m61.3 MB/s\u001b[0m eta \u001b[36m0:00:00\u001b[0m\n",
            "\u001b[2K   \u001b[90m━━━━━━━━━━━━━━━━━━━━━━━━━━━━━━━━━━━━━━━━\u001b[0m \u001b[32m61.5/61.5 kB\u001b[0m \u001b[31m3.3 MB/s\u001b[0m eta \u001b[36m0:00:00\u001b[0m\n",
            "\u001b[2K   \u001b[90m━━━━━━━━━━━━━━━━━━━━━━━━━━━━━━━━━━━━━━━━\u001b[0m \u001b[32m52.5/52.5 kB\u001b[0m \u001b[31m2.0 MB/s\u001b[0m eta \u001b[36m0:00:00\u001b[0m\n",
            "\u001b[2K   \u001b[90m━━━━━━━━━━━━━━━━━━━━━━━━━━━━━━━━━━━━━━━━\u001b[0m \u001b[32m138.0/138.0 kB\u001b[0m \u001b[31m7.8 MB/s\u001b[0m eta \u001b[36m0:00:00\u001b[0m\n",
            "\u001b[2K   \u001b[90m━━━━━━━━━━━━━━━━━━━━━━━━━━━━━━━━━━━━━━━━\u001b[0m \u001b[32m109.5/109.5 kB\u001b[0m \u001b[31m7.2 MB/s\u001b[0m eta \u001b[36m0:00:00\u001b[0m\n",
            "\u001b[2K   \u001b[90m━━━━━━━━━━━━━━━━━━━━━━━━━━━━━━━━━━━━━━━━\u001b[0m \u001b[32m141.1/141.1 kB\u001b[0m \u001b[31m9.8 MB/s\u001b[0m eta \u001b[36m0:00:00\u001b[0m\n",
            "\u001b[2K   \u001b[90m━━━━━━━━━━━━━━━━━━━━━━━━━━━━━━━━━━━━━━━━\u001b[0m \u001b[32m41.3/41.3 kB\u001b[0m \u001b[31m2.0 MB/s\u001b[0m eta \u001b[36m0:00:00\u001b[0m\n",
            "\u001b[2K   \u001b[90m━━━━━━━━━━━━━━━━━━━━━━━━━━━━━━━━━━━━━━━━\u001b[0m \u001b[32m71.9/71.9 kB\u001b[0m \u001b[31m4.4 MB/s\u001b[0m eta \u001b[36m0:00:00\u001b[0m\n",
            "\u001b[2K   \u001b[90m━━━━━━━━━━━━━━━━━━━━━━━━━━━━━━━━━━━━━━━━\u001b[0m \u001b[32m62.8/62.8 kB\u001b[0m \u001b[31m3.3 MB/s\u001b[0m eta \u001b[36m0:00:00\u001b[0m\n",
            "\u001b[2K   \u001b[90m━━━━━━━━━━━━━━━━━━━━━━━━━━━━━━━━━━━━━━━━\u001b[0m \u001b[32m307.7/307.7 kB\u001b[0m \u001b[31m18.2 MB/s\u001b[0m eta \u001b[36m0:00:00\u001b[0m\n",
            "\u001b[2K   \u001b[90m━━━━━━━━━━━━━━━━━━━━━━━━━━━━━━━━━━━━━━━━\u001b[0m \u001b[32m58.3/58.3 kB\u001b[0m \u001b[31m4.1 MB/s\u001b[0m eta \u001b[36m0:00:00\u001b[0m\n",
            "\u001b[2K   \u001b[90m━━━━━━━━━━━━━━━━━━━━━━━━━━━━━━━━━━━━━━━━\u001b[0m \u001b[32m341.4/341.4 kB\u001b[0m \u001b[31m18.6 MB/s\u001b[0m eta \u001b[36m0:00:00\u001b[0m\n",
            "\u001b[2K   \u001b[90m━━━━━━━━━━━━━━━━━━━━━━━━━━━━━━━━━━━━━━━━\u001b[0m \u001b[32m3.4/3.4 MB\u001b[0m \u001b[31m55.7 MB/s\u001b[0m eta \u001b[36m0:00:00\u001b[0m\n",
            "\u001b[2K   \u001b[90m━━━━━━━━━━━━━━━━━━━━━━━━━━━━━━━━━━━━━━━━\u001b[0m \u001b[32m1.2/1.2 MB\u001b[0m \u001b[31m38.2 MB/s\u001b[0m eta \u001b[36m0:00:00\u001b[0m\n",
            "\u001b[2K   \u001b[90m━━━━━━━━━━━━━━━━━━━━━━━━━━━━━━━━━━━━━━━━\u001b[0m \u001b[32m130.2/130.2 kB\u001b[0m \u001b[31m8.5 MB/s\u001b[0m eta \u001b[36m0:00:00\u001b[0m\n",
            "\u001b[2K   \u001b[90m━━━━━━━━━━━━━━━━━━━━━━━━━━━━━━━━━━━━━━━━\u001b[0m \u001b[32m46.0/46.0 kB\u001b[0m \u001b[31m2.4 MB/s\u001b[0m eta \u001b[36m0:00:00\u001b[0m\n",
            "\u001b[2K   \u001b[90m━━━━━━━━━━━━━━━━━━━━━━━━━━━━━━━━━━━━━━━━\u001b[0m \u001b[32m86.8/86.8 kB\u001b[0m \u001b[31m4.9 MB/s\u001b[0m eta \u001b[36m0:00:00\u001b[0m\n",
            "\u001b[?25h  Building wheel for pypika (pyproject.toml) ... \u001b[?25l\u001b[?25hdone\n"
          ]
        }
      ],
      "source": [
        "!pip install pyPDF openai langchain langchain-openai privateai_client langchain-chroma --quiet"
      ]
    },
    {
      "cell_type": "code",
      "source": [
        "!pip install -q --user langchain-community"
      ],
      "metadata": {
        "id": "JBp2K6Wzt6Ms"
      },
      "execution_count": 7,
      "outputs": []
    },
    {
      "cell_type": "code",
      "source": [
        "import os\n",
        "os.environ['OPENAI_API_KEY'] = \"sk-proj-xxxxxxxxxxxxxxxxxxxxxxxxxxxx\"\n",
        "PAI_API_KEY = \"1622afc2f5fc48779b174123462ec9c3\""
      ],
      "metadata": {
        "id": "t8M-Xu9C1W5b"
      },
      "execution_count": 1,
      "outputs": []
    },
    {
      "cell_type": "code",
      "source": [
        "from privateai_client import PAIClient\n",
        "from privateai_client import request_objects\n",
        "\n",
        "# Adding credentials on initialization\n",
        "client = PAIClient(url=\"https://api.private-ai.com/deid/\", api_key=PAI_API_KEY)"
      ],
      "metadata": {
        "id": "j2tl5c1_4ESB"
      },
      "execution_count": 2,
      "outputs": []
    },
    {
      "cell_type": "code",
      "source": [
        "from langchain_openai import ChatOpenAI\n",
        "from langchain.document_loaders import PyPDFLoader\n",
        "from langchain_community.embeddings import OpenAIEmbeddings\n",
        "from langchain.text_splitter import RecursiveCharacterTextSplitter\n",
        "from langchain_community.vectorstores import Chroma"
      ],
      "metadata": {
        "id": "E8EZfQq21m0P"
      },
      "execution_count": 3,
      "outputs": []
    },
    {
      "cell_type": "code",
      "source": [
        "!wget -q https://raw.githubusercontent.com/anshupandey/Generative-AI-for-Professionals/main/Data/Case%20Studies.pdf"
      ],
      "metadata": {
        "id": "d3B9BlOk6rnt"
      },
      "execution_count": 4,
      "outputs": []
    },
    {
      "cell_type": "code",
      "source": [
        "doc_paths = [\"Case Studies.pdf\",]\n",
        "#path: https://github.com/anshupandey/Generative-AI-for-Professionals/blob/main/Data/Case%20Studies.pdf\n",
        "\n",
        "from langchain_community.document_loaders import PyPDFLoader\n",
        "loaders = [PyPDFLoader(pdf, extract_images=False) for pdf in doc_paths]\n",
        "docs = []\n",
        "for loader in loaders:\n",
        "    doc = loader.load()\n",
        "    docs.extend(doc)\n",
        "\n",
        "print(f\"Loaded  {len(docs)} documents from PDF files\")"
      ],
      "metadata": {
        "colab": {
          "base_uri": "https://localhost:8080/"
        },
        "id": "9YAFovqN5fa4",
        "outputId": "42520d68-e83d-4e4a-8e82-750867dd136d"
      },
      "execution_count": 5,
      "outputs": [
        {
          "output_type": "stream",
          "name": "stdout",
          "text": [
            "Loaded  12 documents from PDF files\n"
          ]
        }
      ]
    },
    {
      "cell_type": "code",
      "source": [
        "print(docs[0].page_content)"
      ],
      "metadata": {
        "colab": {
          "base_uri": "https://localhost:8080/"
        },
        "id": "MgO3fMfLusqz",
        "outputId": "aac8f29a-c986-4246-f21b-5f976b7446d8"
      },
      "execution_count": 6,
      "outputs": [
        {
          "output_type": "stream",
          "name": "stdout",
          "text": [
            "Enhancing Customer Service for TechGiant Inc.  \n",
            "Title:  \n",
            "Revolutionizing Customer Support through AI: The Story of Emily Johnson at TechGiant Inc.  \n",
            " \n",
            "Introduction:  \n",
            "Emily Johnson, a lead software engineer at TechGiant  Inc., faced the challenge of overhauling the \n",
            "company's customer service infrastructure to handle increasing ticket volumes without \n",
            "compromising on quality.  \n",
            " \n",
            "Challenge:  \n",
            "TechGiant Inc., known for its cutting -edge technology products, was experiencing a surge in customer \n",
            "inquiries as its user base grew. The existing customer service system struggled to keep up, leading to \n",
            "longer wait times and customer dissatisfaction.  \n",
            " \n",
            "Solution:  \n",
            "Emily explored innovative solutions to enhance efficiency and effectiveness in customer service. She \n",
            "discovered LangChain, a tool designed to facilitate the development of applications using Large \n",
            "Language Models (LLMs), and decided to integrate it with Co here's LLMs to automate and improve \n",
            "customer service responses.  \n",
            " \n",
            "Implementation:  \n",
            "Step 1: Emily initiated the project by setting up LangChain to interface with Cohere's LLMs, focusing \n",
            "on creating a conversational AI capable of understanding and resolving customer inquiries.  \n",
            "Step 2: She then trained the model on TechGiant’s product manuals, support documents, and \n",
            "previous customer service interactions to ensure the AI could provide accurate and helpful \n",
            "responses.  \n",
            "Step 3: Emily implemented a feedback loop system where customer service agents could flag \n",
            "incorrect AI responses for further training, continuously improving the AI’s performance.  \n",
            " \n",
            "Outcome:  \n",
            "The integration of LangChain with Cohere's LLMs transformed TechGiant Inc.'s customer \n",
            "service. The AI -driven system reduced response times from hours to minutes, significantly \n",
            "improving customer satisfaction. Emily's innovative approach also allowed human agents to \n",
            "focus on complex inquiries, enhancing overall service quality.  \n"
          ]
        }
      ]
    },
    {
      "cell_type": "code",
      "source": [],
      "metadata": {
        "id": "PiLtuCWmusRR"
      },
      "execution_count": null,
      "outputs": []
    },
    {
      "cell_type": "code",
      "source": [
        "vectorstore = Chroma.from_documents(documents=docs, embedding=OpenAIEmbeddings())\n",
        "retriever = vectorstore.as_retriever(search_type=\"similarity\", search_kwargs={\"k\": 1})\n",
        "\n",
        "retrieved_docs = retriever.invoke(\"How to use LangChain to develop enterprise solutions?\")"
      ],
      "metadata": {
        "id": "lfg6OunR6Gy6",
        "colab": {
          "base_uri": "https://localhost:8080/"
        },
        "outputId": "a9d46e18-0b36-4175-d294-d960df3ecada"
      },
      "execution_count": 7,
      "outputs": [
        {
          "output_type": "stream",
          "name": "stderr",
          "text": [
            "/usr/local/lib/python3.10/dist-packages/langchain_core/_api/deprecation.py:139: LangChainDeprecationWarning: The class `OpenAIEmbeddings` was deprecated in LangChain 0.0.9 and will be removed in 0.3.0. An updated version of the class exists in the langchain-openai package and should be used instead. To use it run `pip install -U langchain-openai` and import as `from langchain_openai import OpenAIEmbeddings`.\n",
            "  warn_deprecated(\n"
          ]
        }
      ]
    },
    {
      "cell_type": "code",
      "source": [
        "for doc in retrieved_docs:print(doc.page_content,\"\\n**********\")"
      ],
      "metadata": {
        "colab": {
          "base_uri": "https://localhost:8080/"
        },
        "id": "HaIDJnPs7-o7",
        "outputId": "c10837fd-9193-4c1e-c488-337b291f0392"
      },
      "execution_count": 8,
      "outputs": [
        {
          "output_type": "stream",
          "name": "stdout",
          "text": [
            "Optimizing Supply Chain for EcoBuild Materials  \n",
            "Title:  \n",
            "Transforming Supply Chain Management with AI: Jessica Lee's Initiative at EcoBuild Materials  \n",
            " \n",
            "Introduction:  \n",
            "Jessica Lee, a supply chain analyst at EcoBuild Materials, was tasked with finding a solution \n",
            "to optimize the company's supply chain for sustainability and efficiency.  \n",
            " \n",
            "Challenge:  \n",
            "EcoBuild Materials, a company specializing in eco -friendly construction materials, faced \n",
            "challenges in managing its complex supply chain, which impacted its sustainability goals and \n",
            "operational efficiency.  \n",
            " \n",
            "Solution:  \n",
            "Jessica discovered LangChain and saw its potential to harness Cohere's LLMs for developing \n",
            "an AI -driven solution to optimize supply chain decisions, reduce waste, and improve material \n",
            "sourcing.  \n",
            " \n",
            "Implementation:  \n",
            "Step 1: She integrated LangChain with Cohere's LLMs to analyze supply chain data and \n",
            "predict demand more accurately.  \n",
            "Step 2: Jessica developed algorithms to identify the most eco -friendly and cost -effective \n",
            "routes and suppliers.  \n",
            "Step 3: She also implemented a system for real -time inventory management, reducing \n",
            "overstock and minimizing waste.  \n",
            " \n",
            "Outcome:  \n",
            "Jessica Lee's initiative significantly improved EcoBuild Materials' supply chain efficiency and \n",
            "sustainability. The AI -driven tools she developed using LangChain and Cohere's LLMs \n",
            "enabled smarter decision -making, reducing costs, and enhancing the company's  \n",
            "commitment to sustainability.  \n",
            " \n",
            "   \n",
            "**********\n"
          ]
        }
      ]
    },
    {
      "cell_type": "code",
      "source": [
        "for doc in retrieved_docs:\n",
        "  text_request = request_objects.process_text_obj(text=[doc.page_content])\n",
        "  response = client.process_text(text_request)\n",
        "  print(response.processed_text[0])\n"
      ],
      "metadata": {
        "colab": {
          "base_uri": "https://localhost:8080/"
        },
        "id": "w4qBX3VJ8O-Q",
        "outputId": "e5d01f4e-5dc7-46ef-ca27-0857aef0e24c"
      },
      "execution_count": 9,
      "outputs": [
        {
          "output_type": "stream",
          "name": "stdout",
          "text": [
            "Optimizing Supply Chain for [ORGANIZATION_1]  \n",
            "Title:  \n",
            "Transforming Supply Chain Management with AI: [NAME_1]'s Initiative at [ORGANIZATION_1]  \n",
            " \n",
            "Introduction:  \n",
            "[NAME_1], a [OCCUPATION_1] at [ORGANIZATION_1], was tasked with finding a solution \n",
            "to optimize the company's supply chain for sustainability and efficiency.  \n",
            " \n",
            "Challenge:  \n",
            "[ORGANIZATION_1], a company specializing in eco -friendly construction materials, faced \n",
            "challenges in managing its complex supply chain, which impacted its sustainability goals and \n",
            "operational efficiency.  \n",
            " \n",
            "Solution:  \n",
            "[NAME_GIVEN_1] discovered [ORGANIZATION_2]Chain and saw its potential to harness [ORGANIZATION_3]'s LLMs for developing \n",
            "an AI -driven solution to optimize supply chain decisions, reduce waste, and improve material \n",
            "sourcing.  \n",
            " \n",
            "Implementation:  \n",
            "Step 1: She integrated LangChain with [ORGANIZATION_3]'s LLMs to analyze supply chain data and \n",
            "predict demand more accurately.  \n",
            "Step 2: [NAME_GIVEN_1] developed algorithms to identify the most eco -friendly and cost -effective \n",
            "routes and suppliers.  \n",
            "Step 3: She also implemented a system for real -time inventory management, reducing \n",
            "overstock and minimizing waste.  \n",
            " \n",
            "Outcome:  \n",
            "[NAME_1]'s initiative significantly improved [ORGANIZATION_1]' supply chain efficiency and \n",
            "sustainability. The AI -driven tools she developed using LangChain and [ORGANIZATION_3]'s LLMs \n",
            "enabled smarter decision -making, reducing costs, and enhancing the company's  \n",
            "commitment to sustainability.  \n",
            " \n",
            "  \n"
          ]
        }
      ]
    },
    {
      "cell_type": "code",
      "source": [],
      "metadata": {
        "id": "OviXs34x8q3G"
      },
      "execution_count": null,
      "outputs": []
    }
  ]
}